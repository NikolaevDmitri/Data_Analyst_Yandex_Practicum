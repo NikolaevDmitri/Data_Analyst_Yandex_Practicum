{
 "cells": [
  {
   "cell_type": "markdown",
   "metadata": {},
   "source": [
    "# Анализ поведения пользователей мобильного приложения для продажи продуктов питания (сборный проект №2)"
   ]
  },
  {
   "cell_type": "markdown",
   "metadata": {},
   "source": [
    "**Описание и план проекта**\n",
    "  \n",
    "Мы работаем в стартапе, который продаёт продукты питания. Нужно разобраться, как ведут себя пользователи нашего мобильного приложения.  \n",
    "Изучим воронку продаж. Узнаем, как пользователи доходят до покупки. Сколько пользователей доходит до покупки, а сколько — «застревает» на предыдущих шагах? На каких именно?  \n",
    "После этого исследуем результаты A/A/B-эксперимента. Дизайнеры захотели поменять шрифты во всём приложении, а менеджеры испугались, что пользователям будет непривычно. Договорились принять решение по результатам A/A/B-теста. Пользователей разбили на 3 группы: 2 контрольные со старыми шрифтами и одну экспериментальную — с новыми. Выясним, какой шрифт лучше.  \n",
    "Создание двух групп A вместо одной имеет определённые преимущества. Если две контрольные группы окажутся равны, мы можем быть уверены в точности проведенного тестирования. Если же между значениями A и A будут существенные различия, это поможет обнаружить факторы, которые привели к искажению результатов. Сравнение контрольных групп также помогает понять, сколько времени и данных потребуется для дальнейших тестов.  \n",
    "  \n",
    "  \n",
    "Шаг 1. Откроем файл с данными и изучим общую информацию  \n",
    "Путь к файлу: /datasets/logs_exp.csv  \n",
    "  \n",
    "Шаг 2. Подготовим данные  \n",
    "- Заменим названия столбцов на удобные для нас;  \n",
    "- Проверим пропуски и типы данных. Откорректируем, если нужно;  \n",
    "- Добавим столбец даты и времени, а также отдельный столбец дат;  \n",
    "  \n",
    "Шаг 3. Изучим и проверим данные  \n",
    "- Сколько всего событий в логе?  \n",
    "- Сколько всего пользователей в логе?\n",
    "- Сколько в среднем событий приходится на пользователя?\n",
    "Данными за какой период мы располагаем? Найдём максимальную и минимальную дату. Изучим, как меняется количество данных: построим столбчатую диаграмму, которая отобразит количество событий в зависимости от времени в разрезе групп. Можно ли быть уверенным, что у нас одинаково полные данные за весь период? Технически в логи новых дней по некоторым пользователям могут «доезжать» события из прошлого — это может «перекашивать данные». Определим, с какого момента данные полные и отбросим более старые. Данными за какой период времени мы располагаем на самом деле?\n",
    "- Много ли событий и пользователей мы потеряли, отбросив старые данные?\n",
    "- Проверим, что у нас есть пользователи из всех трёх экспериментальных групп.  \n",
    "\n",
    "Шаг 4. Изучим воронку событий  \n",
    "- Посмотрим, какие события есть в логах, как часто они встречаются. Отсортируем события по частоте.  \n",
    "- Посчитаем, сколько пользователей совершали каждое из этих событий. Отсортируем события по числу пользователей. Посчитаем долю пользователей, которые хоть раз совершали событие.  \n",
    "- Предположим, в каком порядке происходят события. Все ли они выстраиваются в последовательную цепочку? Их не нужно учитывать при расчёте воронки.  \n",
    "- По воронке событий посчитаем, какая доля пользователей проходит на следующий шаг воронки (от числа пользователей на предыдущем). То есть для последовательности событий A → B → C посчитаем отношение числа пользователей с событием B к количеству пользователей с событием A, а также отношение числа пользователей с событием C к количеству пользователей с событием B.  \n",
    "- На каком шаге теряем больше всего пользователей?  \n",
    "- Какая доля пользователей доходит от первого события до оплаты?  \n",
    "\n",
    "Шаг 5. Изучим результаты эксперимента  \n",
    "- Сколько пользователей в каждой экспериментальной группе?  \n",
    "- Есть 2 контрольные группы для А/А-эксперимента, чтобы проверить корректность всех механизмов и расчётов. Проверим, находят ли статистические критерии разницу между выборками 246 и 247.  \n",
    "- Выберем самое популярное событие. Посчитаем число пользователей, совершивших это событие в каждой из контрольных групп. Посчитаем долю пользователей, совершивших это событие. Проверим, будет ли отличие между группами статистически достоверным. Проделаем то же самое для всех других событий (удобно обернуть проверку в отдельную функцию). Можно ли сказать, что разбиение на группы работает корректно?  \n",
    "- Аналогично поступим с группой с изменённым шрифтом. Сравним результаты с каждой из контрольных групп в отдельности по каждому событию. Сравним результаты с объединённой контрольной группой. Какие выводы из эксперимента можно сделать?  \n",
    "- Какой уровень значимости мы выбрали при проверке статистических гипотез выше? Посчитаем, сколько проверок статистических гипотез мы сделали. При уровне значимости 0.1 в 10% случаев можно ошибочно отклонить нулевую гипотезу при условии, что она верна. Какой уровень значимости стоит применить? Если мы хотим изменить его, проделаем предыдущие пункты и проверим свои выводы."
   ]
  },
  {
   "cell_type": "markdown",
   "metadata": {},
   "source": [
    "## Изучение исходных данных"
   ]
  },
  {
   "cell_type": "markdown",
   "metadata": {},
   "source": [
    "Сначала загрузим все необходимые библиотеки и отключим предупреждения"
   ]
  },
  {
   "cell_type": "code",
   "execution_count": 1,
   "metadata": {},
   "outputs": [],
   "source": [
    "import pandas as pd\n",
    "import matplotlib.pyplot as plt\n",
    "import math\n",
    "from scipy import stats as st\n",
    "\n",
    "import warnings\n",
    "warnings.filterwarnings('ignore')"
   ]
  },
  {
   "cell_type": "code",
   "execution_count": 2,
   "metadata": {},
   "outputs": [
    {
     "data": {
      "text/html": [
       "<div>\n",
       "<style scoped>\n",
       "    .dataframe tbody tr th:only-of-type {\n",
       "        vertical-align: middle;\n",
       "    }\n",
       "\n",
       "    .dataframe tbody tr th {\n",
       "        vertical-align: top;\n",
       "    }\n",
       "\n",
       "    .dataframe thead th {\n",
       "        text-align: right;\n",
       "    }\n",
       "</style>\n",
       "<table border=\"1\" class=\"dataframe\">\n",
       "  <thead>\n",
       "    <tr style=\"text-align: right;\">\n",
       "      <th></th>\n",
       "      <th>EventName</th>\n",
       "      <th>DeviceIDHash</th>\n",
       "      <th>EventTimestamp</th>\n",
       "      <th>ExpId</th>\n",
       "    </tr>\n",
       "  </thead>\n",
       "  <tbody>\n",
       "    <tr>\n",
       "      <th>0</th>\n",
       "      <td>MainScreenAppear</td>\n",
       "      <td>4575588528974610257</td>\n",
       "      <td>1564029816</td>\n",
       "      <td>246</td>\n",
       "    </tr>\n",
       "    <tr>\n",
       "      <th>1</th>\n",
       "      <td>MainScreenAppear</td>\n",
       "      <td>7416695313311560658</td>\n",
       "      <td>1564053102</td>\n",
       "      <td>246</td>\n",
       "    </tr>\n",
       "    <tr>\n",
       "      <th>2</th>\n",
       "      <td>PaymentScreenSuccessful</td>\n",
       "      <td>3518123091307005509</td>\n",
       "      <td>1564054127</td>\n",
       "      <td>248</td>\n",
       "    </tr>\n",
       "    <tr>\n",
       "      <th>3</th>\n",
       "      <td>CartScreenAppear</td>\n",
       "      <td>3518123091307005509</td>\n",
       "      <td>1564054127</td>\n",
       "      <td>248</td>\n",
       "    </tr>\n",
       "    <tr>\n",
       "      <th>4</th>\n",
       "      <td>PaymentScreenSuccessful</td>\n",
       "      <td>6217807653094995999</td>\n",
       "      <td>1564055322</td>\n",
       "      <td>248</td>\n",
       "    </tr>\n",
       "    <tr>\n",
       "      <th>...</th>\n",
       "      <td>...</td>\n",
       "      <td>...</td>\n",
       "      <td>...</td>\n",
       "      <td>...</td>\n",
       "    </tr>\n",
       "    <tr>\n",
       "      <th>244121</th>\n",
       "      <td>MainScreenAppear</td>\n",
       "      <td>4599628364049201812</td>\n",
       "      <td>1565212345</td>\n",
       "      <td>247</td>\n",
       "    </tr>\n",
       "    <tr>\n",
       "      <th>244122</th>\n",
       "      <td>MainScreenAppear</td>\n",
       "      <td>5849806612437486590</td>\n",
       "      <td>1565212439</td>\n",
       "      <td>246</td>\n",
       "    </tr>\n",
       "    <tr>\n",
       "      <th>244123</th>\n",
       "      <td>MainScreenAppear</td>\n",
       "      <td>5746969938801999050</td>\n",
       "      <td>1565212483</td>\n",
       "      <td>246</td>\n",
       "    </tr>\n",
       "    <tr>\n",
       "      <th>244124</th>\n",
       "      <td>MainScreenAppear</td>\n",
       "      <td>5746969938801999050</td>\n",
       "      <td>1565212498</td>\n",
       "      <td>246</td>\n",
       "    </tr>\n",
       "    <tr>\n",
       "      <th>244125</th>\n",
       "      <td>OffersScreenAppear</td>\n",
       "      <td>5746969938801999050</td>\n",
       "      <td>1565212517</td>\n",
       "      <td>246</td>\n",
       "    </tr>\n",
       "  </tbody>\n",
       "</table>\n",
       "<p>244126 rows × 4 columns</p>\n",
       "</div>"
      ],
      "text/plain": [
       "                      EventName         DeviceIDHash  EventTimestamp  ExpId\n",
       "0              MainScreenAppear  4575588528974610257      1564029816    246\n",
       "1              MainScreenAppear  7416695313311560658      1564053102    246\n",
       "2       PaymentScreenSuccessful  3518123091307005509      1564054127    248\n",
       "3              CartScreenAppear  3518123091307005509      1564054127    248\n",
       "4       PaymentScreenSuccessful  6217807653094995999      1564055322    248\n",
       "...                         ...                  ...             ...    ...\n",
       "244121         MainScreenAppear  4599628364049201812      1565212345    247\n",
       "244122         MainScreenAppear  5849806612437486590      1565212439    246\n",
       "244123         MainScreenAppear  5746969938801999050      1565212483    246\n",
       "244124         MainScreenAppear  5746969938801999050      1565212498    246\n",
       "244125       OffersScreenAppear  5746969938801999050      1565212517    246\n",
       "\n",
       "[244126 rows x 4 columns]"
      ]
     },
     "execution_count": 2,
     "metadata": {},
     "output_type": "execute_result"
    }
   ],
   "source": [
    "logs = pd.read_csv('/Users/dmitrynikolaev/Documents/datasets/logs_exp.csv', sep = '\\t')\n",
    "logs"
   ]
  },
  {
   "cell_type": "markdown",
   "metadata": {},
   "source": [
    "Изучим исходные данные позже после подготовки"
   ]
  },
  {
   "cell_type": "markdown",
   "metadata": {},
   "source": [
    "## Подготовка данных"
   ]
  },
  {
   "cell_type": "markdown",
   "metadata": {},
   "source": [
    "### Заменим названия столбцов на удобные для нас"
   ]
  },
  {
   "cell_type": "code",
   "execution_count": 3,
   "metadata": {},
   "outputs": [
    {
     "data": {
      "text/plain": [
       "Index(['event_name', 'user_id', 'event_datetime', 'group_id'], dtype='object')"
      ]
     },
     "execution_count": 3,
     "metadata": {},
     "output_type": "execute_result"
    }
   ],
   "source": [
    "logs.columns=['event_name','user_id', 'event_datetime','group_id']\n",
    "logs.columns"
   ]
  },
  {
   "cell_type": "markdown",
   "metadata": {},
   "source": [
    "Заодно посмотрим уникальные значения в столбцах event_name и group_id и количество уникальных пользователей"
   ]
  },
  {
   "cell_type": "code",
   "execution_count": 4,
   "metadata": {},
   "outputs": [
    {
     "name": "stdout",
     "output_type": "stream",
     "text": [
      "Названия событий: ['MainScreenAppear' 'PaymentScreenSuccessful' 'CartScreenAppear'\n",
      " 'OffersScreenAppear' 'Tutorial']\n",
      "Группы: [246 248 247]\n"
     ]
    }
   ],
   "source": [
    "print('Названия событий:', logs['event_name'].unique())\n",
    "print('Группы:', logs['group_id'].unique())"
   ]
  },
  {
   "cell_type": "markdown",
   "metadata": {},
   "source": [
    "Имеем датафрейм из 4х столбцов:  \n",
    "event_name — название события  \n",
    "user_id — уникальный идентификатор пользователя  \n",
    "event_datetime — время события  \n",
    "group_id — номер эксперимента: 246 и 247 — контрольные группы, а 248 — экспериментальная.  \n",
    "  \n",
    "Каждая запись в логе — это действие пользователя, или событие. Самих событий всего 5, группы 3."
   ]
  },
  {
   "cell_type": "markdown",
   "metadata": {},
   "source": [
    "### Проверим пропуски и типы данных. Откорректируем, если нужно"
   ]
  },
  {
   "cell_type": "code",
   "execution_count": 5,
   "metadata": {},
   "outputs": [
    {
     "name": "stdout",
     "output_type": "stream",
     "text": [
      "<class 'pandas.core.frame.DataFrame'>\n",
      "RangeIndex: 244126 entries, 0 to 244125\n",
      "Data columns (total 4 columns):\n",
      " #   Column          Non-Null Count   Dtype \n",
      "---  ------          --------------   ----- \n",
      " 0   event_name      244126 non-null  object\n",
      " 1   user_id         244126 non-null  int64 \n",
      " 2   event_datetime  244126 non-null  int64 \n",
      " 3   group_id        244126 non-null  int64 \n",
      "dtypes: int64(3), object(1)\n",
      "memory usage: 7.5+ MB\n"
     ]
    }
   ],
   "source": [
    "logs.info()"
   ]
  },
  {
   "cell_type": "code",
   "execution_count": 6,
   "metadata": {},
   "outputs": [
    {
     "data": {
      "text/plain": [
       "413"
      ]
     },
     "execution_count": 6,
     "metadata": {},
     "output_type": "execute_result"
    }
   ],
   "source": [
    "logs.duplicated().sum()"
   ]
  },
  {
   "cell_type": "markdown",
   "metadata": {},
   "source": [
    "В таблице 244126 записей, пропусков нет, но есть 413 дубликатов, удалим их.  \n",
    "Столбцы с id имеют целочисленный тип, с именем - object, а вот с датой и временем - целочисленный, судя по всему в секундах, который надо поправить"
   ]
  },
  {
   "cell_type": "code",
   "execution_count": 7,
   "metadata": {},
   "outputs": [
    {
     "name": "stdout",
     "output_type": "stream",
     "text": [
      "Дубликатов после удаления: 0\n"
     ]
    }
   ],
   "source": [
    "logs = logs.drop_duplicates()\n",
    "print('Дубликатов после удаления:',logs.duplicated().sum())"
   ]
  },
  {
   "cell_type": "code",
   "execution_count": 8,
   "metadata": {},
   "outputs": [],
   "source": [
    "logs['event_datetime']=pd.to_datetime(logs['event_datetime'],unit = 's')"
   ]
  },
  {
   "cell_type": "markdown",
   "metadata": {},
   "source": [
    "### Добавим столбец даты и времени, а также отдельный столбец дат"
   ]
  },
  {
   "cell_type": "markdown",
   "metadata": {},
   "source": [
    "Столбец даты и времени сделали на предыдущем шаге из исходного, добавлять ещё один смысла нет"
   ]
  },
  {
   "cell_type": "code",
   "execution_count": 9,
   "metadata": {},
   "outputs": [
    {
     "data": {
      "text/html": [
       "<div>\n",
       "<style scoped>\n",
       "    .dataframe tbody tr th:only-of-type {\n",
       "        vertical-align: middle;\n",
       "    }\n",
       "\n",
       "    .dataframe tbody tr th {\n",
       "        vertical-align: top;\n",
       "    }\n",
       "\n",
       "    .dataframe thead th {\n",
       "        text-align: right;\n",
       "    }\n",
       "</style>\n",
       "<table border=\"1\" class=\"dataframe\">\n",
       "  <thead>\n",
       "    <tr style=\"text-align: right;\">\n",
       "      <th></th>\n",
       "      <th>event_name</th>\n",
       "      <th>user_id</th>\n",
       "      <th>event_datetime</th>\n",
       "      <th>group_id</th>\n",
       "      <th>event_date</th>\n",
       "    </tr>\n",
       "  </thead>\n",
       "  <tbody>\n",
       "    <tr>\n",
       "      <th>0</th>\n",
       "      <td>MainScreenAppear</td>\n",
       "      <td>4575588528974610257</td>\n",
       "      <td>2019-07-25 04:43:36</td>\n",
       "      <td>246</td>\n",
       "      <td>2019-07-25</td>\n",
       "    </tr>\n",
       "    <tr>\n",
       "      <th>1</th>\n",
       "      <td>MainScreenAppear</td>\n",
       "      <td>7416695313311560658</td>\n",
       "      <td>2019-07-25 11:11:42</td>\n",
       "      <td>246</td>\n",
       "      <td>2019-07-25</td>\n",
       "    </tr>\n",
       "    <tr>\n",
       "      <th>2</th>\n",
       "      <td>PaymentScreenSuccessful</td>\n",
       "      <td>3518123091307005509</td>\n",
       "      <td>2019-07-25 11:28:47</td>\n",
       "      <td>248</td>\n",
       "      <td>2019-07-25</td>\n",
       "    </tr>\n",
       "    <tr>\n",
       "      <th>3</th>\n",
       "      <td>CartScreenAppear</td>\n",
       "      <td>3518123091307005509</td>\n",
       "      <td>2019-07-25 11:28:47</td>\n",
       "      <td>248</td>\n",
       "      <td>2019-07-25</td>\n",
       "    </tr>\n",
       "    <tr>\n",
       "      <th>4</th>\n",
       "      <td>PaymentScreenSuccessful</td>\n",
       "      <td>6217807653094995999</td>\n",
       "      <td>2019-07-25 11:48:42</td>\n",
       "      <td>248</td>\n",
       "      <td>2019-07-25</td>\n",
       "    </tr>\n",
       "  </tbody>\n",
       "</table>\n",
       "</div>"
      ],
      "text/plain": [
       "                event_name              user_id      event_datetime  group_id  \\\n",
       "0         MainScreenAppear  4575588528974610257 2019-07-25 04:43:36       246   \n",
       "1         MainScreenAppear  7416695313311560658 2019-07-25 11:11:42       246   \n",
       "2  PaymentScreenSuccessful  3518123091307005509 2019-07-25 11:28:47       248   \n",
       "3         CartScreenAppear  3518123091307005509 2019-07-25 11:28:47       248   \n",
       "4  PaymentScreenSuccessful  6217807653094995999 2019-07-25 11:48:42       248   \n",
       "\n",
       "   event_date  \n",
       "0  2019-07-25  \n",
       "1  2019-07-25  \n",
       "2  2019-07-25  \n",
       "3  2019-07-25  \n",
       "4  2019-07-25  "
      ]
     },
     "execution_count": 9,
     "metadata": {},
     "output_type": "execute_result"
    }
   ],
   "source": [
    "logs['event_date']=logs['event_datetime'].dt.date\n",
    "logs.head()"
   ]
  },
  {
   "cell_type": "markdown",
   "metadata": {},
   "source": [
    "**Вывод**  \n",
    "На данным этапе мы загрузили, изучили и подготовили исходные данные:  \n",
    "- посмотрели названия и типы столбцов (изменили их) и их содержание  \n",
    "- проверили, что нет пропусков, нашли и удалили дубликаты  \n",
    "- добавили отдельный столбец с датой"
   ]
  },
  {
   "cell_type": "markdown",
   "metadata": {},
   "source": [
    "## Изучение и проверка данных"
   ]
  },
  {
   "cell_type": "markdown",
   "metadata": {},
   "source": [
    "### Сколько всего событий в логе?"
   ]
  },
  {
   "cell_type": "code",
   "execution_count": 10,
   "metadata": {},
   "outputs": [
    {
     "data": {
      "text/plain": [
       "(243713, 5)"
      ]
     },
     "execution_count": 10,
     "metadata": {},
     "output_type": "execute_result"
    }
   ],
   "source": [
    "logs.shape"
   ]
  },
  {
   "cell_type": "markdown",
   "metadata": {},
   "source": [
    "После удаления дубликатов у нас в логе осталось 243713 событий, сами события (количество и названия) мы посмотрели раньше"
   ]
  },
  {
   "cell_type": "markdown",
   "metadata": {},
   "source": [
    "### Сколько всего пользователей в логе?"
   ]
  },
  {
   "cell_type": "code",
   "execution_count": 11,
   "metadata": {},
   "outputs": [
    {
     "name": "stdout",
     "output_type": "stream",
     "text": [
      "Количество пользователей: 7551\n"
     ]
    }
   ],
   "source": [
    "print('Количество пользователей:', logs['user_id'].nunique())"
   ]
  },
  {
   "cell_type": "markdown",
   "metadata": {},
   "source": [
    "### Сколько в среднем событий приходится на пользователя? Данными за какой период мы располагаем?\n",
    "**Найдём максимальную и минимальную дату. Изучим, как меняется количество данных: построим столбчатую диаграмму, которая отобразит количество событий в зависимости от времени в разрезе групп. Можно ли быть уверенным, что у нас одинаково полные данные за весь период? Технически в логи новых дней по некоторым пользователям могут «доезжать» события из прошлого — это может «перекашивать данные». Определим, с какого момента данные полные и отбросим более старые. Данными за какой период времени мы располагаем на самом деле?**"
   ]
  },
  {
   "cell_type": "code",
   "execution_count": 12,
   "metadata": {},
   "outputs": [
    {
     "name": "stdout",
     "output_type": "stream",
     "text": [
      "Среднее количество событий на пользователя - 32\n"
     ]
    }
   ],
   "source": [
    "print('Среднее количество событий на пользователя - %d' % (len(logs)/logs['user_id'].nunique()))"
   ]
  },
  {
   "cell_type": "code",
   "execution_count": 13,
   "metadata": {},
   "outputs": [
    {
     "name": "stdout",
     "output_type": "stream",
     "text": [
      "Мы располагаем данными на период: 2019-07-25 2019-08-07\n"
     ]
    }
   ],
   "source": [
    "print('Мы располагаем данными на период:', min(logs['event_date']), max(logs['event_date']))"
   ]
  },
  {
   "cell_type": "code",
   "execution_count": 14,
   "metadata": {
    "scrolled": false
   },
   "outputs": [
    {
     "data": {
      "image/png": "[encoded data removed]",
      "text/plain": [
       "<Figure size 1500x800 with 1 Axes>"
      ]
     },
     "metadata": {},
     "output_type": "display_data"
    }
   ],
   "source": [
    "plt.figure(figsize=(15,8))\n",
    "\n",
    "plt.hist(logs['event_datetime'],bins=50)\n",
    "\n",
    "plt.title('Количество событий в зависимости от времени')\n",
    "plt.xlabel('Дата')\n",
    "plt.ylabel('Количество событий')\n",
    "plt.show()"
   ]
  },
  {
   "cell_type": "markdown",
   "metadata": {},
   "source": [
    "Видим, что данных за июль у нас почти и нет, удалим их, оставим только за август - с 1ого по 7ое"
   ]
  },
  {
   "cell_type": "code",
   "execution_count": 15,
   "metadata": {
    "scrolled": false
   },
   "outputs": [
    {
     "data": {
      "image/png": "[encoded data removed]",
      "text/plain": [
       "<Figure size 1500x800 with 1 Axes>"
      ]
     },
     "metadata": {},
     "output_type": "display_data"
    }
   ],
   "source": [
    "#сохраним количество событий и пользователей до удаления\n",
    "full_logs=logs.shape[0]\n",
    "full_users=logs['user_id'].nunique()\n",
    "\n",
    "\n",
    "logs = logs.query('event_datetime>=\"2019-08-01\"')\n",
    "\n",
    "plt.figure(figsize=(15,8))\n",
    "\n",
    "plt.hist(logs['event_datetime'],bins=80)\n",
    "\n",
    "plt.title('Количество событий в зависимости от времени')\n",
    "plt.xlabel('Дата')\n",
    "plt.ylabel('Количество событий')\n",
    "plt.show()"
   ]
  },
  {
   "cell_type": "markdown",
   "metadata": {},
   "source": [
    "Теперь видим данные только за август - с 1ого по 7ое. Можно отметить, что по дням количество логов распределено примерно одинаково и есть закономерность, что днём их больше, ночью меньше."
   ]
  },
  {
   "cell_type": "markdown",
   "metadata": {},
   "source": [
    "### Много ли событий и пользователей мы потеряли, отбросив старые данные?"
   ]
  },
  {
   "cell_type": "code",
   "execution_count": 16,
   "metadata": {
    "scrolled": true
   },
   "outputs": [
    {
     "name": "stdout",
     "output_type": "stream",
     "text": [
      "После корректировки дат у нас осталось:\n",
      "Количество событий: 240887\n",
      "Количество пользователей: 7534\n",
      "\n",
      "Потеряли:\n",
      "Событий: 2826 или 1.2%\n",
      "Пользователей: 17 или 0.2%\n"
     ]
    }
   ],
   "source": [
    "print('После корректировки дат у нас осталось:')\n",
    "print('Количество событий:', logs.shape[0])\n",
    "print('Количество пользователей:', logs['user_id'].nunique())\n",
    "print()\n",
    "print('Потеряли:')\n",
    "print('Событий:', full_logs-logs.shape[0], 'или {:.1%}'.format((full_logs-logs.shape[0])/full_logs))\n",
    "print('Пользователей:', full_users-logs['user_id'].nunique(), \\\n",
    "          'или {:.1%}'.format((full_users-logs['user_id'].nunique())/full_users))"
   ]
  },
  {
   "cell_type": "markdown",
   "metadata": {},
   "source": [
    "Потеряли очень маленькую часть данных"
   ]
  },
  {
   "cell_type": "markdown",
   "metadata": {},
   "source": [
    "### Проверим, что у нас есть пользователи из всех трёх экспериментальных групп"
   ]
  },
  {
   "cell_type": "code",
   "execution_count": 17,
   "metadata": {},
   "outputs": [
    {
     "data": {
      "text/html": [
       "<div>\n",
       "<style scoped>\n",
       "    .dataframe tbody tr th:only-of-type {\n",
       "        vertical-align: middle;\n",
       "    }\n",
       "\n",
       "    .dataframe tbody tr th {\n",
       "        vertical-align: top;\n",
       "    }\n",
       "\n",
       "    .dataframe thead th {\n",
       "        text-align: right;\n",
       "    }\n",
       "</style>\n",
       "<table border=\"1\" class=\"dataframe\">\n",
       "  <thead>\n",
       "    <tr style=\"text-align: right;\">\n",
       "      <th></th>\n",
       "      <th>user_id</th>\n",
       "    </tr>\n",
       "    <tr>\n",
       "      <th>group_id</th>\n",
       "      <th></th>\n",
       "    </tr>\n",
       "  </thead>\n",
       "  <tbody>\n",
       "    <tr>\n",
       "      <th>246</th>\n",
       "      <td>2484</td>\n",
       "    </tr>\n",
       "    <tr>\n",
       "      <th>247</th>\n",
       "      <td>2513</td>\n",
       "    </tr>\n",
       "    <tr>\n",
       "      <th>248</th>\n",
       "      <td>2537</td>\n",
       "    </tr>\n",
       "  </tbody>\n",
       "</table>\n",
       "</div>"
      ],
      "text/plain": [
       "          user_id\n",
       "group_id         \n",
       "246          2484\n",
       "247          2513\n",
       "248          2537"
      ]
     },
     "execution_count": 17,
     "metadata": {},
     "output_type": "execute_result"
    }
   ],
   "source": [
    "logs.groupby('group_id').agg({'user_id':'nunique'})"
   ]
  },
  {
   "cell_type": "code",
   "execution_count": 18,
   "metadata": {},
   "outputs": [
    {
     "data": {
      "text/html": [
       "<div>\n",
       "<style scoped>\n",
       "    .dataframe tbody tr th:only-of-type {\n",
       "        vertical-align: middle;\n",
       "    }\n",
       "\n",
       "    .dataframe tbody tr th {\n",
       "        vertical-align: top;\n",
       "    }\n",
       "\n",
       "    .dataframe thead th {\n",
       "        text-align: right;\n",
       "    }\n",
       "</style>\n",
       "<table border=\"1\" class=\"dataframe\">\n",
       "  <thead>\n",
       "    <tr style=\"text-align: right;\">\n",
       "      <th></th>\n",
       "      <th>user_id</th>\n",
       "    </tr>\n",
       "    <tr>\n",
       "      <th>group_id</th>\n",
       "      <th></th>\n",
       "    </tr>\n",
       "  </thead>\n",
       "  <tbody>\n",
       "    <tr>\n",
       "      <th>246</th>\n",
       "      <td>79302</td>\n",
       "    </tr>\n",
       "    <tr>\n",
       "      <th>247</th>\n",
       "      <td>77022</td>\n",
       "    </tr>\n",
       "    <tr>\n",
       "      <th>248</th>\n",
       "      <td>84563</td>\n",
       "    </tr>\n",
       "  </tbody>\n",
       "</table>\n",
       "</div>"
      ],
      "text/plain": [
       "          user_id\n",
       "group_id         \n",
       "246         79302\n",
       "247         77022\n",
       "248         84563"
      ]
     },
     "execution_count": 18,
     "metadata": {},
     "output_type": "execute_result"
    }
   ],
   "source": [
    "logs.groupby('group_id').agg({'user_id':'count'})"
   ]
  },
  {
   "cell_type": "markdown",
   "metadata": {},
   "source": [
    "Пользователи есть во всех трёх группах и распределены равномерно, по 2.5 тысячи.  \n",
    "А вот количество событий в экспериментальной группе больше, чем в контрольных"
   ]
  },
  {
   "cell_type": "markdown",
   "metadata": {},
   "source": [
    "**Вывод**  \n",
    "Мы проверили данные и поняли, что имеем события за июль с 25ого и август до 7ого 2019ого года, при этом увидели данных за июль очень мало и решили удалить их. Потеряли при этом всего 2826 из 243713, то есть 1.2%, и 17 пользователей из 7551 или 0.2%. Также посчитали среднее количество событий на пользователя - 32, и проверили распределение пользователей и событий по группам: пользователей примерно равное количество, событий в экспериментальной группе больше."
   ]
  },
  {
   "cell_type": "markdown",
   "metadata": {},
   "source": [
    "## Изучение воронки событий"
   ]
  },
  {
   "cell_type": "markdown",
   "metadata": {},
   "source": [
    "### Посмотрим, какие события есть в логах, как часто они встречаются. Отсортируем события по частоте."
   ]
  },
  {
   "cell_type": "code",
   "execution_count": 19,
   "metadata": {},
   "outputs": [
    {
     "data": {
      "text/plain": [
       "event_name\n",
       "MainScreenAppear           117328\n",
       "OffersScreenAppear          46333\n",
       "CartScreenAppear            42303\n",
       "PaymentScreenSuccessful     33918\n",
       "Tutorial                     1005\n",
       "Name: count, dtype: int64"
      ]
     },
     "execution_count": 19,
     "metadata": {},
     "output_type": "execute_result"
    }
   ],
   "source": [
    "logs['event_name'].value_counts()"
   ]
  },
  {
   "cell_type": "code",
   "execution_count": 20,
   "metadata": {},
   "outputs": [
    {
     "data": {
      "image/png": "[encoded data removed]",
      "text/plain": [
       "<Figure size 1500x500 with 1 Axes>"
      ]
     },
     "metadata": {},
     "output_type": "display_data"
    }
   ],
   "source": [
    "plt.figure(figsize=(15,5))\n",
    "logs['event_name'].value_counts().sort_values(ascending=True).plot(kind='barh')\n",
    "plt.title('События и их количество')\n",
    "plt.xlabel('Количество')\n",
    "plt.ylabel('События')\n",
    "plt.show()"
   ]
  },
  {
   "cell_type": "markdown",
   "metadata": {},
   "source": [
    "Вывели все имеющиеся события и их количество: больше всего это просмотр главной страницы - 117328, затем экран предложения - 46333, затем корзина - 42303 и упешная оплата - 33918. На странице руководства всего 1005 событий."
   ]
  },
  {
   "cell_type": "markdown",
   "metadata": {},
   "source": [
    "### Посчитаем, сколько пользователей совершали каждое из этих событий. Отсортируем события по числу пользователей. Посчитаем долю пользователей, которые хоть раз совершали событие."
   ]
  },
  {
   "cell_type": "code",
   "execution_count": 21,
   "metadata": {},
   "outputs": [
    {
     "data": {
      "text/html": [
       "<div>\n",
       "<style scoped>\n",
       "    .dataframe tbody tr th:only-of-type {\n",
       "        vertical-align: middle;\n",
       "    }\n",
       "\n",
       "    .dataframe tbody tr th {\n",
       "        vertical-align: top;\n",
       "    }\n",
       "\n",
       "    .dataframe thead th {\n",
       "        text-align: right;\n",
       "    }\n",
       "</style>\n",
       "<table border=\"1\" class=\"dataframe\">\n",
       "  <thead>\n",
       "    <tr style=\"text-align: right;\">\n",
       "      <th></th>\n",
       "      <th>event_name</th>\n",
       "      <th>count_users</th>\n",
       "      <th>percent</th>\n",
       "    </tr>\n",
       "  </thead>\n",
       "  <tbody>\n",
       "    <tr>\n",
       "      <th>0</th>\n",
       "      <td>MainScreenAppear</td>\n",
       "      <td>7419</td>\n",
       "      <td>98.5</td>\n",
       "    </tr>\n",
       "    <tr>\n",
       "      <th>1</th>\n",
       "      <td>OffersScreenAppear</td>\n",
       "      <td>4593</td>\n",
       "      <td>61.0</td>\n",
       "    </tr>\n",
       "    <tr>\n",
       "      <th>2</th>\n",
       "      <td>CartScreenAppear</td>\n",
       "      <td>3734</td>\n",
       "      <td>49.6</td>\n",
       "    </tr>\n",
       "    <tr>\n",
       "      <th>3</th>\n",
       "      <td>PaymentScreenSuccessful</td>\n",
       "      <td>3539</td>\n",
       "      <td>47.0</td>\n",
       "    </tr>\n",
       "    <tr>\n",
       "      <th>4</th>\n",
       "      <td>Tutorial</td>\n",
       "      <td>840</td>\n",
       "      <td>11.1</td>\n",
       "    </tr>\n",
       "  </tbody>\n",
       "</table>\n",
       "</div>"
      ],
      "text/plain": [
       "                event_name  count_users  percent\n",
       "0         MainScreenAppear         7419     98.5\n",
       "1       OffersScreenAppear         4593     61.0\n",
       "2         CartScreenAppear         3734     49.6\n",
       "3  PaymentScreenSuccessful         3539     47.0\n",
       "4                 Tutorial          840     11.1"
      ]
     },
     "execution_count": 21,
     "metadata": {},
     "output_type": "execute_result"
    }
   ],
   "source": [
    "funnel=(logs\n",
    "    .groupby(by='event_name')\n",
    "    .agg({'user_id':'nunique'})\n",
    "    .reset_index()\n",
    "    .rename(columns={'user_id':'count_users'})\n",
    "    .sort_values(by='count_users',ascending=False)\n",
    "    .reset_index(drop=True))\n",
    "funnel['percent']=round(funnel['count_users']/logs['user_id'].nunique()*100,1)\n",
    "funnel"
   ]
  },
  {
   "cell_type": "markdown",
   "metadata": {},
   "source": [
    "Главную страницу увидели почти все, экран предложения 61%, перешли в корзину - 49.6% и упешно оплатили - 47%. На странице руководства было всего 11.1% пользователей."
   ]
  },
  {
   "cell_type": "markdown",
   "metadata": {},
   "source": [
    "### Предположим, в каком порядке происходят события. Все ли они выстраиваются в последовательную цепочку? Их не нужно учитывать при расчёте воронки."
   ]
  },
  {
   "cell_type": "markdown",
   "metadata": {},
   "source": [
    "Видим, что первые 4 по количеству пользователей события выстраиваются в цепочку (главная страница - предложение - корзина - оплата), а вот страницу руководства пропускают почти все, наверное потому, что процесс покупки и так понятен, в нём можно разобраться и без этой страницы. Да и не обязательно, что, посмотрев эту страницу, пользователь продолжил пользоваться приложением. Далее не будем учитывать её в воронке"
   ]
  },
  {
   "cell_type": "code",
   "execution_count": 22,
   "metadata": {},
   "outputs": [
    {
     "data": {
      "text/html": [
       "<div>\n",
       "<style scoped>\n",
       "    .dataframe tbody tr th:only-of-type {\n",
       "        vertical-align: middle;\n",
       "    }\n",
       "\n",
       "    .dataframe tbody tr th {\n",
       "        vertical-align: top;\n",
       "    }\n",
       "\n",
       "    .dataframe thead th {\n",
       "        text-align: right;\n",
       "    }\n",
       "</style>\n",
       "<table border=\"1\" class=\"dataframe\">\n",
       "  <thead>\n",
       "    <tr style=\"text-align: right;\">\n",
       "      <th></th>\n",
       "      <th>event_name</th>\n",
       "      <th>count_users</th>\n",
       "      <th>percent</th>\n",
       "    </tr>\n",
       "  </thead>\n",
       "  <tbody>\n",
       "    <tr>\n",
       "      <th>0</th>\n",
       "      <td>MainScreenAppear</td>\n",
       "      <td>7419</td>\n",
       "      <td>98.5</td>\n",
       "    </tr>\n",
       "    <tr>\n",
       "      <th>1</th>\n",
       "      <td>OffersScreenAppear</td>\n",
       "      <td>4593</td>\n",
       "      <td>61.0</td>\n",
       "    </tr>\n",
       "    <tr>\n",
       "      <th>2</th>\n",
       "      <td>CartScreenAppear</td>\n",
       "      <td>3734</td>\n",
       "      <td>49.6</td>\n",
       "    </tr>\n",
       "    <tr>\n",
       "      <th>3</th>\n",
       "      <td>PaymentScreenSuccessful</td>\n",
       "      <td>3539</td>\n",
       "      <td>47.0</td>\n",
       "    </tr>\n",
       "  </tbody>\n",
       "</table>\n",
       "</div>"
      ],
      "text/plain": [
       "                event_name  count_users  percent\n",
       "0         MainScreenAppear         7419     98.5\n",
       "1       OffersScreenAppear         4593     61.0\n",
       "2         CartScreenAppear         3734     49.6\n",
       "3  PaymentScreenSuccessful         3539     47.0"
      ]
     },
     "execution_count": 22,
     "metadata": {},
     "output_type": "execute_result"
    }
   ],
   "source": [
    "funnel=funnel[funnel['event_name']!='Tutorial']\n",
    "funnel"
   ]
  },
  {
   "cell_type": "markdown",
   "metadata": {},
   "source": [
    "### По воронке событий посчитаем, какая доля пользователей проходит на следующий шаг воронки (от числа пользователей на предыдущем).  \n",
    "**То есть для последовательности событий A → B → C посчитаем отношение числа пользователей с событием B к количеству пользователей с событием A, а также отношение числа пользователей с событием C к количеству пользователей с событием B.**"
   ]
  },
  {
   "cell_type": "code",
   "execution_count": 23,
   "metadata": {},
   "outputs": [
    {
     "data": {
      "text/html": [
       "<div>\n",
       "<style scoped>\n",
       "    .dataframe tbody tr th:only-of-type {\n",
       "        vertical-align: middle;\n",
       "    }\n",
       "\n",
       "    .dataframe tbody tr th {\n",
       "        vertical-align: top;\n",
       "    }\n",
       "\n",
       "    .dataframe thead th {\n",
       "        text-align: right;\n",
       "    }\n",
       "</style>\n",
       "<table border=\"1\" class=\"dataframe\">\n",
       "  <thead>\n",
       "    <tr style=\"text-align: right;\">\n",
       "      <th></th>\n",
       "      <th>event_name</th>\n",
       "      <th>count_users</th>\n",
       "      <th>percent</th>\n",
       "      <th>steps_percent</th>\n",
       "    </tr>\n",
       "  </thead>\n",
       "  <tbody>\n",
       "    <tr>\n",
       "      <th>0</th>\n",
       "      <td>MainScreenAppear</td>\n",
       "      <td>7419</td>\n",
       "      <td>98.5</td>\n",
       "      <td>100.0</td>\n",
       "    </tr>\n",
       "    <tr>\n",
       "      <th>1</th>\n",
       "      <td>OffersScreenAppear</td>\n",
       "      <td>4593</td>\n",
       "      <td>61.0</td>\n",
       "      <td>61.9</td>\n",
       "    </tr>\n",
       "    <tr>\n",
       "      <th>2</th>\n",
       "      <td>CartScreenAppear</td>\n",
       "      <td>3734</td>\n",
       "      <td>49.6</td>\n",
       "      <td>81.3</td>\n",
       "    </tr>\n",
       "    <tr>\n",
       "      <th>3</th>\n",
       "      <td>PaymentScreenSuccessful</td>\n",
       "      <td>3539</td>\n",
       "      <td>47.0</td>\n",
       "      <td>94.8</td>\n",
       "    </tr>\n",
       "  </tbody>\n",
       "</table>\n",
       "</div>"
      ],
      "text/plain": [
       "                event_name  count_users  percent  steps_percent\n",
       "0         MainScreenAppear         7419     98.5          100.0\n",
       "1       OffersScreenAppear         4593     61.0           61.9\n",
       "2         CartScreenAppear         3734     49.6           81.3\n",
       "3  PaymentScreenSuccessful         3539     47.0           94.8"
      ]
     },
     "execution_count": 23,
     "metadata": {},
     "output_type": "execute_result"
    }
   ],
   "source": [
    "funnel['steps_percent']=round((funnel['count_users']/funnel['count_users'].shift()*100),1)\n",
    "funnel.fillna(100)"
   ]
  },
  {
   "cell_type": "markdown",
   "metadata": {},
   "source": [
    "### На каком шаге теряем больше всего пользователей?"
   ]
  },
  {
   "cell_type": "markdown",
   "metadata": {},
   "source": [
    "Больше всего пользователей теряем на первом же шаге после просмотра главной страницы - 38.1%. В корзину с предыдущего шага переходят 81% пользователей, оплачивают 95% от сформировавших корзину."
   ]
  },
  {
   "cell_type": "markdown",
   "metadata": {},
   "source": [
    "### Какая доля пользователей доходит от первого события до оплаты?"
   ]
  },
  {
   "cell_type": "code",
   "execution_count": 24,
   "metadata": {},
   "outputs": [
    {
     "data": {
      "text/plain": [
       "0     NaN\n",
       "1     NaN\n",
       "2     NaN\n",
       "3    47.7\n",
       "Name: count_users, dtype: float64"
      ]
     },
     "execution_count": 24,
     "metadata": {},
     "output_type": "execute_result"
    }
   ],
   "source": [
    "round((funnel[funnel['event_name']=='PaymentScreenSuccessful']['count_users']/funnel['count_users'].shift(3)*100),1)"
   ]
  },
  {
   "cell_type": "markdown",
   "metadata": {},
   "source": [
    "Только 47% пользователей доходят с первого шага до оплаты"
   ]
  },
  {
   "cell_type": "markdown",
   "metadata": {},
   "source": [
    "**Вывод**  \n",
    "Посчитали для всех имеющихся событий их количество: больше всего это просмотр главной страницы - 117328, затем экран предложения - 46333, затем корзина - 42303 и упешная оплата - 33918. На странице руководства всего 1005 событий.  \n",
    "В пересчёте на пользователей - главную страницу увидели почти все - 98.5%, экран предложения - 61%, перешли в корзину - 49.6% и упешно оплатили - 47%. На странице руководства было всего 11.1% пользователей.  \n",
    "Первые 4 по количеству пользователей события выстраиваются в цепочку (главная страница - предложение - корзина - оплата), страницу руководства пропускают, поэтому её мы не учитываем в воронке.  \n",
    "Больше всего пользователей теряем на первом же шаге после просмотра главной страницы - 38.1%. В корзину с предыдущего шага переходят 81% пользователей, оплачивают 95% от сформировавших корзину.  \n",
    "И также посчитали, что лишь 47% пользователей доходят с главного экрана приложения до оплаты."
   ]
  },
  {
   "cell_type": "markdown",
   "metadata": {},
   "source": [
    "## Изучение результатов эксперимента"
   ]
  },
  {
   "cell_type": "markdown",
   "metadata": {},
   "source": [
    "### Сколько пользователей в каждой экспериментальной группе?"
   ]
  },
  {
   "cell_type": "markdown",
   "metadata": {},
   "source": [
    "На шаге 3.5 мы уже проверяли распределение пользователей по группам, выведем ещё раз и запишем в таблицу и посчитаем пользователей в общей А группе"
   ]
  },
  {
   "cell_type": "code",
   "execution_count": 25,
   "metadata": {},
   "outputs": [
    {
     "data": {
      "text/plain": [
       "group_id\n",
       "246     2484\n",
       "247     2513\n",
       "248     2537\n",
       "Asum    4997\n",
       "Name: user_id, dtype: int64"
      ]
     },
     "execution_count": 25,
     "metadata": {},
     "output_type": "execute_result"
    }
   ],
   "source": [
    "users_groups = logs.groupby('group_id')['user_id'].nunique()\n",
    "users_groups['Asum']=users_groups[246]+users_groups[247]\n",
    "users_groups"
   ]
  },
  {
   "cell_type": "markdown",
   "metadata": {},
   "source": [
    "В контрольных группах по 2484 и 2513 пользователей, всего - 4997, в экспериментальной 2537"
   ]
  },
  {
   "cell_type": "markdown",
   "metadata": {},
   "source": [
    "### Есть 2 контрольные группы для А/А-эксперимента, чтобы проверить корректность всех механизмов и расчётов. Проверим, находят ли статистические критерии разницу между выборками 246 и 247."
   ]
  },
  {
   "cell_type": "markdown",
   "metadata": {},
   "source": [
    "(по сути это заголовок с следующему подшагу)"
   ]
  },
  {
   "cell_type": "markdown",
   "metadata": {},
   "source": [
    "### Выберем самое популярное событие. Посчитаем число пользователей, совершивших это событие в каждой из контрольных групп. Посчитаем долю пользователей, совершивших это событие. Проверим, будет ли отличие между группами статистически достоверным. Проделаем то же самое для всех других событий (удобно обернуть проверку в отдельную функцию). Можно ли сказать, что разбиение на группы работает корректно?"
   ]
  },
  {
   "cell_type": "markdown",
   "metadata": {},
   "source": [
    "Проверим, не попали ли какие-нибудь пользователи сразу в несколько групп"
   ]
  },
  {
   "cell_type": "code",
   "execution_count": 26,
   "metadata": {},
   "outputs": [
    {
     "data": {
      "text/plain": [
       "0"
      ]
     },
     "execution_count": 26,
     "metadata": {},
     "output_type": "execute_result"
    }
   ],
   "source": [
    "len(logs.groupby('user_id')['group_id'].nunique().reset_index().query('group_id > 1'))"
   ]
  },
  {
   "cell_type": "markdown",
   "metadata": {},
   "source": [
    "Задублированных пользователей нет.  \n",
    "Разделим пользователей по группам и событиям, исключив Tutorial, и отсортируем по воронке. Сделаем сразу объединённую контрольную группу"
   ]
  },
  {
   "cell_type": "code",
   "execution_count": 27,
   "metadata": {},
   "outputs": [
    {
     "data": {
      "text/html": [
       "<div>\n",
       "<style scoped>\n",
       "    .dataframe tbody tr th:only-of-type {\n",
       "        vertical-align: middle;\n",
       "    }\n",
       "\n",
       "    .dataframe tbody tr th {\n",
       "        vertical-align: top;\n",
       "    }\n",
       "\n",
       "    .dataframe thead th {\n",
       "        text-align: right;\n",
       "    }\n",
       "</style>\n",
       "<table border=\"1\" class=\"dataframe\">\n",
       "  <thead>\n",
       "    <tr style=\"text-align: right;\">\n",
       "      <th>group_id</th>\n",
       "      <th>event_name</th>\n",
       "      <th>246</th>\n",
       "      <th>247</th>\n",
       "      <th>248</th>\n",
       "      <th>Asum</th>\n",
       "    </tr>\n",
       "  </thead>\n",
       "  <tbody>\n",
       "    <tr>\n",
       "      <th>0</th>\n",
       "      <td>MainScreenAppear</td>\n",
       "      <td>2450</td>\n",
       "      <td>2476</td>\n",
       "      <td>2493</td>\n",
       "      <td>4926</td>\n",
       "    </tr>\n",
       "    <tr>\n",
       "      <th>1</th>\n",
       "      <td>OffersScreenAppear</td>\n",
       "      <td>1542</td>\n",
       "      <td>1520</td>\n",
       "      <td>1531</td>\n",
       "      <td>3062</td>\n",
       "    </tr>\n",
       "    <tr>\n",
       "      <th>2</th>\n",
       "      <td>CartScreenAppear</td>\n",
       "      <td>1266</td>\n",
       "      <td>1238</td>\n",
       "      <td>1230</td>\n",
       "      <td>2504</td>\n",
       "    </tr>\n",
       "    <tr>\n",
       "      <th>3</th>\n",
       "      <td>PaymentScreenSuccessful</td>\n",
       "      <td>1200</td>\n",
       "      <td>1158</td>\n",
       "      <td>1181</td>\n",
       "      <td>2358</td>\n",
       "    </tr>\n",
       "  </tbody>\n",
       "</table>\n",
       "</div>"
      ],
      "text/plain": [
       "group_id               event_name   246   247   248  Asum\n",
       "0                MainScreenAppear  2450  2476  2493  4926\n",
       "1              OffersScreenAppear  1542  1520  1531  3062\n",
       "2                CartScreenAppear  1266  1238  1230  2504\n",
       "3         PaymentScreenSuccessful  1200  1158  1181  2358"
      ]
     },
     "execution_count": 27,
     "metadata": {},
     "output_type": "execute_result"
    }
   ],
   "source": [
    "users_events = logs[logs['event_name']!='Tutorial']\n",
    "users_events = users_events.pivot_table(index='event_name', values='user_id', columns='group_id', aggfunc='nunique') \\\n",
    "                .reset_index().sort_values(by=246, ascending=False).reset_index(drop=True)\n",
    "users_events['Asum']=users_events[246]+users_events[247]\n",
    "users_events"
   ]
  },
  {
   "cell_type": "markdown",
   "metadata": {},
   "source": [
    "Посчитаем долю пользователей, совершивших каждое событие. Сделаем это в новой таблице"
   ]
  },
  {
   "cell_type": "code",
   "execution_count": 28,
   "metadata": {
    "scrolled": true
   },
   "outputs": [
    {
     "data": {
      "text/html": [
       "<div>\n",
       "<style scoped>\n",
       "    .dataframe tbody tr th:only-of-type {\n",
       "        vertical-align: middle;\n",
       "    }\n",
       "\n",
       "    .dataframe tbody tr th {\n",
       "        vertical-align: top;\n",
       "    }\n",
       "\n",
       "    .dataframe thead th {\n",
       "        text-align: right;\n",
       "    }\n",
       "</style>\n",
       "<table border=\"1\" class=\"dataframe\">\n",
       "  <thead>\n",
       "    <tr style=\"text-align: right;\">\n",
       "      <th></th>\n",
       "      <th>event_name</th>\n",
       "      <th>246</th>\n",
       "      <th>247</th>\n",
       "      <th>248</th>\n",
       "      <th>Asum</th>\n",
       "    </tr>\n",
       "  </thead>\n",
       "  <tbody>\n",
       "    <tr>\n",
       "      <th>0</th>\n",
       "      <td>MainScreenAppear</td>\n",
       "      <td>98.6</td>\n",
       "      <td>98.5</td>\n",
       "      <td>98.3</td>\n",
       "      <td>98.6</td>\n",
       "    </tr>\n",
       "    <tr>\n",
       "      <th>1</th>\n",
       "      <td>OffersScreenAppear</td>\n",
       "      <td>62.1</td>\n",
       "      <td>60.5</td>\n",
       "      <td>60.3</td>\n",
       "      <td>61.3</td>\n",
       "    </tr>\n",
       "    <tr>\n",
       "      <th>2</th>\n",
       "      <td>CartScreenAppear</td>\n",
       "      <td>51.0</td>\n",
       "      <td>49.3</td>\n",
       "      <td>48.5</td>\n",
       "      <td>50.1</td>\n",
       "    </tr>\n",
       "    <tr>\n",
       "      <th>3</th>\n",
       "      <td>PaymentScreenSuccessful</td>\n",
       "      <td>48.3</td>\n",
       "      <td>46.1</td>\n",
       "      <td>46.6</td>\n",
       "      <td>47.2</td>\n",
       "    </tr>\n",
       "  </tbody>\n",
       "</table>\n",
       "</div>"
      ],
      "text/plain": [
       "                event_name   246   247   248  Asum\n",
       "0         MainScreenAppear  98.6  98.5  98.3  98.6\n",
       "1       OffersScreenAppear  62.1  60.5  60.3  61.3\n",
       "2         CartScreenAppear  51.0  49.3  48.5  50.1\n",
       "3  PaymentScreenSuccessful  48.3  46.1  46.6  47.2"
      ]
     },
     "execution_count": 28,
     "metadata": {},
     "output_type": "execute_result"
    }
   ],
   "source": [
    "users_events_part=pd.DataFrame(users_events['event_name'])\n",
    "users_events_part[246] = (users_events[246]/users_groups[246]*100).round(1)\n",
    "users_events_part[247] = (users_events[247]/users_groups[247]*100).round(1)\n",
    "users_events_part[248] = (users_events[248]/users_groups[248]*100).round(1)\n",
    "users_events_part['Asum'] = (users_events['Asum']/users_groups['Asum']*100).round(1)\n",
    "users_events_part"
   ]
  },
  {
   "cell_type": "markdown",
   "metadata": {},
   "source": [
    "Чтобы проверить корректность теста и расчётов у нас есть две контрольные А группы (246 и 247).  \n",
    "Для проверки статистически значимой разницы между ними используем двусторонний Z-тест:  \n",
    "    - нулевая гипотеза - доля уникальных пользователей на этапе воронки одинакова,  \n",
    "    - альтернативная гипотеза - доля уникальных пользователей на этапе воронки отличается.  "
   ]
  },
  {
   "cell_type": "markdown",
   "metadata": {},
   "source": [
    "Напишем для этого функцию, у которой на входе будут наши группы и уровень статистической значимости, а на выходе p-value"
   ]
  },
  {
   "cell_type": "code",
   "execution_count": 29,
   "metadata": {},
   "outputs": [],
   "source": [
    "def my_ztest(group1,group2,alpha):\n",
    "    print('Проверяем группы', group1, 'и', group2, 'при уровне значимости', alpha) #выведем исходные данные\n",
    "    \n",
    "    for i in users_events.index:  # для каждого события\n",
    "        p1 = users_events[group1][i]/users_groups[group1] # считаем пропорции успеха в каждой группе и в сумме\n",
    "        p2 = users_events[group2][i]/users_groups[group2] \n",
    "        p_sum = (users_events[group1][i]+users_events[group2][i])/(users_groups[group1]+users_groups[group2])\n",
    "        \n",
    "        diff = p1-p2 # разница пропорций\n",
    "        # считаем статистику в стандартных отклонениях нормального распределения и задаём его\n",
    "        z_value = diff/math.sqrt(p_sum*(1-p_sum)*(1/users_groups[group1]+1/users_groups[group2])) \n",
    "        distr = st.norm(0,1)\n",
    "        \n",
    "        # считаем p-value и выводим результаты\n",
    "        p_value = ((1-distr.cdf(abs(z_value)))*2).round(2)\n",
    "        print()\n",
    "        print('Для события', users_events['event_name'][i], 'p-value =', p_value)\n",
    "        if (p_value<alpha):\n",
    "            print('Отвергаем нулевую гипотезу, разница между долями есть')\n",
    "        else: print ('Не получилось отвергнуть нулевую гипотезу, разницы между долями нет')\n",
    "        print('--------')"
   ]
  },
  {
   "cell_type": "markdown",
   "metadata": {},
   "source": [
    "Далее с помощью этой функции проверим статистическую значимость для контрольных А групп (246 и 247) с уровнем 0.01, необходимым для А/А теста"
   ]
  },
  {
   "cell_type": "code",
   "execution_count": 30,
   "metadata": {},
   "outputs": [
    {
     "name": "stdout",
     "output_type": "stream",
     "text": [
      "Проверяем группы 246 и 247 при уровне значимости 0.01\n",
      "\n",
      "Для события MainScreenAppear p-value = 0.76\n",
      "Не получилось отвергнуть нулевую гипотезу, разницы между долями нет\n",
      "--------\n",
      "\n",
      "Для события OffersScreenAppear p-value = 0.25\n",
      "Не получилось отвергнуть нулевую гипотезу, разницы между долями нет\n",
      "--------\n",
      "\n",
      "Для события CartScreenAppear p-value = 0.23\n",
      "Не получилось отвергнуть нулевую гипотезу, разницы между долями нет\n",
      "--------\n",
      "\n",
      "Для события PaymentScreenSuccessful p-value = 0.11\n",
      "Не получилось отвергнуть нулевую гипотезу, разницы между долями нет\n",
      "--------\n"
     ]
    }
   ],
   "source": [
    "my_ztest(246,247,0.01)"
   ]
  },
  {
   "cell_type": "markdown",
   "metadata": {},
   "source": [
    "Получили, что значимой разницы между контрольными группами нет, значит разбиение работает корректно.  \n",
    "Учитывая, что мы провели 4 теста, поправкой Бонферрони на множественность уровень статистической значимости следовало снизить в 4 раза до 0,0025, что не повлияло бы на результат, так как минимальное p-value 0.11, что и так больше."
   ]
  },
  {
   "cell_type": "markdown",
   "metadata": {},
   "source": [
    "### Аналогично поступим с группой с изменённым шрифтом. Сравним результаты с каждой из контрольных групп в отдельности по каждому событию. Сравним результаты с объединённой контрольной группой. Какие выводы из эксперимента можно сделать?"
   ]
  },
  {
   "cell_type": "code",
   "execution_count": 31,
   "metadata": {},
   "outputs": [
    {
     "name": "stdout",
     "output_type": "stream",
     "text": [
      "Проверяем группы 246 и 248 при уровне значимости 0.05\n",
      "\n",
      "Для события MainScreenAppear p-value = 0.29\n",
      "Не получилось отвергнуть нулевую гипотезу, разницы между долями нет\n",
      "--------\n",
      "\n",
      "Для события OffersScreenAppear p-value = 0.21\n",
      "Не получилось отвергнуть нулевую гипотезу, разницы между долями нет\n",
      "--------\n",
      "\n",
      "Для события CartScreenAppear p-value = 0.08\n",
      "Не получилось отвергнуть нулевую гипотезу, разницы между долями нет\n",
      "--------\n",
      "\n",
      "Для события PaymentScreenSuccessful p-value = 0.21\n",
      "Не получилось отвергнуть нулевую гипотезу, разницы между долями нет\n",
      "--------\n"
     ]
    }
   ],
   "source": [
    "my_ztest(246,248,0.05) #группы А1 и В"
   ]
  },
  {
   "cell_type": "code",
   "execution_count": 32,
   "metadata": {
    "scrolled": true
   },
   "outputs": [
    {
     "name": "stdout",
     "output_type": "stream",
     "text": [
      "Проверяем группы 247 и 248 при уровне значимости 0.05\n",
      "\n",
      "Для события MainScreenAppear p-value = 0.46\n",
      "Не получилось отвергнуть нулевую гипотезу, разницы между долями нет\n",
      "--------\n",
      "\n",
      "Для события OffersScreenAppear p-value = 0.92\n",
      "Не получилось отвергнуть нулевую гипотезу, разницы между долями нет\n",
      "--------\n",
      "\n",
      "Для события CartScreenAppear p-value = 0.58\n",
      "Не получилось отвергнуть нулевую гипотезу, разницы между долями нет\n",
      "--------\n",
      "\n",
      "Для события PaymentScreenSuccessful p-value = 0.74\n",
      "Не получилось отвергнуть нулевую гипотезу, разницы между долями нет\n",
      "--------\n"
     ]
    }
   ],
   "source": [
    "my_ztest(247,248,0.05) #группы А2 и В"
   ]
  },
  {
   "cell_type": "code",
   "execution_count": 33,
   "metadata": {},
   "outputs": [
    {
     "name": "stdout",
     "output_type": "stream",
     "text": [
      "Проверяем группы Asum и 248 при уровне значимости 0.05\n",
      "\n",
      "Для события MainScreenAppear p-value = 0.29\n",
      "Не получилось отвергнуть нулевую гипотезу, разницы между долями нет\n",
      "--------\n",
      "\n",
      "Для события OffersScreenAppear p-value = 0.43\n",
      "Не получилось отвергнуть нулевую гипотезу, разницы между долями нет\n",
      "--------\n",
      "\n",
      "Для события CartScreenAppear p-value = 0.18\n",
      "Не получилось отвергнуть нулевую гипотезу, разницы между долями нет\n",
      "--------\n",
      "\n",
      "Для события PaymentScreenSuccessful p-value = 0.6\n",
      "Не получилось отвергнуть нулевую гипотезу, разницы между долями нет\n",
      "--------\n"
     ]
    }
   ],
   "source": [
    "my_ztest('Asum',248,0.05) #группы объединённая А и В"
   ]
  },
  {
   "cell_type": "markdown",
   "metadata": {},
   "source": [
    "Минимальное p-value, которое мы получили, 0.08, поэтому нулевую гипотезу не отвергаем ни в одном случае/событии, то есть считаем, что разницы между группами нет, как между обеими контрольными и экспериментальной, так и в сравнении с объединённой.  \n",
    "Аналогично А/А тесту поправкой Бонферрони уровень статистической значимости следовало снизить в 12 раз (3 сравнения групп по 4м событиям = 12 тестов) до 0,004, что так же не повлияло бы на результат, так как минимальное p-value  больше."
   ]
  },
  {
   "cell_type": "markdown",
   "metadata": {},
   "source": [
    "### Какой уровень значимости мы выбрали при проверке статистических гипотез выше? Посчитаем, сколько проверок статистических гипотез мы сделали. При уровне значимости 0.1 в 10% случаев можно ошибочно отклонить нулевую гипотезу при условии, что она верна. Какой уровень значимости стоит применить? Если мы хотим изменить его, проделаем предыдущие пункты и проверим свои выводы."
   ]
  },
  {
   "cell_type": "markdown",
   "metadata": {},
   "source": [
    "Выше мы выбрали уровень значимости 0.05. При этом сделали 4 проверки гипотез в А/А тесте, и 12 в А/В.  \n",
    "При уровне значимости 0.1 мы бы получили аналогичные результаты, ни в одном тесте не отвергнув нулевую гипотезу, поскольку минимальное p-value, которое мы получили 0.08, поэтому изменять его не будем."
   ]
  },
  {
   "cell_type": "markdown",
   "metadata": {},
   "source": [
    "## Общий вывод"
   ]
  },
  {
   "cell_type": "markdown",
   "metadata": {},
   "source": [
    "В результате исследования мы изучили поведение пользователей нашего мобильного приложения на основе собранных логов.  \n",
    "Сначала загрузили и **изучили исходные данные, подготовили их** - заменили названия столбцов, посмотрели названия событий и групп, проверили отсутствие пропусков, удалили дубликаты и привели типы данных в необходимые нам, добавили отдельный столбец с датами.  \n",
    "В логе у нас 243713 событий и 7551 пользователь, в среднем 32 события на пользователя.  \n",
    "Данными мы располагаем за период от 25 июля до 7 августа 2019ого года, при этом за июль логов почти нет, поэтому мы удалили их, оставив в итоге 240887 событий и 7534 пользователей.  \n",
    "Проверили распределение пользователей по группам: А1 - 2484, А2 - 2513 и В - 2537.  \n",
    "  \n",
    "**Затем изучили воронку событий.**  \n",
    "Посмотрели все имеющиеся события и их количество: \n",
    "- просмотр главной страницы - 117328  \n",
    "- экран предложения - 46333\n",
    "- корзина - 42303 \n",
    "- упешная оплата - 33918.  \n",
    "- на странице руководства всего 1005 событий.  \n",
    "  \n",
    "Главную страницу увидели почти все, экран предложения 61%, перешли в корзину - 49.6% и упешно оплатили - 47%. На странице руководства было всего 11.1% пользователей. Далее последнюю страницу мы исключили из воронки.  \n",
    "Поняли, что больше всего пользователей теряем на первом шаге после просмотра главной страницы - 38.1%. В корзину с предыдущего шага переходят 81% пользователей, оплачивают 95% от сформировавших корзину.  \n",
    "  \n",
    "Затем мы ещё раз посмотрели на количество пользователей в группе и сделали объединённую, проверили, что все попали только в одну группу, и перешли к самим А/А/В тестам.  \n",
    "**В ходе А/А тестов** сравнили две контрольные группы с уровнем статистической значимости 0.01. Получили, что значимой разницы между контрольными группами нет, значит разбиение работает корректно.  \n",
    "Аналогично сравнили контрольные группы (а так же объединённую) с экспериментальной - **А/В тесты**, проведя 12 тестов. Минимальное p-value, которое мы получили, 0.08, поэтому нулевую гипотезу не отвергли ни в одном случае/событии, то есть считаем, что разницы между группами нет.  \n",
    "После А/В теста посчитали, что снижение уровня статистической значимости до 0.01 не имеет смысла, так как это не повлияет на результат.  \n",
    "  \n",
    "**То есть в итоге получили, что изменение шрифтов в приложении на поведение пользователей не повлияло.**\n",
    "\n",
    "По результатам данных тестов можем дать **рекомендации** менеджерам и дизайнерам не тратить ресурсы на такие незначительные изменение типа шрифтов, потому что видим, что они не влияют на пользователей, а обратить внимание например на главную страницу в целом, чтобы она и всё, что на ней находится, больше привлекали внимание пользователей, поскольку именно на данном этапе много людей перестают пользоваться приложением. Возможно она неудобна и стоит пересмотреть её, возможно стоит пересмотреть её дизайн и сделать какие-то яркие акценты, привлекающие внимание пользователей к товарам."
   ]
  }
 ],
 "metadata": {
  "ExecuteTimeLog": [
   {
    "duration": 428,
    "start_time": "2024-07-22T12:28:32.791Z"
   },
   {
    "duration": 72,
    "start_time": "2024-07-22T12:29:18.107Z"
   },
   {
    "duration": 928,
    "start_time": "2024-07-22T12:29:23.931Z"
   },
   {
    "duration": 62,
    "start_time": "2024-07-22T12:30:01.607Z"
   },
   {
    "duration": 203,
    "start_time": "2024-07-22T12:30:37.416Z"
   },
   {
    "duration": 214,
    "start_time": "2024-07-22T12:31:08.397Z"
   },
   {
    "duration": 62,
    "start_time": "2024-07-22T12:34:37.900Z"
   },
   {
    "duration": 59,
    "start_time": "2024-07-22T12:34:41.768Z"
   },
   {
    "duration": 73,
    "start_time": "2024-07-22T12:46:20.880Z"
   },
   {
    "duration": 11,
    "start_time": "2024-07-22T12:46:32.938Z"
   },
   {
    "duration": 8,
    "start_time": "2024-07-22T12:47:23.204Z"
   },
   {
    "duration": 23,
    "start_time": "2024-07-22T12:48:57.503Z"
   },
   {
    "duration": 9,
    "start_time": "2024-07-22T12:51:19.806Z"
   },
   {
    "duration": 7,
    "start_time": "2024-07-22T12:51:25.687Z"
   },
   {
    "duration": 438,
    "start_time": "2024-07-22T12:52:04.765Z"
   },
   {
    "duration": 227,
    "start_time": "2024-07-22T12:52:05.206Z"
   },
   {
    "duration": 8,
    "start_time": "2024-07-22T12:52:05.435Z"
   },
   {
    "duration": 979,
    "start_time": "2024-07-22T12:52:05.445Z"
   },
   {
    "duration": 0,
    "start_time": "2024-07-22T12:52:06.426Z"
   },
   {
    "duration": 23,
    "start_time": "2024-07-22T12:52:19.860Z"
   },
   {
    "duration": 71,
    "start_time": "2024-07-22T12:52:42.672Z"
   },
   {
    "duration": 196,
    "start_time": "2024-07-22T12:53:52.080Z"
   },
   {
    "duration": 21,
    "start_time": "2024-07-22T12:54:11.621Z"
   },
   {
    "duration": 392,
    "start_time": "2024-07-22T12:59:17.044Z"
   },
   {
    "duration": 199,
    "start_time": "2024-07-22T12:59:17.438Z"
   },
   {
    "duration": 11,
    "start_time": "2024-07-22T12:59:17.639Z"
   },
   {
    "duration": 37,
    "start_time": "2024-07-22T12:59:17.651Z"
   },
   {
    "duration": 25,
    "start_time": "2024-07-22T12:59:17.690Z"
   },
   {
    "duration": 86,
    "start_time": "2024-07-22T12:59:17.716Z"
   },
   {
    "duration": 5,
    "start_time": "2024-07-22T12:59:17.804Z"
   },
   {
    "duration": 26,
    "start_time": "2024-07-22T13:02:49.499Z"
   },
   {
    "duration": 4,
    "start_time": "2024-07-22T13:04:40.106Z"
   },
   {
    "duration": 126,
    "start_time": "2024-07-22T13:06:40.632Z"
   },
   {
    "duration": 88,
    "start_time": "2024-07-22T13:07:23.856Z"
   },
   {
    "duration": 9,
    "start_time": "2024-07-22T13:07:30.913Z"
   },
   {
    "duration": 60,
    "start_time": "2024-07-22T13:07:39.306Z"
   },
   {
    "duration": 23,
    "start_time": "2024-07-22T13:07:51.884Z"
   },
   {
    "duration": 414,
    "start_time": "2024-07-22T13:08:02.700Z"
   },
   {
    "duration": 205,
    "start_time": "2024-07-22T13:08:03.116Z"
   },
   {
    "duration": 4,
    "start_time": "2024-07-22T13:08:03.323Z"
   },
   {
    "duration": 37,
    "start_time": "2024-07-22T13:08:03.329Z"
   },
   {
    "duration": 33,
    "start_time": "2024-07-22T13:08:03.369Z"
   },
   {
    "duration": 85,
    "start_time": "2024-07-22T13:08:03.405Z"
   },
   {
    "duration": 63,
    "start_time": "2024-07-22T13:08:03.492Z"
   },
   {
    "duration": 0,
    "start_time": "2024-07-22T13:08:03.557Z"
   },
   {
    "duration": 140,
    "start_time": "2024-07-22T13:08:47.806Z"
   },
   {
    "duration": 18,
    "start_time": "2024-07-22T13:08:51.423Z"
   },
   {
    "duration": 59,
    "start_time": "2024-07-22T13:09:07.766Z"
   },
   {
    "duration": 12,
    "start_time": "2024-07-22T13:09:35.244Z"
   },
   {
    "duration": 10,
    "start_time": "2024-07-22T13:09:40.780Z"
   },
   {
    "duration": 3,
    "start_time": "2024-07-22T13:11:08.737Z"
   },
   {
    "duration": 19,
    "start_time": "2024-07-22T13:11:12.244Z"
   },
   {
    "duration": 85,
    "start_time": "2024-07-22T13:15:52.874Z"
   },
   {
    "duration": 70,
    "start_time": "2024-07-22T13:40:13.567Z"
   },
   {
    "duration": 4,
    "start_time": "2024-07-22T13:40:18.729Z"
   },
   {
    "duration": 11,
    "start_time": "2024-07-22T13:42:20.397Z"
   },
   {
    "duration": 4,
    "start_time": "2024-07-22T13:44:08.565Z"
   },
   {
    "duration": 7,
    "start_time": "2024-07-22T13:44:20.770Z"
   },
   {
    "duration": 85,
    "start_time": "2024-07-22T13:46:22.706Z"
   },
   {
    "duration": 11,
    "start_time": "2024-07-22T13:46:32.681Z"
   },
   {
    "duration": 11,
    "start_time": "2024-07-22T13:46:37.731Z"
   },
   {
    "duration": 8,
    "start_time": "2024-07-22T13:47:31.354Z"
   },
   {
    "duration": 10,
    "start_time": "2024-07-22T13:47:37.628Z"
   },
   {
    "duration": 7,
    "start_time": "2024-07-22T13:47:42.997Z"
   },
   {
    "duration": 7,
    "start_time": "2024-07-22T13:47:46.616Z"
   },
   {
    "duration": 46,
    "start_time": "2024-07-22T13:51:12.025Z"
   },
   {
    "duration": 1077,
    "start_time": "2024-07-22T13:54:42.445Z"
   },
   {
    "duration": 3,
    "start_time": "2024-07-22T13:55:20.735Z"
   },
   {
    "duration": 29,
    "start_time": "2024-07-22T13:56:10.002Z"
   },
   {
    "duration": 481,
    "start_time": "2024-07-22T13:56:16.433Z"
   },
   {
    "duration": 72,
    "start_time": "2024-07-22T13:57:00.374Z"
   },
   {
    "duration": 522,
    "start_time": "2024-07-22T13:57:25.703Z"
   },
   {
    "duration": 531,
    "start_time": "2024-07-22T13:57:35.847Z"
   },
   {
    "duration": 568,
    "start_time": "2024-07-22T13:59:25.594Z"
   },
   {
    "duration": 304,
    "start_time": "2024-07-22T14:00:10.943Z"
   },
   {
    "duration": 16,
    "start_time": "2024-07-22T14:07:45.050Z"
   },
   {
    "duration": 31,
    "start_time": "2024-07-22T14:08:45.856Z"
   },
   {
    "duration": 15,
    "start_time": "2024-07-22T14:08:58.074Z"
   },
   {
    "duration": 1114,
    "start_time": "2024-07-22T14:09:10.456Z"
   },
   {
    "duration": 327,
    "start_time": "2024-07-22T14:09:25.136Z"
   },
   {
    "duration": 59,
    "start_time": "2024-07-22T14:12:25.592Z"
   },
   {
    "duration": 139,
    "start_time": "2024-07-22T14:13:56.148Z"
   },
   {
    "duration": 134780,
    "start_time": "2024-07-22T14:14:29.720Z"
   },
   {
    "duration": 10,
    "start_time": "2024-07-22T14:17:06.371Z"
   },
   {
    "duration": 19,
    "start_time": "2024-07-22T14:17:11.992Z"
   },
   {
    "duration": 2535,
    "start_time": "2024-07-22T14:18:20.421Z"
   },
   {
    "duration": 1191,
    "start_time": "2024-07-22T14:18:25.157Z"
   },
   {
    "duration": 26,
    "start_time": "2024-07-22T14:18:48.933Z"
   },
   {
    "duration": 291,
    "start_time": "2024-07-22T14:18:54.877Z"
   },
   {
    "duration": 415,
    "start_time": "2024-07-22T14:19:01.080Z"
   },
   {
    "duration": 329,
    "start_time": "2024-07-22T14:19:16.645Z"
   },
   {
    "duration": 77,
    "start_time": "2024-07-22T14:20:44.976Z"
   },
   {
    "duration": 8,
    "start_time": "2024-07-22T14:20:49.972Z"
   },
   {
    "duration": 8,
    "start_time": "2024-07-22T14:21:34.492Z"
   },
   {
    "duration": 7,
    "start_time": "2024-07-22T14:21:43.405Z"
   },
   {
    "duration": 7,
    "start_time": "2024-07-22T14:21:54.936Z"
   },
   {
    "duration": 9,
    "start_time": "2024-07-22T14:22:07.470Z"
   },
   {
    "duration": 350,
    "start_time": "2024-07-22T14:25:29.050Z"
   },
   {
    "duration": 10,
    "start_time": "2024-07-22T14:25:47.338Z"
   },
   {
    "duration": 9,
    "start_time": "2024-07-22T14:25:54.605Z"
   },
   {
    "duration": 738,
    "start_time": "2024-07-22T14:26:05.705Z"
   },
   {
    "duration": 229,
    "start_time": "2024-07-22T14:26:06.445Z"
   },
   {
    "duration": 24,
    "start_time": "2024-07-22T14:26:06.676Z"
   },
   {
    "duration": 38,
    "start_time": "2024-07-22T14:26:06.705Z"
   },
   {
    "duration": 28,
    "start_time": "2024-07-22T14:26:06.745Z"
   },
   {
    "duration": 80,
    "start_time": "2024-07-22T14:26:06.775Z"
   },
   {
    "duration": 165,
    "start_time": "2024-07-22T14:26:06.857Z"
   },
   {
    "duration": 8,
    "start_time": "2024-07-22T14:26:07.024Z"
   },
   {
    "duration": 99,
    "start_time": "2024-07-22T14:26:07.034Z"
   },
   {
    "duration": 4,
    "start_time": "2024-07-22T14:26:07.135Z"
   },
   {
    "duration": 11,
    "start_time": "2024-07-22T14:26:07.140Z"
   },
   {
    "duration": 30,
    "start_time": "2024-07-22T14:26:07.152Z"
   },
   {
    "duration": 47,
    "start_time": "2024-07-22T14:26:07.184Z"
   },
   {
    "duration": 404,
    "start_time": "2024-07-22T14:26:07.233Z"
   },
   {
    "duration": 379,
    "start_time": "2024-07-22T14:26:07.638Z"
   },
   {
    "duration": 11,
    "start_time": "2024-07-22T14:26:08.018Z"
   },
   {
    "duration": 13,
    "start_time": "2024-07-22T14:28:20.114Z"
   },
   {
    "duration": 16,
    "start_time": "2024-07-22T14:28:27.896Z"
   },
   {
    "duration": 18,
    "start_time": "2024-07-22T14:28:43.784Z"
   },
   {
    "duration": 13,
    "start_time": "2024-07-22T14:29:20.746Z"
   },
   {
    "duration": 16,
    "start_time": "2024-07-22T14:30:17.492Z"
   },
   {
    "duration": 13,
    "start_time": "2024-07-22T14:30:24.101Z"
   },
   {
    "duration": 16,
    "start_time": "2024-07-22T14:30:46.677Z"
   },
   {
    "duration": 97,
    "start_time": "2024-07-22T14:31:43.816Z"
   },
   {
    "duration": 29,
    "start_time": "2024-07-22T14:32:15.602Z"
   },
   {
    "duration": 16,
    "start_time": "2024-07-22T14:32:43.499Z"
   },
   {
    "duration": 16,
    "start_time": "2024-07-22T14:32:54.057Z"
   },
   {
    "duration": 84,
    "start_time": "2024-07-22T14:37:03.549Z"
   },
   {
    "duration": 40,
    "start_time": "2024-07-22T14:37:21.599Z"
   },
   {
    "duration": 17,
    "start_time": "2024-07-22T14:39:48.380Z"
   },
   {
    "duration": 791,
    "start_time": "2024-07-22T16:30:17.508Z"
   },
   {
    "duration": 798,
    "start_time": "2024-07-22T16:30:18.301Z"
   },
   {
    "duration": 4,
    "start_time": "2024-07-22T16:30:19.101Z"
   },
   {
    "duration": 42,
    "start_time": "2024-07-22T16:30:19.108Z"
   },
   {
    "duration": 25,
    "start_time": "2024-07-22T16:30:19.152Z"
   },
   {
    "duration": 78,
    "start_time": "2024-07-22T16:30:19.179Z"
   },
   {
    "duration": 141,
    "start_time": "2024-07-22T16:30:19.259Z"
   },
   {
    "duration": 9,
    "start_time": "2024-07-22T16:30:19.402Z"
   },
   {
    "duration": 93,
    "start_time": "2024-07-22T16:30:19.413Z"
   },
   {
    "duration": 4,
    "start_time": "2024-07-22T16:30:19.509Z"
   },
   {
    "duration": 9,
    "start_time": "2024-07-22T16:30:19.515Z"
   },
   {
    "duration": 8,
    "start_time": "2024-07-22T16:30:19.526Z"
   },
   {
    "duration": 36,
    "start_time": "2024-07-22T16:30:19.565Z"
   },
   {
    "duration": 386,
    "start_time": "2024-07-22T16:30:19.603Z"
   },
   {
    "duration": 348,
    "start_time": "2024-07-22T16:30:19.991Z"
   },
   {
    "duration": 27,
    "start_time": "2024-07-22T16:30:20.341Z"
   },
   {
    "duration": 37,
    "start_time": "2024-07-22T16:30:20.370Z"
   },
   {
    "duration": 11,
    "start_time": "2024-07-22T16:30:20.408Z"
   },
   {
    "duration": 47,
    "start_time": "2024-07-22T16:30:20.421Z"
   },
   {
    "duration": 74,
    "start_time": "2024-07-22T16:37:15.458Z"
   },
   {
    "duration": 10,
    "start_time": "2024-07-22T16:39:18.918Z"
   },
   {
    "duration": 11,
    "start_time": "2024-07-22T16:39:34.836Z"
   },
   {
    "duration": 35,
    "start_time": "2024-07-22T16:40:49.822Z"
   },
   {
    "duration": 33,
    "start_time": "2024-07-22T16:41:12.455Z"
   },
   {
    "duration": 223,
    "start_time": "2024-07-22T16:42:59.750Z"
   },
   {
    "duration": 183,
    "start_time": "2024-07-22T16:43:11.536Z"
   },
   {
    "duration": 184,
    "start_time": "2024-07-22T16:43:17.670Z"
   },
   {
    "duration": 177,
    "start_time": "2024-07-22T16:44:15.165Z"
   },
   {
    "duration": 34,
    "start_time": "2024-07-22T16:44:48.348Z"
   },
   {
    "duration": 182,
    "start_time": "2024-07-22T16:44:57.316Z"
   },
   {
    "duration": 14,
    "start_time": "2024-07-22T16:47:54.013Z"
   },
   {
    "duration": 3,
    "start_time": "2024-07-22T16:47:57.856Z"
   },
   {
    "duration": 3,
    "start_time": "2024-07-22T16:48:00.840Z"
   },
   {
    "duration": 9,
    "start_time": "2024-07-22T16:48:02.546Z"
   },
   {
    "duration": 62,
    "start_time": "2024-07-22T16:48:27.940Z"
   },
   {
    "duration": 30,
    "start_time": "2024-07-22T16:48:36.326Z"
   },
   {
    "duration": 59,
    "start_time": "2024-07-22T16:48:49.134Z"
   },
   {
    "duration": 59,
    "start_time": "2024-07-22T16:49:07.161Z"
   },
   {
    "duration": 52,
    "start_time": "2024-07-22T16:49:18.553Z"
   },
   {
    "duration": 53,
    "start_time": "2024-07-22T16:49:44.027Z"
   },
   {
    "duration": 55,
    "start_time": "2024-07-22T16:49:47.787Z"
   },
   {
    "duration": 278,
    "start_time": "2024-07-22T16:51:03.138Z"
   },
   {
    "duration": 51,
    "start_time": "2024-07-22T16:51:23.202Z"
   },
   {
    "duration": 56,
    "start_time": "2024-07-22T16:51:53.599Z"
   },
   {
    "duration": 69,
    "start_time": "2024-07-22T16:51:57.434Z"
   },
   {
    "duration": 61,
    "start_time": "2024-07-22T16:53:48.516Z"
   },
   {
    "duration": 57,
    "start_time": "2024-07-22T16:53:54.684Z"
   },
   {
    "duration": 58,
    "start_time": "2024-07-22T16:54:10.611Z"
   },
   {
    "duration": 63,
    "start_time": "2024-07-22T16:54:52.066Z"
   },
   {
    "duration": 54,
    "start_time": "2024-07-22T16:54:59.779Z"
   },
   {
    "duration": 58,
    "start_time": "2024-07-22T16:55:04.688Z"
   },
   {
    "duration": 71,
    "start_time": "2024-07-22T16:55:50.928Z"
   },
   {
    "duration": 74,
    "start_time": "2024-07-22T16:55:56.786Z"
   },
   {
    "duration": 58,
    "start_time": "2024-07-22T16:56:03.973Z"
   },
   {
    "duration": 65,
    "start_time": "2024-07-22T16:56:10.312Z"
   },
   {
    "duration": 63,
    "start_time": "2024-07-22T16:56:29.250Z"
   },
   {
    "duration": 65,
    "start_time": "2024-07-22T16:57:00.405Z"
   },
   {
    "duration": 64,
    "start_time": "2024-07-22T16:57:05.720Z"
   },
   {
    "duration": 512,
    "start_time": "2024-07-22T16:57:24.989Z"
   },
   {
    "duration": 65,
    "start_time": "2024-07-22T16:57:55.226Z"
   },
   {
    "duration": 61,
    "start_time": "2024-07-22T16:59:28.103Z"
   },
   {
    "duration": 76,
    "start_time": "2024-07-22T16:59:31.368Z"
   },
   {
    "duration": 53,
    "start_time": "2024-07-22T16:59:39.284Z"
   },
   {
    "duration": 65,
    "start_time": "2024-07-22T17:00:24.855Z"
   },
   {
    "duration": 54,
    "start_time": "2024-07-22T17:01:17.385Z"
   },
   {
    "duration": 67,
    "start_time": "2024-07-22T17:01:22.716Z"
   },
   {
    "duration": 59,
    "start_time": "2024-07-22T17:01:55.512Z"
   },
   {
    "duration": 61,
    "start_time": "2024-07-22T17:03:10.149Z"
   },
   {
    "duration": 64,
    "start_time": "2024-07-22T17:04:00.791Z"
   },
   {
    "duration": 1330,
    "start_time": "2024-07-22T17:15:02.550Z"
   },
   {
    "duration": 998,
    "start_time": "2024-07-22T17:15:17.181Z"
   },
   {
    "duration": 9,
    "start_time": "2024-07-22T17:15:55.691Z"
   },
   {
    "duration": 11,
    "start_time": "2024-07-22T17:20:39.421Z"
   },
   {
    "duration": 13,
    "start_time": "2024-07-22T17:21:26.628Z"
   },
   {
    "duration": 13,
    "start_time": "2024-07-22T17:21:32.078Z"
   },
   {
    "duration": 67,
    "start_time": "2024-07-22T17:23:26.104Z"
   },
   {
    "duration": 1205,
    "start_time": "2024-07-22T17:23:43.505Z"
   },
   {
    "duration": 203,
    "start_time": "2024-07-22T17:23:44.713Z"
   },
   {
    "duration": 5,
    "start_time": "2024-07-22T17:23:44.917Z"
   },
   {
    "duration": 24,
    "start_time": "2024-07-22T17:23:44.924Z"
   },
   {
    "duration": 36,
    "start_time": "2024-07-22T17:23:44.950Z"
   },
   {
    "duration": 83,
    "start_time": "2024-07-22T17:23:44.988Z"
   },
   {
    "duration": 143,
    "start_time": "2024-07-22T17:23:45.072Z"
   },
   {
    "duration": 11,
    "start_time": "2024-07-22T17:23:45.217Z"
   },
   {
    "duration": 95,
    "start_time": "2024-07-22T17:23:45.230Z"
   },
   {
    "duration": 73,
    "start_time": "2024-07-22T17:23:45.328Z"
   },
   {
    "duration": 15,
    "start_time": "2024-07-22T17:23:45.402Z"
   },
   {
    "duration": 7,
    "start_time": "2024-07-22T17:23:45.419Z"
   },
   {
    "duration": 49,
    "start_time": "2024-07-22T17:23:45.428Z"
   },
   {
    "duration": 369,
    "start_time": "2024-07-22T17:23:45.478Z"
   },
   {
    "duration": 353,
    "start_time": "2024-07-22T17:23:45.849Z"
   },
   {
    "duration": 18,
    "start_time": "2024-07-22T17:23:46.204Z"
   },
   {
    "duration": 54,
    "start_time": "2024-07-22T17:23:46.223Z"
   },
   {
    "duration": 11,
    "start_time": "2024-07-22T17:23:46.279Z"
   },
   {
    "duration": 27,
    "start_time": "2024-07-22T17:23:46.291Z"
   },
   {
    "duration": 220,
    "start_time": "2024-07-22T17:23:46.320Z"
   },
   {
    "duration": 75,
    "start_time": "2024-07-22T17:23:46.542Z"
   },
   {
    "duration": 9,
    "start_time": "2024-07-22T17:23:46.619Z"
   },
   {
    "duration": 25,
    "start_time": "2024-07-22T17:23:46.630Z"
   },
   {
    "duration": 158,
    "start_time": "2024-07-22T17:24:07.255Z"
   },
   {
    "duration": 63,
    "start_time": "2024-07-22T17:24:45.889Z"
   },
   {
    "duration": 60,
    "start_time": "2024-07-22T17:24:50.448Z"
   },
   {
    "duration": 57,
    "start_time": "2024-07-22T17:24:58.502Z"
   },
   {
    "duration": 66,
    "start_time": "2024-07-22T17:25:04.297Z"
   },
   {
    "duration": 65,
    "start_time": "2024-07-22T17:25:16.335Z"
   },
   {
    "duration": 64,
    "start_time": "2024-07-22T17:25:22.730Z"
   },
   {
    "duration": 1234,
    "start_time": "2024-07-22T17:25:30.465Z"
   },
   {
    "duration": 200,
    "start_time": "2024-07-22T17:25:31.700Z"
   },
   {
    "duration": 5,
    "start_time": "2024-07-22T17:25:31.902Z"
   },
   {
    "duration": 35,
    "start_time": "2024-07-22T17:25:31.909Z"
   },
   {
    "duration": 58,
    "start_time": "2024-07-22T17:25:31.946Z"
   },
   {
    "duration": 67,
    "start_time": "2024-07-22T17:25:32.005Z"
   },
   {
    "duration": 141,
    "start_time": "2024-07-22T17:25:32.073Z"
   },
   {
    "duration": 11,
    "start_time": "2024-07-22T17:25:32.216Z"
   },
   {
    "duration": 100,
    "start_time": "2024-07-22T17:25:32.229Z"
   },
   {
    "duration": 5,
    "start_time": "2024-07-22T17:25:32.333Z"
   },
   {
    "duration": 44,
    "start_time": "2024-07-22T17:25:32.340Z"
   },
   {
    "duration": 18,
    "start_time": "2024-07-22T17:25:32.386Z"
   },
   {
    "duration": 38,
    "start_time": "2024-07-22T17:25:32.406Z"
   },
   {
    "duration": 407,
    "start_time": "2024-07-22T17:25:32.447Z"
   },
   {
    "duration": 344,
    "start_time": "2024-07-22T17:25:32.856Z"
   },
   {
    "duration": 16,
    "start_time": "2024-07-22T17:25:33.202Z"
   },
   {
    "duration": 49,
    "start_time": "2024-07-22T17:25:33.220Z"
   },
   {
    "duration": 11,
    "start_time": "2024-07-22T17:25:33.271Z"
   },
   {
    "duration": 27,
    "start_time": "2024-07-22T17:25:33.283Z"
   },
   {
    "duration": 209,
    "start_time": "2024-07-22T17:25:33.312Z"
   },
   {
    "duration": 71,
    "start_time": "2024-07-22T17:25:33.522Z"
   },
   {
    "duration": 8,
    "start_time": "2024-07-22T17:25:33.595Z"
   },
   {
    "duration": 13,
    "start_time": "2024-07-22T17:25:33.605Z"
   },
   {
    "duration": 11,
    "start_time": "2024-07-22T17:26:16.874Z"
   },
   {
    "duration": 10,
    "start_time": "2024-07-22T17:26:21.065Z"
   },
   {
    "duration": 11,
    "start_time": "2024-07-22T17:26:39.018Z"
   },
   {
    "duration": 10,
    "start_time": "2024-07-22T17:31:06.853Z"
   },
   {
    "duration": 10,
    "start_time": "2024-07-22T17:31:16.955Z"
   },
   {
    "duration": 12,
    "start_time": "2024-07-22T17:31:43.071Z"
   },
   {
    "duration": 90,
    "start_time": "2024-07-22T17:36:54.390Z"
   },
   {
    "duration": 72,
    "start_time": "2024-07-22T17:37:06.942Z"
   },
   {
    "duration": 8,
    "start_time": "2024-07-22T17:37:18.057Z"
   },
   {
    "duration": 7,
    "start_time": "2024-07-22T17:37:53.568Z"
   },
   {
    "duration": 4,
    "start_time": "2024-07-22T17:38:11.435Z"
   },
   {
    "duration": 9,
    "start_time": "2024-07-22T17:38:16.527Z"
   },
   {
    "duration": 8,
    "start_time": "2024-07-22T17:38:37.126Z"
   },
   {
    "duration": 9,
    "start_time": "2024-07-22T17:43:56.482Z"
   },
   {
    "duration": 7,
    "start_time": "2024-07-22T17:44:08.192Z"
   },
   {
    "duration": 102,
    "start_time": "2024-07-22T17:44:20.411Z"
   },
   {
    "duration": 6,
    "start_time": "2024-07-22T17:44:28.408Z"
   },
   {
    "duration": 6,
    "start_time": "2024-07-22T17:45:09.653Z"
   },
   {
    "duration": 6,
    "start_time": "2024-07-22T17:45:12.191Z"
   },
   {
    "duration": 9,
    "start_time": "2024-07-22T17:45:32.074Z"
   },
   {
    "duration": 6,
    "start_time": "2024-07-22T17:45:50.087Z"
   },
   {
    "duration": 7,
    "start_time": "2024-07-22T17:46:11.136Z"
   },
   {
    "duration": 56,
    "start_time": "2024-07-22T17:55:45.446Z"
   },
   {
    "duration": 7,
    "start_time": "2024-07-22T17:55:53.309Z"
   },
   {
    "duration": 9,
    "start_time": "2024-07-22T17:55:57.805Z"
   },
   {
    "duration": 8,
    "start_time": "2024-07-22T17:56:06.404Z"
   },
   {
    "duration": 66,
    "start_time": "2024-07-22T17:56:32.594Z"
   },
   {
    "duration": 7,
    "start_time": "2024-07-22T17:56:37.874Z"
   },
   {
    "duration": 7,
    "start_time": "2024-07-22T17:57:52.772Z"
   },
   {
    "duration": 8,
    "start_time": "2024-07-22T17:58:06.324Z"
   },
   {
    "duration": 10,
    "start_time": "2024-07-22T18:00:30.714Z"
   },
   {
    "duration": 3,
    "start_time": "2024-07-22T18:12:28.123Z"
   },
   {
    "duration": 630,
    "start_time": "2024-07-22T18:12:34.722Z"
   },
   {
    "duration": 207,
    "start_time": "2024-07-22T18:12:35.354Z"
   },
   {
    "duration": 4,
    "start_time": "2024-07-22T18:12:35.563Z"
   },
   {
    "duration": 86,
    "start_time": "2024-07-22T18:12:35.569Z"
   },
   {
    "duration": 24,
    "start_time": "2024-07-22T18:12:35.657Z"
   },
   {
    "duration": 73,
    "start_time": "2024-07-22T18:12:35.683Z"
   },
   {
    "duration": 152,
    "start_time": "2024-07-22T18:12:35.757Z"
   },
   {
    "duration": 9,
    "start_time": "2024-07-22T18:12:35.911Z"
   },
   {
    "duration": 97,
    "start_time": "2024-07-22T18:12:35.922Z"
   },
   {
    "duration": 4,
    "start_time": "2024-07-22T18:12:36.022Z"
   },
   {
    "duration": 17,
    "start_time": "2024-07-22T18:12:36.027Z"
   },
   {
    "duration": 72,
    "start_time": "2024-07-22T18:12:36.046Z"
   },
   {
    "duration": 52,
    "start_time": "2024-07-22T18:12:36.120Z"
   },
   {
    "duration": 375,
    "start_time": "2024-07-22T18:12:36.175Z"
   },
   {
    "duration": 353,
    "start_time": "2024-07-22T18:12:36.552Z"
   },
   {
    "duration": 15,
    "start_time": "2024-07-22T18:12:36.907Z"
   },
   {
    "duration": 49,
    "start_time": "2024-07-22T18:12:36.924Z"
   },
   {
    "duration": 10,
    "start_time": "2024-07-22T18:12:36.975Z"
   },
   {
    "duration": 27,
    "start_time": "2024-07-22T18:12:36.986Z"
   },
   {
    "duration": 252,
    "start_time": "2024-07-22T18:12:37.014Z"
   },
   {
    "duration": 66,
    "start_time": "2024-07-22T18:12:37.268Z"
   },
   {
    "duration": 8,
    "start_time": "2024-07-22T18:12:37.335Z"
   },
   {
    "duration": 25,
    "start_time": "2024-07-22T18:12:37.345Z"
   },
   {
    "duration": 9,
    "start_time": "2024-07-22T18:12:37.372Z"
   },
   {
    "duration": 765,
    "start_time": "2024-07-24T06:56:03.258Z"
   },
   {
    "duration": 748,
    "start_time": "2024-07-24T06:56:04.024Z"
   },
   {
    "duration": 3,
    "start_time": "2024-07-24T06:56:04.774Z"
   },
   {
    "duration": 20,
    "start_time": "2024-07-24T06:56:04.779Z"
   },
   {
    "duration": 21,
    "start_time": "2024-07-24T06:56:04.800Z"
   },
   {
    "duration": 72,
    "start_time": "2024-07-24T06:56:04.823Z"
   },
   {
    "duration": 144,
    "start_time": "2024-07-24T06:56:04.896Z"
   },
   {
    "duration": 7,
    "start_time": "2024-07-24T06:56:05.042Z"
   },
   {
    "duration": 171,
    "start_time": "2024-07-24T06:56:05.051Z"
   },
   {
    "duration": 3,
    "start_time": "2024-07-24T06:56:05.225Z"
   },
   {
    "duration": 9,
    "start_time": "2024-07-24T06:56:05.230Z"
   },
   {
    "duration": 13,
    "start_time": "2024-07-24T06:56:05.240Z"
   },
   {
    "duration": 47,
    "start_time": "2024-07-24T06:56:05.255Z"
   },
   {
    "duration": 351,
    "start_time": "2024-07-24T06:56:05.304Z"
   },
   {
    "duration": 318,
    "start_time": "2024-07-24T06:56:05.657Z"
   },
   {
    "duration": 14,
    "start_time": "2024-07-24T06:56:05.977Z"
   },
   {
    "duration": 53,
    "start_time": "2024-07-24T06:56:05.993Z"
   },
   {
    "duration": 10,
    "start_time": "2024-07-24T06:56:06.047Z"
   },
   {
    "duration": 35,
    "start_time": "2024-07-24T06:56:06.058Z"
   },
   {
    "duration": 260,
    "start_time": "2024-07-24T06:56:06.094Z"
   },
   {
    "duration": 63,
    "start_time": "2024-07-24T06:56:06.355Z"
   },
   {
    "duration": 19,
    "start_time": "2024-07-24T06:56:06.420Z"
   },
   {
    "duration": 11,
    "start_time": "2024-07-24T06:56:06.440Z"
   },
   {
    "duration": 19,
    "start_time": "2024-07-24T06:56:06.452Z"
   },
   {
    "duration": 33,
    "start_time": "2024-07-24T07:03:05.979Z"
   },
   {
    "duration": 13,
    "start_time": "2024-07-24T07:09:21.259Z"
   },
   {
    "duration": 38,
    "start_time": "2024-07-24T07:21:25.202Z"
   },
   {
    "duration": 103,
    "start_time": "2024-07-24T07:22:02.965Z"
   },
   {
    "duration": 38,
    "start_time": "2024-07-24T07:22:14.583Z"
   },
   {
    "duration": 41,
    "start_time": "2024-07-24T07:22:56.016Z"
   },
   {
    "duration": 47,
    "start_time": "2024-07-24T07:23:00.759Z"
   },
   {
    "duration": 36,
    "start_time": "2024-07-24T07:23:49.958Z"
   },
   {
    "duration": 9,
    "start_time": "2024-07-24T07:27:30.885Z"
   },
   {
    "duration": 86,
    "start_time": "2024-07-24T07:29:38.085Z"
   },
   {
    "duration": 82,
    "start_time": "2024-07-24T07:29:44.584Z"
   },
   {
    "duration": 89,
    "start_time": "2024-07-24T07:30:11.970Z"
   },
   {
    "duration": 10,
    "start_time": "2024-07-24T07:31:43.447Z"
   },
   {
    "duration": 8,
    "start_time": "2024-07-24T07:31:49.945Z"
   },
   {
    "duration": 945,
    "start_time": "2024-07-24T07:32:32.430Z"
   },
   {
    "duration": 37,
    "start_time": "2024-07-24T07:33:04.582Z"
   },
   {
    "duration": 106,
    "start_time": "2024-07-24T07:33:32.035Z"
   },
   {
    "duration": 97,
    "start_time": "2024-07-24T07:33:49.266Z"
   },
   {
    "duration": 103,
    "start_time": "2024-07-24T07:35:50.005Z"
   },
   {
    "duration": 113,
    "start_time": "2024-07-24T07:36:07.897Z"
   },
   {
    "duration": 97,
    "start_time": "2024-07-24T07:36:20.928Z"
   },
   {
    "duration": 108,
    "start_time": "2024-07-24T07:36:33.935Z"
   },
   {
    "duration": 98,
    "start_time": "2024-07-24T07:36:40.413Z"
   },
   {
    "duration": 104,
    "start_time": "2024-07-24T07:37:17.658Z"
   },
   {
    "duration": 98,
    "start_time": "2024-07-24T07:41:39.256Z"
   },
   {
    "duration": 103,
    "start_time": "2024-07-24T07:41:45.961Z"
   },
   {
    "duration": 41,
    "start_time": "2024-07-24T08:05:15.131Z"
   },
   {
    "duration": 934,
    "start_time": "2024-07-24T08:06:47.719Z"
   },
   {
    "duration": 928,
    "start_time": "2024-07-24T08:07:13.804Z"
   },
   {
    "duration": 31,
    "start_time": "2024-07-24T08:07:23.707Z"
   },
   {
    "duration": 124,
    "start_time": "2024-07-24T08:07:44.565Z"
   },
   {
    "duration": 30,
    "start_time": "2024-07-24T08:08:09.084Z"
   },
   {
    "duration": 690,
    "start_time": "2024-07-24T08:08:16.258Z"
   },
   {
    "duration": 29,
    "start_time": "2024-07-24T08:08:22.900Z"
   },
   {
    "duration": 8,
    "start_time": "2024-07-24T08:10:49.578Z"
   },
   {
    "duration": 943,
    "start_time": "2024-07-24T08:12:02.624Z"
   },
   {
    "duration": 10,
    "start_time": "2024-07-24T08:12:20.392Z"
   },
   {
    "duration": 62,
    "start_time": "2024-07-24T08:12:37.117Z"
   },
   {
    "duration": 9,
    "start_time": "2024-07-24T08:12:48.181Z"
   },
   {
    "duration": 15,
    "start_time": "2024-07-24T08:13:42.286Z"
   },
   {
    "duration": 107,
    "start_time": "2024-07-24T08:15:47.074Z"
   },
   {
    "duration": 16,
    "start_time": "2024-07-24T08:15:55.726Z"
   },
   {
    "duration": 631,
    "start_time": "2024-07-24T08:16:13.388Z"
   },
   {
    "duration": 185,
    "start_time": "2024-07-24T08:16:14.021Z"
   },
   {
    "duration": 5,
    "start_time": "2024-07-24T08:16:14.207Z"
   },
   {
    "duration": 37,
    "start_time": "2024-07-24T08:16:14.213Z"
   },
   {
    "duration": 21,
    "start_time": "2024-07-24T08:16:14.252Z"
   },
   {
    "duration": 78,
    "start_time": "2024-07-24T08:16:14.275Z"
   },
   {
    "duration": 142,
    "start_time": "2024-07-24T08:16:14.354Z"
   },
   {
    "duration": 8,
    "start_time": "2024-07-24T08:16:14.498Z"
   },
   {
    "duration": 84,
    "start_time": "2024-07-24T08:16:14.507Z"
   },
   {
    "duration": 3,
    "start_time": "2024-07-24T08:16:14.593Z"
   },
   {
    "duration": 13,
    "start_time": "2024-07-24T08:16:14.597Z"
   },
   {
    "duration": 6,
    "start_time": "2024-07-24T08:16:14.612Z"
   },
   {
    "duration": 34,
    "start_time": "2024-07-24T08:16:14.638Z"
   },
   {
    "duration": 370,
    "start_time": "2024-07-24T08:16:14.675Z"
   },
   {
    "duration": 344,
    "start_time": "2024-07-24T08:16:15.047Z"
   },
   {
    "duration": 17,
    "start_time": "2024-07-24T08:16:15.393Z"
   },
   {
    "duration": 165,
    "start_time": "2024-07-24T08:16:15.411Z"
   },
   {
    "duration": 11,
    "start_time": "2024-07-24T08:16:15.577Z"
   },
   {
    "duration": 61,
    "start_time": "2024-07-24T08:16:15.589Z"
   },
   {
    "duration": 232,
    "start_time": "2024-07-24T08:16:15.651Z"
   },
   {
    "duration": 61,
    "start_time": "2024-07-24T08:16:15.884Z"
   },
   {
    "duration": 8,
    "start_time": "2024-07-24T08:16:15.946Z"
   },
   {
    "duration": 10,
    "start_time": "2024-07-24T08:16:15.956Z"
   },
   {
    "duration": 15,
    "start_time": "2024-07-24T08:16:15.968Z"
   },
   {
    "duration": 34,
    "start_time": "2024-07-24T08:16:15.984Z"
   },
   {
    "duration": 52,
    "start_time": "2024-07-24T08:16:16.019Z"
   },
   {
    "duration": 112,
    "start_time": "2024-07-24T08:16:16.072Z"
   },
   {
    "duration": 1003,
    "start_time": "2024-07-24T08:16:16.186Z"
   },
   {
    "duration": 0,
    "start_time": "2024-07-24T08:16:17.191Z"
   },
   {
    "duration": 34,
    "start_time": "2024-07-24T08:16:37.148Z"
   },
   {
    "duration": 16,
    "start_time": "2024-07-24T08:16:47.526Z"
   },
   {
    "duration": 9,
    "start_time": "2024-07-24T08:17:00.252Z"
   },
   {
    "duration": 13,
    "start_time": "2024-07-24T08:17:13.722Z"
   },
   {
    "duration": 106,
    "start_time": "2024-07-24T08:24:08.285Z"
   },
   {
    "duration": 102,
    "start_time": "2024-07-24T08:24:18.951Z"
   },
   {
    "duration": 9,
    "start_time": "2024-07-24T09:02:23.099Z"
   },
   {
    "duration": 63,
    "start_time": "2024-07-24T09:02:28.282Z"
   },
   {
    "duration": 7,
    "start_time": "2024-07-24T09:02:50.830Z"
   },
   {
    "duration": 11,
    "start_time": "2024-07-24T09:02:54.452Z"
   },
   {
    "duration": 539,
    "start_time": "2024-07-24T09:03:16.313Z"
   },
   {
    "duration": 6,
    "start_time": "2024-07-24T09:03:25.622Z"
   },
   {
    "duration": 35,
    "start_time": "2024-07-24T09:03:27.425Z"
   },
   {
    "duration": 6,
    "start_time": "2024-07-24T09:03:37.965Z"
   },
   {
    "duration": 9,
    "start_time": "2024-07-24T09:03:39.405Z"
   },
   {
    "duration": 5,
    "start_time": "2024-07-24T09:04:16.588Z"
   },
   {
    "duration": 13,
    "start_time": "2024-07-24T09:04:18.447Z"
   },
   {
    "duration": 11,
    "start_time": "2024-07-24T09:09:03.127Z"
   },
   {
    "duration": 11,
    "start_time": "2024-07-24T09:11:31.315Z"
   },
   {
    "duration": 10,
    "start_time": "2024-07-24T09:19:48.673Z"
   },
   {
    "duration": 11,
    "start_time": "2024-07-24T09:23:20.719Z"
   },
   {
    "duration": 1077,
    "start_time": "2024-07-24T10:21:58.004Z"
   },
   {
    "duration": 184,
    "start_time": "2024-07-24T10:21:59.083Z"
   },
   {
    "duration": 4,
    "start_time": "2024-07-24T10:21:59.269Z"
   },
   {
    "duration": 33,
    "start_time": "2024-07-24T10:21:59.275Z"
   },
   {
    "duration": 27,
    "start_time": "2024-07-24T10:21:59.310Z"
   },
   {
    "duration": 59,
    "start_time": "2024-07-24T10:21:59.339Z"
   },
   {
    "duration": 137,
    "start_time": "2024-07-24T10:21:59.400Z"
   },
   {
    "duration": 11,
    "start_time": "2024-07-24T10:21:59.539Z"
   },
   {
    "duration": 152,
    "start_time": "2024-07-24T10:21:59.552Z"
   },
   {
    "duration": 4,
    "start_time": "2024-07-24T10:21:59.706Z"
   },
   {
    "duration": 9,
    "start_time": "2024-07-24T10:21:59.712Z"
   },
   {
    "duration": 19,
    "start_time": "2024-07-24T10:21:59.722Z"
   },
   {
    "duration": 40,
    "start_time": "2024-07-24T10:21:59.742Z"
   },
   {
    "duration": 381,
    "start_time": "2024-07-24T10:21:59.783Z"
   },
   {
    "duration": 331,
    "start_time": "2024-07-24T10:22:00.165Z"
   },
   {
    "duration": 15,
    "start_time": "2024-07-24T10:22:00.498Z"
   },
   {
    "duration": 105,
    "start_time": "2024-07-24T10:22:00.515Z"
   },
   {
    "duration": 24,
    "start_time": "2024-07-24T10:22:00.622Z"
   },
   {
    "duration": 48,
    "start_time": "2024-07-24T10:22:00.647Z"
   },
   {
    "duration": 185,
    "start_time": "2024-07-24T10:22:00.697Z"
   },
   {
    "duration": 69,
    "start_time": "2024-07-24T10:22:00.884Z"
   },
   {
    "duration": 8,
    "start_time": "2024-07-24T10:22:00.954Z"
   },
   {
    "duration": 56,
    "start_time": "2024-07-24T10:22:00.963Z"
   },
   {
    "duration": 35,
    "start_time": "2024-07-24T10:22:01.020Z"
   },
   {
    "duration": 52,
    "start_time": "2024-07-24T10:22:01.056Z"
   },
   {
    "duration": 51,
    "start_time": "2024-07-24T10:22:01.109Z"
   },
   {
    "duration": 117,
    "start_time": "2024-07-24T10:22:01.162Z"
   },
   {
    "duration": 15,
    "start_time": "2024-07-24T10:22:01.282Z"
   },
   {
    "duration": 48,
    "start_time": "2024-07-24T10:22:01.299Z"
   },
   {
    "duration": 36,
    "start_time": "2024-07-24T10:22:01.348Z"
   },
   {
    "duration": 37,
    "start_time": "2024-07-24T10:22:01.386Z"
   },
   {
    "duration": 36,
    "start_time": "2024-07-24T10:22:01.425Z"
   },
   {
    "duration": 42,
    "start_time": "2024-07-24T10:22:01.463Z"
   },
   {
    "duration": 1078,
    "start_time": "2024-07-24T10:57:43.115Z"
   },
   {
    "duration": 193,
    "start_time": "2024-07-24T10:57:44.195Z"
   },
   {
    "duration": 4,
    "start_time": "2024-07-24T10:57:44.390Z"
   },
   {
    "duration": 47,
    "start_time": "2024-07-24T10:57:44.396Z"
   },
   {
    "duration": 41,
    "start_time": "2024-07-24T10:57:44.444Z"
   },
   {
    "duration": 111,
    "start_time": "2024-07-24T10:57:44.487Z"
   },
   {
    "duration": 122,
    "start_time": "2024-07-24T10:57:44.600Z"
   },
   {
    "duration": 18,
    "start_time": "2024-07-24T10:57:44.723Z"
   },
   {
    "duration": 98,
    "start_time": "2024-07-24T10:57:44.742Z"
   },
   {
    "duration": 4,
    "start_time": "2024-07-24T10:57:44.843Z"
   },
   {
    "duration": 24,
    "start_time": "2024-07-24T10:57:44.848Z"
   },
   {
    "duration": 16,
    "start_time": "2024-07-24T10:57:44.873Z"
   },
   {
    "duration": 37,
    "start_time": "2024-07-24T10:57:44.890Z"
   },
   {
    "duration": 369,
    "start_time": "2024-07-24T10:57:44.929Z"
   },
   {
    "duration": 352,
    "start_time": "2024-07-24T10:57:45.300Z"
   },
   {
    "duration": 15,
    "start_time": "2024-07-24T10:57:45.654Z"
   },
   {
    "duration": 33,
    "start_time": "2024-07-24T10:57:45.671Z"
   },
   {
    "duration": 35,
    "start_time": "2024-07-24T10:57:45.706Z"
   },
   {
    "duration": 29,
    "start_time": "2024-07-24T10:57:45.742Z"
   },
   {
    "duration": 167,
    "start_time": "2024-07-24T10:57:45.772Z"
   },
   {
    "duration": 59,
    "start_time": "2024-07-24T10:57:45.940Z"
   },
   {
    "duration": 70,
    "start_time": "2024-07-24T10:57:46.001Z"
   },
   {
    "duration": 12,
    "start_time": "2024-07-24T10:57:46.073Z"
   },
   {
    "duration": 7,
    "start_time": "2024-07-24T10:57:46.087Z"
   },
   {
    "duration": 30,
    "start_time": "2024-07-24T10:57:46.096Z"
   },
   {
    "duration": 34,
    "start_time": "2024-07-24T10:57:46.127Z"
   },
   {
    "duration": 102,
    "start_time": "2024-07-24T10:57:46.162Z"
   },
   {
    "duration": 14,
    "start_time": "2024-07-24T10:57:46.267Z"
   },
   {
    "duration": 14,
    "start_time": "2024-07-24T10:57:46.283Z"
   },
   {
    "duration": 13,
    "start_time": "2024-07-24T10:57:46.298Z"
   },
   {
    "duration": 31,
    "start_time": "2024-07-24T10:57:46.313Z"
   },
   {
    "duration": 10,
    "start_time": "2024-07-24T10:57:46.345Z"
   },
   {
    "duration": 9,
    "start_time": "2024-07-24T10:57:46.357Z"
   },
   {
    "duration": 1196,
    "start_time": "2024-07-24T21:05:38.015Z"
   },
   {
    "duration": 920,
    "start_time": "2024-07-24T21:05:39.213Z"
   },
   {
    "duration": 4,
    "start_time": "2024-07-24T21:05:40.135Z"
   },
   {
    "duration": 19,
    "start_time": "2024-07-24T21:05:40.141Z"
   },
   {
    "duration": 22,
    "start_time": "2024-07-24T21:05:40.162Z"
   },
   {
    "duration": 68,
    "start_time": "2024-07-24T21:05:40.186Z"
   },
   {
    "duration": 132,
    "start_time": "2024-07-24T21:05:40.256Z"
   },
   {
    "duration": 14,
    "start_time": "2024-07-24T21:05:40.389Z"
   },
   {
    "duration": 74,
    "start_time": "2024-07-24T21:05:40.405Z"
   },
   {
    "duration": 6,
    "start_time": "2024-07-24T21:05:40.495Z"
   },
   {
    "duration": 30,
    "start_time": "2024-07-24T21:05:40.502Z"
   },
   {
    "duration": 5,
    "start_time": "2024-07-24T21:05:40.534Z"
   },
   {
    "duration": 33,
    "start_time": "2024-07-24T21:05:40.541Z"
   },
   {
    "duration": 330,
    "start_time": "2024-07-24T21:05:40.575Z"
   },
   {
    "duration": 292,
    "start_time": "2024-07-24T21:05:40.907Z"
   },
   {
    "duration": 16,
    "start_time": "2024-07-24T21:05:41.201Z"
   },
   {
    "duration": 34,
    "start_time": "2024-07-24T21:05:41.218Z"
   },
   {
    "duration": 9,
    "start_time": "2024-07-24T21:05:41.253Z"
   },
   {
    "duration": 51,
    "start_time": "2024-07-24T21:05:41.264Z"
   },
   {
    "duration": 166,
    "start_time": "2024-07-24T21:05:41.317Z"
   },
   {
    "duration": 63,
    "start_time": "2024-07-24T21:05:41.484Z"
   },
   {
    "duration": 24,
    "start_time": "2024-07-24T21:05:41.548Z"
   },
   {
    "duration": 25,
    "start_time": "2024-07-24T21:05:41.573Z"
   },
   {
    "duration": 8,
    "start_time": "2024-07-24T21:05:41.600Z"
   },
   {
    "duration": 88,
    "start_time": "2024-07-24T21:05:41.610Z"
   },
   {
    "duration": 34,
    "start_time": "2024-07-24T21:05:41.700Z"
   },
   {
    "duration": 110,
    "start_time": "2024-07-24T21:05:41.736Z"
   },
   {
    "duration": 13,
    "start_time": "2024-07-24T21:05:41.850Z"
   },
   {
    "duration": 6,
    "start_time": "2024-07-24T21:05:41.865Z"
   },
   {
    "duration": 30,
    "start_time": "2024-07-24T21:05:41.872Z"
   },
   {
    "duration": 11,
    "start_time": "2024-07-24T21:05:41.903Z"
   },
   {
    "duration": 9,
    "start_time": "2024-07-24T21:05:41.915Z"
   },
   {
    "duration": 7,
    "start_time": "2024-07-24T21:05:41.925Z"
   },
   {
    "duration": 49,
    "start_time": "2024-07-25T03:10:34.415Z"
   },
   {
    "duration": 1287,
    "start_time": "2024-07-25T03:11:11.014Z"
   },
   {
    "duration": 1029,
    "start_time": "2024-07-25T03:11:12.303Z"
   },
   {
    "duration": 4,
    "start_time": "2024-07-25T03:11:13.334Z"
   },
   {
    "duration": 43,
    "start_time": "2024-07-25T03:11:13.340Z"
   },
   {
    "duration": 24,
    "start_time": "2024-07-25T03:11:13.384Z"
   },
   {
    "duration": 70,
    "start_time": "2024-07-25T03:11:13.409Z"
   },
   {
    "duration": 135,
    "start_time": "2024-07-25T03:11:13.480Z"
   },
   {
    "duration": 7,
    "start_time": "2024-07-25T03:11:13.617Z"
   },
   {
    "duration": 99,
    "start_time": "2024-07-25T03:11:13.626Z"
   },
   {
    "duration": 4,
    "start_time": "2024-07-25T03:11:13.727Z"
   },
   {
    "duration": 37,
    "start_time": "2024-07-25T03:11:13.732Z"
   },
   {
    "duration": 19,
    "start_time": "2024-07-25T03:11:13.770Z"
   },
   {
    "duration": 14,
    "start_time": "2024-07-25T03:11:28.593Z"
   },
   {
    "duration": 1682,
    "start_time": "2024-07-25T03:37:13.482Z"
   },
   {
    "duration": 203,
    "start_time": "2024-07-25T03:37:15.166Z"
   },
   {
    "duration": 4,
    "start_time": "2024-07-25T03:37:15.370Z"
   },
   {
    "duration": 41,
    "start_time": "2024-07-25T03:37:15.376Z"
   },
   {
    "duration": 22,
    "start_time": "2024-07-25T03:37:15.418Z"
   },
   {
    "duration": 85,
    "start_time": "2024-07-25T03:37:15.442Z"
   },
   {
    "duration": 144,
    "start_time": "2024-07-25T03:37:15.529Z"
   },
   {
    "duration": 11,
    "start_time": "2024-07-25T03:37:15.674Z"
   },
   {
    "duration": 101,
    "start_time": "2024-07-25T03:37:15.687Z"
   },
   {
    "duration": 4,
    "start_time": "2024-07-25T03:37:15.790Z"
   },
   {
    "duration": 9,
    "start_time": "2024-07-25T03:37:15.807Z"
   },
   {
    "duration": 6,
    "start_time": "2024-07-25T03:37:15.818Z"
   },
   {
    "duration": 39,
    "start_time": "2024-07-25T03:37:15.826Z"
   },
   {
    "duration": 393,
    "start_time": "2024-07-25T03:37:15.867Z"
   },
   {
    "duration": 345,
    "start_time": "2024-07-25T03:37:16.262Z"
   },
   {
    "duration": 17,
    "start_time": "2024-07-25T03:37:16.609Z"
   },
   {
    "duration": 48,
    "start_time": "2024-07-25T03:37:16.628Z"
   },
   {
    "duration": 11,
    "start_time": "2024-07-25T03:37:16.677Z"
   },
   {
    "duration": 27,
    "start_time": "2024-07-25T03:37:16.707Z"
   },
   {
    "duration": 199,
    "start_time": "2024-07-25T03:37:16.736Z"
   },
   {
    "duration": 79,
    "start_time": "2024-07-25T03:37:16.937Z"
   },
   {
    "duration": 9,
    "start_time": "2024-07-25T03:37:17.018Z"
   },
   {
    "duration": 16,
    "start_time": "2024-07-25T03:37:17.029Z"
   },
   {
    "duration": 9,
    "start_time": "2024-07-25T03:37:17.047Z"
   },
   {
    "duration": 62,
    "start_time": "2024-07-25T03:37:17.058Z"
   },
   {
    "duration": 39,
    "start_time": "2024-07-25T03:37:17.122Z"
   },
   {
    "duration": 133,
    "start_time": "2024-07-25T03:37:17.163Z"
   },
   {
    "duration": 28,
    "start_time": "2024-07-25T03:37:17.300Z"
   },
   {
    "duration": 8,
    "start_time": "2024-07-25T03:37:17.331Z"
   },
   {
    "duration": 17,
    "start_time": "2024-07-25T03:37:17.341Z"
   },
   {
    "duration": 47,
    "start_time": "2024-07-25T03:37:17.360Z"
   },
   {
    "duration": 11,
    "start_time": "2024-07-25T03:37:17.409Z"
   },
   {
    "duration": 14,
    "start_time": "2024-07-25T03:37:17.422Z"
   },
   {
    "duration": 1298,
    "start_time": "2024-07-25T05:25:17.429Z"
   },
   {
    "duration": 790,
    "start_time": "2024-07-25T05:25:18.729Z"
   },
   {
    "duration": 4,
    "start_time": "2024-07-25T05:25:19.520Z"
   },
   {
    "duration": 45,
    "start_time": "2024-07-25T05:25:19.525Z"
   },
   {
    "duration": 20,
    "start_time": "2024-07-25T05:25:19.572Z"
   },
   {
    "duration": 70,
    "start_time": "2024-07-25T05:25:19.593Z"
   },
   {
    "duration": 131,
    "start_time": "2024-07-25T05:25:19.665Z"
   },
   {
    "duration": 11,
    "start_time": "2024-07-25T05:25:19.797Z"
   },
   {
    "duration": 98,
    "start_time": "2024-07-25T05:25:19.809Z"
   },
   {
    "duration": 3,
    "start_time": "2024-07-25T05:25:19.909Z"
   },
   {
    "duration": 24,
    "start_time": "2024-07-25T05:25:19.914Z"
   },
   {
    "duration": 8,
    "start_time": "2024-07-25T05:25:19.940Z"
   },
   {
    "duration": 38,
    "start_time": "2024-07-25T05:25:19.950Z"
   },
   {
    "duration": 387,
    "start_time": "2024-07-25T05:25:19.990Z"
   },
   {
    "duration": 317,
    "start_time": "2024-07-25T05:25:20.378Z"
   },
   {
    "duration": 15,
    "start_time": "2024-07-25T05:25:20.697Z"
   },
   {
    "duration": 49,
    "start_time": "2024-07-25T05:25:20.714Z"
   },
   {
    "duration": 11,
    "start_time": "2024-07-25T05:25:20.764Z"
   },
   {
    "duration": 26,
    "start_time": "2024-07-25T05:25:20.776Z"
   },
   {
    "duration": 203,
    "start_time": "2024-07-25T05:25:20.804Z"
   },
   {
    "duration": 78,
    "start_time": "2024-07-25T05:25:21.009Z"
   },
   {
    "duration": 7,
    "start_time": "2024-07-25T05:25:21.089Z"
   },
   {
    "duration": 13,
    "start_time": "2024-07-25T05:25:21.098Z"
   },
   {
    "duration": 22,
    "start_time": "2024-07-25T05:25:21.112Z"
   },
   {
    "duration": 59,
    "start_time": "2024-07-25T05:25:21.137Z"
   },
   {
    "duration": 34,
    "start_time": "2024-07-25T05:25:21.198Z"
   },
   {
    "duration": 108,
    "start_time": "2024-07-25T05:25:21.233Z"
   },
   {
    "duration": 18,
    "start_time": "2024-07-25T05:25:21.343Z"
   },
   {
    "duration": 6,
    "start_time": "2024-07-25T05:25:21.363Z"
   },
   {
    "duration": 15,
    "start_time": "2024-07-25T05:25:21.370Z"
   },
   {
    "duration": 26,
    "start_time": "2024-07-25T05:25:21.387Z"
   },
   {
    "duration": 31,
    "start_time": "2024-07-25T05:25:21.415Z"
   },
   {
    "duration": 14,
    "start_time": "2024-07-25T05:25:21.451Z"
   }
  ],
  "kernelspec": {
   "display_name": "Python 3 (ipykernel)",
   "language": "python",
   "name": "python3"
  },
  "language_info": {
   "codemirror_mode": {
    "name": "ipython",
    "version": 3
   },
   "file_extension": ".py",
   "mimetype": "text/x-python",
   "name": "python",
   "nbconvert_exporter": "python",
   "pygments_lexer": "ipython3",
   "version": "3.11.8"
  },
  "toc": {
   "base_numbering": 1,
   "nav_menu": {},
   "number_sections": true,
   "sideBar": true,
   "skip_h1_title": true,
   "title_cell": "Table of Contents",
   "title_sidebar": "Contents",
   "toc_cell": false,
   "toc_position": {},
   "toc_section_display": true,
   "toc_window_display": false
  }
 },
 "nbformat": 4,
 "nbformat_minor": 2
}
