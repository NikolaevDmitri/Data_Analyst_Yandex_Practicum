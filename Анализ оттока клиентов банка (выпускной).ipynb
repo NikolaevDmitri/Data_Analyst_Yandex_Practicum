{
 "cells": [
  {
   "cell_type": "markdown",
   "metadata": {},
   "source": [
    "# Анализ оттока клиентов банка"
   ]
  },
  {
   "cell_type": "markdown",
   "metadata": {},
   "source": [
    "**Описание и план проекта**  \n",
    "Проект связан с анализом оттока клиентов: банковские маркетологи выяснили, что удерживать старых клиентов дешевле, чем привлекать новых, а наша задача - помочь им в этом, чтобы «Метанпромбанк» рос, крепчал и развивался.\n",
    "  \n",
    "Мы проанализируем клиентов банка и выделим сегменты клиентов, которые склонны уходить из банка.  \n",
    "Проведём исследовательский анализ данных, определим все значимые признаки отточности (интервалы значений характеристик, которые связаны с повышенным оттоком, сравним портреты типичных клиентов, которые склонны и не склонны уходить из банка и т.д)  \n",
    "  \n",
    "Сформулируем и проверим статистические гипотезы:    \n",
    "- гипотезу различия дохода между теми клиентами, которые ушли и теми, которые остались    \n",
    "- гипотезу относительно представленных данных, которая поможет внести ясность в исследование  \n",
    "  \n",
    "Объединяя признаки отточности, сформируем сегменты, отберём из них лучшие и дадим по ним рекомендации.  \n",
    "  \n",
    "  \n",
    "**Декомпозиция проекта:**  \n",
    "1. Загрузка и описание данных.\n",
    "2. Подготовка данных:\n",
    "- анализ природы пропусков и их разумная обработка;\n",
    "- кодирование (для использования в анализе корреляции).\n",
    "3. EDA:\n",
    "- анализ распределения признаков, в том числе в разрезе оттока (непрерывные - ищем отточные интервалы, категориальные дискретные - ищем значения признака с оттоком выше, чем по банку);\n",
    "- корреляционный анализ (в том числе интерпретация).\n",
    "4. Проверка двух статистических гипотез с обоснованием инструмента.\n",
    "5. Подведение промежуточных итогов - выводы по результатам EDA, корреляционного анализа и гипотез, выделение признаков, влияющих на отток.\n",
    "6. Сегментация (неузкие сегменты (от 500 клиентов на сегмент); отток больше, чем средний уровень оттока по банку).\n",
    "7. Приоритизация сегментов (у маркетинга нет автоматизированных систем, работаю руками).\n",
    "8. Формирование рекомендаций (таргетированных) по работе с ними\n",
    "  "
   ]
  },
  {
   "cell_type": "markdown",
   "metadata": {},
   "source": [
    "## Загрузка и описание данных"
   ]
  },
  {
   "cell_type": "code",
   "execution_count": 1,
   "metadata": {},
   "outputs": [],
   "source": [
    "# загружаем необходимые в проекте библиотеки\n",
    "import pandas as pd\n",
    "import seaborn as sns\n",
    "import matplotlib.pyplot as plt\n",
    "import numpy as np\n",
    "from scipy import stats as st"
   ]
  },
  {
   "cell_type": "code",
   "execution_count": 2,
   "metadata": {},
   "outputs": [
    {
     "data": {
      "text/html": [
       "<div>\n",
       "<style scoped>\n",
       "    .dataframe tbody tr th:only-of-type {\n",
       "        vertical-align: middle;\n",
       "    }\n",
       "\n",
       "    .dataframe tbody tr th {\n",
       "        vertical-align: top;\n",
       "    }\n",
       "\n",
       "    .dataframe thead th {\n",
       "        text-align: right;\n",
       "    }\n",
       "</style>\n",
       "<table border=\"1\" class=\"dataframe\">\n",
       "  <thead>\n",
       "    <tr style=\"text-align: right;\">\n",
       "      <th></th>\n",
       "      <th>USERID</th>\n",
       "      <th>score</th>\n",
       "      <th>city</th>\n",
       "      <th>gender</th>\n",
       "      <th>age</th>\n",
       "      <th>equity</th>\n",
       "      <th>balance</th>\n",
       "      <th>products</th>\n",
       "      <th>credit_card</th>\n",
       "      <th>last_activity</th>\n",
       "      <th>EST_SALARY</th>\n",
       "      <th>churn</th>\n",
       "    </tr>\n",
       "  </thead>\n",
       "  <tbody>\n",
       "    <tr>\n",
       "      <th>0</th>\n",
       "      <td>183012</td>\n",
       "      <td>850.0</td>\n",
       "      <td>Рыбинск</td>\n",
       "      <td>Ж</td>\n",
       "      <td>25.0</td>\n",
       "      <td>1</td>\n",
       "      <td>59214.82</td>\n",
       "      <td>2</td>\n",
       "      <td>0</td>\n",
       "      <td>1</td>\n",
       "      <td>75719.14</td>\n",
       "      <td>1</td>\n",
       "    </tr>\n",
       "    <tr>\n",
       "      <th>1</th>\n",
       "      <td>146556</td>\n",
       "      <td>861.0</td>\n",
       "      <td>Рыбинск</td>\n",
       "      <td>Ж</td>\n",
       "      <td>37.0</td>\n",
       "      <td>5</td>\n",
       "      <td>850594.33</td>\n",
       "      <td>3</td>\n",
       "      <td>1</td>\n",
       "      <td>0</td>\n",
       "      <td>86621.77</td>\n",
       "      <td>0</td>\n",
       "    </tr>\n",
       "    <tr>\n",
       "      <th>2</th>\n",
       "      <td>120722</td>\n",
       "      <td>892.0</td>\n",
       "      <td>Рыбинск</td>\n",
       "      <td>Ж</td>\n",
       "      <td>30.0</td>\n",
       "      <td>0</td>\n",
       "      <td>NaN</td>\n",
       "      <td>1</td>\n",
       "      <td>1</td>\n",
       "      <td>1</td>\n",
       "      <td>107683.34</td>\n",
       "      <td>0</td>\n",
       "    </tr>\n",
       "    <tr>\n",
       "      <th>3</th>\n",
       "      <td>225363</td>\n",
       "      <td>866.0</td>\n",
       "      <td>Ярославль</td>\n",
       "      <td>Ж</td>\n",
       "      <td>51.0</td>\n",
       "      <td>5</td>\n",
       "      <td>1524746.26</td>\n",
       "      <td>2</td>\n",
       "      <td>0</td>\n",
       "      <td>1</td>\n",
       "      <td>174423.53</td>\n",
       "      <td>1</td>\n",
       "    </tr>\n",
       "    <tr>\n",
       "      <th>4</th>\n",
       "      <td>157978</td>\n",
       "      <td>730.0</td>\n",
       "      <td>Ярославль</td>\n",
       "      <td>М</td>\n",
       "      <td>34.0</td>\n",
       "      <td>5</td>\n",
       "      <td>174.00</td>\n",
       "      <td>1</td>\n",
       "      <td>1</td>\n",
       "      <td>0</td>\n",
       "      <td>67353.16</td>\n",
       "      <td>1</td>\n",
       "    </tr>\n",
       "    <tr>\n",
       "      <th>...</th>\n",
       "      <td>...</td>\n",
       "      <td>...</td>\n",
       "      <td>...</td>\n",
       "      <td>...</td>\n",
       "      <td>...</td>\n",
       "      <td>...</td>\n",
       "      <td>...</td>\n",
       "      <td>...</td>\n",
       "      <td>...</td>\n",
       "      <td>...</td>\n",
       "      <td>...</td>\n",
       "      <td>...</td>\n",
       "    </tr>\n",
       "    <tr>\n",
       "      <th>9995</th>\n",
       "      <td>120553</td>\n",
       "      <td>814.0</td>\n",
       "      <td>Рыбинск</td>\n",
       "      <td>М</td>\n",
       "      <td>27.0</td>\n",
       "      <td>1</td>\n",
       "      <td>78144.65</td>\n",
       "      <td>1</td>\n",
       "      <td>0</td>\n",
       "      <td>1</td>\n",
       "      <td>18943.64</td>\n",
       "      <td>0</td>\n",
       "    </tr>\n",
       "    <tr>\n",
       "      <th>9996</th>\n",
       "      <td>139170</td>\n",
       "      <td>894.0</td>\n",
       "      <td>Ярославль</td>\n",
       "      <td>М</td>\n",
       "      <td>46.0</td>\n",
       "      <td>0</td>\n",
       "      <td>NaN</td>\n",
       "      <td>1</td>\n",
       "      <td>1</td>\n",
       "      <td>0</td>\n",
       "      <td>196898.29</td>\n",
       "      <td>0</td>\n",
       "    </tr>\n",
       "    <tr>\n",
       "      <th>9997</th>\n",
       "      <td>115639</td>\n",
       "      <td>903.0</td>\n",
       "      <td>Ярославль</td>\n",
       "      <td>М</td>\n",
       "      <td>24.0</td>\n",
       "      <td>0</td>\n",
       "      <td>NaN</td>\n",
       "      <td>2</td>\n",
       "      <td>1</td>\n",
       "      <td>1</td>\n",
       "      <td>108905.09</td>\n",
       "      <td>0</td>\n",
       "    </tr>\n",
       "    <tr>\n",
       "      <th>9998</th>\n",
       "      <td>148700</td>\n",
       "      <td>777.0</td>\n",
       "      <td>Ярославль</td>\n",
       "      <td>Ж</td>\n",
       "      <td>68.0</td>\n",
       "      <td>3</td>\n",
       "      <td>865457.97</td>\n",
       "      <td>3</td>\n",
       "      <td>0</td>\n",
       "      <td>1</td>\n",
       "      <td>86874.90</td>\n",
       "      <td>0</td>\n",
       "    </tr>\n",
       "    <tr>\n",
       "      <th>9999</th>\n",
       "      <td>96267</td>\n",
       "      <td>828.0</td>\n",
       "      <td>Рыбинск</td>\n",
       "      <td>Ж</td>\n",
       "      <td>58.0</td>\n",
       "      <td>3</td>\n",
       "      <td>1180886.70</td>\n",
       "      <td>4</td>\n",
       "      <td>0</td>\n",
       "      <td>1</td>\n",
       "      <td>21422.37</td>\n",
       "      <td>0</td>\n",
       "    </tr>\n",
       "  </tbody>\n",
       "</table>\n",
       "<p>10000 rows × 12 columns</p>\n",
       "</div>"
      ],
      "text/plain": [
       "      USERID  score       city gender   age  equity     balance  products  \\\n",
       "0     183012  850.0    Рыбинск      Ж  25.0       1    59214.82         2   \n",
       "1     146556  861.0    Рыбинск      Ж  37.0       5   850594.33         3   \n",
       "2     120722  892.0    Рыбинск      Ж  30.0       0         NaN         1   \n",
       "3     225363  866.0  Ярославль      Ж  51.0       5  1524746.26         2   \n",
       "4     157978  730.0  Ярославль      М  34.0       5      174.00         1   \n",
       "...      ...    ...        ...    ...   ...     ...         ...       ...   \n",
       "9995  120553  814.0    Рыбинск      М  27.0       1    78144.65         1   \n",
       "9996  139170  894.0  Ярославль      М  46.0       0         NaN         1   \n",
       "9997  115639  903.0  Ярославль      М  24.0       0         NaN         2   \n",
       "9998  148700  777.0  Ярославль      Ж  68.0       3   865457.97         3   \n",
       "9999   96267  828.0    Рыбинск      Ж  58.0       3  1180886.70         4   \n",
       "\n",
       "      credit_card  last_activity  EST_SALARY  churn  \n",
       "0               0              1    75719.14      1  \n",
       "1               1              0    86621.77      0  \n",
       "2               1              1   107683.34      0  \n",
       "3               0              1   174423.53      1  \n",
       "4               1              0    67353.16      1  \n",
       "...           ...            ...         ...    ...  \n",
       "9995            0              1    18943.64      0  \n",
       "9996            1              0   196898.29      0  \n",
       "9997            1              1   108905.09      0  \n",
       "9998            0              1    86874.90      0  \n",
       "9999            0              1    21422.37      0  \n",
       "\n",
       "[10000 rows x 12 columns]"
      ]
     },
     "execution_count": 2,
     "metadata": {},
     "output_type": "execute_result"
    }
   ],
   "source": [
    "banks = pd.read_csv('https://code.s3.yandex.net/datasets/bank_scrooge.csv')\n",
    "banks"
   ]
  },
  {
   "cell_type": "code",
   "execution_count": 3,
   "metadata": {},
   "outputs": [
    {
     "name": "stdout",
     "output_type": "stream",
     "text": [
      "<class 'pandas.core.frame.DataFrame'>\n",
      "RangeIndex: 10000 entries, 0 to 9999\n",
      "Data columns (total 12 columns):\n",
      " #   Column         Non-Null Count  Dtype  \n",
      "---  ------         --------------  -----  \n",
      " 0   USERID         10000 non-null  int64  \n",
      " 1   score          10000 non-null  float64\n",
      " 2   city           10000 non-null  object \n",
      " 3   gender         10000 non-null  object \n",
      " 4   age            9974 non-null   float64\n",
      " 5   equity         10000 non-null  int64  \n",
      " 6   balance        7705 non-null   float64\n",
      " 7   products       10000 non-null  int64  \n",
      " 8   credit_card    10000 non-null  int64  \n",
      " 9   last_activity  10000 non-null  int64  \n",
      " 10  EST_SALARY     10000 non-null  float64\n",
      " 11  churn          10000 non-null  int64  \n",
      "dtypes: float64(4), int64(6), object(2)\n",
      "memory usage: 937.6+ KB\n"
     ]
    }
   ],
   "source": [
    "banks.info()"
   ]
  },
  {
   "cell_type": "code",
   "execution_count": 4,
   "metadata": {},
   "outputs": [
    {
     "data": {
      "text/html": [
       "<div>\n",
       "<style scoped>\n",
       "    .dataframe tbody tr th:only-of-type {\n",
       "        vertical-align: middle;\n",
       "    }\n",
       "\n",
       "    .dataframe tbody tr th {\n",
       "        vertical-align: top;\n",
       "    }\n",
       "\n",
       "    .dataframe thead th {\n",
       "        text-align: right;\n",
       "    }\n",
       "</style>\n",
       "<table border=\"1\" class=\"dataframe\">\n",
       "  <thead>\n",
       "    <tr style=\"text-align: right;\">\n",
       "      <th></th>\n",
       "      <th>USERID</th>\n",
       "      <th>score</th>\n",
       "      <th>age</th>\n",
       "      <th>equity</th>\n",
       "      <th>balance</th>\n",
       "      <th>products</th>\n",
       "      <th>credit_card</th>\n",
       "      <th>last_activity</th>\n",
       "      <th>EST_SALARY</th>\n",
       "      <th>churn</th>\n",
       "    </tr>\n",
       "  </thead>\n",
       "  <tbody>\n",
       "    <tr>\n",
       "      <th>count</th>\n",
       "      <td>10000.00</td>\n",
       "      <td>10000.00</td>\n",
       "      <td>9974.00</td>\n",
       "      <td>10000.00</td>\n",
       "      <td>7.705000e+03</td>\n",
       "      <td>10000.00</td>\n",
       "      <td>10000.00</td>\n",
       "      <td>10000.00</td>\n",
       "      <td>10000.00</td>\n",
       "      <td>10000.00</td>\n",
       "    </tr>\n",
       "    <tr>\n",
       "      <th>mean</th>\n",
       "      <td>171814.71</td>\n",
       "      <td>848.70</td>\n",
       "      <td>42.73</td>\n",
       "      <td>2.63</td>\n",
       "      <td>8.277943e+05</td>\n",
       "      <td>1.87</td>\n",
       "      <td>0.68</td>\n",
       "      <td>0.52</td>\n",
       "      <td>147866.89</td>\n",
       "      <td>0.18</td>\n",
       "    </tr>\n",
       "    <tr>\n",
       "      <th>std</th>\n",
       "      <td>33708.24</td>\n",
       "      <td>65.45</td>\n",
       "      <td>12.18</td>\n",
       "      <td>1.98</td>\n",
       "      <td>1.980614e+06</td>\n",
       "      <td>0.79</td>\n",
       "      <td>0.47</td>\n",
       "      <td>0.50</td>\n",
       "      <td>139388.51</td>\n",
       "      <td>0.39</td>\n",
       "    </tr>\n",
       "    <tr>\n",
       "      <th>min</th>\n",
       "      <td>94561.00</td>\n",
       "      <td>642.00</td>\n",
       "      <td>18.00</td>\n",
       "      <td>0.00</td>\n",
       "      <td>0.000000e+00</td>\n",
       "      <td>0.00</td>\n",
       "      <td>0.00</td>\n",
       "      <td>0.00</td>\n",
       "      <td>2546.30</td>\n",
       "      <td>0.00</td>\n",
       "    </tr>\n",
       "    <tr>\n",
       "      <th>25%</th>\n",
       "      <td>142810.25</td>\n",
       "      <td>802.00</td>\n",
       "      <td>33.00</td>\n",
       "      <td>0.00</td>\n",
       "      <td>2.955542e+05</td>\n",
       "      <td>1.00</td>\n",
       "      <td>0.00</td>\n",
       "      <td>0.00</td>\n",
       "      <td>75251.90</td>\n",
       "      <td>0.00</td>\n",
       "    </tr>\n",
       "    <tr>\n",
       "      <th>50%</th>\n",
       "      <td>172728.00</td>\n",
       "      <td>853.00</td>\n",
       "      <td>40.00</td>\n",
       "      <td>3.00</td>\n",
       "      <td>5.242722e+05</td>\n",
       "      <td>2.00</td>\n",
       "      <td>1.00</td>\n",
       "      <td>1.00</td>\n",
       "      <td>119658.10</td>\n",
       "      <td>0.00</td>\n",
       "    </tr>\n",
       "    <tr>\n",
       "      <th>75%</th>\n",
       "      <td>201261.75</td>\n",
       "      <td>900.00</td>\n",
       "      <td>51.00</td>\n",
       "      <td>4.00</td>\n",
       "      <td>9.807058e+05</td>\n",
       "      <td>2.00</td>\n",
       "      <td>1.00</td>\n",
       "      <td>1.00</td>\n",
       "      <td>174500.54</td>\n",
       "      <td>0.00</td>\n",
       "    </tr>\n",
       "    <tr>\n",
       "      <th>max</th>\n",
       "      <td>229145.00</td>\n",
       "      <td>1000.00</td>\n",
       "      <td>86.00</td>\n",
       "      <td>9.00</td>\n",
       "      <td>1.191136e+08</td>\n",
       "      <td>5.00</td>\n",
       "      <td>1.00</td>\n",
       "      <td>1.00</td>\n",
       "      <td>1395064.45</td>\n",
       "      <td>1.00</td>\n",
       "    </tr>\n",
       "  </tbody>\n",
       "</table>\n",
       "</div>"
      ],
      "text/plain": [
       "          USERID     score      age    equity       balance  products  \\\n",
       "count   10000.00  10000.00  9974.00  10000.00  7.705000e+03  10000.00   \n",
       "mean   171814.71    848.70    42.73      2.63  8.277943e+05      1.87   \n",
       "std     33708.24     65.45    12.18      1.98  1.980614e+06      0.79   \n",
       "min     94561.00    642.00    18.00      0.00  0.000000e+00      0.00   \n",
       "25%    142810.25    802.00    33.00      0.00  2.955542e+05      1.00   \n",
       "50%    172728.00    853.00    40.00      3.00  5.242722e+05      2.00   \n",
       "75%    201261.75    900.00    51.00      4.00  9.807058e+05      2.00   \n",
       "max    229145.00   1000.00    86.00      9.00  1.191136e+08      5.00   \n",
       "\n",
       "       credit_card  last_activity  EST_SALARY     churn  \n",
       "count     10000.00       10000.00    10000.00  10000.00  \n",
       "mean          0.68           0.52   147866.89      0.18  \n",
       "std           0.47           0.50   139388.51      0.39  \n",
       "min           0.00           0.00     2546.30      0.00  \n",
       "25%           0.00           0.00    75251.90      0.00  \n",
       "50%           1.00           1.00   119658.10      0.00  \n",
       "75%           1.00           1.00   174500.54      0.00  \n",
       "max           1.00           1.00  1395064.45      1.00  "
      ]
     },
     "execution_count": 4,
     "metadata": {},
     "output_type": "execute_result"
    }
   ],
   "source": [
    "banks.describe().round(2)"
   ]
  },
  {
   "cell_type": "markdown",
   "metadata": {},
   "source": [
    "Описание датасета /datasets/bank_scrooge.csv:  \n",
    "Датасет содержит данные о клиентах банка «Метанпром». Банк располагается в Ярославле и областных городах: Ростов Великий и Рыбинск.  \n",
    "  \n",
    "Всего 10 тысяч строк и 12 колонок:  \n",
    "user_id — идентификатор пользователя  \n",
    "score — баллы кредитного скоринга  \n",
    "city — город  \n",
    "gender — пол  \n",
    "age — возраст  \n",
    "equity — количество баллов собственности  \n",
    "balance — баланс на счёте  \n",
    "products — количество продуктов, которыми пользуется клиент  \n",
    "credit_card — есть ли кредитная карта  \n",
    "last_activity — активный клиент  \n",
    "est_salary — оценочный доход клиента  \n",
    "сhurn — признак оттока.  \n",
    "  \n",
    "**Вывод по разделу**  \n",
    "Загрузили все необходимые библиотеки; загрузили, посмотрели, оценили и описали датасет, содержание его опишем в следующем разделе."
   ]
  },
  {
   "cell_type": "markdown",
   "metadata": {},
   "source": [
    "## Подготовка данных  \n",
    "### Проверка корректности наименований колонок и переименование  \n",
    "  \n",
    "Переименуем два столбца, названия которых не соответствуют стандартам Python"
   ]
  },
  {
   "cell_type": "code",
   "execution_count": 5,
   "metadata": {},
   "outputs": [
    {
     "data": {
      "text/plain": [
       "Index(['user_id', 'score', 'city', 'gender', 'age', 'equity', 'balance',\n",
       "       'products', 'credit_card', 'last_activity', 'est_salary', 'churn'],\n",
       "      dtype='object')"
      ]
     },
     "execution_count": 5,
     "metadata": {},
     "output_type": "execute_result"
    }
   ],
   "source": [
    "banks.rename(columns={'USERID':'user_id', 'EST_SALARY':'est_salary'}, inplace=True)\n",
    "banks.columns"
   ]
  },
  {
   "cell_type": "markdown",
   "metadata": {},
   "source": [
    "### Исследование соответствия и приведение типов"
   ]
  },
  {
   "cell_type": "markdown",
   "metadata": {},
   "source": [
    "Ранее выводили info() о таблице с указанием типов данных по столбцам - в целом типы соответствуют данным, приведение не требуется. "
   ]
  },
  {
   "cell_type": "markdown",
   "metadata": {},
   "source": [
    "### Анализ природы пропусков и их разумная обработка"
   ]
  },
  {
   "cell_type": "code",
   "execution_count": 6,
   "metadata": {},
   "outputs": [
    {
     "data": {
      "text/plain": [
       "user_id             0\n",
       "score               0\n",
       "city                0\n",
       "gender              0\n",
       "age                26\n",
       "equity              0\n",
       "balance          2295\n",
       "products            0\n",
       "credit_card         0\n",
       "last_activity       0\n",
       "est_salary          0\n",
       "churn               0\n",
       "dtype: int64"
      ]
     },
     "execution_count": 6,
     "metadata": {},
     "output_type": "execute_result"
    }
   ],
   "source": [
    "banks.isnull().sum()"
   ]
  },
  {
   "cell_type": "markdown",
   "metadata": {},
   "source": [
    "Из 10000 строк 26 пропусков с столбце с возрастом и 2295 в столбце баланса на счёте. Пропусков в столбце возраста очень мало, поэтому удалим их"
   ]
  },
  {
   "cell_type": "code",
   "execution_count": 7,
   "metadata": {},
   "outputs": [],
   "source": [
    "banks=banks.dropna(subset=['age'])"
   ]
  },
  {
   "cell_type": "markdown",
   "metadata": {},
   "source": [
    "Проверим ещё раз пропуски после удаления:"
   ]
  },
  {
   "cell_type": "code",
   "execution_count": 8,
   "metadata": {},
   "outputs": [
    {
     "data": {
      "text/plain": [
       "0"
      ]
     },
     "execution_count": 8,
     "metadata": {},
     "output_type": "execute_result"
    }
   ],
   "source": [
    "banks['age'].isnull().sum()"
   ]
  },
  {
   "cell_type": "markdown",
   "metadata": {},
   "source": [
    "А вот пустых данных о балансе много, почти 23%. Возможно это связано как раз с тем, что клиент ушёл из банка, проверим это:"
   ]
  },
  {
   "cell_type": "code",
   "execution_count": 9,
   "metadata": {},
   "outputs": [
    {
     "data": {
      "text/plain": [
       "0    2266\n",
       "1      13\n",
       "Name: churn, dtype: int64"
      ]
     },
     "execution_count": 9,
     "metadata": {},
     "output_type": "execute_result"
    }
   ],
   "source": [
    "banks[banks['balance'].isna()]['churn'].value_counts()"
   ]
  },
  {
   "cell_type": "markdown",
   "metadata": {},
   "source": [
    "Гипотеза не подтвердилась, лишь 13 клиентов с незаполненным балансом ушли.  \n",
    "Проверим, как эти пропуски зависят от имеющихся данных - тогда можно будет выбрать более удачную стратегию работы с ними. Сравним остальные количественные параметры у строк с пропущенным балансом с остальными строками."
   ]
  },
  {
   "cell_type": "code",
   "execution_count": 10,
   "metadata": {},
   "outputs": [
    {
     "data": {
      "text/html": [
       "<div>\n",
       "<style scoped>\n",
       "    .dataframe tbody tr th:only-of-type {\n",
       "        vertical-align: middle;\n",
       "    }\n",
       "\n",
       "    .dataframe tbody tr th {\n",
       "        vertical-align: top;\n",
       "    }\n",
       "\n",
       "    .dataframe thead th {\n",
       "        text-align: right;\n",
       "    }\n",
       "</style>\n",
       "<table border=\"1\" class=\"dataframe\">\n",
       "  <thead>\n",
       "    <tr style=\"text-align: right;\">\n",
       "      <th></th>\n",
       "      <th>user_id</th>\n",
       "      <th>score</th>\n",
       "      <th>age</th>\n",
       "      <th>equity</th>\n",
       "      <th>balance</th>\n",
       "      <th>products</th>\n",
       "      <th>credit_card</th>\n",
       "      <th>last_activity</th>\n",
       "      <th>est_salary</th>\n",
       "      <th>churn</th>\n",
       "    </tr>\n",
       "  </thead>\n",
       "  <tbody>\n",
       "    <tr>\n",
       "      <th>count</th>\n",
       "      <td>2279.00</td>\n",
       "      <td>2279.00</td>\n",
       "      <td>2279.00</td>\n",
       "      <td>2279.00</td>\n",
       "      <td>0.0</td>\n",
       "      <td>2279.00</td>\n",
       "      <td>2279.00</td>\n",
       "      <td>2279.00</td>\n",
       "      <td>2279.00</td>\n",
       "      <td>2279.00</td>\n",
       "    </tr>\n",
       "    <tr>\n",
       "      <th>mean</th>\n",
       "      <td>171904.89</td>\n",
       "      <td>865.36</td>\n",
       "      <td>42.09</td>\n",
       "      <td>0.05</td>\n",
       "      <td>NaN</td>\n",
       "      <td>1.16</td>\n",
       "      <td>0.82</td>\n",
       "      <td>0.55</td>\n",
       "      <td>226345.42</td>\n",
       "      <td>0.01</td>\n",
       "    </tr>\n",
       "    <tr>\n",
       "      <th>std</th>\n",
       "      <td>33303.22</td>\n",
       "      <td>89.55</td>\n",
       "      <td>11.94</td>\n",
       "      <td>0.23</td>\n",
       "      <td>NaN</td>\n",
       "      <td>0.40</td>\n",
       "      <td>0.39</td>\n",
       "      <td>0.50</td>\n",
       "      <td>199825.59</td>\n",
       "      <td>0.08</td>\n",
       "    </tr>\n",
       "    <tr>\n",
       "      <th>min</th>\n",
       "      <td>114182.00</td>\n",
       "      <td>642.00</td>\n",
       "      <td>18.00</td>\n",
       "      <td>0.00</td>\n",
       "      <td>NaN</td>\n",
       "      <td>0.00</td>\n",
       "      <td>0.00</td>\n",
       "      <td>0.00</td>\n",
       "      <td>20274.03</td>\n",
       "      <td>0.00</td>\n",
       "    </tr>\n",
       "    <tr>\n",
       "      <th>25%</th>\n",
       "      <td>142992.50</td>\n",
       "      <td>871.00</td>\n",
       "      <td>33.00</td>\n",
       "      <td>0.00</td>\n",
       "      <td>NaN</td>\n",
       "      <td>1.00</td>\n",
       "      <td>1.00</td>\n",
       "      <td>0.00</td>\n",
       "      <td>120217.38</td>\n",
       "      <td>0.00</td>\n",
       "    </tr>\n",
       "    <tr>\n",
       "      <th>50%</th>\n",
       "      <td>172304.00</td>\n",
       "      <td>903.00</td>\n",
       "      <td>40.00</td>\n",
       "      <td>0.00</td>\n",
       "      <td>NaN</td>\n",
       "      <td>1.00</td>\n",
       "      <td>1.00</td>\n",
       "      <td>1.00</td>\n",
       "      <td>174347.87</td>\n",
       "      <td>0.00</td>\n",
       "    </tr>\n",
       "    <tr>\n",
       "      <th>75%</th>\n",
       "      <td>201257.00</td>\n",
       "      <td>922.00</td>\n",
       "      <td>49.00</td>\n",
       "      <td>0.00</td>\n",
       "      <td>NaN</td>\n",
       "      <td>1.00</td>\n",
       "      <td>1.00</td>\n",
       "      <td>1.00</td>\n",
       "      <td>240372.78</td>\n",
       "      <td>0.00</td>\n",
       "    </tr>\n",
       "    <tr>\n",
       "      <th>max</th>\n",
       "      <td>229145.00</td>\n",
       "      <td>990.00</td>\n",
       "      <td>86.00</td>\n",
       "      <td>3.00</td>\n",
       "      <td>NaN</td>\n",
       "      <td>3.00</td>\n",
       "      <td>1.00</td>\n",
       "      <td>1.00</td>\n",
       "      <td>1333687.36</td>\n",
       "      <td>1.00</td>\n",
       "    </tr>\n",
       "  </tbody>\n",
       "</table>\n",
       "</div>"
      ],
      "text/plain": [
       "         user_id    score      age   equity  balance  products  credit_card  \\\n",
       "count    2279.00  2279.00  2279.00  2279.00      0.0   2279.00      2279.00   \n",
       "mean   171904.89   865.36    42.09     0.05      NaN      1.16         0.82   \n",
       "std     33303.22    89.55    11.94     0.23      NaN      0.40         0.39   \n",
       "min    114182.00   642.00    18.00     0.00      NaN      0.00         0.00   \n",
       "25%    142992.50   871.00    33.00     0.00      NaN      1.00         1.00   \n",
       "50%    172304.00   903.00    40.00     0.00      NaN      1.00         1.00   \n",
       "75%    201257.00   922.00    49.00     0.00      NaN      1.00         1.00   \n",
       "max    229145.00   990.00    86.00     3.00      NaN      3.00         1.00   \n",
       "\n",
       "       last_activity  est_salary    churn  \n",
       "count        2279.00     2279.00  2279.00  \n",
       "mean            0.55   226345.42     0.01  \n",
       "std             0.50   199825.59     0.08  \n",
       "min             0.00    20274.03     0.00  \n",
       "25%             0.00   120217.38     0.00  \n",
       "50%             1.00   174347.87     0.00  \n",
       "75%             1.00   240372.78     0.00  \n",
       "max             1.00  1333687.36     1.00  "
      ]
     },
     "metadata": {},
     "output_type": "display_data"
    },
    {
     "data": {
      "text/html": [
       "<div>\n",
       "<style scoped>\n",
       "    .dataframe tbody tr th:only-of-type {\n",
       "        vertical-align: middle;\n",
       "    }\n",
       "\n",
       "    .dataframe tbody tr th {\n",
       "        vertical-align: top;\n",
       "    }\n",
       "\n",
       "    .dataframe thead th {\n",
       "        text-align: right;\n",
       "    }\n",
       "</style>\n",
       "<table border=\"1\" class=\"dataframe\">\n",
       "  <thead>\n",
       "    <tr style=\"text-align: right;\">\n",
       "      <th></th>\n",
       "      <th>user_id</th>\n",
       "      <th>score</th>\n",
       "      <th>age</th>\n",
       "      <th>equity</th>\n",
       "      <th>balance</th>\n",
       "      <th>products</th>\n",
       "      <th>credit_card</th>\n",
       "      <th>last_activity</th>\n",
       "      <th>est_salary</th>\n",
       "      <th>churn</th>\n",
       "    </tr>\n",
       "  </thead>\n",
       "  <tbody>\n",
       "    <tr>\n",
       "      <th>count</th>\n",
       "      <td>7695.00</td>\n",
       "      <td>7695.00</td>\n",
       "      <td>7695.00</td>\n",
       "      <td>7695.00</td>\n",
       "      <td>7.695000e+03</td>\n",
       "      <td>7695.00</td>\n",
       "      <td>7695.00</td>\n",
       "      <td>7695.00</td>\n",
       "      <td>7695.00</td>\n",
       "      <td>7695.00</td>\n",
       "    </tr>\n",
       "    <tr>\n",
       "      <th>mean</th>\n",
       "      <td>171710.89</td>\n",
       "      <td>843.74</td>\n",
       "      <td>42.92</td>\n",
       "      <td>3.39</td>\n",
       "      <td>8.272456e+05</td>\n",
       "      <td>2.08</td>\n",
       "      <td>0.64</td>\n",
       "      <td>0.52</td>\n",
       "      <td>124520.39</td>\n",
       "      <td>0.23</td>\n",
       "    </tr>\n",
       "    <tr>\n",
       "      <th>std</th>\n",
       "      <td>33812.86</td>\n",
       "      <td>55.34</td>\n",
       "      <td>12.24</td>\n",
       "      <td>1.58</td>\n",
       "      <td>1.980327e+06</td>\n",
       "      <td>0.76</td>\n",
       "      <td>0.48</td>\n",
       "      <td>0.50</td>\n",
       "      <td>104667.11</td>\n",
       "      <td>0.42</td>\n",
       "    </tr>\n",
       "    <tr>\n",
       "      <th>min</th>\n",
       "      <td>94561.00</td>\n",
       "      <td>689.00</td>\n",
       "      <td>18.00</td>\n",
       "      <td>0.00</td>\n",
       "      <td>0.000000e+00</td>\n",
       "      <td>1.00</td>\n",
       "      <td>0.00</td>\n",
       "      <td>0.00</td>\n",
       "      <td>2546.30</td>\n",
       "      <td>0.00</td>\n",
       "    </tr>\n",
       "    <tr>\n",
       "      <th>25%</th>\n",
       "      <td>142638.00</td>\n",
       "      <td>801.00</td>\n",
       "      <td>33.00</td>\n",
       "      <td>2.00</td>\n",
       "      <td>2.956987e+05</td>\n",
       "      <td>2.00</td>\n",
       "      <td>0.00</td>\n",
       "      <td>0.00</td>\n",
       "      <td>67556.98</td>\n",
       "      <td>0.00</td>\n",
       "    </tr>\n",
       "    <tr>\n",
       "      <th>50%</th>\n",
       "      <td>172710.00</td>\n",
       "      <td>840.00</td>\n",
       "      <td>40.00</td>\n",
       "      <td>4.00</td>\n",
       "      <td>5.242953e+05</td>\n",
       "      <td>2.00</td>\n",
       "      <td>1.00</td>\n",
       "      <td>1.00</td>\n",
       "      <td>106250.18</td>\n",
       "      <td>0.00</td>\n",
       "    </tr>\n",
       "    <tr>\n",
       "      <th>75%</th>\n",
       "      <td>201145.50</td>\n",
       "      <td>882.00</td>\n",
       "      <td>52.00</td>\n",
       "      <td>5.00</td>\n",
       "      <td>9.800512e+05</td>\n",
       "      <td>2.00</td>\n",
       "      <td>1.00</td>\n",
       "      <td>1.00</td>\n",
       "      <td>155144.60</td>\n",
       "      <td>0.00</td>\n",
       "    </tr>\n",
       "    <tr>\n",
       "      <th>max</th>\n",
       "      <td>229136.00</td>\n",
       "      <td>1000.00</td>\n",
       "      <td>86.00</td>\n",
       "      <td>9.00</td>\n",
       "      <td>1.191136e+08</td>\n",
       "      <td>5.00</td>\n",
       "      <td>1.00</td>\n",
       "      <td>1.00</td>\n",
       "      <td>1395064.45</td>\n",
       "      <td>1.00</td>\n",
       "    </tr>\n",
       "  </tbody>\n",
       "</table>\n",
       "</div>"
      ],
      "text/plain": [
       "         user_id    score      age   equity       balance  products  \\\n",
       "count    7695.00  7695.00  7695.00  7695.00  7.695000e+03   7695.00   \n",
       "mean   171710.89   843.74    42.92     3.39  8.272456e+05      2.08   \n",
       "std     33812.86    55.34    12.24     1.58  1.980327e+06      0.76   \n",
       "min     94561.00   689.00    18.00     0.00  0.000000e+00      1.00   \n",
       "25%    142638.00   801.00    33.00     2.00  2.956987e+05      2.00   \n",
       "50%    172710.00   840.00    40.00     4.00  5.242953e+05      2.00   \n",
       "75%    201145.50   882.00    52.00     5.00  9.800512e+05      2.00   \n",
       "max    229136.00  1000.00    86.00     9.00  1.191136e+08      5.00   \n",
       "\n",
       "       credit_card  last_activity  est_salary    churn  \n",
       "count      7695.00        7695.00     7695.00  7695.00  \n",
       "mean          0.64           0.52   124520.39     0.23  \n",
       "std           0.48           0.50   104667.11     0.42  \n",
       "min           0.00           0.00     2546.30     0.00  \n",
       "25%           0.00           0.00    67556.98     0.00  \n",
       "50%           1.00           1.00   106250.18     0.00  \n",
       "75%           1.00           1.00   155144.60     0.00  \n",
       "max           1.00           1.00  1395064.45     1.00  "
      ]
     },
     "metadata": {},
     "output_type": "display_data"
    }
   ],
   "source": [
    "display(banks[banks['balance'].isna()].describe().round(2))\n",
    "display(banks[banks['balance'].notnull()].describe().round(2))"
   ]
  },
  {
   "cell_type": "markdown",
   "metadata": {},
   "source": [
    "У клиентов с незаполненным балансом ниже количество баллов собственности, меньшее количество продуктов, выше зарплата и почти у всех стоит 0 в столбце оттока, то есть они ещё пользуются услугами банка.  \n",
    "  \n",
    "Сложно определить природу этих пропусков и нет точного понимания чем заполнить их, а заполнение данных о балансе каким-то средним или медианным значением исказит анализ, поэтому оставим эти пропуски.  "
   ]
  },
  {
   "cell_type": "markdown",
   "metadata": {},
   "source": [
    "### Кодирование переменных города и пола клиентов  \n",
    "  \n",
    "Для использования метода корреляции добавим столбцы, в которых будут логические значения, обозначающие каждый из трёх городов, и так же с полом."
   ]
  },
  {
   "cell_type": "code",
   "execution_count": 11,
   "metadata": {},
   "outputs": [
    {
     "name": "stderr",
     "output_type": "stream",
     "text": [
      "/tmp/ipykernel_85/1006998002.py:1: SettingWithCopyWarning: \n",
      "A value is trying to be set on a copy of a slice from a DataFrame.\n",
      "Try using .loc[row_indexer,col_indexer] = value instead\n",
      "\n",
      "See the caveats in the documentation: https://pandas.pydata.org/pandas-docs/stable/user_guide/indexing.html#returning-a-view-versus-a-copy\n",
      "  banks['city_dum']=banks['city']\n",
      "/tmp/ipykernel_85/1006998002.py:2: SettingWithCopyWarning: \n",
      "A value is trying to be set on a copy of a slice from a DataFrame.\n",
      "Try using .loc[row_indexer,col_indexer] = value instead\n",
      "\n",
      "See the caveats in the documentation: https://pandas.pydata.org/pandas-docs/stable/user_guide/indexing.html#returning-a-view-versus-a-copy\n",
      "  banks['gen_dum']=banks['gender']\n"
     ]
    },
    {
     "data": {
      "text/html": [
       "<div>\n",
       "<style scoped>\n",
       "    .dataframe tbody tr th:only-of-type {\n",
       "        vertical-align: middle;\n",
       "    }\n",
       "\n",
       "    .dataframe tbody tr th {\n",
       "        vertical-align: top;\n",
       "    }\n",
       "\n",
       "    .dataframe thead th {\n",
       "        text-align: right;\n",
       "    }\n",
       "</style>\n",
       "<table border=\"1\" class=\"dataframe\">\n",
       "  <thead>\n",
       "    <tr style=\"text-align: right;\">\n",
       "      <th></th>\n",
       "      <th>user_id</th>\n",
       "      <th>score</th>\n",
       "      <th>city</th>\n",
       "      <th>gender</th>\n",
       "      <th>age</th>\n",
       "      <th>equity</th>\n",
       "      <th>balance</th>\n",
       "      <th>products</th>\n",
       "      <th>credit_card</th>\n",
       "      <th>last_activity</th>\n",
       "      <th>est_salary</th>\n",
       "      <th>churn</th>\n",
       "      <th>Ростов</th>\n",
       "      <th>Рыбинск</th>\n",
       "      <th>Ярославль</th>\n",
       "      <th>Ж</th>\n",
       "      <th>М</th>\n",
       "    </tr>\n",
       "  </thead>\n",
       "  <tbody>\n",
       "    <tr>\n",
       "      <th>0</th>\n",
       "      <td>183012</td>\n",
       "      <td>850.0</td>\n",
       "      <td>Рыбинск</td>\n",
       "      <td>Ж</td>\n",
       "      <td>25.0</td>\n",
       "      <td>1</td>\n",
       "      <td>59214.82</td>\n",
       "      <td>2</td>\n",
       "      <td>0</td>\n",
       "      <td>1</td>\n",
       "      <td>75719.14</td>\n",
       "      <td>1</td>\n",
       "      <td>0</td>\n",
       "      <td>1</td>\n",
       "      <td>0</td>\n",
       "      <td>1</td>\n",
       "      <td>0</td>\n",
       "    </tr>\n",
       "    <tr>\n",
       "      <th>1</th>\n",
       "      <td>146556</td>\n",
       "      <td>861.0</td>\n",
       "      <td>Рыбинск</td>\n",
       "      <td>Ж</td>\n",
       "      <td>37.0</td>\n",
       "      <td>5</td>\n",
       "      <td>850594.33</td>\n",
       "      <td>3</td>\n",
       "      <td>1</td>\n",
       "      <td>0</td>\n",
       "      <td>86621.77</td>\n",
       "      <td>0</td>\n",
       "      <td>0</td>\n",
       "      <td>1</td>\n",
       "      <td>0</td>\n",
       "      <td>1</td>\n",
       "      <td>0</td>\n",
       "    </tr>\n",
       "    <tr>\n",
       "      <th>2</th>\n",
       "      <td>120722</td>\n",
       "      <td>892.0</td>\n",
       "      <td>Рыбинск</td>\n",
       "      <td>Ж</td>\n",
       "      <td>30.0</td>\n",
       "      <td>0</td>\n",
       "      <td>NaN</td>\n",
       "      <td>1</td>\n",
       "      <td>1</td>\n",
       "      <td>1</td>\n",
       "      <td>107683.34</td>\n",
       "      <td>0</td>\n",
       "      <td>0</td>\n",
       "      <td>1</td>\n",
       "      <td>0</td>\n",
       "      <td>1</td>\n",
       "      <td>0</td>\n",
       "    </tr>\n",
       "    <tr>\n",
       "      <th>3</th>\n",
       "      <td>225363</td>\n",
       "      <td>866.0</td>\n",
       "      <td>Ярославль</td>\n",
       "      <td>Ж</td>\n",
       "      <td>51.0</td>\n",
       "      <td>5</td>\n",
       "      <td>1524746.26</td>\n",
       "      <td>2</td>\n",
       "      <td>0</td>\n",
       "      <td>1</td>\n",
       "      <td>174423.53</td>\n",
       "      <td>1</td>\n",
       "      <td>0</td>\n",
       "      <td>0</td>\n",
       "      <td>1</td>\n",
       "      <td>1</td>\n",
       "      <td>0</td>\n",
       "    </tr>\n",
       "    <tr>\n",
       "      <th>4</th>\n",
       "      <td>157978</td>\n",
       "      <td>730.0</td>\n",
       "      <td>Ярославль</td>\n",
       "      <td>М</td>\n",
       "      <td>34.0</td>\n",
       "      <td>5</td>\n",
       "      <td>174.00</td>\n",
       "      <td>1</td>\n",
       "      <td>1</td>\n",
       "      <td>0</td>\n",
       "      <td>67353.16</td>\n",
       "      <td>1</td>\n",
       "      <td>0</td>\n",
       "      <td>0</td>\n",
       "      <td>1</td>\n",
       "      <td>0</td>\n",
       "      <td>1</td>\n",
       "    </tr>\n",
       "    <tr>\n",
       "      <th>5</th>\n",
       "      <td>202305</td>\n",
       "      <td>856.0</td>\n",
       "      <td>Рыбинск</td>\n",
       "      <td>М</td>\n",
       "      <td>56.0</td>\n",
       "      <td>4</td>\n",
       "      <td>863687.24</td>\n",
       "      <td>3</td>\n",
       "      <td>1</td>\n",
       "      <td>0</td>\n",
       "      <td>156619.80</td>\n",
       "      <td>0</td>\n",
       "      <td>0</td>\n",
       "      <td>1</td>\n",
       "      <td>0</td>\n",
       "      <td>0</td>\n",
       "      <td>1</td>\n",
       "    </tr>\n",
       "    <tr>\n",
       "      <th>6</th>\n",
       "      <td>177259</td>\n",
       "      <td>807.0</td>\n",
       "      <td>Ярославль</td>\n",
       "      <td>Ж</td>\n",
       "      <td>39.0</td>\n",
       "      <td>3</td>\n",
       "      <td>405042.44</td>\n",
       "      <td>3</td>\n",
       "      <td>0</td>\n",
       "      <td>1</td>\n",
       "      <td>103838.32</td>\n",
       "      <td>0</td>\n",
       "      <td>0</td>\n",
       "      <td>0</td>\n",
       "      <td>1</td>\n",
       "      <td>1</td>\n",
       "      <td>0</td>\n",
       "    </tr>\n",
       "    <tr>\n",
       "      <th>7</th>\n",
       "      <td>218868</td>\n",
       "      <td>825.0</td>\n",
       "      <td>Ярославль</td>\n",
       "      <td>Ж</td>\n",
       "      <td>38.0</td>\n",
       "      <td>4</td>\n",
       "      <td>458145.40</td>\n",
       "      <td>2</td>\n",
       "      <td>1</td>\n",
       "      <td>1</td>\n",
       "      <td>68085.48</td>\n",
       "      <td>0</td>\n",
       "      <td>0</td>\n",
       "      <td>0</td>\n",
       "      <td>1</td>\n",
       "      <td>1</td>\n",
       "      <td>0</td>\n",
       "    </tr>\n",
       "    <tr>\n",
       "      <th>8</th>\n",
       "      <td>211686</td>\n",
       "      <td>923.0</td>\n",
       "      <td>Ярославль</td>\n",
       "      <td>М</td>\n",
       "      <td>54.0</td>\n",
       "      <td>5</td>\n",
       "      <td>1206337.87</td>\n",
       "      <td>2</td>\n",
       "      <td>1</td>\n",
       "      <td>0</td>\n",
       "      <td>155371.79</td>\n",
       "      <td>0</td>\n",
       "      <td>0</td>\n",
       "      <td>0</td>\n",
       "      <td>1</td>\n",
       "      <td>0</td>\n",
       "      <td>1</td>\n",
       "    </tr>\n",
       "    <tr>\n",
       "      <th>9</th>\n",
       "      <td>133130</td>\n",
       "      <td>906.0</td>\n",
       "      <td>Ярославль</td>\n",
       "      <td>Ж</td>\n",
       "      <td>67.0</td>\n",
       "      <td>0</td>\n",
       "      <td>NaN</td>\n",
       "      <td>1</td>\n",
       "      <td>0</td>\n",
       "      <td>1</td>\n",
       "      <td>238055.53</td>\n",
       "      <td>0</td>\n",
       "      <td>0</td>\n",
       "      <td>0</td>\n",
       "      <td>1</td>\n",
       "      <td>1</td>\n",
       "      <td>0</td>\n",
       "    </tr>\n",
       "  </tbody>\n",
       "</table>\n",
       "</div>"
      ],
      "text/plain": [
       "   user_id  score       city gender   age  equity     balance  products  \\\n",
       "0   183012  850.0    Рыбинск      Ж  25.0       1    59214.82         2   \n",
       "1   146556  861.0    Рыбинск      Ж  37.0       5   850594.33         3   \n",
       "2   120722  892.0    Рыбинск      Ж  30.0       0         NaN         1   \n",
       "3   225363  866.0  Ярославль      Ж  51.0       5  1524746.26         2   \n",
       "4   157978  730.0  Ярославль      М  34.0       5      174.00         1   \n",
       "5   202305  856.0    Рыбинск      М  56.0       4   863687.24         3   \n",
       "6   177259  807.0  Ярославль      Ж  39.0       3   405042.44         3   \n",
       "7   218868  825.0  Ярославль      Ж  38.0       4   458145.40         2   \n",
       "8   211686  923.0  Ярославль      М  54.0       5  1206337.87         2   \n",
       "9   133130  906.0  Ярославль      Ж  67.0       0         NaN         1   \n",
       "\n",
       "   credit_card  last_activity  est_salary  churn  Ростов  Рыбинск  Ярославль  \\\n",
       "0            0              1    75719.14      1       0        1          0   \n",
       "1            1              0    86621.77      0       0        1          0   \n",
       "2            1              1   107683.34      0       0        1          0   \n",
       "3            0              1   174423.53      1       0        0          1   \n",
       "4            1              0    67353.16      1       0        0          1   \n",
       "5            1              0   156619.80      0       0        1          0   \n",
       "6            0              1   103838.32      0       0        0          1   \n",
       "7            1              1    68085.48      0       0        0          1   \n",
       "8            1              0   155371.79      0       0        0          1   \n",
       "9            0              1   238055.53      0       0        0          1   \n",
       "\n",
       "   Ж  М  \n",
       "0  1  0  \n",
       "1  1  0  \n",
       "2  1  0  \n",
       "3  1  0  \n",
       "4  0  1  \n",
       "5  0  1  \n",
       "6  1  0  \n",
       "7  1  0  \n",
       "8  0  1  \n",
       "9  1  0  "
      ]
     },
     "execution_count": 11,
     "metadata": {},
     "output_type": "execute_result"
    }
   ],
   "source": [
    "banks['city_dum']=banks['city']\n",
    "banks['gen_dum']=banks['gender']\n",
    "banks=pd.get_dummies(banks, columns=['city_dum','gen_dum'], prefix='', prefix_sep='')\n",
    "banks.head(10)"
   ]
  },
  {
   "cell_type": "markdown",
   "metadata": {},
   "source": [
    "### Поиск и удаление дубликатов"
   ]
  },
  {
   "cell_type": "code",
   "execution_count": 12,
   "metadata": {},
   "outputs": [
    {
     "data": {
      "text/plain": [
       "0"
      ]
     },
     "execution_count": 12,
     "metadata": {},
     "output_type": "execute_result"
    }
   ],
   "source": [
    "banks.duplicated().sum()"
   ]
  },
  {
   "cell_type": "markdown",
   "metadata": {},
   "source": [
    "Дубликатов в данных нет  \n",
    "  \n",
    "Проверим на уникальность/наличие дубликатов столбец с id клиентов:"
   ]
  },
  {
   "cell_type": "code",
   "execution_count": 13,
   "metadata": {},
   "outputs": [
    {
     "data": {
      "text/plain": [
       "50"
      ]
     },
     "execution_count": 13,
     "metadata": {},
     "output_type": "execute_result"
    }
   ],
   "source": [
    "banks['user_id'].duplicated().sum()"
   ]
  },
  {
   "cell_type": "markdown",
   "metadata": {},
   "source": [
    "Всего 50 дубликатов  \n",
    "Посмотрим на эти строки:"
   ]
  },
  {
   "cell_type": "code",
   "execution_count": 14,
   "metadata": {},
   "outputs": [
    {
     "data": {
      "text/html": [
       "<div>\n",
       "<style scoped>\n",
       "    .dataframe tbody tr th:only-of-type {\n",
       "        vertical-align: middle;\n",
       "    }\n",
       "\n",
       "    .dataframe tbody tr th {\n",
       "        vertical-align: top;\n",
       "    }\n",
       "\n",
       "    .dataframe thead th {\n",
       "        text-align: right;\n",
       "    }\n",
       "</style>\n",
       "<table border=\"1\" class=\"dataframe\">\n",
       "  <thead>\n",
       "    <tr style=\"text-align: right;\">\n",
       "      <th></th>\n",
       "      <th>user_id</th>\n",
       "      <th>score</th>\n",
       "      <th>city</th>\n",
       "      <th>gender</th>\n",
       "      <th>age</th>\n",
       "      <th>equity</th>\n",
       "      <th>balance</th>\n",
       "      <th>products</th>\n",
       "      <th>credit_card</th>\n",
       "      <th>last_activity</th>\n",
       "      <th>est_salary</th>\n",
       "      <th>churn</th>\n",
       "      <th>Ростов</th>\n",
       "      <th>Рыбинск</th>\n",
       "      <th>Ярославль</th>\n",
       "      <th>Ж</th>\n",
       "      <th>М</th>\n",
       "    </tr>\n",
       "  </thead>\n",
       "  <tbody>\n",
       "    <tr>\n",
       "      <th>1893</th>\n",
       "      <td>116540</td>\n",
       "      <td>883.0</td>\n",
       "      <td>Рыбинск</td>\n",
       "      <td>Ж</td>\n",
       "      <td>55.0</td>\n",
       "      <td>1</td>\n",
       "      <td>362756.49</td>\n",
       "      <td>3</td>\n",
       "      <td>0</td>\n",
       "      <td>1</td>\n",
       "      <td>175920.48</td>\n",
       "      <td>1</td>\n",
       "      <td>0</td>\n",
       "      <td>1</td>\n",
       "      <td>0</td>\n",
       "      <td>1</td>\n",
       "      <td>0</td>\n",
       "    </tr>\n",
       "    <tr>\n",
       "      <th>7694</th>\n",
       "      <td>116540</td>\n",
       "      <td>887.0</td>\n",
       "      <td>Ярославль</td>\n",
       "      <td>Ж</td>\n",
       "      <td>38.0</td>\n",
       "      <td>0</td>\n",
       "      <td>NaN</td>\n",
       "      <td>1</td>\n",
       "      <td>0</td>\n",
       "      <td>1</td>\n",
       "      <td>119247.61</td>\n",
       "      <td>0</td>\n",
       "      <td>0</td>\n",
       "      <td>0</td>\n",
       "      <td>1</td>\n",
       "      <td>1</td>\n",
       "      <td>0</td>\n",
       "    </tr>\n",
       "    <tr>\n",
       "      <th>4866</th>\n",
       "      <td>117943</td>\n",
       "      <td>855.0</td>\n",
       "      <td>Рыбинск</td>\n",
       "      <td>Ж</td>\n",
       "      <td>32.0</td>\n",
       "      <td>6</td>\n",
       "      <td>1036832.93</td>\n",
       "      <td>4</td>\n",
       "      <td>1</td>\n",
       "      <td>1</td>\n",
       "      <td>107792.71</td>\n",
       "      <td>1</td>\n",
       "      <td>0</td>\n",
       "      <td>1</td>\n",
       "      <td>0</td>\n",
       "      <td>1</td>\n",
       "      <td>0</td>\n",
       "    </tr>\n",
       "    <tr>\n",
       "      <th>7542</th>\n",
       "      <td>117943</td>\n",
       "      <td>880.0</td>\n",
       "      <td>Ярославль</td>\n",
       "      <td>Ж</td>\n",
       "      <td>40.0</td>\n",
       "      <td>0</td>\n",
       "      <td>NaN</td>\n",
       "      <td>1</td>\n",
       "      <td>1</td>\n",
       "      <td>0</td>\n",
       "      <td>137718.93</td>\n",
       "      <td>0</td>\n",
       "      <td>0</td>\n",
       "      <td>0</td>\n",
       "      <td>1</td>\n",
       "      <td>1</td>\n",
       "      <td>0</td>\n",
       "    </tr>\n",
       "    <tr>\n",
       "      <th>5863</th>\n",
       "      <td>120258</td>\n",
       "      <td>908.0</td>\n",
       "      <td>Рыбинск</td>\n",
       "      <td>Ж</td>\n",
       "      <td>38.0</td>\n",
       "      <td>4</td>\n",
       "      <td>2213581.63</td>\n",
       "      <td>2</td>\n",
       "      <td>0</td>\n",
       "      <td>1</td>\n",
       "      <td>160327.77</td>\n",
       "      <td>1</td>\n",
       "      <td>0</td>\n",
       "      <td>1</td>\n",
       "      <td>0</td>\n",
       "      <td>1</td>\n",
       "      <td>0</td>\n",
       "    </tr>\n",
       "    <tr>\n",
       "      <th>5896</th>\n",
       "      <td>120258</td>\n",
       "      <td>905.0</td>\n",
       "      <td>Ярославль</td>\n",
       "      <td>М</td>\n",
       "      <td>30.0</td>\n",
       "      <td>0</td>\n",
       "      <td>NaN</td>\n",
       "      <td>1</td>\n",
       "      <td>1</td>\n",
       "      <td>1</td>\n",
       "      <td>146427.96</td>\n",
       "      <td>0</td>\n",
       "      <td>0</td>\n",
       "      <td>0</td>\n",
       "      <td>1</td>\n",
       "      <td>0</td>\n",
       "      <td>1</td>\n",
       "    </tr>\n",
       "    <tr>\n",
       "      <th>1411</th>\n",
       "      <td>123461</td>\n",
       "      <td>829.0</td>\n",
       "      <td>Ярославль</td>\n",
       "      <td>Ж</td>\n",
       "      <td>59.0</td>\n",
       "      <td>0</td>\n",
       "      <td>96222.44</td>\n",
       "      <td>2</td>\n",
       "      <td>0</td>\n",
       "      <td>1</td>\n",
       "      <td>102771.55</td>\n",
       "      <td>1</td>\n",
       "      <td>0</td>\n",
       "      <td>0</td>\n",
       "      <td>1</td>\n",
       "      <td>1</td>\n",
       "      <td>0</td>\n",
       "    </tr>\n",
       "    <tr>\n",
       "      <th>8638</th>\n",
       "      <td>123461</td>\n",
       "      <td>934.0</td>\n",
       "      <td>Рыбинск</td>\n",
       "      <td>М</td>\n",
       "      <td>34.0</td>\n",
       "      <td>0</td>\n",
       "      <td>NaN</td>\n",
       "      <td>2</td>\n",
       "      <td>1</td>\n",
       "      <td>0</td>\n",
       "      <td>291619.27</td>\n",
       "      <td>0</td>\n",
       "      <td>0</td>\n",
       "      <td>1</td>\n",
       "      <td>0</td>\n",
       "      <td>0</td>\n",
       "      <td>1</td>\n",
       "    </tr>\n",
       "    <tr>\n",
       "      <th>9775</th>\n",
       "      <td>124450</td>\n",
       "      <td>758.0</td>\n",
       "      <td>Рыбинск</td>\n",
       "      <td>Ж</td>\n",
       "      <td>36.0</td>\n",
       "      <td>0</td>\n",
       "      <td>73574.07</td>\n",
       "      <td>2</td>\n",
       "      <td>0</td>\n",
       "      <td>1</td>\n",
       "      <td>79963.59</td>\n",
       "      <td>0</td>\n",
       "      <td>0</td>\n",
       "      <td>1</td>\n",
       "      <td>0</td>\n",
       "      <td>1</td>\n",
       "      <td>0</td>\n",
       "    </tr>\n",
       "    <tr>\n",
       "      <th>8164</th>\n",
       "      <td>124450</td>\n",
       "      <td>859.0</td>\n",
       "      <td>Ярославль</td>\n",
       "      <td>Ж</td>\n",
       "      <td>38.0</td>\n",
       "      <td>6</td>\n",
       "      <td>516811.20</td>\n",
       "      <td>1</td>\n",
       "      <td>1</td>\n",
       "      <td>1</td>\n",
       "      <td>95144.63</td>\n",
       "      <td>1</td>\n",
       "      <td>0</td>\n",
       "      <td>0</td>\n",
       "      <td>1</td>\n",
       "      <td>1</td>\n",
       "      <td>0</td>\n",
       "    </tr>\n",
       "  </tbody>\n",
       "</table>\n",
       "</div>"
      ],
      "text/plain": [
       "      user_id  score       city gender   age  equity     balance  products  \\\n",
       "1893   116540  883.0    Рыбинск      Ж  55.0       1   362756.49         3   \n",
       "7694   116540  887.0  Ярославль      Ж  38.0       0         NaN         1   \n",
       "4866   117943  855.0    Рыбинск      Ж  32.0       6  1036832.93         4   \n",
       "7542   117943  880.0  Ярославль      Ж  40.0       0         NaN         1   \n",
       "5863   120258  908.0    Рыбинск      Ж  38.0       4  2213581.63         2   \n",
       "5896   120258  905.0  Ярославль      М  30.0       0         NaN         1   \n",
       "1411   123461  829.0  Ярославль      Ж  59.0       0    96222.44         2   \n",
       "8638   123461  934.0    Рыбинск      М  34.0       0         NaN         2   \n",
       "9775   124450  758.0    Рыбинск      Ж  36.0       0    73574.07         2   \n",
       "8164   124450  859.0  Ярославль      Ж  38.0       6   516811.20         1   \n",
       "\n",
       "      credit_card  last_activity  est_salary  churn  Ростов  Рыбинск  \\\n",
       "1893            0              1   175920.48      1       0        1   \n",
       "7694            0              1   119247.61      0       0        0   \n",
       "4866            1              1   107792.71      1       0        1   \n",
       "7542            1              0   137718.93      0       0        0   \n",
       "5863            0              1   160327.77      1       0        1   \n",
       "5896            1              1   146427.96      0       0        0   \n",
       "1411            0              1   102771.55      1       0        0   \n",
       "8638            1              0   291619.27      0       0        1   \n",
       "9775            0              1    79963.59      0       0        1   \n",
       "8164            1              1    95144.63      1       0        0   \n",
       "\n",
       "      Ярославль  Ж  М  \n",
       "1893          0  1  0  \n",
       "7694          1  1  0  \n",
       "4866          0  1  0  \n",
       "7542          1  1  0  \n",
       "5863          0  1  0  \n",
       "5896          1  0  1  \n",
       "1411          1  1  0  \n",
       "8638          0  0  1  \n",
       "9775          0  1  0  \n",
       "8164          1  1  0  "
      ]
     },
     "execution_count": 14,
     "metadata": {},
     "output_type": "execute_result"
    }
   ],
   "source": [
    "banks[banks['user_id'].duplicated(keep=False)].sort_values(by=['user_id']).head(10)"
   ]
  },
  {
   "cell_type": "code",
   "execution_count": 15,
   "metadata": {
    "scrolled": true
   },
   "outputs": [
    {
     "data": {
      "text/html": [
       "<div>\n",
       "<style scoped>\n",
       "    .dataframe tbody tr th:only-of-type {\n",
       "        vertical-align: middle;\n",
       "    }\n",
       "\n",
       "    .dataframe tbody tr th {\n",
       "        vertical-align: top;\n",
       "    }\n",
       "\n",
       "    .dataframe thead th {\n",
       "        text-align: right;\n",
       "    }\n",
       "</style>\n",
       "<table border=\"1\" class=\"dataframe\">\n",
       "  <thead>\n",
       "    <tr style=\"text-align: right;\">\n",
       "      <th></th>\n",
       "      <th>user_id</th>\n",
       "      <th>score</th>\n",
       "      <th>city</th>\n",
       "      <th>gender</th>\n",
       "      <th>age</th>\n",
       "      <th>equity</th>\n",
       "      <th>balance</th>\n",
       "      <th>products</th>\n",
       "      <th>credit_card</th>\n",
       "      <th>last_activity</th>\n",
       "      <th>est_salary</th>\n",
       "      <th>churn</th>\n",
       "      <th>Ростов</th>\n",
       "      <th>Рыбинск</th>\n",
       "      <th>Ярославль</th>\n",
       "      <th>Ж</th>\n",
       "      <th>М</th>\n",
       "    </tr>\n",
       "  </thead>\n",
       "  <tbody>\n",
       "    <tr>\n",
       "      <th>1893</th>\n",
       "      <td>116540</td>\n",
       "      <td>883.0</td>\n",
       "      <td>Рыбинск</td>\n",
       "      <td>Ж</td>\n",
       "      <td>55.0</td>\n",
       "      <td>1</td>\n",
       "      <td>362756.49</td>\n",
       "      <td>3</td>\n",
       "      <td>0</td>\n",
       "      <td>1</td>\n",
       "      <td>175920.48</td>\n",
       "      <td>1</td>\n",
       "      <td>0</td>\n",
       "      <td>1</td>\n",
       "      <td>0</td>\n",
       "      <td>1</td>\n",
       "      <td>0</td>\n",
       "    </tr>\n",
       "    <tr>\n",
       "      <th>4866</th>\n",
       "      <td>117943</td>\n",
       "      <td>855.0</td>\n",
       "      <td>Рыбинск</td>\n",
       "      <td>Ж</td>\n",
       "      <td>32.0</td>\n",
       "      <td>6</td>\n",
       "      <td>1036832.93</td>\n",
       "      <td>4</td>\n",
       "      <td>1</td>\n",
       "      <td>1</td>\n",
       "      <td>107792.71</td>\n",
       "      <td>1</td>\n",
       "      <td>0</td>\n",
       "      <td>1</td>\n",
       "      <td>0</td>\n",
       "      <td>1</td>\n",
       "      <td>0</td>\n",
       "    </tr>\n",
       "    <tr>\n",
       "      <th>5863</th>\n",
       "      <td>120258</td>\n",
       "      <td>908.0</td>\n",
       "      <td>Рыбинск</td>\n",
       "      <td>Ж</td>\n",
       "      <td>38.0</td>\n",
       "      <td>4</td>\n",
       "      <td>2213581.63</td>\n",
       "      <td>2</td>\n",
       "      <td>0</td>\n",
       "      <td>1</td>\n",
       "      <td>160327.77</td>\n",
       "      <td>1</td>\n",
       "      <td>0</td>\n",
       "      <td>1</td>\n",
       "      <td>0</td>\n",
       "      <td>1</td>\n",
       "      <td>0</td>\n",
       "    </tr>\n",
       "    <tr>\n",
       "      <th>8638</th>\n",
       "      <td>123461</td>\n",
       "      <td>934.0</td>\n",
       "      <td>Рыбинск</td>\n",
       "      <td>М</td>\n",
       "      <td>34.0</td>\n",
       "      <td>0</td>\n",
       "      <td>NaN</td>\n",
       "      <td>2</td>\n",
       "      <td>1</td>\n",
       "      <td>0</td>\n",
       "      <td>291619.27</td>\n",
       "      <td>0</td>\n",
       "      <td>0</td>\n",
       "      <td>1</td>\n",
       "      <td>0</td>\n",
       "      <td>0</td>\n",
       "      <td>1</td>\n",
       "    </tr>\n",
       "    <tr>\n",
       "      <th>9775</th>\n",
       "      <td>124450</td>\n",
       "      <td>758.0</td>\n",
       "      <td>Рыбинск</td>\n",
       "      <td>Ж</td>\n",
       "      <td>36.0</td>\n",
       "      <td>0</td>\n",
       "      <td>73574.07</td>\n",
       "      <td>2</td>\n",
       "      <td>0</td>\n",
       "      <td>1</td>\n",
       "      <td>79963.59</td>\n",
       "      <td>0</td>\n",
       "      <td>0</td>\n",
       "      <td>1</td>\n",
       "      <td>0</td>\n",
       "      <td>1</td>\n",
       "      <td>0</td>\n",
       "    </tr>\n",
       "    <tr>\n",
       "      <th>5420</th>\n",
       "      <td>126368</td>\n",
       "      <td>832.0</td>\n",
       "      <td>Рыбинск</td>\n",
       "      <td>Ж</td>\n",
       "      <td>33.0</td>\n",
       "      <td>0</td>\n",
       "      <td>NaN</td>\n",
       "      <td>1</td>\n",
       "      <td>0</td>\n",
       "      <td>0</td>\n",
       "      <td>118465.34</td>\n",
       "      <td>0</td>\n",
       "      <td>0</td>\n",
       "      <td>1</td>\n",
       "      <td>0</td>\n",
       "      <td>1</td>\n",
       "      <td>0</td>\n",
       "    </tr>\n",
       "    <tr>\n",
       "      <th>3988</th>\n",
       "      <td>129785</td>\n",
       "      <td>904.0</td>\n",
       "      <td>Рыбинск</td>\n",
       "      <td>М</td>\n",
       "      <td>33.0</td>\n",
       "      <td>5</td>\n",
       "      <td>2427737.60</td>\n",
       "      <td>3</td>\n",
       "      <td>0</td>\n",
       "      <td>1</td>\n",
       "      <td>188856.75</td>\n",
       "      <td>1</td>\n",
       "      <td>0</td>\n",
       "      <td>1</td>\n",
       "      <td>0</td>\n",
       "      <td>0</td>\n",
       "      <td>1</td>\n",
       "    </tr>\n",
       "    <tr>\n",
       "      <th>2138</th>\n",
       "      <td>131419</td>\n",
       "      <td>739.0</td>\n",
       "      <td>Рыбинск</td>\n",
       "      <td>Ж</td>\n",
       "      <td>37.0</td>\n",
       "      <td>3</td>\n",
       "      <td>1307941.65</td>\n",
       "      <td>3</td>\n",
       "      <td>0</td>\n",
       "      <td>0</td>\n",
       "      <td>103867.47</td>\n",
       "      <td>0</td>\n",
       "      <td>0</td>\n",
       "      <td>1</td>\n",
       "      <td>0</td>\n",
       "      <td>1</td>\n",
       "      <td>0</td>\n",
       "    </tr>\n",
       "    <tr>\n",
       "      <th>7487</th>\n",
       "      <td>140377</td>\n",
       "      <td>930.0</td>\n",
       "      <td>Рыбинск</td>\n",
       "      <td>Ж</td>\n",
       "      <td>34.0</td>\n",
       "      <td>5</td>\n",
       "      <td>1123967.02</td>\n",
       "      <td>1</td>\n",
       "      <td>1</td>\n",
       "      <td>1</td>\n",
       "      <td>148336.26</td>\n",
       "      <td>0</td>\n",
       "      <td>0</td>\n",
       "      <td>1</td>\n",
       "      <td>0</td>\n",
       "      <td>1</td>\n",
       "      <td>0</td>\n",
       "    </tr>\n",
       "    <tr>\n",
       "      <th>5569</th>\n",
       "      <td>141265</td>\n",
       "      <td>811.0</td>\n",
       "      <td>Рыбинск</td>\n",
       "      <td>Ж</td>\n",
       "      <td>33.0</td>\n",
       "      <td>3</td>\n",
       "      <td>1044316.88</td>\n",
       "      <td>2</td>\n",
       "      <td>1</td>\n",
       "      <td>0</td>\n",
       "      <td>46055.32</td>\n",
       "      <td>0</td>\n",
       "      <td>0</td>\n",
       "      <td>1</td>\n",
       "      <td>0</td>\n",
       "      <td>1</td>\n",
       "      <td>0</td>\n",
       "    </tr>\n",
       "    <tr>\n",
       "      <th>5369</th>\n",
       "      <td>143592</td>\n",
       "      <td>885.0</td>\n",
       "      <td>Рыбинск</td>\n",
       "      <td>Ж</td>\n",
       "      <td>56.0</td>\n",
       "      <td>4</td>\n",
       "      <td>1201087.46</td>\n",
       "      <td>2</td>\n",
       "      <td>1</td>\n",
       "      <td>1</td>\n",
       "      <td>88223.89</td>\n",
       "      <td>1</td>\n",
       "      <td>0</td>\n",
       "      <td>1</td>\n",
       "      <td>0</td>\n",
       "      <td>1</td>\n",
       "      <td>0</td>\n",
       "    </tr>\n",
       "    <tr>\n",
       "      <th>8364</th>\n",
       "      <td>148826</td>\n",
       "      <td>909.0</td>\n",
       "      <td>Рыбинск</td>\n",
       "      <td>Ж</td>\n",
       "      <td>32.0</td>\n",
       "      <td>0</td>\n",
       "      <td>NaN</td>\n",
       "      <td>3</td>\n",
       "      <td>1</td>\n",
       "      <td>0</td>\n",
       "      <td>28843.54</td>\n",
       "      <td>0</td>\n",
       "      <td>0</td>\n",
       "      <td>1</td>\n",
       "      <td>0</td>\n",
       "      <td>1</td>\n",
       "      <td>0</td>\n",
       "    </tr>\n",
       "    <tr>\n",
       "      <th>8272</th>\n",
       "      <td>149365</td>\n",
       "      <td>793.0</td>\n",
       "      <td>Рыбинск</td>\n",
       "      <td>Ж</td>\n",
       "      <td>61.0</td>\n",
       "      <td>0</td>\n",
       "      <td>476496.99</td>\n",
       "      <td>2</td>\n",
       "      <td>1</td>\n",
       "      <td>1</td>\n",
       "      <td>46147.06</td>\n",
       "      <td>0</td>\n",
       "      <td>0</td>\n",
       "      <td>1</td>\n",
       "      <td>0</td>\n",
       "      <td>1</td>\n",
       "      <td>0</td>\n",
       "    </tr>\n",
       "    <tr>\n",
       "      <th>2439</th>\n",
       "      <td>150667</td>\n",
       "      <td>813.0</td>\n",
       "      <td>Рыбинск</td>\n",
       "      <td>Ж</td>\n",
       "      <td>44.0</td>\n",
       "      <td>0</td>\n",
       "      <td>62504.47</td>\n",
       "      <td>4</td>\n",
       "      <td>1</td>\n",
       "      <td>0</td>\n",
       "      <td>152393.79</td>\n",
       "      <td>1</td>\n",
       "      <td>0</td>\n",
       "      <td>1</td>\n",
       "      <td>0</td>\n",
       "      <td>1</td>\n",
       "      <td>0</td>\n",
       "    </tr>\n",
       "    <tr>\n",
       "      <th>690</th>\n",
       "      <td>152479</td>\n",
       "      <td>768.0</td>\n",
       "      <td>Рыбинск</td>\n",
       "      <td>Ж</td>\n",
       "      <td>42.0</td>\n",
       "      <td>0</td>\n",
       "      <td>126787.79</td>\n",
       "      <td>4</td>\n",
       "      <td>1</td>\n",
       "      <td>1</td>\n",
       "      <td>143233.23</td>\n",
       "      <td>1</td>\n",
       "      <td>0</td>\n",
       "      <td>1</td>\n",
       "      <td>0</td>\n",
       "      <td>1</td>\n",
       "      <td>0</td>\n",
       "    </tr>\n",
       "    <tr>\n",
       "      <th>5197</th>\n",
       "      <td>155765</td>\n",
       "      <td>923.0</td>\n",
       "      <td>Рыбинск</td>\n",
       "      <td>М</td>\n",
       "      <td>30.0</td>\n",
       "      <td>0</td>\n",
       "      <td>NaN</td>\n",
       "      <td>1</td>\n",
       "      <td>1</td>\n",
       "      <td>1</td>\n",
       "      <td>120296.60</td>\n",
       "      <td>0</td>\n",
       "      <td>0</td>\n",
       "      <td>1</td>\n",
       "      <td>0</td>\n",
       "      <td>0</td>\n",
       "      <td>1</td>\n",
       "    </tr>\n",
       "    <tr>\n",
       "      <th>9363</th>\n",
       "      <td>155872</td>\n",
       "      <td>714.0</td>\n",
       "      <td>Рыбинск</td>\n",
       "      <td>Ж</td>\n",
       "      <td>29.0</td>\n",
       "      <td>0</td>\n",
       "      <td>NaN</td>\n",
       "      <td>1</td>\n",
       "      <td>1</td>\n",
       "      <td>0</td>\n",
       "      <td>118052.84</td>\n",
       "      <td>0</td>\n",
       "      <td>0</td>\n",
       "      <td>1</td>\n",
       "      <td>0</td>\n",
       "      <td>1</td>\n",
       "      <td>0</td>\n",
       "    </tr>\n",
       "    <tr>\n",
       "      <th>9508</th>\n",
       "      <td>160075</td>\n",
       "      <td>824.0</td>\n",
       "      <td>Рыбинск</td>\n",
       "      <td>Ж</td>\n",
       "      <td>57.0</td>\n",
       "      <td>3</td>\n",
       "      <td>355047.33</td>\n",
       "      <td>2</td>\n",
       "      <td>0</td>\n",
       "      <td>0</td>\n",
       "      <td>64351.81</td>\n",
       "      <td>0</td>\n",
       "      <td>0</td>\n",
       "      <td>1</td>\n",
       "      <td>0</td>\n",
       "      <td>1</td>\n",
       "      <td>0</td>\n",
       "    </tr>\n",
       "    <tr>\n",
       "      <th>5629</th>\n",
       "      <td>162053</td>\n",
       "      <td>921.0</td>\n",
       "      <td>Рыбинск</td>\n",
       "      <td>М</td>\n",
       "      <td>33.0</td>\n",
       "      <td>3</td>\n",
       "      <td>857011.13</td>\n",
       "      <td>2</td>\n",
       "      <td>1</td>\n",
       "      <td>1</td>\n",
       "      <td>113512.57</td>\n",
       "      <td>1</td>\n",
       "      <td>0</td>\n",
       "      <td>1</td>\n",
       "      <td>0</td>\n",
       "      <td>0</td>\n",
       "      <td>1</td>\n",
       "    </tr>\n",
       "    <tr>\n",
       "      <th>3564</th>\n",
       "      <td>163207</td>\n",
       "      <td>853.0</td>\n",
       "      <td>Рыбинск</td>\n",
       "      <td>М</td>\n",
       "      <td>42.0</td>\n",
       "      <td>4</td>\n",
       "      <td>543839.62</td>\n",
       "      <td>1</td>\n",
       "      <td>1</td>\n",
       "      <td>1</td>\n",
       "      <td>105281.97</td>\n",
       "      <td>1</td>\n",
       "      <td>0</td>\n",
       "      <td>1</td>\n",
       "      <td>0</td>\n",
       "      <td>0</td>\n",
       "      <td>1</td>\n",
       "    </tr>\n",
       "    <tr>\n",
       "      <th>7271</th>\n",
       "      <td>164676</td>\n",
       "      <td>790.0</td>\n",
       "      <td>Рыбинск</td>\n",
       "      <td>Ж</td>\n",
       "      <td>77.0</td>\n",
       "      <td>1</td>\n",
       "      <td>111202.01</td>\n",
       "      <td>1</td>\n",
       "      <td>1</td>\n",
       "      <td>0</td>\n",
       "      <td>32835.45</td>\n",
       "      <td>0</td>\n",
       "      <td>0</td>\n",
       "      <td>1</td>\n",
       "      <td>0</td>\n",
       "      <td>1</td>\n",
       "      <td>0</td>\n",
       "    </tr>\n",
       "    <tr>\n",
       "      <th>9785</th>\n",
       "      <td>168998</td>\n",
       "      <td>895.0</td>\n",
       "      <td>Рыбинск</td>\n",
       "      <td>М</td>\n",
       "      <td>44.0</td>\n",
       "      <td>0</td>\n",
       "      <td>282653.53</td>\n",
       "      <td>3</td>\n",
       "      <td>0</td>\n",
       "      <td>0</td>\n",
       "      <td>255296.47</td>\n",
       "      <td>0</td>\n",
       "      <td>0</td>\n",
       "      <td>1</td>\n",
       "      <td>0</td>\n",
       "      <td>0</td>\n",
       "      <td>1</td>\n",
       "    </tr>\n",
       "    <tr>\n",
       "      <th>3039</th>\n",
       "      <td>170312</td>\n",
       "      <td>813.0</td>\n",
       "      <td>Рыбинск</td>\n",
       "      <td>Ж</td>\n",
       "      <td>47.0</td>\n",
       "      <td>3</td>\n",
       "      <td>370027.67</td>\n",
       "      <td>2</td>\n",
       "      <td>0</td>\n",
       "      <td>0</td>\n",
       "      <td>129835.56</td>\n",
       "      <td>0</td>\n",
       "      <td>0</td>\n",
       "      <td>1</td>\n",
       "      <td>0</td>\n",
       "      <td>1</td>\n",
       "      <td>0</td>\n",
       "    </tr>\n",
       "    <tr>\n",
       "      <th>4587</th>\n",
       "      <td>171751</td>\n",
       "      <td>874.0</td>\n",
       "      <td>Рыбинск</td>\n",
       "      <td>Ж</td>\n",
       "      <td>26.0</td>\n",
       "      <td>5</td>\n",
       "      <td>292054.42</td>\n",
       "      <td>2</td>\n",
       "      <td>0</td>\n",
       "      <td>1</td>\n",
       "      <td>20528.56</td>\n",
       "      <td>1</td>\n",
       "      <td>0</td>\n",
       "      <td>1</td>\n",
       "      <td>0</td>\n",
       "      <td>1</td>\n",
       "      <td>0</td>\n",
       "    </tr>\n",
       "    <tr>\n",
       "      <th>6756</th>\n",
       "      <td>172142</td>\n",
       "      <td>751.0</td>\n",
       "      <td>Рыбинск</td>\n",
       "      <td>Ж</td>\n",
       "      <td>69.0</td>\n",
       "      <td>3</td>\n",
       "      <td>396568.03</td>\n",
       "      <td>2</td>\n",
       "      <td>0</td>\n",
       "      <td>1</td>\n",
       "      <td>45608.45</td>\n",
       "      <td>0</td>\n",
       "      <td>0</td>\n",
       "      <td>1</td>\n",
       "      <td>0</td>\n",
       "      <td>1</td>\n",
       "      <td>0</td>\n",
       "    </tr>\n",
       "    <tr>\n",
       "      <th>9970</th>\n",
       "      <td>175730</td>\n",
       "      <td>816.0</td>\n",
       "      <td>Рыбинск</td>\n",
       "      <td>М</td>\n",
       "      <td>36.0</td>\n",
       "      <td>4</td>\n",
       "      <td>477892.07</td>\n",
       "      <td>3</td>\n",
       "      <td>1</td>\n",
       "      <td>0</td>\n",
       "      <td>81100.60</td>\n",
       "      <td>0</td>\n",
       "      <td>0</td>\n",
       "      <td>1</td>\n",
       "      <td>0</td>\n",
       "      <td>0</td>\n",
       "      <td>1</td>\n",
       "    </tr>\n",
       "    <tr>\n",
       "      <th>8705</th>\n",
       "      <td>181526</td>\n",
       "      <td>895.0</td>\n",
       "      <td>Рыбинск</td>\n",
       "      <td>М</td>\n",
       "      <td>29.0</td>\n",
       "      <td>0</td>\n",
       "      <td>NaN</td>\n",
       "      <td>1</td>\n",
       "      <td>1</td>\n",
       "      <td>1</td>\n",
       "      <td>124786.53</td>\n",
       "      <td>0</td>\n",
       "      <td>0</td>\n",
       "      <td>1</td>\n",
       "      <td>0</td>\n",
       "      <td>0</td>\n",
       "      <td>1</td>\n",
       "    </tr>\n",
       "    <tr>\n",
       "      <th>9146</th>\n",
       "      <td>183510</td>\n",
       "      <td>800.0</td>\n",
       "      <td>Рыбинск</td>\n",
       "      <td>Ж</td>\n",
       "      <td>42.0</td>\n",
       "      <td>7</td>\n",
       "      <td>473293.81</td>\n",
       "      <td>2</td>\n",
       "      <td>1</td>\n",
       "      <td>0</td>\n",
       "      <td>54049.88</td>\n",
       "      <td>0</td>\n",
       "      <td>0</td>\n",
       "      <td>1</td>\n",
       "      <td>0</td>\n",
       "      <td>1</td>\n",
       "      <td>0</td>\n",
       "    </tr>\n",
       "    <tr>\n",
       "      <th>150</th>\n",
       "      <td>185748</td>\n",
       "      <td>850.0</td>\n",
       "      <td>Рыбинск</td>\n",
       "      <td>М</td>\n",
       "      <td>36.0</td>\n",
       "      <td>5</td>\n",
       "      <td>1203376.67</td>\n",
       "      <td>2</td>\n",
       "      <td>0</td>\n",
       "      <td>1</td>\n",
       "      <td>89401.82</td>\n",
       "      <td>1</td>\n",
       "      <td>0</td>\n",
       "      <td>1</td>\n",
       "      <td>0</td>\n",
       "      <td>0</td>\n",
       "      <td>1</td>\n",
       "    </tr>\n",
       "    <tr>\n",
       "      <th>6005</th>\n",
       "      <td>188957</td>\n",
       "      <td>882.0</td>\n",
       "      <td>Рыбинск</td>\n",
       "      <td>Ж</td>\n",
       "      <td>64.0</td>\n",
       "      <td>3</td>\n",
       "      <td>893392.91</td>\n",
       "      <td>3</td>\n",
       "      <td>1</td>\n",
       "      <td>0</td>\n",
       "      <td>69622.58</td>\n",
       "      <td>0</td>\n",
       "      <td>0</td>\n",
       "      <td>1</td>\n",
       "      <td>0</td>\n",
       "      <td>1</td>\n",
       "      <td>0</td>\n",
       "    </tr>\n",
       "    <tr>\n",
       "      <th>231</th>\n",
       "      <td>190253</td>\n",
       "      <td>823.0</td>\n",
       "      <td>Рыбинск</td>\n",
       "      <td>М</td>\n",
       "      <td>37.0</td>\n",
       "      <td>4</td>\n",
       "      <td>373348.39</td>\n",
       "      <td>2</td>\n",
       "      <td>0</td>\n",
       "      <td>1</td>\n",
       "      <td>131947.92</td>\n",
       "      <td>1</td>\n",
       "      <td>0</td>\n",
       "      <td>1</td>\n",
       "      <td>0</td>\n",
       "      <td>0</td>\n",
       "      <td>1</td>\n",
       "    </tr>\n",
       "    <tr>\n",
       "      <th>3859</th>\n",
       "      <td>191520</td>\n",
       "      <td>773.0</td>\n",
       "      <td>Рыбинск</td>\n",
       "      <td>М</td>\n",
       "      <td>36.0</td>\n",
       "      <td>3</td>\n",
       "      <td>1219918.08</td>\n",
       "      <td>4</td>\n",
       "      <td>1</td>\n",
       "      <td>1</td>\n",
       "      <td>119933.13</td>\n",
       "      <td>1</td>\n",
       "      <td>0</td>\n",
       "      <td>1</td>\n",
       "      <td>0</td>\n",
       "      <td>0</td>\n",
       "      <td>1</td>\n",
       "    </tr>\n",
       "    <tr>\n",
       "      <th>9659</th>\n",
       "      <td>195884</td>\n",
       "      <td>767.0</td>\n",
       "      <td>Рыбинск</td>\n",
       "      <td>Ж</td>\n",
       "      <td>45.0</td>\n",
       "      <td>1</td>\n",
       "      <td>335652.56</td>\n",
       "      <td>3</td>\n",
       "      <td>1</td>\n",
       "      <td>1</td>\n",
       "      <td>100197.67</td>\n",
       "      <td>0</td>\n",
       "      <td>0</td>\n",
       "      <td>1</td>\n",
       "      <td>0</td>\n",
       "      <td>1</td>\n",
       "      <td>0</td>\n",
       "    </tr>\n",
       "    <tr>\n",
       "      <th>161</th>\n",
       "      <td>197364</td>\n",
       "      <td>928.0</td>\n",
       "      <td>Рыбинск</td>\n",
       "      <td>Ж</td>\n",
       "      <td>53.0</td>\n",
       "      <td>6</td>\n",
       "      <td>1347183.86</td>\n",
       "      <td>2</td>\n",
       "      <td>0</td>\n",
       "      <td>1</td>\n",
       "      <td>168189.49</td>\n",
       "      <td>1</td>\n",
       "      <td>0</td>\n",
       "      <td>1</td>\n",
       "      <td>0</td>\n",
       "      <td>1</td>\n",
       "      <td>0</td>\n",
       "    </tr>\n",
       "    <tr>\n",
       "      <th>8822</th>\n",
       "      <td>199312</td>\n",
       "      <td>911.0</td>\n",
       "      <td>Рыбинск</td>\n",
       "      <td>Ж</td>\n",
       "      <td>43.0</td>\n",
       "      <td>0</td>\n",
       "      <td>NaN</td>\n",
       "      <td>2</td>\n",
       "      <td>1</td>\n",
       "      <td>1</td>\n",
       "      <td>152189.72</td>\n",
       "      <td>0</td>\n",
       "      <td>0</td>\n",
       "      <td>1</td>\n",
       "      <td>0</td>\n",
       "      <td>1</td>\n",
       "      <td>0</td>\n",
       "    </tr>\n",
       "    <tr>\n",
       "      <th>9035</th>\n",
       "      <td>200863</td>\n",
       "      <td>933.0</td>\n",
       "      <td>Рыбинск</td>\n",
       "      <td>М</td>\n",
       "      <td>29.0</td>\n",
       "      <td>7</td>\n",
       "      <td>766924.56</td>\n",
       "      <td>2</td>\n",
       "      <td>0</td>\n",
       "      <td>1</td>\n",
       "      <td>89323.33</td>\n",
       "      <td>1</td>\n",
       "      <td>0</td>\n",
       "      <td>1</td>\n",
       "      <td>0</td>\n",
       "      <td>0</td>\n",
       "      <td>1</td>\n",
       "    </tr>\n",
       "    <tr>\n",
       "      <th>2998</th>\n",
       "      <td>208081</td>\n",
       "      <td>821.0</td>\n",
       "      <td>Рыбинск</td>\n",
       "      <td>Ж</td>\n",
       "      <td>62.0</td>\n",
       "      <td>3</td>\n",
       "      <td>493608.26</td>\n",
       "      <td>2</td>\n",
       "      <td>1</td>\n",
       "      <td>1</td>\n",
       "      <td>33491.45</td>\n",
       "      <td>0</td>\n",
       "      <td>0</td>\n",
       "      <td>1</td>\n",
       "      <td>0</td>\n",
       "      <td>1</td>\n",
       "      <td>0</td>\n",
       "    </tr>\n",
       "    <tr>\n",
       "      <th>1580</th>\n",
       "      <td>208738</td>\n",
       "      <td>897.0</td>\n",
       "      <td>Рыбинск</td>\n",
       "      <td>Ж</td>\n",
       "      <td>45.0</td>\n",
       "      <td>5</td>\n",
       "      <td>859018.19</td>\n",
       "      <td>2</td>\n",
       "      <td>1</td>\n",
       "      <td>1</td>\n",
       "      <td>145510.08</td>\n",
       "      <td>1</td>\n",
       "      <td>0</td>\n",
       "      <td>1</td>\n",
       "      <td>0</td>\n",
       "      <td>1</td>\n",
       "      <td>0</td>\n",
       "    </tr>\n",
       "    <tr>\n",
       "      <th>3350</th>\n",
       "      <td>208815</td>\n",
       "      <td>877.0</td>\n",
       "      <td>Рыбинск</td>\n",
       "      <td>М</td>\n",
       "      <td>25.0</td>\n",
       "      <td>4</td>\n",
       "      <td>239421.18</td>\n",
       "      <td>1</td>\n",
       "      <td>1</td>\n",
       "      <td>1</td>\n",
       "      <td>48638.00</td>\n",
       "      <td>1</td>\n",
       "      <td>0</td>\n",
       "      <td>1</td>\n",
       "      <td>0</td>\n",
       "      <td>0</td>\n",
       "      <td>1</td>\n",
       "    </tr>\n",
       "    <tr>\n",
       "      <th>8521</th>\n",
       "      <td>210627</td>\n",
       "      <td>804.0</td>\n",
       "      <td>Рыбинск</td>\n",
       "      <td>М</td>\n",
       "      <td>30.0</td>\n",
       "      <td>2</td>\n",
       "      <td>347818.88</td>\n",
       "      <td>3</td>\n",
       "      <td>1</td>\n",
       "      <td>0</td>\n",
       "      <td>129015.25</td>\n",
       "      <td>0</td>\n",
       "      <td>0</td>\n",
       "      <td>1</td>\n",
       "      <td>0</td>\n",
       "      <td>0</td>\n",
       "      <td>1</td>\n",
       "    </tr>\n",
       "    <tr>\n",
       "      <th>1837</th>\n",
       "      <td>210662</td>\n",
       "      <td>896.0</td>\n",
       "      <td>Рыбинск</td>\n",
       "      <td>Ж</td>\n",
       "      <td>37.0</td>\n",
       "      <td>0</td>\n",
       "      <td>NaN</td>\n",
       "      <td>2</td>\n",
       "      <td>0</td>\n",
       "      <td>0</td>\n",
       "      <td>90916.04</td>\n",
       "      <td>0</td>\n",
       "      <td>0</td>\n",
       "      <td>1</td>\n",
       "      <td>0</td>\n",
       "      <td>1</td>\n",
       "      <td>0</td>\n",
       "    </tr>\n",
       "    <tr>\n",
       "      <th>4986</th>\n",
       "      <td>210792</td>\n",
       "      <td>884.0</td>\n",
       "      <td>Рыбинск</td>\n",
       "      <td>М</td>\n",
       "      <td>48.0</td>\n",
       "      <td>4</td>\n",
       "      <td>2228037.20</td>\n",
       "      <td>2</td>\n",
       "      <td>0</td>\n",
       "      <td>1</td>\n",
       "      <td>207978.09</td>\n",
       "      <td>1</td>\n",
       "      <td>0</td>\n",
       "      <td>1</td>\n",
       "      <td>0</td>\n",
       "      <td>0</td>\n",
       "      <td>1</td>\n",
       "    </tr>\n",
       "    <tr>\n",
       "      <th>3817</th>\n",
       "      <td>211130</td>\n",
       "      <td>918.0</td>\n",
       "      <td>Рыбинск</td>\n",
       "      <td>Ж</td>\n",
       "      <td>55.0</td>\n",
       "      <td>0</td>\n",
       "      <td>NaN</td>\n",
       "      <td>2</td>\n",
       "      <td>1</td>\n",
       "      <td>1</td>\n",
       "      <td>244202.04</td>\n",
       "      <td>0</td>\n",
       "      <td>0</td>\n",
       "      <td>1</td>\n",
       "      <td>0</td>\n",
       "      <td>1</td>\n",
       "      <td>0</td>\n",
       "    </tr>\n",
       "    <tr>\n",
       "      <th>7055</th>\n",
       "      <td>217412</td>\n",
       "      <td>879.0</td>\n",
       "      <td>Рыбинск</td>\n",
       "      <td>М</td>\n",
       "      <td>42.0</td>\n",
       "      <td>5</td>\n",
       "      <td>568140.15</td>\n",
       "      <td>3</td>\n",
       "      <td>0</td>\n",
       "      <td>0</td>\n",
       "      <td>231658.67</td>\n",
       "      <td>1</td>\n",
       "      <td>0</td>\n",
       "      <td>1</td>\n",
       "      <td>0</td>\n",
       "      <td>0</td>\n",
       "      <td>1</td>\n",
       "    </tr>\n",
       "    <tr>\n",
       "      <th>4611</th>\n",
       "      <td>217619</td>\n",
       "      <td>903.0</td>\n",
       "      <td>Рыбинск</td>\n",
       "      <td>Ж</td>\n",
       "      <td>59.0</td>\n",
       "      <td>5</td>\n",
       "      <td>844055.83</td>\n",
       "      <td>2</td>\n",
       "      <td>0</td>\n",
       "      <td>1</td>\n",
       "      <td>133999.76</td>\n",
       "      <td>1</td>\n",
       "      <td>0</td>\n",
       "      <td>1</td>\n",
       "      <td>0</td>\n",
       "      <td>1</td>\n",
       "      <td>0</td>\n",
       "    </tr>\n",
       "    <tr>\n",
       "      <th>4186</th>\n",
       "      <td>217643</td>\n",
       "      <td>804.0</td>\n",
       "      <td>Рыбинск</td>\n",
       "      <td>Ж</td>\n",
       "      <td>40.0</td>\n",
       "      <td>2</td>\n",
       "      <td>301836.65</td>\n",
       "      <td>2</td>\n",
       "      <td>1</td>\n",
       "      <td>1</td>\n",
       "      <td>81137.22</td>\n",
       "      <td>0</td>\n",
       "      <td>0</td>\n",
       "      <td>1</td>\n",
       "      <td>0</td>\n",
       "      <td>1</td>\n",
       "      <td>0</td>\n",
       "    </tr>\n",
       "    <tr>\n",
       "      <th>9406</th>\n",
       "      <td>217826</td>\n",
       "      <td>790.0</td>\n",
       "      <td>Рыбинск</td>\n",
       "      <td>Ж</td>\n",
       "      <td>46.0</td>\n",
       "      <td>4</td>\n",
       "      <td>430414.80</td>\n",
       "      <td>2</td>\n",
       "      <td>1</td>\n",
       "      <td>1</td>\n",
       "      <td>49400.37</td>\n",
       "      <td>0</td>\n",
       "      <td>0</td>\n",
       "      <td>1</td>\n",
       "      <td>0</td>\n",
       "      <td>1</td>\n",
       "      <td>0</td>\n",
       "    </tr>\n",
       "    <tr>\n",
       "      <th>2302</th>\n",
       "      <td>220816</td>\n",
       "      <td>934.0</td>\n",
       "      <td>Рыбинск</td>\n",
       "      <td>Ж</td>\n",
       "      <td>74.0</td>\n",
       "      <td>5</td>\n",
       "      <td>1294285.39</td>\n",
       "      <td>3</td>\n",
       "      <td>1</td>\n",
       "      <td>0</td>\n",
       "      <td>95606.80</td>\n",
       "      <td>0</td>\n",
       "      <td>0</td>\n",
       "      <td>1</td>\n",
       "      <td>0</td>\n",
       "      <td>1</td>\n",
       "      <td>0</td>\n",
       "    </tr>\n",
       "    <tr>\n",
       "      <th>4216</th>\n",
       "      <td>226719</td>\n",
       "      <td>903.0</td>\n",
       "      <td>Рыбинск</td>\n",
       "      <td>Ж</td>\n",
       "      <td>63.0</td>\n",
       "      <td>0</td>\n",
       "      <td>NaN</td>\n",
       "      <td>1</td>\n",
       "      <td>1</td>\n",
       "      <td>0</td>\n",
       "      <td>138582.58</td>\n",
       "      <td>0</td>\n",
       "      <td>0</td>\n",
       "      <td>1</td>\n",
       "      <td>0</td>\n",
       "      <td>1</td>\n",
       "      <td>0</td>\n",
       "    </tr>\n",
       "    <tr>\n",
       "      <th>8205</th>\n",
       "      <td>227795</td>\n",
       "      <td>840.0</td>\n",
       "      <td>Рыбинск</td>\n",
       "      <td>М</td>\n",
       "      <td>34.0</td>\n",
       "      <td>2</td>\n",
       "      <td>350768.03</td>\n",
       "      <td>1</td>\n",
       "      <td>1</td>\n",
       "      <td>0</td>\n",
       "      <td>102036.14</td>\n",
       "      <td>1</td>\n",
       "      <td>0</td>\n",
       "      <td>1</td>\n",
       "      <td>0</td>\n",
       "      <td>0</td>\n",
       "      <td>1</td>\n",
       "    </tr>\n",
       "    <tr>\n",
       "      <th>7694</th>\n",
       "      <td>116540</td>\n",
       "      <td>887.0</td>\n",
       "      <td>Ярославль</td>\n",
       "      <td>Ж</td>\n",
       "      <td>38.0</td>\n",
       "      <td>0</td>\n",
       "      <td>NaN</td>\n",
       "      <td>1</td>\n",
       "      <td>0</td>\n",
       "      <td>1</td>\n",
       "      <td>119247.61</td>\n",
       "      <td>0</td>\n",
       "      <td>0</td>\n",
       "      <td>0</td>\n",
       "      <td>1</td>\n",
       "      <td>1</td>\n",
       "      <td>0</td>\n",
       "    </tr>\n",
       "    <tr>\n",
       "      <th>7542</th>\n",
       "      <td>117943</td>\n",
       "      <td>880.0</td>\n",
       "      <td>Ярославль</td>\n",
       "      <td>Ж</td>\n",
       "      <td>40.0</td>\n",
       "      <td>0</td>\n",
       "      <td>NaN</td>\n",
       "      <td>1</td>\n",
       "      <td>1</td>\n",
       "      <td>0</td>\n",
       "      <td>137718.93</td>\n",
       "      <td>0</td>\n",
       "      <td>0</td>\n",
       "      <td>0</td>\n",
       "      <td>1</td>\n",
       "      <td>1</td>\n",
       "      <td>0</td>\n",
       "    </tr>\n",
       "    <tr>\n",
       "      <th>5896</th>\n",
       "      <td>120258</td>\n",
       "      <td>905.0</td>\n",
       "      <td>Ярославль</td>\n",
       "      <td>М</td>\n",
       "      <td>30.0</td>\n",
       "      <td>0</td>\n",
       "      <td>NaN</td>\n",
       "      <td>1</td>\n",
       "      <td>1</td>\n",
       "      <td>1</td>\n",
       "      <td>146427.96</td>\n",
       "      <td>0</td>\n",
       "      <td>0</td>\n",
       "      <td>0</td>\n",
       "      <td>1</td>\n",
       "      <td>0</td>\n",
       "      <td>1</td>\n",
       "    </tr>\n",
       "    <tr>\n",
       "      <th>1411</th>\n",
       "      <td>123461</td>\n",
       "      <td>829.0</td>\n",
       "      <td>Ярославль</td>\n",
       "      <td>Ж</td>\n",
       "      <td>59.0</td>\n",
       "      <td>0</td>\n",
       "      <td>96222.44</td>\n",
       "      <td>2</td>\n",
       "      <td>0</td>\n",
       "      <td>1</td>\n",
       "      <td>102771.55</td>\n",
       "      <td>1</td>\n",
       "      <td>0</td>\n",
       "      <td>0</td>\n",
       "      <td>1</td>\n",
       "      <td>1</td>\n",
       "      <td>0</td>\n",
       "    </tr>\n",
       "    <tr>\n",
       "      <th>8164</th>\n",
       "      <td>124450</td>\n",
       "      <td>859.0</td>\n",
       "      <td>Ярославль</td>\n",
       "      <td>Ж</td>\n",
       "      <td>38.0</td>\n",
       "      <td>6</td>\n",
       "      <td>516811.20</td>\n",
       "      <td>1</td>\n",
       "      <td>1</td>\n",
       "      <td>1</td>\n",
       "      <td>95144.63</td>\n",
       "      <td>1</td>\n",
       "      <td>0</td>\n",
       "      <td>0</td>\n",
       "      <td>1</td>\n",
       "      <td>1</td>\n",
       "      <td>0</td>\n",
       "    </tr>\n",
       "    <tr>\n",
       "      <th>4850</th>\n",
       "      <td>126368</td>\n",
       "      <td>909.0</td>\n",
       "      <td>Ярославль</td>\n",
       "      <td>Ж</td>\n",
       "      <td>30.0</td>\n",
       "      <td>4</td>\n",
       "      <td>1322623.29</td>\n",
       "      <td>2</td>\n",
       "      <td>0</td>\n",
       "      <td>1</td>\n",
       "      <td>140675.66</td>\n",
       "      <td>1</td>\n",
       "      <td>0</td>\n",
       "      <td>0</td>\n",
       "      <td>1</td>\n",
       "      <td>1</td>\n",
       "      <td>0</td>\n",
       "    </tr>\n",
       "    <tr>\n",
       "      <th>9504</th>\n",
       "      <td>129785</td>\n",
       "      <td>949.0</td>\n",
       "      <td>Ярославль</td>\n",
       "      <td>М</td>\n",
       "      <td>43.0</td>\n",
       "      <td>0</td>\n",
       "      <td>NaN</td>\n",
       "      <td>1</td>\n",
       "      <td>1</td>\n",
       "      <td>1</td>\n",
       "      <td>166845.37</td>\n",
       "      <td>0</td>\n",
       "      <td>0</td>\n",
       "      <td>0</td>\n",
       "      <td>1</td>\n",
       "      <td>0</td>\n",
       "      <td>1</td>\n",
       "    </tr>\n",
       "    <tr>\n",
       "      <th>904</th>\n",
       "      <td>131419</td>\n",
       "      <td>934.0</td>\n",
       "      <td>Ярославль</td>\n",
       "      <td>М</td>\n",
       "      <td>35.0</td>\n",
       "      <td>5</td>\n",
       "      <td>2348335.95</td>\n",
       "      <td>2</td>\n",
       "      <td>0</td>\n",
       "      <td>0</td>\n",
       "      <td>217105.13</td>\n",
       "      <td>1</td>\n",
       "      <td>0</td>\n",
       "      <td>0</td>\n",
       "      <td>1</td>\n",
       "      <td>0</td>\n",
       "      <td>1</td>\n",
       "    </tr>\n",
       "    <tr>\n",
       "      <th>1608</th>\n",
       "      <td>140377</td>\n",
       "      <td>802.0</td>\n",
       "      <td>Ярославль</td>\n",
       "      <td>М</td>\n",
       "      <td>26.0</td>\n",
       "      <td>3</td>\n",
       "      <td>539863.29</td>\n",
       "      <td>4</td>\n",
       "      <td>1</td>\n",
       "      <td>1</td>\n",
       "      <td>112167.83</td>\n",
       "      <td>1</td>\n",
       "      <td>0</td>\n",
       "      <td>0</td>\n",
       "      <td>1</td>\n",
       "      <td>0</td>\n",
       "      <td>1</td>\n",
       "    </tr>\n",
       "    <tr>\n",
       "      <th>2276</th>\n",
       "      <td>141265</td>\n",
       "      <td>858.0</td>\n",
       "      <td>Ярославль</td>\n",
       "      <td>М</td>\n",
       "      <td>37.0</td>\n",
       "      <td>4</td>\n",
       "      <td>471599.16</td>\n",
       "      <td>2</td>\n",
       "      <td>1</td>\n",
       "      <td>1</td>\n",
       "      <td>148806.88</td>\n",
       "      <td>1</td>\n",
       "      <td>0</td>\n",
       "      <td>0</td>\n",
       "      <td>1</td>\n",
       "      <td>0</td>\n",
       "      <td>1</td>\n",
       "    </tr>\n",
       "  </tbody>\n",
       "</table>\n",
       "</div>"
      ],
      "text/plain": [
       "      user_id  score       city gender   age  equity     balance  products  \\\n",
       "1893   116540  883.0    Рыбинск      Ж  55.0       1   362756.49         3   \n",
       "4866   117943  855.0    Рыбинск      Ж  32.0       6  1036832.93         4   \n",
       "5863   120258  908.0    Рыбинск      Ж  38.0       4  2213581.63         2   \n",
       "8638   123461  934.0    Рыбинск      М  34.0       0         NaN         2   \n",
       "9775   124450  758.0    Рыбинск      Ж  36.0       0    73574.07         2   \n",
       "5420   126368  832.0    Рыбинск      Ж  33.0       0         NaN         1   \n",
       "3988   129785  904.0    Рыбинск      М  33.0       5  2427737.60         3   \n",
       "2138   131419  739.0    Рыбинск      Ж  37.0       3  1307941.65         3   \n",
       "7487   140377  930.0    Рыбинск      Ж  34.0       5  1123967.02         1   \n",
       "5569   141265  811.0    Рыбинск      Ж  33.0       3  1044316.88         2   \n",
       "5369   143592  885.0    Рыбинск      Ж  56.0       4  1201087.46         2   \n",
       "8364   148826  909.0    Рыбинск      Ж  32.0       0         NaN         3   \n",
       "8272   149365  793.0    Рыбинск      Ж  61.0       0   476496.99         2   \n",
       "2439   150667  813.0    Рыбинск      Ж  44.0       0    62504.47         4   \n",
       "690    152479  768.0    Рыбинск      Ж  42.0       0   126787.79         4   \n",
       "5197   155765  923.0    Рыбинск      М  30.0       0         NaN         1   \n",
       "9363   155872  714.0    Рыбинск      Ж  29.0       0         NaN         1   \n",
       "9508   160075  824.0    Рыбинск      Ж  57.0       3   355047.33         2   \n",
       "5629   162053  921.0    Рыбинск      М  33.0       3   857011.13         2   \n",
       "3564   163207  853.0    Рыбинск      М  42.0       4   543839.62         1   \n",
       "7271   164676  790.0    Рыбинск      Ж  77.0       1   111202.01         1   \n",
       "9785   168998  895.0    Рыбинск      М  44.0       0   282653.53         3   \n",
       "3039   170312  813.0    Рыбинск      Ж  47.0       3   370027.67         2   \n",
       "4587   171751  874.0    Рыбинск      Ж  26.0       5   292054.42         2   \n",
       "6756   172142  751.0    Рыбинск      Ж  69.0       3   396568.03         2   \n",
       "9970   175730  816.0    Рыбинск      М  36.0       4   477892.07         3   \n",
       "8705   181526  895.0    Рыбинск      М  29.0       0         NaN         1   \n",
       "9146   183510  800.0    Рыбинск      Ж  42.0       7   473293.81         2   \n",
       "150    185748  850.0    Рыбинск      М  36.0       5  1203376.67         2   \n",
       "6005   188957  882.0    Рыбинск      Ж  64.0       3   893392.91         3   \n",
       "231    190253  823.0    Рыбинск      М  37.0       4   373348.39         2   \n",
       "3859   191520  773.0    Рыбинск      М  36.0       3  1219918.08         4   \n",
       "9659   195884  767.0    Рыбинск      Ж  45.0       1   335652.56         3   \n",
       "161    197364  928.0    Рыбинск      Ж  53.0       6  1347183.86         2   \n",
       "8822   199312  911.0    Рыбинск      Ж  43.0       0         NaN         2   \n",
       "9035   200863  933.0    Рыбинск      М  29.0       7   766924.56         2   \n",
       "2998   208081  821.0    Рыбинск      Ж  62.0       3   493608.26         2   \n",
       "1580   208738  897.0    Рыбинск      Ж  45.0       5   859018.19         2   \n",
       "3350   208815  877.0    Рыбинск      М  25.0       4   239421.18         1   \n",
       "8521   210627  804.0    Рыбинск      М  30.0       2   347818.88         3   \n",
       "1837   210662  896.0    Рыбинск      Ж  37.0       0         NaN         2   \n",
       "4986   210792  884.0    Рыбинск      М  48.0       4  2228037.20         2   \n",
       "3817   211130  918.0    Рыбинск      Ж  55.0       0         NaN         2   \n",
       "7055   217412  879.0    Рыбинск      М  42.0       5   568140.15         3   \n",
       "4611   217619  903.0    Рыбинск      Ж  59.0       5   844055.83         2   \n",
       "4186   217643  804.0    Рыбинск      Ж  40.0       2   301836.65         2   \n",
       "9406   217826  790.0    Рыбинск      Ж  46.0       4   430414.80         2   \n",
       "2302   220816  934.0    Рыбинск      Ж  74.0       5  1294285.39         3   \n",
       "4216   226719  903.0    Рыбинск      Ж  63.0       0         NaN         1   \n",
       "8205   227795  840.0    Рыбинск      М  34.0       2   350768.03         1   \n",
       "7694   116540  887.0  Ярославль      Ж  38.0       0         NaN         1   \n",
       "7542   117943  880.0  Ярославль      Ж  40.0       0         NaN         1   \n",
       "5896   120258  905.0  Ярославль      М  30.0       0         NaN         1   \n",
       "1411   123461  829.0  Ярославль      Ж  59.0       0    96222.44         2   \n",
       "8164   124450  859.0  Ярославль      Ж  38.0       6   516811.20         1   \n",
       "4850   126368  909.0  Ярославль      Ж  30.0       4  1322623.29         2   \n",
       "9504   129785  949.0  Ярославль      М  43.0       0         NaN         1   \n",
       "904    131419  934.0  Ярославль      М  35.0       5  2348335.95         2   \n",
       "1608   140377  802.0  Ярославль      М  26.0       3   539863.29         4   \n",
       "2276   141265  858.0  Ярославль      М  37.0       4   471599.16         2   \n",
       "\n",
       "      credit_card  last_activity  est_salary  churn  Ростов  Рыбинск  \\\n",
       "1893            0              1   175920.48      1       0        1   \n",
       "4866            1              1   107792.71      1       0        1   \n",
       "5863            0              1   160327.77      1       0        1   \n",
       "8638            1              0   291619.27      0       0        1   \n",
       "9775            0              1    79963.59      0       0        1   \n",
       "5420            0              0   118465.34      0       0        1   \n",
       "3988            0              1   188856.75      1       0        1   \n",
       "2138            0              0   103867.47      0       0        1   \n",
       "7487            1              1   148336.26      0       0        1   \n",
       "5569            1              0    46055.32      0       0        1   \n",
       "5369            1              1    88223.89      1       0        1   \n",
       "8364            1              0    28843.54      0       0        1   \n",
       "8272            1              1    46147.06      0       0        1   \n",
       "2439            1              0   152393.79      1       0        1   \n",
       "690             1              1   143233.23      1       0        1   \n",
       "5197            1              1   120296.60      0       0        1   \n",
       "9363            1              0   118052.84      0       0        1   \n",
       "9508            0              0    64351.81      0       0        1   \n",
       "5629            1              1   113512.57      1       0        1   \n",
       "3564            1              1   105281.97      1       0        1   \n",
       "7271            1              0    32835.45      0       0        1   \n",
       "9785            0              0   255296.47      0       0        1   \n",
       "3039            0              0   129835.56      0       0        1   \n",
       "4587            0              1    20528.56      1       0        1   \n",
       "6756            0              1    45608.45      0       0        1   \n",
       "9970            1              0    81100.60      0       0        1   \n",
       "8705            1              1   124786.53      0       0        1   \n",
       "9146            1              0    54049.88      0       0        1   \n",
       "150             0              1    89401.82      1       0        1   \n",
       "6005            1              0    69622.58      0       0        1   \n",
       "231             0              1   131947.92      1       0        1   \n",
       "3859            1              1   119933.13      1       0        1   \n",
       "9659            1              1   100197.67      0       0        1   \n",
       "161             0              1   168189.49      1       0        1   \n",
       "8822            1              1   152189.72      0       0        1   \n",
       "9035            0              1    89323.33      1       0        1   \n",
       "2998            1              1    33491.45      0       0        1   \n",
       "1580            1              1   145510.08      1       0        1   \n",
       "3350            1              1    48638.00      1       0        1   \n",
       "8521            1              0   129015.25      0       0        1   \n",
       "1837            0              0    90916.04      0       0        1   \n",
       "4986            0              1   207978.09      1       0        1   \n",
       "3817            1              1   244202.04      0       0        1   \n",
       "7055            0              0   231658.67      1       0        1   \n",
       "4611            0              1   133999.76      1       0        1   \n",
       "4186            1              1    81137.22      0       0        1   \n",
       "9406            1              1    49400.37      0       0        1   \n",
       "2302            1              0    95606.80      0       0        1   \n",
       "4216            1              0   138582.58      0       0        1   \n",
       "8205            1              0   102036.14      1       0        1   \n",
       "7694            0              1   119247.61      0       0        0   \n",
       "7542            1              0   137718.93      0       0        0   \n",
       "5896            1              1   146427.96      0       0        0   \n",
       "1411            0              1   102771.55      1       0        0   \n",
       "8164            1              1    95144.63      1       0        0   \n",
       "4850            0              1   140675.66      1       0        0   \n",
       "9504            1              1   166845.37      0       0        0   \n",
       "904             0              0   217105.13      1       0        0   \n",
       "1608            1              1   112167.83      1       0        0   \n",
       "2276            1              1   148806.88      1       0        0   \n",
       "\n",
       "      Ярославль  Ж  М  \n",
       "1893          0  1  0  \n",
       "4866          0  1  0  \n",
       "5863          0  1  0  \n",
       "8638          0  0  1  \n",
       "9775          0  1  0  \n",
       "5420          0  1  0  \n",
       "3988          0  0  1  \n",
       "2138          0  1  0  \n",
       "7487          0  1  0  \n",
       "5569          0  1  0  \n",
       "5369          0  1  0  \n",
       "8364          0  1  0  \n",
       "8272          0  1  0  \n",
       "2439          0  1  0  \n",
       "690           0  1  0  \n",
       "5197          0  0  1  \n",
       "9363          0  1  0  \n",
       "9508          0  1  0  \n",
       "5629          0  0  1  \n",
       "3564          0  0  1  \n",
       "7271          0  1  0  \n",
       "9785          0  0  1  \n",
       "3039          0  1  0  \n",
       "4587          0  1  0  \n",
       "6756          0  1  0  \n",
       "9970          0  0  1  \n",
       "8705          0  0  1  \n",
       "9146          0  1  0  \n",
       "150           0  0  1  \n",
       "6005          0  1  0  \n",
       "231           0  0  1  \n",
       "3859          0  0  1  \n",
       "9659          0  1  0  \n",
       "161           0  1  0  \n",
       "8822          0  1  0  \n",
       "9035          0  0  1  \n",
       "2998          0  1  0  \n",
       "1580          0  1  0  \n",
       "3350          0  0  1  \n",
       "8521          0  0  1  \n",
       "1837          0  1  0  \n",
       "4986          0  0  1  \n",
       "3817          0  1  0  \n",
       "7055          0  0  1  \n",
       "4611          0  1  0  \n",
       "4186          0  1  0  \n",
       "9406          0  1  0  \n",
       "2302          0  1  0  \n",
       "4216          0  1  0  \n",
       "8205          0  0  1  \n",
       "7694          1  1  0  \n",
       "7542          1  1  0  \n",
       "5896          1  0  1  \n",
       "1411          1  1  0  \n",
       "8164          1  1  0  \n",
       "4850          1  1  0  \n",
       "9504          1  0  1  \n",
       "904           1  0  1  \n",
       "1608          1  0  1  \n",
       "2276          1  0  1  "
      ]
     },
     "execution_count": 15,
     "metadata": {},
     "output_type": "execute_result"
    }
   ],
   "source": [
    "banks[banks['user_id'].duplicated(keep=False)].sort_values(by=['city', 'user_id']).head(60)"
   ]
  },
  {
   "cell_type": "markdown",
   "metadata": {},
   "source": [
    "Видим, что это совершенно разные клиенты из двух разных городов, а сделав сортировку по городу и id, видим, что возможно произошёл сбой в присвоении id клиентам в одном городе имеющимися id в другом.  \n",
    "Добавим к id дублированных пользователей условные 300 тысяч, чтобы поменять первую цифру и при этом не пересечься с другими id, так как максимальное значение - 229145."
   ]
  },
  {
   "cell_type": "code",
   "execution_count": 16,
   "metadata": {
    "scrolled": false
   },
   "outputs": [],
   "source": [
    "banks.loc[banks['user_id'].duplicated(),'user_id']+=300000"
   ]
  },
  {
   "cell_type": "code",
   "execution_count": 17,
   "metadata": {},
   "outputs": [
    {
     "data": {
      "text/plain": [
       "0"
      ]
     },
     "execution_count": 17,
     "metadata": {},
     "output_type": "execute_result"
    }
   ],
   "source": [
    "banks['user_id'].duplicated().sum()"
   ]
  },
  {
   "cell_type": "markdown",
   "metadata": {},
   "source": [
    "Посмотрим уникальные значения и их количество в категориальных столбцах:"
   ]
  },
  {
   "cell_type": "code",
   "execution_count": 18,
   "metadata": {},
   "outputs": [
    {
     "data": {
      "text/plain": [
       "Ярославль    5875\n",
       "Рыбинск      2683\n",
       "Ростов       1416\n",
       "Name: city, dtype: int64"
      ]
     },
     "execution_count": 18,
     "metadata": {},
     "output_type": "execute_result"
    }
   ],
   "source": [
    "banks['city'].value_counts() # распределение по городам"
   ]
  },
  {
   "cell_type": "code",
   "execution_count": 19,
   "metadata": {},
   "outputs": [
    {
     "data": {
      "text/plain": [
       "М    4991\n",
       "Ж    4983\n",
       "Name: gender, dtype: int64"
      ]
     },
     "execution_count": 19,
     "metadata": {},
     "output_type": "execute_result"
    }
   ],
   "source": [
    "banks['gender'].value_counts() # пол клиентов"
   ]
  },
  {
   "cell_type": "code",
   "execution_count": 20,
   "metadata": {},
   "outputs": [
    {
     "data": {
      "text/plain": [
       "0    2576\n",
       "5    1915\n",
       "4    1847\n",
       "3    1541\n",
       "2    1051\n",
       "1     773\n",
       "6     161\n",
       "7      80\n",
       "8      17\n",
       "9      13\n",
       "Name: equity, dtype: int64"
      ]
     },
     "execution_count": 20,
     "metadata": {},
     "output_type": "execute_result"
    }
   ],
   "source": [
    "banks['equity'].value_counts() # количество собственности"
   ]
  },
  {
   "cell_type": "code",
   "execution_count": 21,
   "metadata": {},
   "outputs": [
    {
     "data": {
      "text/plain": [
       "2    5119\n",
       "1    3323\n",
       "3    1038\n",
       "4     474\n",
       "5      19\n",
       "0       1\n",
       "Name: products, dtype: int64"
      ]
     },
     "execution_count": 21,
     "metadata": {},
     "output_type": "execute_result"
    }
   ],
   "source": [
    "banks['products'].value_counts() # количество продуктов банка"
   ]
  },
  {
   "cell_type": "code",
   "execution_count": 22,
   "metadata": {},
   "outputs": [
    {
     "data": {
      "text/plain": [
       "1    6784\n",
       "0    3190\n",
       "Name: credit_card, dtype: int64"
      ]
     },
     "execution_count": 22,
     "metadata": {},
     "output_type": "execute_result"
    }
   ],
   "source": [
    "banks['credit_card'].value_counts() # наличие кредитных карт"
   ]
  },
  {
   "cell_type": "code",
   "execution_count": 23,
   "metadata": {},
   "outputs": [
    {
     "data": {
      "text/plain": [
       "1    5215\n",
       "0    4759\n",
       "Name: last_activity, dtype: int64"
      ]
     },
     "execution_count": 23,
     "metadata": {},
     "output_type": "execute_result"
    }
   ],
   "source": [
    "banks['last_activity'].value_counts() # активность за последние 30 дней"
   ]
  },
  {
   "cell_type": "code",
   "execution_count": 24,
   "metadata": {},
   "outputs": [
    {
     "data": {
      "text/plain": [
       "0    8155\n",
       "1    1819\n",
       "Name: churn, dtype: int64"
      ]
     },
     "execution_count": 24,
     "metadata": {},
     "output_type": "execute_result"
    }
   ],
   "source": [
    "banks['churn'].value_counts() # отток клиентов"
   ]
  },
  {
   "cell_type": "markdown",
   "metadata": {},
   "source": [
    "По данным можем сделать выводы: полных дубликатов в данных нет, дубликаты по id устранили, большинство клиентов из Ярославля, по полу клиенты разделены поровну, собственности у них разное количество, кредитки есть у 68%, активность так же поровну, и собственно отток у нас - 18%"
   ]
  },
  {
   "cell_type": "markdown",
   "metadata": {},
   "source": [
    "### Проверка корректности значений\n",
    "\n",
    "По describe мы посмотрели какие значения принимают количественные данные и видим, что в целом они адекватны, кроме разве что 0 в столбце с количеством продуктов, не может не быть хотя бы одного продукта у клиента банка.  \n",
    "Выведем эти строки:"
   ]
  },
  {
   "cell_type": "code",
   "execution_count": 25,
   "metadata": {},
   "outputs": [
    {
     "data": {
      "text/html": [
       "<div>\n",
       "<style scoped>\n",
       "    .dataframe tbody tr th:only-of-type {\n",
       "        vertical-align: middle;\n",
       "    }\n",
       "\n",
       "    .dataframe tbody tr th {\n",
       "        vertical-align: top;\n",
       "    }\n",
       "\n",
       "    .dataframe thead th {\n",
       "        text-align: right;\n",
       "    }\n",
       "</style>\n",
       "<table border=\"1\" class=\"dataframe\">\n",
       "  <thead>\n",
       "    <tr style=\"text-align: right;\">\n",
       "      <th></th>\n",
       "      <th>user_id</th>\n",
       "      <th>score</th>\n",
       "      <th>city</th>\n",
       "      <th>gender</th>\n",
       "      <th>age</th>\n",
       "      <th>equity</th>\n",
       "      <th>balance</th>\n",
       "      <th>products</th>\n",
       "      <th>credit_card</th>\n",
       "      <th>last_activity</th>\n",
       "      <th>est_salary</th>\n",
       "      <th>churn</th>\n",
       "      <th>Ростов</th>\n",
       "      <th>Рыбинск</th>\n",
       "      <th>Ярославль</th>\n",
       "      <th>Ж</th>\n",
       "      <th>М</th>\n",
       "    </tr>\n",
       "  </thead>\n",
       "  <tbody>\n",
       "    <tr>\n",
       "      <th>8957</th>\n",
       "      <td>147837</td>\n",
       "      <td>962.0</td>\n",
       "      <td>Рыбинск</td>\n",
       "      <td>Ж</td>\n",
       "      <td>79.0</td>\n",
       "      <td>3</td>\n",
       "      <td>NaN</td>\n",
       "      <td>0</td>\n",
       "      <td>0</td>\n",
       "      <td>0</td>\n",
       "      <td>25063.96</td>\n",
       "      <td>1</td>\n",
       "      <td>0</td>\n",
       "      <td>1</td>\n",
       "      <td>0</td>\n",
       "      <td>1</td>\n",
       "      <td>0</td>\n",
       "    </tr>\n",
       "  </tbody>\n",
       "</table>\n",
       "</div>"
      ],
      "text/plain": [
       "      user_id  score     city gender   age  equity  balance  products  \\\n",
       "8957   147837  962.0  Рыбинск      Ж  79.0       3      NaN         0   \n",
       "\n",
       "      credit_card  last_activity  est_salary  churn  Ростов  Рыбинск  \\\n",
       "8957            0              0    25063.96      1       0        1   \n",
       "\n",
       "      Ярославль  Ж  М  \n",
       "8957          0  1  0  "
      ]
     },
     "execution_count": 25,
     "metadata": {},
     "output_type": "execute_result"
    }
   ],
   "source": [
    "banks[banks['products']==0]"
   ]
  },
  {
   "cell_type": "markdown",
   "metadata": {},
   "source": [
    "Поправим нулевое значение на 1"
   ]
  },
  {
   "cell_type": "code",
   "execution_count": 26,
   "metadata": {},
   "outputs": [
    {
     "data": {
      "text/plain": [
       "2    5119\n",
       "1    3324\n",
       "3    1038\n",
       "4     474\n",
       "5      19\n",
       "Name: products, dtype: int64"
      ]
     },
     "execution_count": 26,
     "metadata": {},
     "output_type": "execute_result"
    }
   ],
   "source": [
    "banks.loc[banks['products']==0,'products']+=1\n",
    "banks['products'].value_counts()"
   ]
  },
  {
   "cell_type": "markdown",
   "metadata": {},
   "source": [
    "Нуля в продуктах больше нет, клиентов с одним продуктом стало на одного больше.  \n",
    "\n",
    "Проверим ещё раз инфо по датасету:"
   ]
  },
  {
   "cell_type": "code",
   "execution_count": 27,
   "metadata": {},
   "outputs": [
    {
     "name": "stdout",
     "output_type": "stream",
     "text": [
      "<class 'pandas.core.frame.DataFrame'>\n",
      "Int64Index: 9974 entries, 0 to 9999\n",
      "Data columns (total 17 columns):\n",
      " #   Column         Non-Null Count  Dtype  \n",
      "---  ------         --------------  -----  \n",
      " 0   user_id        9974 non-null   int64  \n",
      " 1   score          9974 non-null   float64\n",
      " 2   city           9974 non-null   object \n",
      " 3   gender         9974 non-null   object \n",
      " 4   age            9974 non-null   float64\n",
      " 5   equity         9974 non-null   int64  \n",
      " 6   balance        7695 non-null   float64\n",
      " 7   products       9974 non-null   int64  \n",
      " 8   credit_card    9974 non-null   int64  \n",
      " 9   last_activity  9974 non-null   int64  \n",
      " 10  est_salary     9974 non-null   float64\n",
      " 11  churn          9974 non-null   int64  \n",
      " 12  Ростов         9974 non-null   uint8  \n",
      " 13  Рыбинск        9974 non-null   uint8  \n",
      " 14  Ярославль      9974 non-null   uint8  \n",
      " 15  Ж              9974 non-null   uint8  \n",
      " 16  М              9974 non-null   uint8  \n",
      "dtypes: float64(4), int64(6), object(2), uint8(5)\n",
      "memory usage: 1.0+ MB\n"
     ]
    }
   ],
   "source": [
    "banks.info()"
   ]
  },
  {
   "cell_type": "markdown",
   "metadata": {},
   "source": [
    "**Вывод по разделу**  \n",
    "На данном этапе проекты мы провели подготовку исходных данных:\n",
    "- переименовали столбцы с стандартному виду  \n",
    "- проверили соответствие данных их типам  \n",
    "- провели анализ пропусков - 26 пропусков (меньше 1%) в столбце возраста заполнили медианным значением, 2295 пропусков ( почти 23%) в столбце баланса оставили  \n",
    "- закодировали города и пол клиентов\n",
    "- нашли неявные дубликаты в столбце id пользователей и поправили их\n",
    "- поправили строку с нулевым значением количества продуктов  \n",
    "  \n",
    "У нас осталось 9974 строк и стало 17 столбцов"
   ]
  },
  {
   "cell_type": "markdown",
   "metadata": {},
   "source": [
    "## EDA (исследовательский анализ данных)"
   ]
  },
  {
   "cell_type": "markdown",
   "metadata": {},
   "source": [
    "### Анализ распределения признаков\n",
    "  \n",
    "В том числе в разрезе оттока (по непрерывным - ищем отточные интервалы, по категориальным дискретным - ищем значения признака с оттоком выше, чем по банку)  \n",
    "- непрервные признаки мы проанализируем, чтобы найти интервалы признака, на которых отток выше, чем лояльность  \n",
    "- категориальные/дискретные признаки мы проанализируем, чтобы понять, какое из значений категориального признака более или менее склонно к оттоку  \n",
    "  \n",
    "Начнём с непрерывных переменных:"
   ]
  },
  {
   "cell_type": "markdown",
   "metadata": {},
   "source": [
    "#### Анализ баллов кредитного скоринга"
   ]
  },
  {
   "cell_type": "code",
   "execution_count": 28,
   "metadata": {
    "scrolled": false
   },
   "outputs": [
    {
     "data": {
      "image/png": "[encoded data removed]",
      "text/plain": [
       "<Figure size 1152x576 with 1 Axes>"
      ]
     },
     "metadata": {
      "needs_background": "light"
     },
     "output_type": "display_data"
    }
   ],
   "source": [
    "plt.figure(figsize=(16,8))\n",
    "sns.histplot(data=banks, x='score', hue='churn', element='step', bins=70, stat='density', common_norm=False)\n",
    "plt.title('Гистограмма баллов кредитного скоринга в разрезе оттока клиентов')\n",
    "plt.xlabel('Баллы кредитного скоринга')\n",
    "plt.ylabel('Плотность')\n",
    "plt.show()"
   ]
  },
  {
   "cell_type": "markdown",
   "metadata": {},
   "source": [
    "По гисторамме видим, что отток больше у клиентов с бОльшим кредитным скорингом, максимум находится в диапазоне от 850 до 900"
   ]
  },
  {
   "cell_type": "markdown",
   "metadata": {},
   "source": [
    "#### Анализ возраста клиентов"
   ]
  },
  {
   "cell_type": "code",
   "execution_count": 29,
   "metadata": {
    "scrolled": false
   },
   "outputs": [
    {
     "data": {
      "image/png": "[encoded data removed]",
      "text/plain": [
       "<Figure size 1152x576 with 1 Axes>"
      ]
     },
     "metadata": {
      "needs_background": "light"
     },
     "output_type": "display_data"
    }
   ],
   "source": [
    "plt.figure(figsize=(16,8))\n",
    "sns.histplot(data=banks, x='age', hue='churn', element='step', binwidth=1, stat='density', common_norm=False)\n",
    "plt.title('Гистограмма возраста клиентов в разрезе оттока')\n",
    "plt.xlabel('Возраст')\n",
    "plt.ylabel('Плотность')\n",
    "plt.show()"
   ]
  },
  {
   "cell_type": "markdown",
   "metadata": {},
   "source": [
    "По гисторамме видим, что отток больше у клиентов в возрасте от 30 до 40, а так же от 50 до 60 лет"
   ]
  },
  {
   "cell_type": "markdown",
   "metadata": {},
   "source": [
    "#### Анализ баланса"
   ]
  },
  {
   "cell_type": "code",
   "execution_count": 30,
   "metadata": {
    "scrolled": false
   },
   "outputs": [
    {
     "data": {
      "image/png": "[encoded data removed]",
      "text/plain": [
       "<Figure size 1152x576 with 1 Axes>"
      ]
     },
     "metadata": {
      "needs_background": "light"
     },
     "output_type": "display_data"
    }
   ],
   "source": [
    "plt.figure(figsize=(16,8))\n",
    "sns.histplot(data=banks, x='balance', hue='churn', element='step', stat='density', common_norm=False)\n",
    "plt.title('Гистограмма баланса клиентов в разрезе оттока')\n",
    "plt.xlabel('Баланс в миллионах')\n",
    "plt.xlim(0, 5000000)\n",
    "plt.ylabel('Плотность')\n",
    "plt.show()"
   ]
  },
  {
   "cell_type": "markdown",
   "metadata": {},
   "source": [
    "По гисторамме видим, что отток больше у клиентов с балансом до миллиона, точнее в районе 300-500 тысяч, как и в целом по всем клиентам, в том числе и остающимся с банком. Также видим бОльший отток у клиентов с балансом от 1 до 1,5 миллионов"
   ]
  },
  {
   "cell_type": "markdown",
   "metadata": {},
   "source": [
    "#### Анализ оценочного дохода клиентов"
   ]
  },
  {
   "cell_type": "code",
   "execution_count": 31,
   "metadata": {
    "scrolled": false
   },
   "outputs": [
    {
     "data": {
      "image/png": "[encoded data removed]",
      "text/plain": [
       "<Figure size 1152x576 with 1 Axes>"
      ]
     },
     "metadata": {
      "needs_background": "light"
     },
     "output_type": "display_data"
    }
   ],
   "source": [
    "plt.figure(figsize=(16,8))\n",
    "sns.histplot(data=banks, x='est_salary', hue='churn', element='step', bins=200, stat='density', common_norm=False)\n",
    "plt.title('Гистограмма оценочного дохода клиентов в разрезе оттока')\n",
    "plt.xlabel('Оценочный доход клиентов')\n",
    "plt.xlim(0, 600000)\n",
    "plt.ylabel('Плотность')\n",
    "plt.show()"
   ]
  },
  {
   "cell_type": "markdown",
   "metadata": {},
   "source": [
    "По гисторамме видим, что отток и лояльность клиентов от дохода не зависит и примерно одинаковы по всём диапазоне "
   ]
  },
  {
   "cell_type": "markdown",
   "metadata": {},
   "source": [
    "#### Анализ городов проживания"
   ]
  },
  {
   "cell_type": "code",
   "execution_count": 32,
   "metadata": {
    "scrolled": false
   },
   "outputs": [
    {
     "data": {
      "image/png": "[encoded data removed]",
      "text/plain": [
       "<Figure size 1152x576 with 1 Axes>"
      ]
     },
     "metadata": {
      "needs_background": "light"
     },
     "output_type": "display_data"
    }
   ],
   "source": [
    "plt.figure(figsize=(16,8))\n",
    "sns.barplot(data=banks, x='city', y='churn', ci=None)\n",
    "plt.title('Гистограмма долей ушедших клиентов по городоам')\n",
    "plt.xlabel('Город')\n",
    "plt.axhline(y=banks['churn'].mean(), color='red', linestyle='--')\n",
    "plt.ylabel('Доля ушедших клиентов')\n",
    "plt.show()"
   ]
  },
  {
   "cell_type": "markdown",
   "metadata": {},
   "source": [
    "По гисторамме видим, что отток клиентов по городам примерно одинаковый, хотя в Рыбинске немного меньше"
   ]
  },
  {
   "cell_type": "markdown",
   "metadata": {},
   "source": [
    "#### Анализ пола клиентов"
   ]
  },
  {
   "cell_type": "code",
   "execution_count": 33,
   "metadata": {
    "scrolled": false
   },
   "outputs": [
    {
     "data": {
      "image/png": "[encoded data removed]",
      "text/plain": [
       "<Figure size 1152x576 with 1 Axes>"
      ]
     },
     "metadata": {
      "needs_background": "light"
     },
     "output_type": "display_data"
    }
   ],
   "source": [
    "plt.figure(figsize=(16,8))\n",
    "sns.barplot(data=banks, x='gender', y='churn', ci=None)\n",
    "plt.title('Гистограмма долей ушедших клиентов по полу')\n",
    "plt.xlabel('Пол')\n",
    "plt.axhline(y=banks['churn'].mean(), color='red', linestyle='--')\n",
    "plt.ylabel('Доля ушедших клиентов')\n",
    "plt.show()"
   ]
  },
  {
   "cell_type": "markdown",
   "metadata": {},
   "source": [
    "По гисторамме видим, что отток мужчин примерно в два раза выше, чем женщин"
   ]
  },
  {
   "cell_type": "markdown",
   "metadata": {},
   "source": [
    "#### Анализ количества баллов собственности "
   ]
  },
  {
   "cell_type": "code",
   "execution_count": 34,
   "metadata": {
    "scrolled": false
   },
   "outputs": [
    {
     "data": {
      "image/png": "[encoded data removed]",
      "text/plain": [
       "<Figure size 1152x576 with 1 Axes>"
      ]
     },
     "metadata": {
      "needs_background": "light"
     },
     "output_type": "display_data"
    }
   ],
   "source": [
    "plt.figure(figsize=(16,8))\n",
    "sns.barplot(data=banks, x='equity', y='churn', ci=None)\n",
    "plt.title('Гистограмма долей ушедших клиентов по количеству баллов собственности')\n",
    "plt.xlabel('Количество баллов собственности')\n",
    "plt.axhline(y=banks['churn'].mean(), color='red', linestyle='--')\n",
    "plt.ylabel('Доля ушедших клиентов')\n",
    "plt.show()"
   ]
  },
  {
   "cell_type": "markdown",
   "metadata": {},
   "source": [
    "По гисторамме видим практически прямую зависимость - чем больше у клиентов собственности, тем больше таких клиентов уходит"
   ]
  },
  {
   "cell_type": "markdown",
   "metadata": {},
   "source": [
    "#### Анализ количества продуктов банка"
   ]
  },
  {
   "cell_type": "code",
   "execution_count": 35,
   "metadata": {
    "scrolled": false
   },
   "outputs": [
    {
     "data": {
      "image/png": "[encoded data removed]",
      "text/plain": [
       "<Figure size 1152x576 with 1 Axes>"
      ]
     },
     "metadata": {
      "needs_background": "light"
     },
     "output_type": "display_data"
    }
   ],
   "source": [
    "plt.figure(figsize=(16,8))\n",
    "sns.barplot(data=banks, x='products', y='churn', ci=None)\n",
    "plt.title('Гистограмма долей ушедших клиентов по количеству продуктов')\n",
    "plt.xlabel('Количество продуктов банка')\n",
    "plt.axhline(y=banks['churn'].mean(), color='red', linestyle='--')\n",
    "plt.ylabel('Доля ушедших клиентов')\n",
    "plt.show()"
   ]
  },
  {
   "cell_type": "markdown",
   "metadata": {},
   "source": [
    "По гисторамме видим, что больше половины пользователей, имеющих 4 продукта, ушли. По остальным значениям прямая зависимость - чем больше продуктов, тем чаще клиенты уходят"
   ]
  },
  {
   "cell_type": "markdown",
   "metadata": {},
   "source": [
    "#### Анализ наличия кредитной карты"
   ]
  },
  {
   "cell_type": "code",
   "execution_count": 36,
   "metadata": {
    "scrolled": false
   },
   "outputs": [
    {
     "data": {
      "image/png": "[encoded data removed]",
      "text/plain": [
       "<Figure size 1152x576 with 1 Axes>"
      ]
     },
     "metadata": {
      "needs_background": "light"
     },
     "output_type": "display_data"
    }
   ],
   "source": [
    "plt.figure(figsize=(16,8))\n",
    "sns.barplot(data=banks, x='credit_card', y='churn', ci=None)\n",
    "plt.title('Гистограмма долей ушедших клиентов по наличию кредитной карты')\n",
    "plt.xlabel('Наличие кредитной карты')\n",
    "plt.axhline(y=banks['churn'].mean(), color='red', linestyle='--')\n",
    "plt.ylabel('Доля ушедших клиентов')\n",
    "plt.show()"
   ]
  },
  {
   "cell_type": "markdown",
   "metadata": {},
   "source": [
    "По гисторамме видим, что примерно на 10% больше ушедших не имели кредитной карты"
   ]
  },
  {
   "cell_type": "markdown",
   "metadata": {},
   "source": [
    "#### Анализ активности клиентов "
   ]
  },
  {
   "cell_type": "code",
   "execution_count": 37,
   "metadata": {
    "scrolled": false
   },
   "outputs": [
    {
     "data": {
      "image/png": "[encoded data removed]",
      "text/plain": [
       "<Figure size 1152x576 with 1 Axes>"
      ]
     },
     "metadata": {
      "needs_background": "light"
     },
     "output_type": "display_data"
    }
   ],
   "source": [
    "plt.figure(figsize=(16,8))\n",
    "sns.barplot(data=banks, x='last_activity', y='churn', ci=None)\n",
    "plt.title('Гистограмма долей ушедших клиентов по активности')\n",
    "plt.xlabel('Активность клиентов')\n",
    "plt.axhline(y=banks['churn'].mean(), color='red', linestyle='--')\n",
    "plt.ylabel('Доля ушедших клиентов')\n",
    "plt.show()"
   ]
  },
  {
   "cell_type": "markdown",
   "metadata": {},
   "source": [
    "По гисторамме видим, что совсем уходит гораздо больше тех, кто был активен, что довольно парадоксально, поскольку считаем, что активность учитывается за последний месяц, а отток - за полгода"
   ]
  },
  {
   "cell_type": "markdown",
   "metadata": {},
   "source": [
    "**Вывод по разделу**  \n",
    "По построенным гистограммам мы поняли следующее:\n",
    "- отток больше у клиентов с бОльшим кредитным скорингом, максимум находится в диапазоне от 850 до 900\n",
    "- отток больше у клиентов в возрасте от 30 до 40, а так же от 50 до 60 лет\n",
    "- отток больше у клиентов с балансом до миллиона, точнее в районе 300-500 тысяч, как и в целом по всем клиентам, в том числе и остающимся с банком, а также у клиентов с балансом от 1 до 1,5 миллионов\n",
    "- отток и лояльность клиентов от дохода не зависит и примерно одинаковы по всём диапазоне\n",
    "- отток клиентов по городам примерно одинаковый, хотя в Рыбинске немного меньше\n",
    "- отток мужчин примерно в два раза выше, чем женщин\n",
    "- чем больше у клиентов собственности, тем больше таких клиентов уходит\n",
    "- больше половины пользователей, имеющих 4 продукта, ушли. По остальным значениям прямая зависимость - чем больше продуктов, тем чаще клиенты уходят\n",
    "- примерно на 10% больше ушедших не имели кредитной карты"
   ]
  },
  {
   "cell_type": "markdown",
   "metadata": {},
   "source": [
    "### Корреляционный анализ\n",
    "  \n",
    "Построим тепловую карту, показывающую как все количественные параметры коррелируют между собой, исключив сначала столбец user_id из анализа, посколько он может быть не связан со временем заключения договора:"
   ]
  },
  {
   "cell_type": "code",
   "execution_count": 38,
   "metadata": {},
   "outputs": [
    {
     "data": {
      "text/html": [
       "<div>\n",
       "<style scoped>\n",
       "    .dataframe tbody tr th:only-of-type {\n",
       "        vertical-align: middle;\n",
       "    }\n",
       "\n",
       "    .dataframe tbody tr th {\n",
       "        vertical-align: top;\n",
       "    }\n",
       "\n",
       "    .dataframe thead th {\n",
       "        text-align: right;\n",
       "    }\n",
       "</style>\n",
       "<table border=\"1\" class=\"dataframe\">\n",
       "  <thead>\n",
       "    <tr style=\"text-align: right;\">\n",
       "      <th></th>\n",
       "      <th>score</th>\n",
       "      <th>city</th>\n",
       "      <th>gender</th>\n",
       "      <th>age</th>\n",
       "      <th>equity</th>\n",
       "      <th>balance</th>\n",
       "      <th>products</th>\n",
       "      <th>credit_card</th>\n",
       "      <th>last_activity</th>\n",
       "      <th>est_salary</th>\n",
       "      <th>churn</th>\n",
       "      <th>Ростов</th>\n",
       "      <th>Рыбинск</th>\n",
       "      <th>Ярославль</th>\n",
       "      <th>Ж</th>\n",
       "      <th>М</th>\n",
       "    </tr>\n",
       "  </thead>\n",
       "  <tbody>\n",
       "    <tr>\n",
       "      <th>0</th>\n",
       "      <td>850.0</td>\n",
       "      <td>Рыбинск</td>\n",
       "      <td>Ж</td>\n",
       "      <td>25.0</td>\n",
       "      <td>1</td>\n",
       "      <td>59214.82</td>\n",
       "      <td>2</td>\n",
       "      <td>0</td>\n",
       "      <td>1</td>\n",
       "      <td>75719.14</td>\n",
       "      <td>1</td>\n",
       "      <td>0</td>\n",
       "      <td>1</td>\n",
       "      <td>0</td>\n",
       "      <td>1</td>\n",
       "      <td>0</td>\n",
       "    </tr>\n",
       "    <tr>\n",
       "      <th>1</th>\n",
       "      <td>861.0</td>\n",
       "      <td>Рыбинск</td>\n",
       "      <td>Ж</td>\n",
       "      <td>37.0</td>\n",
       "      <td>5</td>\n",
       "      <td>850594.33</td>\n",
       "      <td>3</td>\n",
       "      <td>1</td>\n",
       "      <td>0</td>\n",
       "      <td>86621.77</td>\n",
       "      <td>0</td>\n",
       "      <td>0</td>\n",
       "      <td>1</td>\n",
       "      <td>0</td>\n",
       "      <td>1</td>\n",
       "      <td>0</td>\n",
       "    </tr>\n",
       "    <tr>\n",
       "      <th>2</th>\n",
       "      <td>892.0</td>\n",
       "      <td>Рыбинск</td>\n",
       "      <td>Ж</td>\n",
       "      <td>30.0</td>\n",
       "      <td>0</td>\n",
       "      <td>NaN</td>\n",
       "      <td>1</td>\n",
       "      <td>1</td>\n",
       "      <td>1</td>\n",
       "      <td>107683.34</td>\n",
       "      <td>0</td>\n",
       "      <td>0</td>\n",
       "      <td>1</td>\n",
       "      <td>0</td>\n",
       "      <td>1</td>\n",
       "      <td>0</td>\n",
       "    </tr>\n",
       "    <tr>\n",
       "      <th>3</th>\n",
       "      <td>866.0</td>\n",
       "      <td>Ярославль</td>\n",
       "      <td>Ж</td>\n",
       "      <td>51.0</td>\n",
       "      <td>5</td>\n",
       "      <td>1524746.26</td>\n",
       "      <td>2</td>\n",
       "      <td>0</td>\n",
       "      <td>1</td>\n",
       "      <td>174423.53</td>\n",
       "      <td>1</td>\n",
       "      <td>0</td>\n",
       "      <td>0</td>\n",
       "      <td>1</td>\n",
       "      <td>1</td>\n",
       "      <td>0</td>\n",
       "    </tr>\n",
       "    <tr>\n",
       "      <th>4</th>\n",
       "      <td>730.0</td>\n",
       "      <td>Ярославль</td>\n",
       "      <td>М</td>\n",
       "      <td>34.0</td>\n",
       "      <td>5</td>\n",
       "      <td>174.00</td>\n",
       "      <td>1</td>\n",
       "      <td>1</td>\n",
       "      <td>0</td>\n",
       "      <td>67353.16</td>\n",
       "      <td>1</td>\n",
       "      <td>0</td>\n",
       "      <td>0</td>\n",
       "      <td>1</td>\n",
       "      <td>0</td>\n",
       "      <td>1</td>\n",
       "    </tr>\n",
       "  </tbody>\n",
       "</table>\n",
       "</div>"
      ],
      "text/plain": [
       "   score       city gender   age  equity     balance  products  credit_card  \\\n",
       "0  850.0    Рыбинск      Ж  25.0       1    59214.82         2            0   \n",
       "1  861.0    Рыбинск      Ж  37.0       5   850594.33         3            1   \n",
       "2  892.0    Рыбинск      Ж  30.0       0         NaN         1            1   \n",
       "3  866.0  Ярославль      Ж  51.0       5  1524746.26         2            0   \n",
       "4  730.0  Ярославль      М  34.0       5      174.00         1            1   \n",
       "\n",
       "   last_activity  est_salary  churn  Ростов  Рыбинск  Ярославль  Ж  М  \n",
       "0              1    75719.14      1       0        1          0  1  0  \n",
       "1              0    86621.77      0       0        1          0  1  0  \n",
       "2              1   107683.34      0       0        1          0  1  0  \n",
       "3              1   174423.53      1       0        0          1  1  0  \n",
       "4              0    67353.16      1       0        0          1  0  1  "
      ]
     },
     "execution_count": 38,
     "metadata": {},
     "output_type": "execute_result"
    }
   ],
   "source": [
    "banks_corr=banks\n",
    "banks_corr.drop('user_id', axis=1, inplace=True)\n",
    "banks_corr.head()"
   ]
  },
  {
   "cell_type": "code",
   "execution_count": 39,
   "metadata": {
    "scrolled": false
   },
   "outputs": [
    {
     "data": {
      "image/png": "[encoded data removed]",
      "text/plain": [
       "<Figure size 1152x576 with 2 Axes>"
      ]
     },
     "metadata": {
      "needs_background": "light"
     },
     "output_type": "display_data"
    }
   ],
   "source": [
    "plt.figure(figsize=(16,8))\n",
    "sns.heatmap(banks_corr.corr(), annot=True, cmap='coolwarm', center=0, linewidths=1)\n",
    "plt.title('Тепловая карта корреляции всех данных')\n",
    "plt.xlabel('Данные')\n",
    "plt.ylabel('Данные')\n",
    "plt.show()"
   ]
  },
  {
   "cell_type": "markdown",
   "metadata": {},
   "source": [
    "Проанализируем связи отточности по шкале Чеддока:  \n",
    "Величина показателя тесноты связи по абсолютной величине - Характеристика связи  \n",
    "0,1-0,3  - слабая  \n",
    "0,3-0,5  - умеренная  \n",
    "0,5-0,7  - заметная  \n",
    "0,7-0,9  - высокая  \n",
    "0,9-0,99 - весьма высокая  \n",
    "\n",
    "По карте видим, что наибольшая связь оттока (сhurn) с количеством продуктов (products) - 0,3; баллам собственности (equity) - 0,27; активностью (last_activity) - 0,17 и баллами кредитного скоринга (score) - 0,11. Так же видим, что мужчины больше коррелируют с оттоков, чем женщины. Хотя по шкале корреляции Чеддока все эти связи слабые.  \n",
    "  \n",
    "Касаемо остальных параметров: видим связи умеренной силы (0,3-0,5) между количеством продуктов и баллами собственности (0,43) и между балансом и оценточным доходом (0,34).  \n",
    "Так же есть связь, правда слабая, между уровнем скоринга и балансом (0,24) и уровнем дохода (0,16), и между наличием кредитной карты и количеством продуктов (-0,25). В целом все эти связи довольно логичные.  \n",
    "Связи между остальными параметрами (в частности город и пол) либо совсем слабые, либо их нет вообще"
   ]
  },
  {
   "cell_type": "markdown",
   "metadata": {},
   "source": [
    "## Статистический анализ данных \n",
    "Проверка двух статистических гипотез с обоснованием инструмента  \n",
    "  \n",
    "Для начала разделим датасет на два по критерию оттёчности клиентов:"
   ]
  },
  {
   "cell_type": "code",
   "execution_count": 40,
   "metadata": {},
   "outputs": [],
   "source": [
    "churn1=banks.query('churn==1')\n",
    "churn0=banks.query('churn==0')"
   ]
  },
  {
   "cell_type": "markdown",
   "metadata": {},
   "source": [
    "### Обоснование выбора теста"
   ]
  },
  {
   "cell_type": "markdown",
   "metadata": {},
   "source": [
    "Чтобы понять, можно ли применять t-тест, нужно проверить три условия:\n",
    "- **Генеральные совокупности не зависят друг от друга**  \n",
    "У нас две независимые выборки, с ушедшимися клиентами и оставшимися\n",
    "- **Выборочные средние нормально распределены**  \n",
    "Это условие не должно быть препятствием благодаря ЦПТ. Если размер выборки составляет хотя бы несколько десятков значений, то выборочные средние, которые можно получить из одной и той же генеральной совокупности, будут распределены близко к нормальному вокруг истинного среднего этой совокупности. Это так, даже если сама генеральная совокупность не распределена нормально. \n",
    "- **Дисперсии рассматриваемых генеральных совокупностей равны**  \n",
    "Это коварное условие. С одной стороны, мы никогда точно не знаем, равны ли дисперсии рассматриваемых генеральных совокупностей. С другой — по умолчанию параметр equal_var принимает значение True: дисперсии считаются равными и тест объединяет обе выборки в одну, чтобы эту дисперсию поточнее оценить.  \n",
    "При этом если выборки достаточно велики (30 и больше значений) и равны по размеру между собой, то такой подход оправдан. Симуляции, проведённые учёными, показывают, что даже если дисперсии на самом деле не равны, то тест редко ошибается.  \n",
    "\n",
    "Посмотрим на размеры выборок:"
   ]
  },
  {
   "cell_type": "code",
   "execution_count": 41,
   "metadata": {},
   "outputs": [
    {
     "name": "stdout",
     "output_type": "stream",
     "text": [
      "Размер выборки с ушедшими клиентами: 1819\n",
      "Размер выборки с оставшимимя клиентами: 8155\n"
     ]
    }
   ],
   "source": [
    "print('Размер выборки с ушедшими клиентами:', len(churn1))\n",
    "print('Размер выборки с оставшимимя клиентами:', len(churn0))"
   ]
  },
  {
   "cell_type": "markdown",
   "metadata": {},
   "source": [
    "Выборки достаточно большие, значит второе условие тоже выполняется. Дисперсии выборок будем проверять для каждой гипотезы дальше"
   ]
  },
  {
   "cell_type": "markdown",
   "metadata": {},
   "source": [
    "### Проверка гипотез\n",
    "#### Проверка гипотезы о различии доходов  \n",
    "Проверим гипотезу, что доходы ушедших и оставшихся клиентов отличаются, проверив сначала дисперсии:"
   ]
  },
  {
   "cell_type": "code",
   "execution_count": 42,
   "metadata": {},
   "outputs": [
    {
     "name": "stdout",
     "output_type": "stream",
     "text": [
      "Дисперсия дохода ушедших клиентов 15104008500.895664\n",
      "Дисперсия дохода оставшихся клиентов 20356342952.421223\n",
      "\n",
      "Средний доход ушедших клиентов 148289.70222100057\n",
      "Средний доход оставшихся клиентов 147674.63788105457\n"
     ]
    }
   ],
   "source": [
    "print('Дисперсия дохода ушедших клиентов',np.var(np.array(churn1['est_salary'])))\n",
    "print('Дисперсия дохода оставшихся клиентов',np.var(np.array(churn0['est_salary'])))\n",
    "print()\n",
    "print('Средний доход ушедших клиентов',np.mean(np.array(churn1['est_salary'])))\n",
    "print('Средний доход оставшихся клиентов',np.mean(np.array(churn0['est_salary'])))"
   ]
  },
  {
   "cell_type": "markdown",
   "metadata": {},
   "source": [
    "Хоть средний доход по выборкам у нас примерно одинаковый, дисперсии разные. Поскольку и выборки у нас разного размера, укажем параметр equal_var как False, и тест посчитает дисперсии выборок по отдельности.  \n",
    "  \n",
    "Сформулируем нулевую и альтернативную гипотезы:\n",
    "- нулевая гипотеза - доходы ушедших и оставшихся клиентов равны\n",
    "- альтернативная гипотеза - доходы ушедших и оставшихся клиентов отличаются"
   ]
  },
  {
   "cell_type": "code",
   "execution_count": 43,
   "metadata": {},
   "outputs": [
    {
     "name": "stdout",
     "output_type": "stream",
     "text": [
      "p-value: 0.8515799588935961\n",
      "Не получилось отвергнуть нулевую гипотезу\n"
     ]
    }
   ],
   "source": [
    "alpha=0.05\n",
    "results1=st.ttest_ind(churn1['est_salary'], churn0['est_salary'], equal_var=False)\n",
    "print('p-value:', results1.pvalue)\n",
    "if results1.pvalue < alpha:\n",
    "    print(\"Отвергаем нулевую гипотезу\")\n",
    "else:\n",
    "    print(\"Не получилось отвергнуть нулевую гипотезу\")"
   ]
  },
  {
   "cell_type": "markdown",
   "metadata": {},
   "source": [
    "По результату t-теста можем сделать вывод, что различия в доходах между ушедшими и оставшимися клиентами не имеют статистической значимости"
   ]
  },
  {
   "cell_type": "markdown",
   "metadata": {},
   "source": [
    "#### Проверка гипотезы о различии возраста  \n",
    "Проверим гипотезу, что возраст ушедших и оставшихся клиентов отличаются, проверив сначала дисперсии:"
   ]
  },
  {
   "cell_type": "code",
   "execution_count": 44,
   "metadata": {},
   "outputs": [
    {
     "name": "stdout",
     "output_type": "stream",
     "text": [
      "Дисперсия возраста ушедших клиентов 124.84455601356521\n",
      "Дисперсия возраста оставшихся клиентов 153.12697193891648\n",
      "\n",
      "Средний возраст ушедших клиентов 41.450247388675095\n",
      "Средний возраст оставшихся клиентов 43.02084610668302\n"
     ]
    }
   ],
   "source": [
    "print('Дисперсия возраста ушедших клиентов',np.var(np.array(churn1['age'])))\n",
    "print('Дисперсия возраста оставшихся клиентов',np.var(np.array(churn0['age'])))\n",
    "print()\n",
    "print('Средний возраст ушедших клиентов',np.mean(np.array(churn1['age'])))\n",
    "print('Средний возраст оставшихся клиентов',np.mean(np.array(churn0['age'])))"
   ]
  },
  {
   "cell_type": "markdown",
   "metadata": {},
   "source": [
    "Как и в предыдущей гипотезе, хоть средний возраст по выборкам у нас примерно одинаковый, дисперсии разные. И поскольку и выборки у нас разного размера, укажем параметр equal_var как False, и тест посчитает дисперсии выборок по отдельности.  \n",
    "  \n",
    "Сформулируем нулевую и альтернативную гипотезы:\n",
    "- нулевая гипотеза - возраст ушедших и оставшихся клиентов равен\n",
    "- альтернативная гипотеза - возраст ушедших и оставшихся клиентов отличается"
   ]
  },
  {
   "cell_type": "code",
   "execution_count": 45,
   "metadata": {},
   "outputs": [
    {
     "name": "stdout",
     "output_type": "stream",
     "text": [
      "p-value: 1.1721656853879547e-07\n",
      "Отвергаем нулевую гипотезу\n"
     ]
    }
   ],
   "source": [
    "# alpha=0.05 (задали в предыдущем тесте)\n",
    "results2=st.ttest_ind(churn1['age'], churn0['age'], equal_var=False)\n",
    "print('p-value:', results2.pvalue)\n",
    "if results2.pvalue < alpha:\n",
    "    print(\"Отвергаем нулевую гипотезу\")\n",
    "else:\n",
    "    print(\"Не получилось отвергнуть нулевую гипотезу\")"
   ]
  },
  {
   "cell_type": "markdown",
   "metadata": {},
   "source": [
    "По результату t-теста можем сделать вывод, что различия в возрасте между ушедшими и оставшимися клиентами имеют статистическую значимость  \n",
    "  \n",
    "А по гистограмме возраста в разрезе оттока клиентов (из пункта 3.1.2) помним, что среди отточных у нас есть клиенты в возрасте 30-40 лет, как и среди оставшихся, но также есть много ушедших клиентов в возрасте 50-60 лет  "
   ]
  },
  {
   "cell_type": "markdown",
   "metadata": {},
   "source": [
    "**Вывод разделу**  \n",
    "Предварительно приведя обоснование использование t-теста, мы проверили две гипотезы: первая гипотеза о различии доходов была отвергнута, то есть считаем, что доходы равны, а вторая - о различии в возрасте - подтвердилась, то есть возраст в выборках по отточности отличается "
   ]
  },
  {
   "cell_type": "markdown",
   "metadata": {},
   "source": [
    "## Подведение промежуточных итогов \n",
    "**Выводы по результатам EDA, корреляционного анализа и гипотез, выделение признаков, влияющих на отток**  \n",
    "  \n",
    "На этом этапе мы выберем признаки, которые лягут в основу нашей сегментации.  \n",
    "Не будем выделять много сегментирующих признаков, чтобы сегменты не получились слишком узкими - так мы не сможем охватить много клиентов в пределах сегмента, и это повышает риск того, что мероприятие по удержанию клиентов не окажется эффективным. С другой стороны, слишком широкие сегменты в погоней за высоким уровнем оттока тоже не стоит делать - к таким сегментам сложно подобрать рекомендации, и мы рискуем не удержать никого.  \n",
    "\n",
    "**----------------------------------------------------------------------------------------------------------------------------------------**\n",
    "\n",
    "В качестве **первого признака возьмём пол** - отток мужчин примерно в два раза выше, чем женщин  \n",
    "  \n",
    "За **второй признак возьмём возраст**:  \n",
    "по проверке гипотезы - возраст отличается  \n",
    "по ИДА - отток больше у клиентов в возрасте от 30 до 40, а так же от 50 до 60 лет, второй интервал нам более интересен, как как в первого показатели лояльности клиентов схожи с отточностью  \n",
    "  \n",
    "Также существенно больше клиентов ушли **со следующими признаками** (в разные сегменты будем брать по одному из этих признаков, чтобы в итоге подобрать большие сегменты с оттоком выше среднего):\n",
    "- это жители Ярославля и Ростова\n",
    "- клиенты с 4 продуктами в банке\n",
    "- у клиентов было много собственности - 9 баллов\n",
    "- кредитный скоринг 850-900\n",
    "- у клиентов не было кредитной карты\n"
   ]
  },
  {
   "cell_type": "markdown",
   "metadata": {},
   "source": [
    "## Сегментация\n",
    "\n",
    "Подберём такие сегменты, в которых будет от 500 клиентов и отток больше, чем средний уровень оттока по банку - 18%.   \n",
    "Сегментацию мы будем проводить по результатам работы в прошлых блоках, то есть по выделенным признакам и их интервалам, включающим наибольший процент оттока клиентов"
   ]
  },
  {
   "cell_type": "markdown",
   "metadata": {},
   "source": [
    "### 1ый сегмент\n",
    "Мужчины в возрасте 50-60 лет из Ярославля"
   ]
  },
  {
   "cell_type": "code",
   "execution_count": 46,
   "metadata": {},
   "outputs": [
    {
     "name": "stdout",
     "output_type": "stream",
     "text": [
      "Количество клиентов в сегменте 432\n"
     ]
    }
   ],
   "source": [
    "segment1=banks.query('М==1 and age>=50 and age<=60 and Ярославль==1')\n",
    "print('Количество клиентов в сегменте', len(segment1))"
   ]
  },
  {
   "cell_type": "markdown",
   "metadata": {},
   "source": [
    "Немного расширим возраст до 49-62 лет"
   ]
  },
  {
   "cell_type": "code",
   "execution_count": 47,
   "metadata": {},
   "outputs": [
    {
     "name": "stdout",
     "output_type": "stream",
     "text": [
      "Количество клиентов в сегменте 529\n"
     ]
    }
   ],
   "source": [
    "segment1=banks.query('М==1 and age>=49 and age<=62 and Ярославль==1')\n",
    "print('Количество клиентов в сегменте', len(segment1))"
   ]
  },
  {
   "cell_type": "markdown",
   "metadata": {},
   "source": [
    "Посчитаем число и долю отточных клиентов в этом сегменте:"
   ]
  },
  {
   "cell_type": "code",
   "execution_count": 48,
   "metadata": {},
   "outputs": [
    {
     "name": "stdout",
     "output_type": "stream",
     "text": [
      "Количество ушедших клиентов 144\n",
      "Доля ушедших клиентов 0.2722117202268431\n"
     ]
    }
   ],
   "source": [
    "segment1_churn=banks.query('churn==1 and М==1 and age>=50 and age<=60 and Ярославль==1')\n",
    "print('Количество ушедших клиентов', len(segment1_churn))\n",
    "print('Доля ушедших клиентов', len(segment1_churn)/len(segment1))"
   ]
  },
  {
   "cell_type": "markdown",
   "metadata": {},
   "source": [
    "### 2ой сегмент\n",
    "Женщины в возрасте 30-40 лет"
   ]
  },
  {
   "cell_type": "code",
   "execution_count": 49,
   "metadata": {
    "scrolled": true
   },
   "outputs": [
    {
     "name": "stdout",
     "output_type": "stream",
     "text": [
      "Количество клиентов в сегменте 1758\n"
     ]
    }
   ],
   "source": [
    "segment2=banks.query('Ж==1 and age>=30 and age<=40')\n",
    "print('Количество клиентов в сегменте', len(segment2))"
   ]
  },
  {
   "cell_type": "markdown",
   "metadata": {},
   "source": [
    "Посчитаем число и долю отточных клиентов в этом сегменте:"
   ]
  },
  {
   "cell_type": "code",
   "execution_count": 50,
   "metadata": {},
   "outputs": [
    {
     "name": "stdout",
     "output_type": "stream",
     "text": [
      "Количество ушедших клиентов 239\n",
      "Доля ушедших клиентов 0.13594994311717862\n"
     ]
    }
   ],
   "source": [
    "segment2_churn=banks.query('churn==1 and Ж==1 and age>=30 and age<=40')\n",
    "print('Количество ушедших клиентов', len(segment2_churn))\n",
    "print('Доля ушедших клиентов', len(segment2_churn)/len(segment2))"
   ]
  },
  {
   "cell_type": "markdown",
   "metadata": {},
   "source": [
    "В таком сегменте отточность получилась ниже средней"
   ]
  },
  {
   "cell_type": "markdown",
   "metadata": {},
   "source": [
    "### 3ий сегмент\n",
    "Женщины c кредитным скорингом 850-900 и 4 банковскими продуктами"
   ]
  },
  {
   "cell_type": "code",
   "execution_count": 51,
   "metadata": {},
   "outputs": [
    {
     "name": "stdout",
     "output_type": "stream",
     "text": [
      "Количество клиентов в сегменте 86\n"
     ]
    }
   ],
   "source": [
    "segment3=banks.query('Ж==1 and score>=850 and score<=900 and products==4')\n",
    "print('Количество клиентов в сегменте', len(segment3))"
   ]
  },
  {
   "cell_type": "markdown",
   "metadata": {},
   "source": [
    "В таком сегменте получилось мало клиентов"
   ]
  },
  {
   "cell_type": "markdown",
   "metadata": {},
   "source": [
    "### 4ый сегмент\n",
    "Клиенты с 4 банковскими продуктами и 9 баллами собственности"
   ]
  },
  {
   "cell_type": "code",
   "execution_count": 52,
   "metadata": {
    "scrolled": true
   },
   "outputs": [
    {
     "name": "stdout",
     "output_type": "stream",
     "text": [
      "Количество клиентов в сегменте 2\n"
     ]
    }
   ],
   "source": [
    "segment4=banks.query('products==4 and equity==9')\n",
    "print('Количество клиентов в сегменте', len(segment4))"
   ]
  },
  {
   "cell_type": "markdown",
   "metadata": {},
   "source": [
    "В таком сегменте получилось очень мало клиентов"
   ]
  },
  {
   "cell_type": "markdown",
   "metadata": {},
   "source": [
    "### 5ый сегмент\n",
    "Мужчины c кредитным скорингом 850-900"
   ]
  },
  {
   "cell_type": "code",
   "execution_count": 53,
   "metadata": {
    "scrolled": true
   },
   "outputs": [
    {
     "name": "stdout",
     "output_type": "stream",
     "text": [
      "Количество клиентов в сегменте 1335\n"
     ]
    }
   ],
   "source": [
    "segment5=banks.query('М==1 and score>=850 and score<=900')\n",
    "print('Количество клиентов в сегменте', len(segment5))"
   ]
  },
  {
   "cell_type": "markdown",
   "metadata": {},
   "source": [
    "Посчитаем число и долю отточных клиентов в этом сегменте:"
   ]
  },
  {
   "cell_type": "code",
   "execution_count": 54,
   "metadata": {
    "scrolled": true
   },
   "outputs": [
    {
     "name": "stdout",
     "output_type": "stream",
     "text": [
      "Количество ушедших клиентов 435\n",
      "Доля ушедших клиентов 0.3258426966292135\n"
     ]
    }
   ],
   "source": [
    "segment5_churn=banks.query('churn==1 and М==1 and score>=850 and score<=900')\n",
    "print('Количество ушедших клиентов', len(segment5_churn))\n",
    "print('Доля ушедших клиентов', len(segment5_churn)/len(segment5))"
   ]
  },
  {
   "cell_type": "markdown",
   "metadata": {},
   "source": [
    "### 6ой сегмент\n",
    "Клиенты в возрасте 30-40 лет без кредитной карты"
   ]
  },
  {
   "cell_type": "code",
   "execution_count": 55,
   "metadata": {
    "scrolled": true
   },
   "outputs": [
    {
     "name": "stdout",
     "output_type": "stream",
     "text": [
      "Количество клиентов в сегменте 1108\n"
     ]
    }
   ],
   "source": [
    "segment6=banks.query('age>=30 and age<=40 and credit_card==0')\n",
    "print('Количество клиентов в сегменте', len(segment6))"
   ]
  },
  {
   "cell_type": "markdown",
   "metadata": {},
   "source": [
    "Посчитаем число и долю отточных клиентов в этом сегменте:"
   ]
  },
  {
   "cell_type": "code",
   "execution_count": 56,
   "metadata": {
    "scrolled": true
   },
   "outputs": [
    {
     "name": "stdout",
     "output_type": "stream",
     "text": [
      "Количество ушедших клиентов 311\n",
      "Доля ушедших клиентов 0.2806859205776173\n"
     ]
    }
   ],
   "source": [
    "segment6_churn=banks.query('churn==1 and age>=30 and age<=40 and credit_card==0')\n",
    "print('Количество ушедших клиентов', len(segment6_churn))\n",
    "print('Доля ушедших клиентов', len(segment6_churn)/len(segment6))"
   ]
  },
  {
   "cell_type": "markdown",
   "metadata": {},
   "source": [
    "### 7ой сегмент\n",
    "Мужчины в возрасте 49-62 лет без кредитной карты"
   ]
  },
  {
   "cell_type": "code",
   "execution_count": 57,
   "metadata": {
    "scrolled": false
   },
   "outputs": [
    {
     "name": "stdout",
     "output_type": "stream",
     "text": [
      "Количество клиентов в сегменте 336\n"
     ]
    }
   ],
   "source": [
    "segment7=banks.query('М==1 and age>=49 and age<=62 and credit_card==0')\n",
    "print('Количество клиентов в сегменте', len(segment7))"
   ]
  },
  {
   "cell_type": "markdown",
   "metadata": {},
   "source": [
    "В таком сегменте получилось недостаточно клиентов"
   ]
  },
  {
   "cell_type": "markdown",
   "metadata": {},
   "source": [
    "## Приоритизация сегментов\n",
    "\n",
    "Поскольку наш отдел маркетинга включает только двух работников, у них нет автоматизированных систем, поэтому все мероприятия, рассылки и агитации будут выполнены ручным трудом. Поэтому важно приоритизировать сегменты, чтобы маркетинг знал, на что обратить внимание в первую очередь в случае, если ресурсов маркетинга не хватит на охват всех выделенных сегментов.  \n",
    "  \n",
    "Приоритизируем гипотезы по мере убывания количества отточных клиентов, чтобы в первую очередь охватить сегменты с наибольшим их количеством:  \n",
    "  \n",
    "1. Мужчины c кредитным скорингом 850-900 - 1335 человек - 33% отток\n",
    "2. Клиенты в возрасте 30-40 лет без кредитной карты - 1108 человек - 28% отток\n",
    "3. Мужчины в возрасте 49-62 лет из Ярославля - 529 человек - 27% отток"
   ]
  },
  {
   "cell_type": "markdown",
   "metadata": {},
   "source": [
    "## Формирование таргетированных рекомендаций\n",
    "Сформируем для отдела маркетинга рекомендации по работе с выделенными сегментами отточных клиентов  \n",
    "  \n",
    "1ый сегмент: Мужчины c кредитным скорингом 850-900 - 33% оттока  \n",
    "- предложить выгодные условия по любому кредиту (например ипотеке или автокредиту)\n",
    "- не зарплатным клиентам предложить перевести зарплату в банк с последующими специальными условиями как для зарплатных клиентов\n",
    "- пенсионерам предложить перевести пенсию в банк на выгодных условиях\n",
    "- чаще предлагать категории кэшбэка, покупки в которых совершает клиент, а также например в категориях активного отдыха, спорта или детских товаров\n",
    "  \n",
    "2ой сегмент: Клиенты в возрасте 30-40 лет без кредитной карты - 28% оттока  \n",
    "- предложить кредитную карту на льготных и выгодных условиях\n",
    "- не зарплатным клиентам предложить перевести зарплату в банк с последующими специальными условиями как для зарплатных клиентов\n",
    "- чаще предлагать категории кэшбэка, покупки в которых совершает клиент, а также например в категориях активного отдыха, спорта или детских товаров, женщинам - на косметику или одежду \n",
    "- предложить выгодные условия по ипотеке или автокредиту\n",
    "\n",
    "3ий сегмент: Мужчины в возрасте 49-62 лет из Ярославля - 27% оттока  \n",
    "- не зарплатным клиентам предложить перевести зарплату в банк с последующими специальными условиями как для зарплатных клиентов\n",
    "- пенсионерам предложить перевести пенсию в банк на выгодных условиях\n",
    "- чаще предлагать категории кэшбэка, покупки в которых совершает клиент, а также например в категориях товаров для охоты, рыбалки или строительства\n",
    "- провести проверку по качеству обслуживания как в отделениях, так и онлайн клиентов в Ярославле\n",
    "  \n",
    "И из общих рекомендаций:  \n",
    "- ненавязчиво информировать клиентов о новых продуктах\n",
    "- сегментам отточных клиентов предлагать повышенные ставки по вкладам"
   ]
  },
  {
   "cell_type": "markdown",
   "metadata": {},
   "source": [
    "# Выводы по проекту\n",
    "\n",
    "В проекте был проанализирован датасет с данными клиентов \"Метанпромбанка» в Ярославле, Ростове и Рыбинске в разрезе их отточности из банка.  \n",
    "  \n",
    "Сначала мы подготовили данные: переименовали столбцы, обработали пропуски и дубликаты, закодировали переменные городов и пола, и проверили корректность данных.  \n",
    "  \n",
    "Затем провели исследовательский анализ: посмотрели распределение всех признаков, как количественных, так и категориальных, в разрере оттока клиентов, провели корреляционный анализ, на основании чего выявили зависимость оттока клиентов от таких параметров, как кредитный скоринг, возраст, баланс, пол, количество собственности, количество продуктов и наличие кредитной карты.  \n",
    "  \n",
    "Провели статистический анализ, проверив две гипотезы, предварительно приведя обоснование использование t-теста: первая гипотеза о различии доходов была отвергнута, то есть считаем, что доходы равны, а вторая - о различии в возрасте - подтвердилась, то есть возраст в выборках по отточности отличается.  \n",
    "  \n",
    "Подвели промежуточные итоги, отобрав признаки для сегментации отточных пользователей, по которым потом собственно и сформировали сегменты, из которых в свою очередь отобрали и приоритизировали сегменты с более 500 клиентами и отточностью больше средней по банку.  \n",
    "  \n",
    "В итоге отобрав три сегмента, дали рекомендации отделу маркетинга по работе с выявленными сегментами отточных клиентов."
   ]
  },
  {
   "cell_type": "markdown",
   "metadata": {},
   "source": [
    "# Презентация  "
   ]
  },
  {
   "cell_type": "markdown",
   "metadata": {},
   "source": [
    "Ссылка:  "
   ]
  }
 ],
 "metadata": {
  "ExecuteTimeLog": [
   {
    "duration": 427,
    "start_time": "2024-09-08T10:22:22.417Z"
   },
   {
    "duration": 114,
    "start_time": "2024-09-08T10:22:22.846Z"
   },
   {
    "duration": 13,
    "start_time": "2024-09-08T10:22:22.962Z"
   },
   {
    "duration": 65,
    "start_time": "2024-09-08T10:22:22.977Z"
   },
   {
    "duration": 5,
    "start_time": "2024-09-08T10:22:23.044Z"
   },
   {
    "duration": 15,
    "start_time": "2024-09-08T10:22:23.050Z"
   },
   {
    "duration": 7,
    "start_time": "2024-09-08T10:22:23.067Z"
   },
   {
    "duration": 25,
    "start_time": "2024-09-08T10:22:23.076Z"
   },
   {
    "duration": 8,
    "start_time": "2024-09-08T10:22:23.102Z"
   },
   {
    "duration": 28,
    "start_time": "2024-09-08T10:22:23.111Z"
   },
   {
    "duration": 12,
    "start_time": "2024-09-08T10:22:23.141Z"
   },
   {
    "duration": 8,
    "start_time": "2024-09-08T10:22:23.155Z"
   },
   {
    "duration": 7,
    "start_time": "2024-09-08T10:22:23.165Z"
   },
   {
    "duration": 12,
    "start_time": "2024-09-08T10:22:23.174Z"
   },
   {
    "duration": 10,
    "start_time": "2024-09-08T10:22:23.188Z"
   },
   {
    "duration": 5,
    "start_time": "2024-09-08T10:52:42.046Z"
   },
   {
    "duration": 7,
    "start_time": "2024-09-08T10:52:59.045Z"
   },
   {
    "duration": 127,
    "start_time": "2024-09-08T10:57:10.946Z"
   },
   {
    "duration": 64,
    "start_time": "2024-09-08T10:57:19.185Z"
   },
   {
    "duration": 37,
    "start_time": "2024-09-08T10:57:24.212Z"
   },
   {
    "duration": 58,
    "start_time": "2024-09-08T10:58:41.337Z"
   },
   {
    "duration": 68,
    "start_time": "2024-09-08T10:58:57.304Z"
   },
   {
    "duration": 72,
    "start_time": "2024-09-08T10:59:31.166Z"
   },
   {
    "duration": 71,
    "start_time": "2024-09-08T10:59:47.029Z"
   },
   {
    "duration": 58,
    "start_time": "2024-09-08T11:05:25.597Z"
   },
   {
    "duration": 22,
    "start_time": "2024-09-08T11:05:31.497Z"
   },
   {
    "duration": 65,
    "start_time": "2024-09-08T11:10:19.299Z"
   },
   {
    "duration": 8,
    "start_time": "2024-09-08T11:16:17.112Z"
   },
   {
    "duration": 9,
    "start_time": "2024-09-08T11:17:40.590Z"
   },
   {
    "duration": 4,
    "start_time": "2024-09-08T11:17:55.258Z"
   },
   {
    "duration": 4,
    "start_time": "2024-09-08T11:17:59.855Z"
   },
   {
    "duration": 32,
    "start_time": "2024-09-08T11:23:09.627Z"
   },
   {
    "duration": 23,
    "start_time": "2024-09-08T11:24:10.426Z"
   },
   {
    "duration": 32,
    "start_time": "2024-09-08T11:24:30.212Z"
   },
   {
    "duration": 429,
    "start_time": "2024-09-08T11:24:42.394Z"
   },
   {
    "duration": 119,
    "start_time": "2024-09-08T11:24:42.825Z"
   },
   {
    "duration": 14,
    "start_time": "2024-09-08T11:24:42.945Z"
   },
   {
    "duration": 59,
    "start_time": "2024-09-08T11:24:42.961Z"
   },
   {
    "duration": 6,
    "start_time": "2024-09-08T11:24:43.021Z"
   },
   {
    "duration": 15,
    "start_time": "2024-09-08T11:24:43.028Z"
   },
   {
    "duration": 8,
    "start_time": "2024-09-08T11:24:43.044Z"
   },
   {
    "duration": 4,
    "start_time": "2024-09-08T11:24:43.054Z"
   },
   {
    "duration": 7,
    "start_time": "2024-09-08T11:24:43.060Z"
   },
   {
    "duration": 100,
    "start_time": "2024-09-08T11:24:43.069Z"
   },
   {
    "duration": 38,
    "start_time": "2024-09-08T11:24:43.170Z"
   },
   {
    "duration": 49,
    "start_time": "2024-09-08T11:24:43.210Z"
   },
   {
    "duration": 5,
    "start_time": "2024-09-08T11:24:43.261Z"
   },
   {
    "duration": 11,
    "start_time": "2024-09-08T11:24:43.268Z"
   },
   {
    "duration": 7,
    "start_time": "2024-09-08T11:24:43.280Z"
   },
   {
    "duration": 5,
    "start_time": "2024-09-08T11:24:43.288Z"
   },
   {
    "duration": 9,
    "start_time": "2024-09-08T11:24:43.294Z"
   },
   {
    "duration": 13,
    "start_time": "2024-09-08T11:24:43.305Z"
   },
   {
    "duration": 20,
    "start_time": "2024-09-08T11:24:43.319Z"
   },
   {
    "duration": 6,
    "start_time": "2024-09-08T11:28:58.592Z"
   },
   {
    "duration": 5,
    "start_time": "2024-09-08T11:29:12.899Z"
   },
   {
    "duration": 5,
    "start_time": "2024-09-08T11:29:19.032Z"
   },
   {
    "duration": 24,
    "start_time": "2024-09-08T11:30:46.727Z"
   },
   {
    "duration": 21,
    "start_time": "2024-09-08T11:30:55.945Z"
   },
   {
    "duration": 22,
    "start_time": "2024-09-08T11:32:03.399Z"
   },
   {
    "duration": 24,
    "start_time": "2024-09-08T11:32:32.290Z"
   },
   {
    "duration": 34,
    "start_time": "2024-09-08T11:32:48.538Z"
   },
   {
    "duration": 22,
    "start_time": "2024-09-08T11:37:50.827Z"
   },
   {
    "duration": 23,
    "start_time": "2024-09-08T11:38:19.629Z"
   },
   {
    "duration": 24,
    "start_time": "2024-09-08T11:38:25.908Z"
   },
   {
    "duration": 23,
    "start_time": "2024-09-08T11:38:35.844Z"
   },
   {
    "duration": 42,
    "start_time": "2024-09-08T11:38:41.124Z"
   },
   {
    "duration": 25,
    "start_time": "2024-09-08T11:38:56.888Z"
   },
   {
    "duration": 24,
    "start_time": "2024-09-08T11:39:00.844Z"
   },
   {
    "duration": 42,
    "start_time": "2024-09-08T11:39:03.651Z"
   },
   {
    "duration": 17,
    "start_time": "2024-09-08T11:39:36.374Z"
   },
   {
    "duration": 7,
    "start_time": "2024-09-08T11:48:39.884Z"
   },
   {
    "duration": 6,
    "start_time": "2024-09-08T11:50:11.536Z"
   },
   {
    "duration": 7,
    "start_time": "2024-09-08T11:50:38.973Z"
   },
   {
    "duration": 7,
    "start_time": "2024-09-08T11:55:16.419Z"
   },
   {
    "duration": 5,
    "start_time": "2024-09-08T11:55:19.838Z"
   },
   {
    "duration": 793,
    "start_time": "2024-09-08T11:56:02.863Z"
   },
   {
    "duration": 5,
    "start_time": "2024-09-08T11:56:17.594Z"
   },
   {
    "duration": 5,
    "start_time": "2024-09-08T11:56:25.047Z"
   },
   {
    "duration": 5,
    "start_time": "2024-09-08T11:56:30.673Z"
   },
   {
    "duration": 5,
    "start_time": "2024-09-08T11:56:42.258Z"
   },
   {
    "duration": 22,
    "start_time": "2024-09-08T11:59:28.544Z"
   },
   {
    "duration": 14,
    "start_time": "2024-09-08T11:59:32.407Z"
   },
   {
    "duration": 7,
    "start_time": "2024-09-08T12:02:15.986Z"
   },
   {
    "duration": 14,
    "start_time": "2024-09-08T12:16:38.955Z"
   },
   {
    "duration": 923,
    "start_time": "2024-09-08T13:50:36.140Z"
   },
   {
    "duration": 539,
    "start_time": "2024-09-08T14:06:27.467Z"
   },
   {
    "duration": 45,
    "start_time": "2024-09-08T14:06:53.202Z"
   },
   {
    "duration": 3,
    "start_time": "2024-09-08T14:07:28.561Z"
   },
   {
    "duration": 8,
    "start_time": "2024-09-08T14:07:35.816Z"
   },
   {
    "duration": 9,
    "start_time": "2024-09-08T14:08:00.452Z"
   },
   {
    "duration": 494,
    "start_time": "2024-09-08T14:08:26.406Z"
   },
   {
    "duration": 1636,
    "start_time": "2024-09-08T14:09:31.327Z"
   },
   {
    "duration": 1701,
    "start_time": "2024-09-08T14:09:57.234Z"
   },
   {
    "duration": 1593,
    "start_time": "2024-09-08T14:10:20.955Z"
   },
   {
    "duration": 146,
    "start_time": "2024-09-08T14:11:10.675Z"
   },
   {
    "duration": 1608,
    "start_time": "2024-09-08T14:11:19.596Z"
   },
   {
    "duration": 1651,
    "start_time": "2024-09-08T14:11:28.761Z"
   },
   {
    "duration": 1797,
    "start_time": "2024-09-08T14:13:07.682Z"
   },
   {
    "duration": 1588,
    "start_time": "2024-09-08T14:22:43.990Z"
   },
   {
    "duration": 14,
    "start_time": "2024-09-08T14:34:36.064Z"
   },
   {
    "duration": 24,
    "start_time": "2024-09-08T14:50:28.004Z"
   },
   {
    "duration": 20,
    "start_time": "2024-09-08T14:53:22.611Z"
   },
   {
    "duration": 22,
    "start_time": "2024-09-08T14:54:26.879Z"
   },
   {
    "duration": 23,
    "start_time": "2024-09-08T14:55:36.195Z"
   },
   {
    "duration": 26,
    "start_time": "2024-09-08T14:55:52.153Z"
   },
   {
    "duration": 300,
    "start_time": "2024-09-08T15:03:02.738Z"
   },
   {
    "duration": 321,
    "start_time": "2024-09-08T15:03:41.218Z"
   },
   {
    "duration": 461,
    "start_time": "2024-09-08T15:04:00.871Z"
   },
   {
    "duration": 336,
    "start_time": "2024-09-08T15:04:22.171Z"
   },
   {
    "duration": 326,
    "start_time": "2024-09-08T15:04:34.512Z"
   },
   {
    "duration": 329,
    "start_time": "2024-09-08T15:04:43.058Z"
   },
   {
    "duration": 1490,
    "start_time": "2024-09-08T15:08:47.134Z"
   },
   {
    "duration": 1487,
    "start_time": "2024-09-08T15:09:17.447Z"
   },
   {
    "duration": 331,
    "start_time": "2024-09-08T15:09:22.680Z"
   },
   {
    "duration": 350,
    "start_time": "2024-09-08T15:16:12.711Z"
   },
   {
    "duration": 221,
    "start_time": "2024-09-08T15:22:35.499Z"
   },
   {
    "duration": 232,
    "start_time": "2024-09-08T15:23:26.301Z"
   },
   {
    "duration": 394,
    "start_time": "2024-09-08T15:23:33.915Z"
   },
   {
    "duration": 247,
    "start_time": "2024-09-08T15:23:42.132Z"
   },
   {
    "duration": 219,
    "start_time": "2024-09-08T15:23:53.198Z"
   },
   {
    "duration": 215,
    "start_time": "2024-09-08T15:29:41.148Z"
   },
   {
    "duration": 204,
    "start_time": "2024-09-08T15:30:43.183Z"
   },
   {
    "duration": 208,
    "start_time": "2024-09-08T15:33:56.899Z"
   },
   {
    "duration": 206,
    "start_time": "2024-09-08T15:39:30.926Z"
   },
   {
    "duration": 216,
    "start_time": "2024-09-08T15:39:39.186Z"
   },
   {
    "duration": 233,
    "start_time": "2024-09-08T15:40:49.237Z"
   },
   {
    "duration": 234,
    "start_time": "2024-09-08T15:41:32.832Z"
   },
   {
    "duration": 218,
    "start_time": "2024-09-08T15:41:59.220Z"
   },
   {
    "duration": 205,
    "start_time": "2024-09-08T15:42:10.928Z"
   },
   {
    "duration": 227,
    "start_time": "2024-09-08T15:42:16.694Z"
   },
   {
    "duration": 234,
    "start_time": "2024-09-08T15:42:23.443Z"
   },
   {
    "duration": 228,
    "start_time": "2024-09-08T15:42:42.661Z"
   },
   {
    "duration": 226,
    "start_time": "2024-09-08T15:42:58.893Z"
   },
   {
    "duration": 232,
    "start_time": "2024-09-08T15:47:37.520Z"
   },
   {
    "duration": 233,
    "start_time": "2024-09-08T15:48:09.020Z"
   },
   {
    "duration": 241,
    "start_time": "2024-09-08T15:48:33.559Z"
   },
   {
    "duration": 375,
    "start_time": "2024-09-08T15:48:38.615Z"
   },
   {
    "duration": 226,
    "start_time": "2024-09-08T15:48:45.041Z"
   },
   {
    "duration": 225,
    "start_time": "2024-09-08T15:48:51.383Z"
   },
   {
    "duration": 1184,
    "start_time": "2024-09-08T16:29:03.699Z"
   },
   {
    "duration": 131,
    "start_time": "2024-09-08T16:29:04.885Z"
   },
   {
    "duration": 13,
    "start_time": "2024-09-08T16:29:05.018Z"
   },
   {
    "duration": 78,
    "start_time": "2024-09-08T16:29:05.034Z"
   },
   {
    "duration": 6,
    "start_time": "2024-09-08T16:29:05.113Z"
   },
   {
    "duration": 12,
    "start_time": "2024-09-08T16:29:05.121Z"
   },
   {
    "duration": 6,
    "start_time": "2024-09-08T16:29:05.135Z"
   },
   {
    "duration": 85,
    "start_time": "2024-09-08T16:29:05.143Z"
   },
   {
    "duration": 9,
    "start_time": "2024-09-08T16:29:05.230Z"
   },
   {
    "duration": 176,
    "start_time": "2024-09-08T16:29:05.242Z"
   },
   {
    "duration": 26,
    "start_time": "2024-09-08T16:29:05.419Z"
   },
   {
    "duration": 24,
    "start_time": "2024-09-08T16:29:05.446Z"
   },
   {
    "duration": 5,
    "start_time": "2024-09-08T16:29:05.471Z"
   },
   {
    "duration": 23,
    "start_time": "2024-09-08T16:29:05.498Z"
   },
   {
    "duration": 41,
    "start_time": "2024-09-08T16:29:05.523Z"
   },
   {
    "duration": 7,
    "start_time": "2024-09-08T16:29:05.566Z"
   },
   {
    "duration": 6,
    "start_time": "2024-09-08T16:29:05.598Z"
   },
   {
    "duration": 14,
    "start_time": "2024-09-08T16:29:05.606Z"
   },
   {
    "duration": 12,
    "start_time": "2024-09-08T16:29:05.622Z"
   },
   {
    "duration": 17,
    "start_time": "2024-09-08T16:29:05.635Z"
   },
   {
    "duration": 12,
    "start_time": "2024-09-08T16:29:05.654Z"
   },
   {
    "duration": 37,
    "start_time": "2024-09-08T16:29:05.669Z"
   },
   {
    "duration": 9,
    "start_time": "2024-09-08T16:29:05.708Z"
   },
   {
    "duration": 30,
    "start_time": "2024-09-08T16:29:05.719Z"
   },
   {
    "duration": 16,
    "start_time": "2024-09-08T16:29:05.751Z"
   },
   {
    "duration": 9,
    "start_time": "2024-09-08T16:29:05.770Z"
   },
   {
    "duration": 31,
    "start_time": "2024-09-08T16:29:05.780Z"
   },
   {
    "duration": 251,
    "start_time": "2024-09-08T16:29:05.814Z"
   },
   {
    "duration": 218,
    "start_time": "2024-09-08T16:29:06.067Z"
   },
   {
    "duration": 251,
    "start_time": "2024-09-08T16:29:06.287Z"
   },
   {
    "duration": 241,
    "start_time": "2024-09-08T16:29:06.539Z"
   },
   {
    "duration": 126,
    "start_time": "2024-09-08T16:29:06.781Z"
   },
   {
    "duration": 0,
    "start_time": "2024-09-08T16:29:06.909Z"
   },
   {
    "duration": 0,
    "start_time": "2024-09-08T16:29:06.910Z"
   },
   {
    "duration": 280,
    "start_time": "2024-09-08T16:29:34.150Z"
   },
   {
    "duration": 158,
    "start_time": "2024-09-08T16:30:39.827Z"
   },
   {
    "duration": 15,
    "start_time": "2024-09-08T16:33:50.689Z"
   },
   {
    "duration": 149,
    "start_time": "2024-09-08T16:34:42.116Z"
   },
   {
    "duration": 203,
    "start_time": "2024-09-08T16:39:03.964Z"
   },
   {
    "duration": 263,
    "start_time": "2024-09-08T16:45:07.091Z"
   },
   {
    "duration": 150,
    "start_time": "2024-09-08T16:49:28.223Z"
   },
   {
    "duration": 141,
    "start_time": "2024-09-08T16:51:44.328Z"
   },
   {
    "duration": 182,
    "start_time": "2024-09-08T16:55:28.315Z"
   },
   {
    "duration": 173,
    "start_time": "2024-09-08T16:55:36.107Z"
   },
   {
    "duration": 270,
    "start_time": "2024-09-08T16:55:44.215Z"
   },
   {
    "duration": 272,
    "start_time": "2024-09-08T16:56:04.791Z"
   },
   {
    "duration": 169,
    "start_time": "2024-09-08T16:56:30.206Z"
   },
   {
    "duration": 173,
    "start_time": "2024-09-08T16:56:42.613Z"
   },
   {
    "duration": 291,
    "start_time": "2024-09-08T16:58:12.782Z"
   },
   {
    "duration": 249,
    "start_time": "2024-09-08T16:58:23.606Z"
   },
   {
    "duration": 218,
    "start_time": "2024-09-08T16:58:33.340Z"
   },
   {
    "duration": 5,
    "start_time": "2024-09-08T16:58:54.202Z"
   },
   {
    "duration": 5,
    "start_time": "2024-09-08T16:59:16.970Z"
   },
   {
    "duration": 250,
    "start_time": "2024-09-08T16:59:24.404Z"
   },
   {
    "duration": 328,
    "start_time": "2024-09-08T17:00:04.434Z"
   },
   {
    "duration": 235,
    "start_time": "2024-09-08T17:00:13.642Z"
   },
   {
    "duration": 335,
    "start_time": "2024-09-08T17:00:23.665Z"
   },
   {
    "duration": 273,
    "start_time": "2024-09-08T17:00:41.653Z"
   },
   {
    "duration": 265,
    "start_time": "2024-09-08T17:00:50.309Z"
   },
   {
    "duration": 293,
    "start_time": "2024-09-08T17:00:58.284Z"
   },
   {
    "duration": 1643,
    "start_time": "2024-09-08T17:06:12.819Z"
   },
   {
    "duration": 1466,
    "start_time": "2024-09-10T06:40:15.735Z"
   },
   {
    "duration": 138,
    "start_time": "2024-09-10T06:40:17.203Z"
   },
   {
    "duration": 13,
    "start_time": "2024-09-10T06:40:17.343Z"
   },
   {
    "duration": 92,
    "start_time": "2024-09-10T06:40:17.358Z"
   },
   {
    "duration": 5,
    "start_time": "2024-09-10T06:40:17.451Z"
   },
   {
    "duration": 28,
    "start_time": "2024-09-10T06:40:17.458Z"
   },
   {
    "duration": 5,
    "start_time": "2024-09-10T06:40:17.488Z"
   },
   {
    "duration": 6,
    "start_time": "2024-09-10T06:40:17.494Z"
   },
   {
    "duration": 12,
    "start_time": "2024-09-10T06:40:17.502Z"
   },
   {
    "duration": 85,
    "start_time": "2024-09-10T06:40:17.523Z"
   },
   {
    "duration": 33,
    "start_time": "2024-09-10T06:40:17.610Z"
   },
   {
    "duration": 13,
    "start_time": "2024-09-10T06:40:17.645Z"
   },
   {
    "duration": 6,
    "start_time": "2024-09-10T06:40:17.660Z"
   },
   {
    "duration": 58,
    "start_time": "2024-09-10T06:40:17.668Z"
   },
   {
    "duration": 125,
    "start_time": "2024-09-10T06:40:17.728Z"
   },
   {
    "duration": 7,
    "start_time": "2024-09-10T06:40:17.855Z"
   },
   {
    "duration": 18,
    "start_time": "2024-09-10T06:40:17.864Z"
   },
   {
    "duration": 22,
    "start_time": "2024-09-10T06:40:17.885Z"
   },
   {
    "duration": 22,
    "start_time": "2024-09-10T06:40:17.909Z"
   },
   {
    "duration": 14,
    "start_time": "2024-09-10T06:40:17.933Z"
   },
   {
    "duration": 41,
    "start_time": "2024-09-10T06:40:17.949Z"
   },
   {
    "duration": 23,
    "start_time": "2024-09-10T06:40:17.992Z"
   },
   {
    "duration": 9,
    "start_time": "2024-09-10T06:40:18.016Z"
   },
   {
    "duration": 17,
    "start_time": "2024-09-10T06:40:18.027Z"
   },
   {
    "duration": 23,
    "start_time": "2024-09-10T06:40:18.046Z"
   },
   {
    "duration": 27,
    "start_time": "2024-09-10T06:40:18.072Z"
   },
   {
    "duration": 61,
    "start_time": "2024-09-10T06:40:18.101Z"
   },
   {
    "duration": 257,
    "start_time": "2024-09-10T06:40:18.165Z"
   },
   {
    "duration": 238,
    "start_time": "2024-09-10T06:40:18.424Z"
   },
   {
    "duration": 249,
    "start_time": "2024-09-10T06:40:18.663Z"
   },
   {
    "duration": 247,
    "start_time": "2024-09-10T06:40:18.914Z"
   },
   {
    "duration": 347,
    "start_time": "2024-09-10T06:40:19.163Z"
   },
   {
    "duration": 280,
    "start_time": "2024-09-10T06:40:19.512Z"
   },
   {
    "duration": 328,
    "start_time": "2024-09-10T06:40:19.794Z"
   },
   {
    "duration": 289,
    "start_time": "2024-09-10T06:40:20.124Z"
   },
   {
    "duration": 318,
    "start_time": "2024-09-10T06:40:20.421Z"
   },
   {
    "duration": 365,
    "start_time": "2024-09-10T06:40:20.741Z"
   },
   {
    "duration": 1752,
    "start_time": "2024-09-10T06:40:21.107Z"
   },
   {
    "duration": 17,
    "start_time": "2024-09-10T06:40:22.863Z"
   },
   {
    "duration": 119,
    "start_time": "2024-09-10T06:58:12.274Z"
   },
   {
    "duration": 11,
    "start_time": "2024-09-10T06:58:20.083Z"
   },
   {
    "duration": 72,
    "start_time": "2024-09-10T07:00:02.645Z"
   },
   {
    "duration": 4,
    "start_time": "2024-09-10T07:00:10.416Z"
   },
   {
    "duration": 7,
    "start_time": "2024-09-10T07:07:27.733Z"
   },
   {
    "duration": 9,
    "start_time": "2024-09-10T07:07:57.113Z"
   },
   {
    "duration": 3,
    "start_time": "2024-09-10T07:08:41.227Z"
   },
   {
    "duration": 5,
    "start_time": "2024-09-10T07:08:49.106Z"
   },
   {
    "duration": 5,
    "start_time": "2024-09-10T07:11:05.989Z"
   },
   {
    "duration": 58,
    "start_time": "2024-09-10T07:14:43.493Z"
   },
   {
    "duration": 99,
    "start_time": "2024-09-10T07:14:59.556Z"
   },
   {
    "duration": 8,
    "start_time": "2024-09-10T07:15:21.381Z"
   },
   {
    "duration": 4,
    "start_time": "2024-09-10T07:25:03.125Z"
   },
   {
    "duration": 6,
    "start_time": "2024-09-10T07:27:09.552Z"
   },
   {
    "duration": 6,
    "start_time": "2024-09-10T07:36:42.441Z"
   },
   {
    "duration": 7,
    "start_time": "2024-09-10T07:36:46.985Z"
   },
   {
    "duration": 8,
    "start_time": "2024-09-10T07:41:20.351Z"
   },
   {
    "duration": 7,
    "start_time": "2024-09-10T07:43:56.702Z"
   },
   {
    "duration": 8,
    "start_time": "2024-09-10T07:54:45.767Z"
   },
   {
    "duration": 6,
    "start_time": "2024-09-10T07:54:49.502Z"
   },
   {
    "duration": 7,
    "start_time": "2024-09-10T07:54:52.457Z"
   },
   {
    "duration": 7,
    "start_time": "2024-09-10T07:54:56.079Z"
   },
   {
    "duration": 9,
    "start_time": "2024-09-10T07:55:02.090Z"
   },
   {
    "duration": 8,
    "start_time": "2024-09-10T07:55:13.054Z"
   },
   {
    "duration": 7,
    "start_time": "2024-09-10T07:55:16.820Z"
   },
   {
    "duration": 4,
    "start_time": "2024-09-10T07:55:21.616Z"
   },
   {
    "duration": 1275,
    "start_time": "2024-09-10T08:05:42.232Z"
   },
   {
    "duration": 150,
    "start_time": "2024-09-10T08:05:43.510Z"
   },
   {
    "duration": 16,
    "start_time": "2024-09-10T08:05:43.662Z"
   },
   {
    "duration": 72,
    "start_time": "2024-09-10T08:05:43.681Z"
   },
   {
    "duration": 5,
    "start_time": "2024-09-10T08:05:43.755Z"
   },
   {
    "duration": 18,
    "start_time": "2024-09-10T08:05:43.763Z"
   },
   {
    "duration": 5,
    "start_time": "2024-09-10T08:05:43.783Z"
   },
   {
    "duration": 31,
    "start_time": "2024-09-10T08:05:43.790Z"
   },
   {
    "duration": 9,
    "start_time": "2024-09-10T08:05:43.824Z"
   },
   {
    "duration": 131,
    "start_time": "2024-09-10T08:05:43.836Z"
   },
   {
    "duration": 26,
    "start_time": "2024-09-10T08:05:43.969Z"
   },
   {
    "duration": 20,
    "start_time": "2024-09-10T08:05:43.998Z"
   },
   {
    "duration": 5,
    "start_time": "2024-09-10T08:05:44.020Z"
   },
   {
    "duration": 42,
    "start_time": "2024-09-10T08:05:44.027Z"
   },
   {
    "duration": 73,
    "start_time": "2024-09-10T08:05:44.071Z"
   },
   {
    "duration": 6,
    "start_time": "2024-09-10T08:05:44.146Z"
   },
   {
    "duration": 5,
    "start_time": "2024-09-10T08:05:44.154Z"
   },
   {
    "duration": 12,
    "start_time": "2024-09-10T08:05:44.161Z"
   },
   {
    "duration": 38,
    "start_time": "2024-09-10T08:05:44.175Z"
   },
   {
    "duration": 14,
    "start_time": "2024-09-10T08:05:44.225Z"
   },
   {
    "duration": 7,
    "start_time": "2024-09-10T08:05:44.241Z"
   },
   {
    "duration": 30,
    "start_time": "2024-09-10T08:05:44.250Z"
   },
   {
    "duration": 7,
    "start_time": "2024-09-10T08:05:44.282Z"
   },
   {
    "duration": 8,
    "start_time": "2024-09-10T08:05:44.291Z"
   },
   {
    "duration": 28,
    "start_time": "2024-09-10T08:05:44.300Z"
   },
   {
    "duration": 35,
    "start_time": "2024-09-10T08:05:44.330Z"
   },
   {
    "duration": 33,
    "start_time": "2024-09-10T08:05:44.368Z"
   },
   {
    "duration": 264,
    "start_time": "2024-09-10T08:05:44.405Z"
   },
   {
    "duration": 233,
    "start_time": "2024-09-10T08:05:44.671Z"
   },
   {
    "duration": 297,
    "start_time": "2024-09-10T08:05:44.906Z"
   },
   {
    "duration": 248,
    "start_time": "2024-09-10T08:05:45.205Z"
   },
   {
    "duration": 278,
    "start_time": "2024-09-10T08:05:45.454Z"
   },
   {
    "duration": 266,
    "start_time": "2024-09-10T08:05:45.733Z"
   },
   {
    "duration": 332,
    "start_time": "2024-09-10T08:05:46.001Z"
   },
   {
    "duration": 289,
    "start_time": "2024-09-10T08:05:46.335Z"
   },
   {
    "duration": 294,
    "start_time": "2024-09-10T08:05:46.626Z"
   },
   {
    "duration": 376,
    "start_time": "2024-09-10T08:05:46.924Z"
   },
   {
    "duration": 1807,
    "start_time": "2024-09-10T08:05:47.301Z"
   },
   {
    "duration": 11,
    "start_time": "2024-09-10T08:05:49.110Z"
   },
   {
    "duration": 34,
    "start_time": "2024-09-10T08:05:49.124Z"
   },
   {
    "duration": 22,
    "start_time": "2024-09-10T08:05:49.161Z"
   },
   {
    "duration": 23,
    "start_time": "2024-09-10T08:05:49.185Z"
   },
   {
    "duration": 44,
    "start_time": "2024-09-10T08:05:49.210Z"
   },
   {
    "duration": 41,
    "start_time": "2024-09-10T08:05:49.256Z"
   },
   {
    "duration": 42,
    "start_time": "2024-09-10T08:05:49.299Z"
   },
   {
    "duration": 30,
    "start_time": "2024-09-10T08:50:41.078Z"
   },
   {
    "duration": 9,
    "start_time": "2024-09-10T08:51:29.409Z"
   },
   {
    "duration": 8,
    "start_time": "2024-09-10T08:52:47.350Z"
   },
   {
    "duration": 9,
    "start_time": "2024-09-10T08:52:53.390Z"
   },
   {
    "duration": 4,
    "start_time": "2024-09-10T08:55:10.813Z"
   },
   {
    "duration": 121,
    "start_time": "2024-09-10T08:56:46.466Z"
   },
   {
    "duration": 9,
    "start_time": "2024-09-10T08:57:28.382Z"
   },
   {
    "duration": 10,
    "start_time": "2024-09-10T09:00:41.240Z"
   },
   {
    "duration": 10,
    "start_time": "2024-09-10T09:04:42.178Z"
   },
   {
    "duration": 16,
    "start_time": "2024-09-10T09:08:15.435Z"
   },
   {
    "duration": 8,
    "start_time": "2024-09-10T09:08:21.324Z"
   },
   {
    "duration": 8,
    "start_time": "2024-09-10T09:08:32.758Z"
   },
   {
    "duration": 13,
    "start_time": "2024-09-10T09:08:34.014Z"
   },
   {
    "duration": 7,
    "start_time": "2024-09-10T09:14:07.036Z"
   },
   {
    "duration": 12,
    "start_time": "2024-09-10T09:14:59.890Z"
   },
   {
    "duration": 9,
    "start_time": "2024-09-10T09:15:35.813Z"
   },
   {
    "duration": 9,
    "start_time": "2024-09-10T09:15:54.204Z"
   },
   {
    "duration": 24,
    "start_time": "2024-09-10T09:16:23.520Z"
   },
   {
    "duration": 8,
    "start_time": "2024-09-10T09:17:12.145Z"
   },
   {
    "duration": 9,
    "start_time": "2024-09-10T09:17:32.942Z"
   },
   {
    "duration": 9,
    "start_time": "2024-09-10T09:22:28.813Z"
   },
   {
    "duration": 10,
    "start_time": "2024-09-10T09:22:50.074Z"
   },
   {
    "duration": 10,
    "start_time": "2024-09-10T09:24:47.622Z"
   },
   {
    "duration": 8,
    "start_time": "2024-09-10T09:25:15.851Z"
   },
   {
    "duration": 9,
    "start_time": "2024-09-10T09:25:35.200Z"
   },
   {
    "duration": 71,
    "start_time": "2024-09-10T09:25:52.033Z"
   },
   {
    "duration": 9,
    "start_time": "2024-09-10T09:25:57.482Z"
   },
   {
    "duration": 9,
    "start_time": "2024-09-10T09:26:22.464Z"
   },
   {
    "duration": 1369,
    "start_time": "2024-09-10T09:26:46.886Z"
   },
   {
    "duration": 149,
    "start_time": "2024-09-10T09:26:48.257Z"
   },
   {
    "duration": 13,
    "start_time": "2024-09-10T09:26:48.408Z"
   },
   {
    "duration": 53,
    "start_time": "2024-09-10T09:26:48.423Z"
   },
   {
    "duration": 5,
    "start_time": "2024-09-10T09:26:48.477Z"
   },
   {
    "duration": 9,
    "start_time": "2024-09-10T09:26:48.483Z"
   },
   {
    "duration": 5,
    "start_time": "2024-09-10T09:26:48.493Z"
   },
   {
    "duration": 23,
    "start_time": "2024-09-10T09:26:48.499Z"
   },
   {
    "duration": 16,
    "start_time": "2024-09-10T09:26:48.523Z"
   },
   {
    "duration": 89,
    "start_time": "2024-09-10T09:26:48.541Z"
   },
   {
    "duration": 26,
    "start_time": "2024-09-10T09:26:48.632Z"
   },
   {
    "duration": 13,
    "start_time": "2024-09-10T09:26:48.659Z"
   },
   {
    "duration": 4,
    "start_time": "2024-09-10T09:26:48.674Z"
   },
   {
    "duration": 42,
    "start_time": "2024-09-10T09:26:48.680Z"
   },
   {
    "duration": 39,
    "start_time": "2024-09-10T09:26:48.724Z"
   },
   {
    "duration": 6,
    "start_time": "2024-09-10T09:26:48.764Z"
   },
   {
    "duration": 19,
    "start_time": "2024-09-10T09:26:48.771Z"
   },
   {
    "duration": 14,
    "start_time": "2024-09-10T09:26:48.792Z"
   },
   {
    "duration": 22,
    "start_time": "2024-09-10T09:26:48.807Z"
   },
   {
    "duration": 22,
    "start_time": "2024-09-10T09:26:48.831Z"
   },
   {
    "duration": 22,
    "start_time": "2024-09-10T09:26:48.855Z"
   },
   {
    "duration": 21,
    "start_time": "2024-09-10T09:26:48.879Z"
   },
   {
    "duration": 15,
    "start_time": "2024-09-10T09:26:48.901Z"
   },
   {
    "duration": 38,
    "start_time": "2024-09-10T09:26:48.918Z"
   },
   {
    "duration": 17,
    "start_time": "2024-09-10T09:26:48.958Z"
   },
   {
    "duration": 14,
    "start_time": "2024-09-10T09:26:48.977Z"
   },
   {
    "duration": 15,
    "start_time": "2024-09-10T09:26:48.993Z"
   },
   {
    "duration": 286,
    "start_time": "2024-09-10T09:26:49.012Z"
   },
   {
    "duration": 238,
    "start_time": "2024-09-10T09:26:49.300Z"
   },
   {
    "duration": 250,
    "start_time": "2024-09-10T09:26:49.539Z"
   },
   {
    "duration": 242,
    "start_time": "2024-09-10T09:26:49.791Z"
   },
   {
    "duration": 274,
    "start_time": "2024-09-10T09:26:50.035Z"
   },
   {
    "duration": 262,
    "start_time": "2024-09-10T09:26:50.320Z"
   },
   {
    "duration": 344,
    "start_time": "2024-09-10T09:26:50.584Z"
   },
   {
    "duration": 282,
    "start_time": "2024-09-10T09:26:50.930Z"
   },
   {
    "duration": 261,
    "start_time": "2024-09-10T09:26:51.220Z"
   },
   {
    "duration": 346,
    "start_time": "2024-09-10T09:26:51.483Z"
   },
   {
    "duration": 1733,
    "start_time": "2024-09-10T09:26:51.831Z"
   },
   {
    "duration": 9,
    "start_time": "2024-09-10T09:26:53.565Z"
   },
   {
    "duration": 3,
    "start_time": "2024-09-10T09:26:53.576Z"
   },
   {
    "duration": 6,
    "start_time": "2024-09-10T09:26:53.581Z"
   },
   {
    "duration": 8,
    "start_time": "2024-09-10T09:26:53.589Z"
   },
   {
    "duration": 7,
    "start_time": "2024-09-10T09:26:53.599Z"
   },
   {
    "duration": 32,
    "start_time": "2024-09-10T09:26:53.607Z"
   },
   {
    "duration": 8,
    "start_time": "2024-09-10T09:26:53.641Z"
   },
   {
    "duration": 9,
    "start_time": "2024-09-10T09:26:53.651Z"
   },
   {
    "duration": 8,
    "start_time": "2024-09-10T09:26:53.661Z"
   },
   {
    "duration": 14,
    "start_time": "2024-09-10T09:26:53.671Z"
   },
   {
    "duration": 7,
    "start_time": "2024-09-10T09:26:53.687Z"
   },
   {
    "duration": 10,
    "start_time": "2024-09-10T09:26:53.696Z"
   },
   {
    "duration": 17,
    "start_time": "2024-09-10T09:26:53.708Z"
   },
   {
    "duration": 53,
    "start_time": "2024-09-10T09:26:53.727Z"
   },
   {
    "duration": 13,
    "start_time": "2024-09-10T09:26:53.782Z"
   },
   {
    "duration": 8,
    "start_time": "2024-09-10T09:26:53.797Z"
   },
   {
    "duration": 24,
    "start_time": "2024-09-10T09:26:53.806Z"
   },
   {
    "duration": 14,
    "start_time": "2024-09-10T09:26:53.831Z"
   },
   {
    "duration": 9,
    "start_time": "2024-09-10T09:33:22.041Z"
   },
   {
    "duration": 116,
    "start_time": "2024-09-10T09:34:28.519Z"
   },
   {
    "duration": 9,
    "start_time": "2024-09-10T09:34:51.076Z"
   },
   {
    "duration": 8,
    "start_time": "2024-09-10T09:34:54.247Z"
   },
   {
    "duration": 8,
    "start_time": "2024-09-10T09:35:21.015Z"
   },
   {
    "duration": 7,
    "start_time": "2024-09-10T09:35:46.895Z"
   },
   {
    "duration": 10,
    "start_time": "2024-09-10T10:33:37.442Z"
   },
   {
    "duration": 1198,
    "start_time": "2024-09-10T11:16:18.129Z"
   },
   {
    "duration": 207,
    "start_time": "2024-09-10T11:16:19.329Z"
   },
   {
    "duration": 12,
    "start_time": "2024-09-10T11:16:19.538Z"
   },
   {
    "duration": 46,
    "start_time": "2024-09-10T11:16:19.552Z"
   },
   {
    "duration": 5,
    "start_time": "2024-09-10T11:16:19.599Z"
   },
   {
    "duration": 35,
    "start_time": "2024-09-10T11:16:19.606Z"
   },
   {
    "duration": 5,
    "start_time": "2024-09-10T11:16:19.643Z"
   },
   {
    "duration": 11,
    "start_time": "2024-09-10T11:16:19.650Z"
   },
   {
    "duration": 29,
    "start_time": "2024-09-10T11:16:19.663Z"
   },
   {
    "duration": 141,
    "start_time": "2024-09-10T11:16:19.696Z"
   },
   {
    "duration": 25,
    "start_time": "2024-09-10T11:16:19.839Z"
   },
   {
    "duration": 14,
    "start_time": "2024-09-10T11:16:19.867Z"
   },
   {
    "duration": 21,
    "start_time": "2024-09-10T11:16:19.883Z"
   },
   {
    "duration": 29,
    "start_time": "2024-09-10T11:16:19.906Z"
   },
   {
    "duration": 35,
    "start_time": "2024-09-10T11:16:19.937Z"
   },
   {
    "duration": 5,
    "start_time": "2024-09-10T11:16:19.974Z"
   },
   {
    "duration": 18,
    "start_time": "2024-09-10T11:16:19.980Z"
   },
   {
    "duration": 24,
    "start_time": "2024-09-10T11:16:20.000Z"
   },
   {
    "duration": 40,
    "start_time": "2024-09-10T11:16:20.026Z"
   },
   {
    "duration": 35,
    "start_time": "2024-09-10T11:16:20.068Z"
   },
   {
    "duration": 7,
    "start_time": "2024-09-10T11:16:20.104Z"
   },
   {
    "duration": 14,
    "start_time": "2024-09-10T11:16:20.112Z"
   },
   {
    "duration": 13,
    "start_time": "2024-09-10T11:16:20.128Z"
   },
   {
    "duration": 13,
    "start_time": "2024-09-10T11:16:20.143Z"
   },
   {
    "duration": 27,
    "start_time": "2024-09-10T11:16:20.157Z"
   },
   {
    "duration": 23,
    "start_time": "2024-09-10T11:16:20.185Z"
   },
   {
    "duration": 36,
    "start_time": "2024-09-10T11:16:20.209Z"
   },
   {
    "duration": 254,
    "start_time": "2024-09-10T11:16:20.248Z"
   },
   {
    "duration": 228,
    "start_time": "2024-09-10T11:16:20.504Z"
   },
   {
    "duration": 241,
    "start_time": "2024-09-10T11:16:20.733Z"
   },
   {
    "duration": 239,
    "start_time": "2024-09-10T11:16:20.976Z"
   },
   {
    "duration": 283,
    "start_time": "2024-09-10T11:16:21.216Z"
   },
   {
    "duration": 270,
    "start_time": "2024-09-10T11:16:21.501Z"
   },
   {
    "duration": 361,
    "start_time": "2024-09-10T11:16:21.773Z"
   },
   {
    "duration": 275,
    "start_time": "2024-09-10T11:16:22.136Z"
   },
   {
    "duration": 275,
    "start_time": "2024-09-10T11:16:22.412Z"
   },
   {
    "duration": 306,
    "start_time": "2024-09-10T11:16:22.688Z"
   },
   {
    "duration": 1717,
    "start_time": "2024-09-10T11:16:22.995Z"
   },
   {
    "duration": 9,
    "start_time": "2024-09-10T11:16:24.713Z"
   },
   {
    "duration": 17,
    "start_time": "2024-09-10T11:16:24.723Z"
   },
   {
    "duration": 15,
    "start_time": "2024-09-10T11:16:24.741Z"
   },
   {
    "duration": 7,
    "start_time": "2024-09-10T11:16:24.757Z"
   },
   {
    "duration": 15,
    "start_time": "2024-09-10T11:16:24.766Z"
   },
   {
    "duration": 19,
    "start_time": "2024-09-10T11:16:24.783Z"
   },
   {
    "duration": 11,
    "start_time": "2024-09-10T11:16:24.804Z"
   },
   {
    "duration": 10,
    "start_time": "2024-09-10T11:16:24.816Z"
   },
   {
    "duration": 15,
    "start_time": "2024-09-10T11:16:24.827Z"
   },
   {
    "duration": 7,
    "start_time": "2024-09-10T11:16:24.844Z"
   },
   {
    "duration": 16,
    "start_time": "2024-09-10T11:16:24.852Z"
   },
   {
    "duration": 17,
    "start_time": "2024-09-10T11:16:24.870Z"
   },
   {
    "duration": 13,
    "start_time": "2024-09-10T11:16:24.888Z"
   },
   {
    "duration": 18,
    "start_time": "2024-09-10T11:16:24.903Z"
   },
   {
    "duration": 7,
    "start_time": "2024-09-10T11:16:24.923Z"
   },
   {
    "duration": 15,
    "start_time": "2024-09-10T11:16:24.931Z"
   },
   {
    "duration": 10,
    "start_time": "2024-09-10T11:16:24.948Z"
   },
   {
    "duration": 1312,
    "start_time": "2024-09-10T11:19:16.782Z"
   },
   {
    "duration": 349,
    "start_time": "2024-09-10T11:19:18.096Z"
   },
   {
    "duration": 13,
    "start_time": "2024-09-10T11:19:18.447Z"
   },
   {
    "duration": 74,
    "start_time": "2024-09-10T11:19:18.462Z"
   },
   {
    "duration": 22,
    "start_time": "2024-09-10T11:19:18.537Z"
   },
   {
    "duration": 66,
    "start_time": "2024-09-10T11:19:18.560Z"
   },
   {
    "duration": 25,
    "start_time": "2024-09-10T11:19:18.628Z"
   },
   {
    "duration": 47,
    "start_time": "2024-09-10T11:19:18.655Z"
   },
   {
    "duration": 33,
    "start_time": "2024-09-10T11:19:18.704Z"
   },
   {
    "duration": 91,
    "start_time": "2024-09-10T11:19:18.739Z"
   },
   {
    "duration": 25,
    "start_time": "2024-09-10T11:19:18.832Z"
   },
   {
    "duration": 27,
    "start_time": "2024-09-10T11:19:18.859Z"
   },
   {
    "duration": 19,
    "start_time": "2024-09-10T11:19:18.888Z"
   },
   {
    "duration": 42,
    "start_time": "2024-09-10T11:19:18.908Z"
   },
   {
    "duration": 40,
    "start_time": "2024-09-10T11:19:18.951Z"
   },
   {
    "duration": 6,
    "start_time": "2024-09-10T11:19:18.992Z"
   },
   {
    "duration": 29,
    "start_time": "2024-09-10T11:19:18.999Z"
   },
   {
    "duration": 29,
    "start_time": "2024-09-10T11:19:19.029Z"
   },
   {
    "duration": 42,
    "start_time": "2024-09-10T11:19:19.060Z"
   },
   {
    "duration": 45,
    "start_time": "2024-09-10T11:19:19.103Z"
   },
   {
    "duration": 65,
    "start_time": "2024-09-10T11:19:19.149Z"
   },
   {
    "duration": 33,
    "start_time": "2024-09-10T11:19:19.216Z"
   },
   {
    "duration": 41,
    "start_time": "2024-09-10T11:19:19.251Z"
   },
   {
    "duration": 37,
    "start_time": "2024-09-10T11:19:19.294Z"
   },
   {
    "duration": 65,
    "start_time": "2024-09-10T11:19:19.333Z"
   },
   {
    "duration": 15,
    "start_time": "2024-09-10T11:19:19.400Z"
   },
   {
    "duration": 13,
    "start_time": "2024-09-10T11:19:19.417Z"
   },
   {
    "duration": 257,
    "start_time": "2024-09-10T11:19:19.434Z"
   },
   {
    "duration": 241,
    "start_time": "2024-09-10T11:19:19.693Z"
   },
   {
    "duration": 254,
    "start_time": "2024-09-10T11:19:19.936Z"
   },
   {
    "duration": 243,
    "start_time": "2024-09-10T11:19:20.191Z"
   },
   {
    "duration": 290,
    "start_time": "2024-09-10T11:19:20.436Z"
   },
   {
    "duration": 251,
    "start_time": "2024-09-10T11:19:20.728Z"
   },
   {
    "duration": 357,
    "start_time": "2024-09-10T11:19:20.980Z"
   },
   {
    "duration": 274,
    "start_time": "2024-09-10T11:19:21.339Z"
   },
   {
    "duration": 272,
    "start_time": "2024-09-10T11:19:21.620Z"
   },
   {
    "duration": 358,
    "start_time": "2024-09-10T11:19:21.894Z"
   },
   {
    "duration": 1671,
    "start_time": "2024-09-10T11:19:22.253Z"
   },
   {
    "duration": 9,
    "start_time": "2024-09-10T11:19:23.925Z"
   },
   {
    "duration": 11,
    "start_time": "2024-09-10T11:19:23.935Z"
   },
   {
    "duration": 7,
    "start_time": "2024-09-10T11:19:23.948Z"
   },
   {
    "duration": 6,
    "start_time": "2024-09-10T11:19:23.957Z"
   },
   {
    "duration": 8,
    "start_time": "2024-09-10T11:19:23.964Z"
   },
   {
    "duration": 5,
    "start_time": "2024-09-10T11:19:23.974Z"
   },
   {
    "duration": 43,
    "start_time": "2024-09-10T11:19:23.981Z"
   },
   {
    "duration": 8,
    "start_time": "2024-09-10T11:19:24.026Z"
   },
   {
    "duration": 11,
    "start_time": "2024-09-10T11:19:24.035Z"
   },
   {
    "duration": 20,
    "start_time": "2024-09-10T11:19:24.048Z"
   },
   {
    "duration": 8,
    "start_time": "2024-09-10T11:19:24.069Z"
   },
   {
    "duration": 27,
    "start_time": "2024-09-10T11:19:24.078Z"
   },
   {
    "duration": 19,
    "start_time": "2024-09-10T11:19:24.106Z"
   },
   {
    "duration": 12,
    "start_time": "2024-09-10T11:19:24.127Z"
   },
   {
    "duration": 8,
    "start_time": "2024-09-10T11:19:24.140Z"
   },
   {
    "duration": 12,
    "start_time": "2024-09-10T11:19:24.150Z"
   },
   {
    "duration": 19,
    "start_time": "2024-09-10T11:19:24.163Z"
   },
   {
    "duration": 1049,
    "start_time": "2024-09-10T16:43:07.461Z"
   },
   {
    "duration": 77,
    "start_time": "2024-09-10T16:43:08.512Z"
   },
   {
    "duration": 11,
    "start_time": "2024-09-10T16:43:08.591Z"
   },
   {
    "duration": 120,
    "start_time": "2024-09-10T16:43:08.603Z"
   },
   {
    "duration": 4,
    "start_time": "2024-09-10T16:43:08.725Z"
   },
   {
    "duration": 66,
    "start_time": "2024-09-10T16:43:08.731Z"
   },
   {
    "duration": 59,
    "start_time": "2024-09-10T16:43:08.799Z"
   },
   {
    "duration": 22,
    "start_time": "2024-09-10T16:43:08.860Z"
   },
   {
    "duration": 37,
    "start_time": "2024-09-10T16:43:08.883Z"
   },
   {
    "duration": 90,
    "start_time": "2024-09-10T16:43:08.921Z"
   },
   {
    "duration": 22,
    "start_time": "2024-09-10T16:43:09.012Z"
   },
   {
    "duration": 14,
    "start_time": "2024-09-10T16:43:09.035Z"
   },
   {
    "duration": 12,
    "start_time": "2024-09-10T16:43:09.051Z"
   },
   {
    "duration": 25,
    "start_time": "2024-09-10T16:43:09.066Z"
   },
   {
    "duration": 60,
    "start_time": "2024-09-10T16:43:09.093Z"
   },
   {
    "duration": 6,
    "start_time": "2024-09-10T16:43:09.155Z"
   },
   {
    "duration": 20,
    "start_time": "2024-09-10T16:43:09.163Z"
   },
   {
    "duration": 13,
    "start_time": "2024-09-10T16:43:09.185Z"
   },
   {
    "duration": 15,
    "start_time": "2024-09-10T16:43:09.200Z"
   },
   {
    "duration": 6,
    "start_time": "2024-09-10T16:43:09.217Z"
   },
   {
    "duration": 22,
    "start_time": "2024-09-10T16:43:09.225Z"
   },
   {
    "duration": 35,
    "start_time": "2024-09-10T16:43:09.249Z"
   },
   {
    "duration": 22,
    "start_time": "2024-09-10T16:43:09.285Z"
   },
   {
    "duration": 100,
    "start_time": "2024-09-10T16:43:09.308Z"
   },
   {
    "duration": 33,
    "start_time": "2024-09-10T16:43:09.410Z"
   },
   {
    "duration": 12,
    "start_time": "2024-09-10T16:43:09.445Z"
   },
   {
    "duration": 48,
    "start_time": "2024-09-10T16:43:09.458Z"
   },
   {
    "duration": 261,
    "start_time": "2024-09-10T16:43:09.507Z"
   },
   {
    "duration": 193,
    "start_time": "2024-09-10T16:43:09.770Z"
   },
   {
    "duration": 202,
    "start_time": "2024-09-10T16:43:09.965Z"
   },
   {
    "duration": 205,
    "start_time": "2024-09-10T16:43:10.169Z"
   },
   {
    "duration": 290,
    "start_time": "2024-09-10T16:43:10.377Z"
   },
   {
    "duration": 318,
    "start_time": "2024-09-10T16:43:10.669Z"
   },
   {
    "duration": 352,
    "start_time": "2024-09-10T16:43:10.989Z"
   },
   {
    "duration": 236,
    "start_time": "2024-09-10T16:43:11.342Z"
   },
   {
    "duration": 284,
    "start_time": "2024-09-10T16:43:11.579Z"
   },
   {
    "duration": 314,
    "start_time": "2024-09-10T16:43:11.865Z"
   },
   {
    "duration": 1457,
    "start_time": "2024-09-10T16:43:12.180Z"
   },
   {
    "duration": 10,
    "start_time": "2024-09-10T16:43:13.639Z"
   },
   {
    "duration": 17,
    "start_time": "2024-09-10T16:43:13.650Z"
   },
   {
    "duration": 19,
    "start_time": "2024-09-10T16:43:13.671Z"
   },
   {
    "duration": 6,
    "start_time": "2024-09-10T16:43:13.692Z"
   },
   {
    "duration": 6,
    "start_time": "2024-09-10T16:43:13.699Z"
   },
   {
    "duration": 5,
    "start_time": "2024-09-10T16:43:13.707Z"
   },
   {
    "duration": 8,
    "start_time": "2024-09-10T16:43:13.713Z"
   },
   {
    "duration": 27,
    "start_time": "2024-09-10T16:43:13.722Z"
   },
   {
    "duration": 28,
    "start_time": "2024-09-10T16:43:13.750Z"
   },
   {
    "duration": 177,
    "start_time": "2024-09-10T16:43:13.779Z"
   },
   {
    "duration": 23,
    "start_time": "2024-09-10T16:43:13.957Z"
   },
   {
    "duration": 28,
    "start_time": "2024-09-10T16:43:13.981Z"
   },
   {
    "duration": 8,
    "start_time": "2024-09-10T16:43:14.011Z"
   },
   {
    "duration": 20,
    "start_time": "2024-09-10T16:43:14.021Z"
   },
   {
    "duration": 8,
    "start_time": "2024-09-10T16:43:14.042Z"
   },
   {
    "duration": 36,
    "start_time": "2024-09-10T16:43:14.051Z"
   },
   {
    "duration": 14,
    "start_time": "2024-09-10T16:43:14.089Z"
   },
   {
    "duration": 1316,
    "start_time": "2024-09-11T17:09:34.295Z"
   },
   {
    "duration": 109,
    "start_time": "2024-09-11T17:09:36.507Z"
   },
   {
    "duration": 13,
    "start_time": "2024-09-11T17:09:39.684Z"
   },
   {
    "duration": 47,
    "start_time": "2024-09-11T17:09:41.331Z"
   },
   {
    "duration": 5,
    "start_time": "2024-09-11T17:09:49.606Z"
   },
   {
    "duration": 9,
    "start_time": "2024-09-11T17:09:53.280Z"
   },
   {
    "duration": 101,
    "start_time": "2024-09-11T17:12:36.364Z"
   },
   {
    "duration": 10,
    "start_time": "2024-09-11T17:13:02.955Z"
   },
   {
    "duration": 5,
    "start_time": "2024-09-11T17:13:10.311Z"
   },
   {
    "duration": 5,
    "start_time": "2024-09-11T17:16:05.133Z"
   },
   {
    "duration": 7,
    "start_time": "2024-09-11T17:16:12.711Z"
   },
   {
    "duration": 79,
    "start_time": "2024-09-11T17:16:19.869Z"
   },
   {
    "duration": 30,
    "start_time": "2024-09-11T17:16:25.922Z"
   },
   {
    "duration": 13,
    "start_time": "2024-09-11T17:16:38.113Z"
   },
   {
    "duration": 5,
    "start_time": "2024-09-11T17:16:41.221Z"
   },
   {
    "duration": 19,
    "start_time": "2024-09-11T17:17:01.949Z"
   },
   {
    "duration": 38,
    "start_time": "2024-09-11T17:17:10.953Z"
   },
   {
    "duration": 7,
    "start_time": "2024-09-11T17:17:27.655Z"
   },
   {
    "duration": 7,
    "start_time": "2024-09-11T17:17:28.452Z"
   },
   {
    "duration": 8,
    "start_time": "2024-09-11T17:17:30.947Z"
   },
   {
    "duration": 6,
    "start_time": "2024-09-11T17:17:32.691Z"
   },
   {
    "duration": 8,
    "start_time": "2024-09-11T17:17:34.965Z"
   },
   {
    "duration": 5,
    "start_time": "2024-09-11T17:17:36.098Z"
   },
   {
    "duration": 7,
    "start_time": "2024-09-11T17:17:37.472Z"
   },
   {
    "duration": 6,
    "start_time": "2024-09-11T17:17:38.446Z"
   },
   {
    "duration": 6,
    "start_time": "2024-09-11T17:17:39.197Z"
   },
   {
    "duration": 13,
    "start_time": "2024-09-11T17:18:09.619Z"
   },
   {
    "duration": 9,
    "start_time": "2024-09-11T17:18:12.896Z"
   },
   {
    "duration": 12,
    "start_time": "2024-09-11T17:18:22.337Z"
   },
   {
    "duration": 6,
    "start_time": "2024-09-11T17:20:45.537Z"
   },
   {
    "duration": 12,
    "start_time": "2024-09-11T17:20:47.164Z"
   },
   {
    "duration": 6,
    "start_time": "2024-09-11T17:20:50.134Z"
   },
   {
    "duration": 14,
    "start_time": "2024-09-11T17:20:53.466Z"
   },
   {
    "duration": 262,
    "start_time": "2024-09-11T17:21:10.033Z"
   },
   {
    "duration": 234,
    "start_time": "2024-09-11T17:21:21.820Z"
   },
   {
    "duration": 238,
    "start_time": "2024-09-11T17:21:25.400Z"
   },
   {
    "duration": 245,
    "start_time": "2024-09-11T17:21:31.526Z"
   },
   {
    "duration": 382,
    "start_time": "2024-09-11T17:21:46.359Z"
   },
   {
    "duration": 265,
    "start_time": "2024-09-11T17:22:00.736Z"
   },
   {
    "duration": 301,
    "start_time": "2024-09-11T17:22:06.945Z"
   },
   {
    "duration": 300,
    "start_time": "2024-09-11T17:22:15.619Z"
   },
   {
    "duration": 256,
    "start_time": "2024-09-11T17:22:24.784Z"
   },
   {
    "duration": 372,
    "start_time": "2024-09-11T17:22:40.232Z"
   },
   {
    "duration": 1813,
    "start_time": "2024-09-11T17:22:50.487Z"
   },
   {
    "duration": 27,
    "start_time": "2024-09-11T17:44:32.873Z"
   },
   {
    "duration": 1565,
    "start_time": "2024-09-11T17:44:57.580Z"
   },
   {
    "duration": 8,
    "start_time": "2024-09-11T17:53:10.089Z"
   },
   {
    "duration": 5,
    "start_time": "2024-09-11T17:53:13.846Z"
   },
   {
    "duration": 7,
    "start_time": "2024-09-11T17:53:16.441Z"
   },
   {
    "duration": 5,
    "start_time": "2024-09-11T17:53:21.081Z"
   },
   {
    "duration": 6,
    "start_time": "2024-09-11T17:53:24.982Z"
   },
   {
    "duration": 4,
    "start_time": "2024-09-11T17:53:27.967Z"
   },
   {
    "duration": 7,
    "start_time": "2024-09-11T17:57:01.005Z"
   },
   {
    "duration": 7,
    "start_time": "2024-09-11T17:57:03.070Z"
   },
   {
    "duration": 8,
    "start_time": "2024-09-11T17:57:06.183Z"
   },
   {
    "duration": 6,
    "start_time": "2024-09-11T17:57:09.131Z"
   },
   {
    "duration": 35,
    "start_time": "2024-09-11T17:58:45.550Z"
   },
   {
    "duration": 8,
    "start_time": "2024-09-11T17:58:51.982Z"
   },
   {
    "duration": 6,
    "start_time": "2024-09-11T18:00:10.598Z"
   },
   {
    "duration": 8,
    "start_time": "2024-09-11T18:00:49.062Z"
   },
   {
    "duration": 6,
    "start_time": "2024-09-11T18:03:07.211Z"
   },
   {
    "duration": 10,
    "start_time": "2024-09-11T18:04:13.901Z"
   },
   {
    "duration": 7,
    "start_time": "2024-09-11T18:07:57.862Z"
   },
   {
    "duration": 7,
    "start_time": "2024-09-11T18:08:08.991Z"
   },
   {
    "duration": 7,
    "start_time": "2024-09-11T18:11:08.481Z"
   },
   {
    "duration": 9,
    "start_time": "2024-09-11T18:11:11.142Z"
   },
   {
    "duration": 7,
    "start_time": "2024-09-11T18:11:29.679Z"
   },
   {
    "duration": 6,
    "start_time": "2024-09-11T18:19:58.326Z"
   },
   {
    "duration": 1150,
    "start_time": "2024-09-11T18:24:58.045Z"
   },
   {
    "duration": 127,
    "start_time": "2024-09-11T18:24:59.197Z"
   },
   {
    "duration": 11,
    "start_time": "2024-09-11T18:24:59.325Z"
   },
   {
    "duration": 41,
    "start_time": "2024-09-11T18:24:59.338Z"
   },
   {
    "duration": 4,
    "start_time": "2024-09-11T18:24:59.380Z"
   },
   {
    "duration": 8,
    "start_time": "2024-09-11T18:24:59.386Z"
   },
   {
    "duration": 6,
    "start_time": "2024-09-11T18:24:59.396Z"
   },
   {
    "duration": 4,
    "start_time": "2024-09-11T18:24:59.403Z"
   },
   {
    "duration": 6,
    "start_time": "2024-09-11T18:24:59.408Z"
   },
   {
    "duration": 101,
    "start_time": "2024-09-11T18:24:59.415Z"
   },
   {
    "duration": 37,
    "start_time": "2024-09-11T18:24:59.518Z"
   },
   {
    "duration": 12,
    "start_time": "2024-09-11T18:24:59.556Z"
   },
   {
    "duration": 4,
    "start_time": "2024-09-11T18:24:59.570Z"
   },
   {
    "duration": 19,
    "start_time": "2024-09-11T18:24:59.575Z"
   },
   {
    "duration": 62,
    "start_time": "2024-09-11T18:24:59.596Z"
   },
   {
    "duration": 5,
    "start_time": "2024-09-11T18:24:59.659Z"
   },
   {
    "duration": 6,
    "start_time": "2024-09-11T18:24:59.665Z"
   },
   {
    "duration": 14,
    "start_time": "2024-09-11T18:24:59.673Z"
   },
   {
    "duration": 8,
    "start_time": "2024-09-11T18:24:59.688Z"
   },
   {
    "duration": 4,
    "start_time": "2024-09-11T18:24:59.698Z"
   },
   {
    "duration": 4,
    "start_time": "2024-09-11T18:24:59.704Z"
   },
   {
    "duration": 5,
    "start_time": "2024-09-11T18:24:59.710Z"
   },
   {
    "duration": 5,
    "start_time": "2024-09-11T18:24:59.716Z"
   },
   {
    "duration": 6,
    "start_time": "2024-09-11T18:24:59.752Z"
   },
   {
    "duration": 62,
    "start_time": "2024-09-11T18:24:59.759Z"
   },
   {
    "duration": 6,
    "start_time": "2024-09-11T18:24:59.823Z"
   },
   {
    "duration": 10,
    "start_time": "2024-09-11T18:24:59.831Z"
   },
   {
    "duration": 225,
    "start_time": "2024-09-11T18:24:59.844Z"
   },
   {
    "duration": 226,
    "start_time": "2024-09-11T18:25:00.071Z"
   },
   {
    "duration": 231,
    "start_time": "2024-09-11T18:25:00.299Z"
   },
   {
    "duration": 227,
    "start_time": "2024-09-11T18:25:00.532Z"
   },
   {
    "duration": 263,
    "start_time": "2024-09-11T18:25:00.761Z"
   },
   {
    "duration": 274,
    "start_time": "2024-09-11T18:25:01.026Z"
   },
   {
    "duration": 329,
    "start_time": "2024-09-11T18:25:01.302Z"
   },
   {
    "duration": 294,
    "start_time": "2024-09-11T18:25:01.633Z"
   },
   {
    "duration": 279,
    "start_time": "2024-09-11T18:25:01.928Z"
   },
   {
    "duration": 325,
    "start_time": "2024-09-11T18:25:02.208Z"
   },
   {
    "duration": 24,
    "start_time": "2024-09-11T18:25:02.534Z"
   },
   {
    "duration": 1484,
    "start_time": "2024-09-11T18:25:02.560Z"
   },
   {
    "duration": 9,
    "start_time": "2024-09-11T18:25:04.046Z"
   },
   {
    "duration": 6,
    "start_time": "2024-09-11T18:25:04.056Z"
   },
   {
    "duration": 8,
    "start_time": "2024-09-11T18:25:04.063Z"
   },
   {
    "duration": 9,
    "start_time": "2024-09-11T18:25:04.073Z"
   },
   {
    "duration": 13,
    "start_time": "2024-09-11T18:25:04.083Z"
   },
   {
    "duration": 9,
    "start_time": "2024-09-11T18:25:04.097Z"
   },
   {
    "duration": 9,
    "start_time": "2024-09-11T18:25:04.108Z"
   },
   {
    "duration": 36,
    "start_time": "2024-09-11T18:25:04.119Z"
   },
   {
    "duration": 13,
    "start_time": "2024-09-11T18:25:04.157Z"
   },
   {
    "duration": 11,
    "start_time": "2024-09-11T18:25:04.171Z"
   },
   {
    "duration": 27,
    "start_time": "2024-09-11T18:25:04.183Z"
   },
   {
    "duration": 9,
    "start_time": "2024-09-11T18:25:04.212Z"
   },
   {
    "duration": 22,
    "start_time": "2024-09-11T18:25:04.222Z"
   },
   {
    "duration": 7,
    "start_time": "2024-09-11T18:25:04.246Z"
   },
   {
    "duration": 8,
    "start_time": "2024-09-11T18:25:04.255Z"
   },
   {
    "duration": 14,
    "start_time": "2024-09-11T18:25:04.264Z"
   },
   {
    "duration": 8,
    "start_time": "2024-09-11T18:25:04.280Z"
   },
   {
    "duration": 12,
    "start_time": "2024-09-11T18:25:04.289Z"
   },
   {
    "duration": 1245,
    "start_time": "2024-09-11T19:50:36.345Z"
   },
   {
    "duration": 152,
    "start_time": "2024-09-11T19:50:37.592Z"
   },
   {
    "duration": 10,
    "start_time": "2024-09-11T19:50:37.745Z"
   },
   {
    "duration": 53,
    "start_time": "2024-09-11T19:50:37.757Z"
   },
   {
    "duration": 4,
    "start_time": "2024-09-11T19:50:37.812Z"
   },
   {
    "duration": 25,
    "start_time": "2024-09-11T19:50:37.817Z"
   },
   {
    "duration": 14,
    "start_time": "2024-09-11T19:50:37.843Z"
   },
   {
    "duration": 4,
    "start_time": "2024-09-11T19:50:37.859Z"
   },
   {
    "duration": 12,
    "start_time": "2024-09-11T19:50:37.865Z"
   },
   {
    "duration": 70,
    "start_time": "2024-09-11T19:50:37.879Z"
   },
   {
    "duration": 23,
    "start_time": "2024-09-11T19:50:37.951Z"
   },
   {
    "duration": 11,
    "start_time": "2024-09-11T19:50:37.976Z"
   },
   {
    "duration": 4,
    "start_time": "2024-09-11T19:50:38.008Z"
   },
   {
    "duration": 20,
    "start_time": "2024-09-11T19:50:38.014Z"
   },
   {
    "duration": 31,
    "start_time": "2024-09-11T19:50:38.036Z"
   },
   {
    "duration": 5,
    "start_time": "2024-09-11T19:50:38.068Z"
   },
   {
    "duration": 5,
    "start_time": "2024-09-11T19:50:38.075Z"
   },
   {
    "duration": 31,
    "start_time": "2024-09-11T19:50:38.082Z"
   },
   {
    "duration": 24,
    "start_time": "2024-09-11T19:50:38.114Z"
   },
   {
    "duration": 6,
    "start_time": "2024-09-11T19:50:38.139Z"
   },
   {
    "duration": 6,
    "start_time": "2024-09-11T19:50:38.147Z"
   },
   {
    "duration": 10,
    "start_time": "2024-09-11T19:50:38.155Z"
   },
   {
    "duration": 15,
    "start_time": "2024-09-11T19:50:38.167Z"
   },
   {
    "duration": 37,
    "start_time": "2024-09-11T19:50:38.184Z"
   },
   {
    "duration": 31,
    "start_time": "2024-09-11T19:50:38.222Z"
   },
   {
    "duration": 35,
    "start_time": "2024-09-11T19:50:38.255Z"
   },
   {
    "duration": 10,
    "start_time": "2024-09-11T19:50:38.291Z"
   },
   {
    "duration": 198,
    "start_time": "2024-09-11T19:50:38.304Z"
   },
   {
    "duration": 187,
    "start_time": "2024-09-11T19:50:38.506Z"
   },
   {
    "duration": 197,
    "start_time": "2024-09-11T19:50:38.695Z"
   },
   {
    "duration": 197,
    "start_time": "2024-09-11T19:50:38.893Z"
   },
   {
    "duration": 305,
    "start_time": "2024-09-11T19:50:39.092Z"
   },
   {
    "duration": 242,
    "start_time": "2024-09-11T19:50:39.398Z"
   },
   {
    "duration": 266,
    "start_time": "2024-09-11T19:50:39.641Z"
   },
   {
    "duration": 259,
    "start_time": "2024-09-11T19:50:39.908Z"
   },
   {
    "duration": 200,
    "start_time": "2024-09-11T19:50:40.168Z"
   },
   {
    "duration": 302,
    "start_time": "2024-09-11T19:50:40.369Z"
   },
   {
    "duration": 46,
    "start_time": "2024-09-11T19:50:40.673Z"
   },
   {
    "duration": 1247,
    "start_time": "2024-09-11T19:50:40.720Z"
   },
   {
    "duration": 8,
    "start_time": "2024-09-11T19:50:41.969Z"
   },
   {
    "duration": 7,
    "start_time": "2024-09-11T19:50:41.978Z"
   },
   {
    "duration": 5,
    "start_time": "2024-09-11T19:50:41.986Z"
   },
   {
    "duration": 14,
    "start_time": "2024-09-11T19:50:41.993Z"
   },
   {
    "duration": 6,
    "start_time": "2024-09-11T19:50:42.008Z"
   },
   {
    "duration": 5,
    "start_time": "2024-09-11T19:50:42.016Z"
   },
   {
    "duration": 14,
    "start_time": "2024-09-11T19:50:42.022Z"
   },
   {
    "duration": 7,
    "start_time": "2024-09-11T19:50:42.037Z"
   },
   {
    "duration": 7,
    "start_time": "2024-09-11T19:50:42.045Z"
   },
   {
    "duration": 7,
    "start_time": "2024-09-11T19:50:42.053Z"
   },
   {
    "duration": 7,
    "start_time": "2024-09-11T19:50:42.061Z"
   },
   {
    "duration": 42,
    "start_time": "2024-09-11T19:50:42.070Z"
   },
   {
    "duration": 6,
    "start_time": "2024-09-11T19:50:42.113Z"
   },
   {
    "duration": 9,
    "start_time": "2024-09-11T19:50:42.120Z"
   },
   {
    "duration": 10,
    "start_time": "2024-09-11T19:50:42.130Z"
   },
   {
    "duration": 26,
    "start_time": "2024-09-11T19:50:42.141Z"
   },
   {
    "duration": 7,
    "start_time": "2024-09-11T19:50:42.169Z"
   },
   {
    "duration": 6,
    "start_time": "2024-09-11T19:50:42.177Z"
   },
   {
    "duration": 1170,
    "start_time": "2024-09-15T06:27:09.262Z"
   },
   {
    "duration": 180,
    "start_time": "2024-09-15T06:27:10.434Z"
   },
   {
    "duration": 10,
    "start_time": "2024-09-15T06:27:10.615Z"
   },
   {
    "duration": 47,
    "start_time": "2024-09-15T06:27:10.626Z"
   },
   {
    "duration": 4,
    "start_time": "2024-09-15T06:27:10.675Z"
   },
   {
    "duration": 26,
    "start_time": "2024-09-15T06:27:10.680Z"
   },
   {
    "duration": 11,
    "start_time": "2024-09-15T06:27:10.707Z"
   },
   {
    "duration": 14,
    "start_time": "2024-09-15T06:27:10.719Z"
   },
   {
    "duration": 5,
    "start_time": "2024-09-15T06:27:10.734Z"
   },
   {
    "duration": 61,
    "start_time": "2024-09-15T06:27:10.740Z"
   },
   {
    "duration": 24,
    "start_time": "2024-09-15T06:27:10.802Z"
   },
   {
    "duration": 10,
    "start_time": "2024-09-15T06:27:10.827Z"
   },
   {
    "duration": 16,
    "start_time": "2024-09-15T06:27:10.838Z"
   },
   {
    "duration": 15,
    "start_time": "2024-09-15T06:27:10.857Z"
   },
   {
    "duration": 45,
    "start_time": "2024-09-15T06:27:10.874Z"
   },
   {
    "duration": 5,
    "start_time": "2024-09-15T06:27:10.921Z"
   },
   {
    "duration": 37,
    "start_time": "2024-09-15T06:27:10.927Z"
   },
   {
    "duration": 9,
    "start_time": "2024-09-15T06:27:10.966Z"
   },
   {
    "duration": 11,
    "start_time": "2024-09-15T06:27:10.977Z"
   },
   {
    "duration": 5,
    "start_time": "2024-09-15T06:27:10.990Z"
   },
   {
    "duration": 7,
    "start_time": "2024-09-15T06:27:10.996Z"
   },
   {
    "duration": 6,
    "start_time": "2024-09-15T06:27:11.004Z"
   },
   {
    "duration": 6,
    "start_time": "2024-09-15T06:27:11.011Z"
   },
   {
    "duration": 9,
    "start_time": "2024-09-15T06:27:11.018Z"
   },
   {
    "duration": 24,
    "start_time": "2024-09-15T06:27:11.029Z"
   },
   {
    "duration": 9,
    "start_time": "2024-09-15T06:27:11.054Z"
   },
   {
    "duration": 17,
    "start_time": "2024-09-15T06:27:11.064Z"
   },
   {
    "duration": 191,
    "start_time": "2024-09-15T06:27:11.083Z"
   },
   {
    "duration": 177,
    "start_time": "2024-09-15T06:27:11.275Z"
   },
   {
    "duration": 185,
    "start_time": "2024-09-15T06:27:11.454Z"
   },
   {
    "duration": 187,
    "start_time": "2024-09-15T06:27:11.640Z"
   },
   {
    "duration": 281,
    "start_time": "2024-09-15T06:27:11.828Z"
   },
   {
    "duration": 236,
    "start_time": "2024-09-15T06:27:12.110Z"
   },
   {
    "duration": 278,
    "start_time": "2024-09-15T06:27:12.347Z"
   },
   {
    "duration": 245,
    "start_time": "2024-09-15T06:27:12.627Z"
   },
   {
    "duration": 241,
    "start_time": "2024-09-15T06:27:12.873Z"
   },
   {
    "duration": 259,
    "start_time": "2024-09-15T06:27:13.115Z"
   },
   {
    "duration": 42,
    "start_time": "2024-09-15T06:27:13.375Z"
   },
   {
    "duration": 1155,
    "start_time": "2024-09-15T06:27:13.418Z"
   },
   {
    "duration": 7,
    "start_time": "2024-09-15T06:27:14.574Z"
   },
   {
    "duration": 3,
    "start_time": "2024-09-15T06:27:14.584Z"
   },
   {
    "duration": 7,
    "start_time": "2024-09-15T06:27:14.588Z"
   },
   {
    "duration": 4,
    "start_time": "2024-09-15T06:27:14.596Z"
   },
   {
    "duration": 5,
    "start_time": "2024-09-15T06:27:14.606Z"
   },
   {
    "duration": 5,
    "start_time": "2024-09-15T06:27:14.612Z"
   },
   {
    "duration": 6,
    "start_time": "2024-09-15T06:27:14.618Z"
   },
   {
    "duration": 5,
    "start_time": "2024-09-15T06:27:14.625Z"
   },
   {
    "duration": 5,
    "start_time": "2024-09-15T06:27:14.632Z"
   },
   {
    "duration": 9,
    "start_time": "2024-09-15T06:27:14.639Z"
   },
   {
    "duration": 6,
    "start_time": "2024-09-15T06:27:14.649Z"
   },
   {
    "duration": 11,
    "start_time": "2024-09-15T06:27:14.657Z"
   },
   {
    "duration": 11,
    "start_time": "2024-09-15T06:27:14.669Z"
   },
   {
    "duration": 25,
    "start_time": "2024-09-15T06:27:14.682Z"
   },
   {
    "duration": 7,
    "start_time": "2024-09-15T06:27:14.709Z"
   },
   {
    "duration": 5,
    "start_time": "2024-09-15T06:27:14.717Z"
   },
   {
    "duration": 5,
    "start_time": "2024-09-15T06:27:14.724Z"
   },
   {
    "duration": 12,
    "start_time": "2024-09-15T06:27:14.731Z"
   }
  ],
  "kernelspec": {
   "display_name": "Python 3 (ipykernel)",
   "language": "python",
   "name": "python3"
  },
  "language_info": {
   "codemirror_mode": {
    "name": "ipython",
    "version": 3
   },
   "file_extension": ".py",
   "mimetype": "text/x-python",
   "name": "python",
   "nbconvert_exporter": "python",
   "pygments_lexer": "ipython3",
   "version": "3.11.8"
  },
  "toc": {
   "base_numbering": 1,
   "nav_menu": {},
   "number_sections": true,
   "sideBar": true,
   "skip_h1_title": true,
   "title_cell": "Table of Contents",
   "title_sidebar": "Contents",
   "toc_cell": false,
   "toc_position": {
    "height": "calc(100% - 180px)",
    "left": "10px",
    "top": "150px",
    "width": "165px"
   },
   "toc_section_display": true,
   "toc_window_display": true
  }
 },
 "nbformat": 4,
 "nbformat_minor": 2
}
