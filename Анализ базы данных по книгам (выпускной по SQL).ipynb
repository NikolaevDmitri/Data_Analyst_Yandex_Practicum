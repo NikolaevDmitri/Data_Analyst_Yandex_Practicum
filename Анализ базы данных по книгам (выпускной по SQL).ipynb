{
 "cells": [
  {
   "cell_type": "markdown",
   "metadata": {},
   "source": [
    "# Анализ базы данных по книгам (выпускной проект по SQL)\n",
    "\n",
    "**Описание**  \n",
    "Коронавирус застал мир врасплох, изменив привычный порядок вещей. На какое-то время жители городов перестали выходить на улицу, посещать кафе и торговые центры. Зато стало больше времени для книг. Это заметили стартаперы — и бросились создавать приложения для тех, кто любит читать.  \n",
    "Наша компания решила быть на волне и купила крупный сервис для чтения книг по подписке.  \n",
    "Наша первая задача как аналитика — проанализировать базу данных. В ней — информация о книгах, издательствах, авторах, а также пользовательские обзоры книг. Эти данные помогут сформулировать ценностное предложение для нового продукта.  \n",
    "  \n",
    "**Задания:**  \n",
    "Посчитать, сколько книг вышло после 1 января 2000 года;  \n",
    "Для каждой книги посчитать количество обзоров и среднюю оценку;  \n",
    "Определить издательство, которое выпустило наибольшее число книг толще 50 страниц, исключив из анализа брошюры;  \n",
    "Определить автора с самой высокой средней оценкой книг, учитывая только книги с 50 и более оценками;  \n",
    "Посчитать среднее количество обзоров от пользователей, которые поставили больше 48 оценок.  \n",
    "  \n",
    "Подключимся к базе данных:"
   ]
  },
  {
   "cell_type": "code",
   "execution_count": 1,
   "metadata": {},
   "outputs": [
    {
     "data": {
      "text/html": [
       "<div>\n",
       "<style scoped>\n",
       "    .dataframe tbody tr th:only-of-type {\n",
       "        vertical-align: middle;\n",
       "    }\n",
       "\n",
       "    .dataframe tbody tr th {\n",
       "        vertical-align: top;\n",
       "    }\n",
       "\n",
       "    .dataframe thead th {\n",
       "        text-align: right;\n",
       "    }\n",
       "</style>\n",
       "<table border=\"1\" class=\"dataframe\">\n",
       "  <thead>\n",
       "    <tr style=\"text-align: right;\">\n",
       "      <th></th>\n",
       "      <th>book_id</th>\n",
       "      <th>author_id</th>\n",
       "      <th>title</th>\n",
       "      <th>num_pages</th>\n",
       "      <th>publication_date</th>\n",
       "      <th>publisher_id</th>\n",
       "    </tr>\n",
       "  </thead>\n",
       "  <tbody>\n",
       "    <tr>\n",
       "      <th>0</th>\n",
       "      <td>1</td>\n",
       "      <td>546</td>\n",
       "      <td>'Salem's Lot</td>\n",
       "      <td>594</td>\n",
       "      <td>2005-11-01</td>\n",
       "      <td>93</td>\n",
       "    </tr>\n",
       "    <tr>\n",
       "      <th>1</th>\n",
       "      <td>2</td>\n",
       "      <td>465</td>\n",
       "      <td>1 000 Places to See Before You Die</td>\n",
       "      <td>992</td>\n",
       "      <td>2003-05-22</td>\n",
       "      <td>336</td>\n",
       "    </tr>\n",
       "    <tr>\n",
       "      <th>2</th>\n",
       "      <td>3</td>\n",
       "      <td>407</td>\n",
       "      <td>13 Little Blue Envelopes (Little Blue Envelope...</td>\n",
       "      <td>322</td>\n",
       "      <td>2010-12-21</td>\n",
       "      <td>135</td>\n",
       "    </tr>\n",
       "    <tr>\n",
       "      <th>3</th>\n",
       "      <td>4</td>\n",
       "      <td>82</td>\n",
       "      <td>1491: New Revelations of the Americas Before C...</td>\n",
       "      <td>541</td>\n",
       "      <td>2006-10-10</td>\n",
       "      <td>309</td>\n",
       "    </tr>\n",
       "    <tr>\n",
       "      <th>4</th>\n",
       "      <td>5</td>\n",
       "      <td>125</td>\n",
       "      <td>1776</td>\n",
       "      <td>386</td>\n",
       "      <td>2006-07-04</td>\n",
       "      <td>268</td>\n",
       "    </tr>\n",
       "  </tbody>\n",
       "</table>\n",
       "</div>"
      ],
      "text/plain": [
       "   book_id  author_id                                              title  \\\n",
       "0        1        546                                       'Salem's Lot   \n",
       "1        2        465                 1 000 Places to See Before You Die   \n",
       "2        3        407  13 Little Blue Envelopes (Little Blue Envelope...   \n",
       "3        4         82  1491: New Revelations of the Americas Before C...   \n",
       "4        5        125                                               1776   \n",
       "\n",
       "   num_pages publication_date  publisher_id  \n",
       "0        594       2005-11-01            93  \n",
       "1        992       2003-05-22           336  \n",
       "2        322       2010-12-21           135  \n",
       "3        541       2006-10-10           309  \n",
       "4        386       2006-07-04           268  "
      ]
     },
     "execution_count": 1,
     "metadata": {},
     "output_type": "execute_result"
    }
   ],
   "source": [
    "# импортируем библиотеки\n",
    "import pandas as pd\n",
    "from sqlalchemy import text, create_engine\n",
    "# устанавливаем параметры\n",
    "db_config = {'user': 'praktikum_student', # имя пользователя\n",
    "'pwd': 'Sdf4$2;d-d30pp', # пароль\n",
    "'host': 'rc1b-wcoijxj3yxfsf3fs.mdb.yandexcloud.net',\n",
    "'port': 6432, # порт подключения\n",
    "'db': 'data-analyst-final-project-db'} # название базы данных\n",
    "connection_string = 'postgresql://{user}:{pwd}@{host}:{port}/{db}'.format(**db_config)\n",
    "# сохраняем коннектор\n",
    "engine = create_engine(connection_string, connect_args={'sslmode':'require'})\n",
    "\n",
    "# чтобы выполнить SQL-запрос, используем Pandas\n",
    "query = '''SELECT * FROM books LIMIT 5'''\n",
    "con=engine.connect()\n",
    "pd.io.sql.read_sql(sql=text(query), con = con)"
   ]
  },
  {
   "cell_type": "code",
   "execution_count": 2,
   "metadata": {},
   "outputs": [
    {
     "data": {
      "text/html": [
       "<div>\n",
       "<style scoped>\n",
       "    .dataframe tbody tr th:only-of-type {\n",
       "        vertical-align: middle;\n",
       "    }\n",
       "\n",
       "    .dataframe tbody tr th {\n",
       "        vertical-align: top;\n",
       "    }\n",
       "\n",
       "    .dataframe thead th {\n",
       "        text-align: right;\n",
       "    }\n",
       "</style>\n",
       "<table border=\"1\" class=\"dataframe\">\n",
       "  <thead>\n",
       "    <tr style=\"text-align: right;\">\n",
       "      <th></th>\n",
       "      <th>author_id</th>\n",
       "      <th>author</th>\n",
       "    </tr>\n",
       "  </thead>\n",
       "  <tbody>\n",
       "    <tr>\n",
       "      <th>0</th>\n",
       "      <td>1</td>\n",
       "      <td>A.S. Byatt</td>\n",
       "    </tr>\n",
       "    <tr>\n",
       "      <th>1</th>\n",
       "      <td>2</td>\n",
       "      <td>Aesop/Laura Harris/Laura Gibbs</td>\n",
       "    </tr>\n",
       "    <tr>\n",
       "      <th>2</th>\n",
       "      <td>3</td>\n",
       "      <td>Agatha Christie</td>\n",
       "    </tr>\n",
       "    <tr>\n",
       "      <th>3</th>\n",
       "      <td>4</td>\n",
       "      <td>Alan Brennert</td>\n",
       "    </tr>\n",
       "    <tr>\n",
       "      <th>4</th>\n",
       "      <td>5</td>\n",
       "      <td>Alan Moore/David   Lloyd</td>\n",
       "    </tr>\n",
       "  </tbody>\n",
       "</table>\n",
       "</div>"
      ],
      "text/plain": [
       "   author_id                          author\n",
       "0          1                      A.S. Byatt\n",
       "1          2  Aesop/Laura Harris/Laura Gibbs\n",
       "2          3                 Agatha Christie\n",
       "3          4                   Alan Brennert\n",
       "4          5        Alan Moore/David   Lloyd"
      ]
     },
     "execution_count": 2,
     "metadata": {},
     "output_type": "execute_result"
    }
   ],
   "source": [
    "query = '''SELECT * FROM authors LIMIT 5'''\n",
    "con=engine.connect()\n",
    "pd.io.sql.read_sql(sql=text(query), con = con)"
   ]
  },
  {
   "cell_type": "code",
   "execution_count": 3,
   "metadata": {},
   "outputs": [
    {
     "data": {
      "text/html": [
       "<div>\n",
       "<style scoped>\n",
       "    .dataframe tbody tr th:only-of-type {\n",
       "        vertical-align: middle;\n",
       "    }\n",
       "\n",
       "    .dataframe tbody tr th {\n",
       "        vertical-align: top;\n",
       "    }\n",
       "\n",
       "    .dataframe thead th {\n",
       "        text-align: right;\n",
       "    }\n",
       "</style>\n",
       "<table border=\"1\" class=\"dataframe\">\n",
       "  <thead>\n",
       "    <tr style=\"text-align: right;\">\n",
       "      <th></th>\n",
       "      <th>publisher_id</th>\n",
       "      <th>publisher</th>\n",
       "    </tr>\n",
       "  </thead>\n",
       "  <tbody>\n",
       "    <tr>\n",
       "      <th>0</th>\n",
       "      <td>1</td>\n",
       "      <td>Ace</td>\n",
       "    </tr>\n",
       "    <tr>\n",
       "      <th>1</th>\n",
       "      <td>2</td>\n",
       "      <td>Ace Book</td>\n",
       "    </tr>\n",
       "    <tr>\n",
       "      <th>2</th>\n",
       "      <td>3</td>\n",
       "      <td>Ace Books</td>\n",
       "    </tr>\n",
       "    <tr>\n",
       "      <th>3</th>\n",
       "      <td>4</td>\n",
       "      <td>Ace Hardcover</td>\n",
       "    </tr>\n",
       "    <tr>\n",
       "      <th>4</th>\n",
       "      <td>5</td>\n",
       "      <td>Addison Wesley Publishing Company</td>\n",
       "    </tr>\n",
       "  </tbody>\n",
       "</table>\n",
       "</div>"
      ],
      "text/plain": [
       "   publisher_id                          publisher\n",
       "0             1                                Ace\n",
       "1             2                           Ace Book\n",
       "2             3                          Ace Books\n",
       "3             4                      Ace Hardcover\n",
       "4             5  Addison Wesley Publishing Company"
      ]
     },
     "execution_count": 3,
     "metadata": {},
     "output_type": "execute_result"
    }
   ],
   "source": [
    "query = '''SELECT * FROM publishers LIMIT 5'''\n",
    "con=engine.connect()\n",
    "pd.io.sql.read_sql(sql=text(query), con = con)"
   ]
  },
  {
   "cell_type": "code",
   "execution_count": 4,
   "metadata": {},
   "outputs": [
    {
     "data": {
      "text/html": [
       "<div>\n",
       "<style scoped>\n",
       "    .dataframe tbody tr th:only-of-type {\n",
       "        vertical-align: middle;\n",
       "    }\n",
       "\n",
       "    .dataframe tbody tr th {\n",
       "        vertical-align: top;\n",
       "    }\n",
       "\n",
       "    .dataframe thead th {\n",
       "        text-align: right;\n",
       "    }\n",
       "</style>\n",
       "<table border=\"1\" class=\"dataframe\">\n",
       "  <thead>\n",
       "    <tr style=\"text-align: right;\">\n",
       "      <th></th>\n",
       "      <th>rating_id</th>\n",
       "      <th>book_id</th>\n",
       "      <th>username</th>\n",
       "      <th>rating</th>\n",
       "    </tr>\n",
       "  </thead>\n",
       "  <tbody>\n",
       "    <tr>\n",
       "      <th>0</th>\n",
       "      <td>1</td>\n",
       "      <td>1</td>\n",
       "      <td>ryanfranco</td>\n",
       "      <td>4</td>\n",
       "    </tr>\n",
       "    <tr>\n",
       "      <th>1</th>\n",
       "      <td>2</td>\n",
       "      <td>1</td>\n",
       "      <td>grantpatricia</td>\n",
       "      <td>2</td>\n",
       "    </tr>\n",
       "    <tr>\n",
       "      <th>2</th>\n",
       "      <td>3</td>\n",
       "      <td>1</td>\n",
       "      <td>brandtandrea</td>\n",
       "      <td>5</td>\n",
       "    </tr>\n",
       "    <tr>\n",
       "      <th>3</th>\n",
       "      <td>4</td>\n",
       "      <td>2</td>\n",
       "      <td>lorichen</td>\n",
       "      <td>3</td>\n",
       "    </tr>\n",
       "    <tr>\n",
       "      <th>4</th>\n",
       "      <td>5</td>\n",
       "      <td>2</td>\n",
       "      <td>mariokeller</td>\n",
       "      <td>2</td>\n",
       "    </tr>\n",
       "  </tbody>\n",
       "</table>\n",
       "</div>"
      ],
      "text/plain": [
       "   rating_id  book_id       username  rating\n",
       "0          1        1     ryanfranco       4\n",
       "1          2        1  grantpatricia       2\n",
       "2          3        1   brandtandrea       5\n",
       "3          4        2       lorichen       3\n",
       "4          5        2    mariokeller       2"
      ]
     },
     "execution_count": 4,
     "metadata": {},
     "output_type": "execute_result"
    }
   ],
   "source": [
    "query = '''SELECT * FROM ratings LIMIT 5'''\n",
    "con=engine.connect()\n",
    "pd.io.sql.read_sql(sql=text(query), con = con)"
   ]
  },
  {
   "cell_type": "code",
   "execution_count": 5,
   "metadata": {},
   "outputs": [
    {
     "data": {
      "text/html": [
       "<div>\n",
       "<style scoped>\n",
       "    .dataframe tbody tr th:only-of-type {\n",
       "        vertical-align: middle;\n",
       "    }\n",
       "\n",
       "    .dataframe tbody tr th {\n",
       "        vertical-align: top;\n",
       "    }\n",
       "\n",
       "    .dataframe thead th {\n",
       "        text-align: right;\n",
       "    }\n",
       "</style>\n",
       "<table border=\"1\" class=\"dataframe\">\n",
       "  <thead>\n",
       "    <tr style=\"text-align: right;\">\n",
       "      <th></th>\n",
       "      <th>review_id</th>\n",
       "      <th>book_id</th>\n",
       "      <th>username</th>\n",
       "      <th>text</th>\n",
       "    </tr>\n",
       "  </thead>\n",
       "  <tbody>\n",
       "    <tr>\n",
       "      <th>0</th>\n",
       "      <td>1</td>\n",
       "      <td>1</td>\n",
       "      <td>brandtandrea</td>\n",
       "      <td>Mention society tell send professor analysis. ...</td>\n",
       "    </tr>\n",
       "    <tr>\n",
       "      <th>1</th>\n",
       "      <td>2</td>\n",
       "      <td>1</td>\n",
       "      <td>ryanfranco</td>\n",
       "      <td>Foot glass pretty audience hit themselves. Amo...</td>\n",
       "    </tr>\n",
       "    <tr>\n",
       "      <th>2</th>\n",
       "      <td>3</td>\n",
       "      <td>2</td>\n",
       "      <td>lorichen</td>\n",
       "      <td>Listen treat keep worry. Miss husband tax but ...</td>\n",
       "    </tr>\n",
       "    <tr>\n",
       "      <th>3</th>\n",
       "      <td>4</td>\n",
       "      <td>3</td>\n",
       "      <td>johnsonamanda</td>\n",
       "      <td>Finally month interesting blue could nature cu...</td>\n",
       "    </tr>\n",
       "    <tr>\n",
       "      <th>4</th>\n",
       "      <td>5</td>\n",
       "      <td>3</td>\n",
       "      <td>scotttamara</td>\n",
       "      <td>Nation purpose heavy give wait song will. List...</td>\n",
       "    </tr>\n",
       "  </tbody>\n",
       "</table>\n",
       "</div>"
      ],
      "text/plain": [
       "   review_id  book_id       username  \\\n",
       "0          1        1   brandtandrea   \n",
       "1          2        1     ryanfranco   \n",
       "2          3        2       lorichen   \n",
       "3          4        3  johnsonamanda   \n",
       "4          5        3    scotttamara   \n",
       "\n",
       "                                                text  \n",
       "0  Mention society tell send professor analysis. ...  \n",
       "1  Foot glass pretty audience hit themselves. Amo...  \n",
       "2  Listen treat keep worry. Miss husband tax but ...  \n",
       "3  Finally month interesting blue could nature cu...  \n",
       "4  Nation purpose heavy give wait song will. List...  "
      ]
     },
     "execution_count": 5,
     "metadata": {},
     "output_type": "execute_result"
    }
   ],
   "source": [
    "query = '''SELECT * FROM reviews LIMIT 5'''\n",
    "con=engine.connect()\n",
    "pd.io.sql.read_sql(sql=text(query), con = con)"
   ]
  },
  {
   "cell_type": "markdown",
   "metadata": {},
   "source": [
    "**Описание данных**\n",
    "\n",
    "Таблица books  \n",
    "Содержит данные о книгах:  \n",
    "book_id — идентификатор книги;  \n",
    "author_id — идентификатор автора;  \n",
    "title — название книги;  \n",
    "num_pages — количество страниц;  \n",
    "publication_date — дата публикации книги;  \n",
    "publisher_id — идентификатор издателя.  \n",
    "  \n",
    "Таблица authors  \n",
    "Содержит данные об авторах:  \n",
    "author_id — идентификатор автора;  \n",
    "author — имя автора.  \n",
    "  \n",
    "Таблица publishers  \n",
    "Содержит данные об издательствах:  \n",
    "publisher_id — идентификатор издательства;  \n",
    "publisher — название издательства;  \n",
    "  \n",
    "Таблица ratings  \n",
    "Содержит данные о пользовательских оценках книг:  \n",
    "rating_id — идентификатор оценки;  \n",
    "book_id — идентификатор книги;  \n",
    "username — имя пользователя, оставившего оценку;  \n",
    "rating — оценка книги.  \n",
    "  \n",
    "Таблица reviews  \n",
    "Содержит данные о пользовательских обзорах:  \n",
    "review_id — идентификатор обзора;  \n",
    "book_id — идентификатор книги;  \n",
    "username — имя автора обзора;  \n",
    "text — текст обзора."
   ]
  },
  {
   "cell_type": "markdown",
   "metadata": {},
   "source": [
    "## задание - посчитать, сколько книг вышло после 1 января 2000 года"
   ]
  },
  {
   "cell_type": "code",
   "execution_count": 6,
   "metadata": {},
   "outputs": [
    {
     "data": {
      "text/html": [
       "<div>\n",
       "<style scoped>\n",
       "    .dataframe tbody tr th:only-of-type {\n",
       "        vertical-align: middle;\n",
       "    }\n",
       "\n",
       "    .dataframe tbody tr th {\n",
       "        vertical-align: top;\n",
       "    }\n",
       "\n",
       "    .dataframe thead th {\n",
       "        text-align: right;\n",
       "    }\n",
       "</style>\n",
       "<table border=\"1\" class=\"dataframe\">\n",
       "  <thead>\n",
       "    <tr style=\"text-align: right;\">\n",
       "      <th></th>\n",
       "      <th>count</th>\n",
       "    </tr>\n",
       "  </thead>\n",
       "  <tbody>\n",
       "    <tr>\n",
       "      <th>0</th>\n",
       "      <td>819</td>\n",
       "    </tr>\n",
       "  </tbody>\n",
       "</table>\n",
       "</div>"
      ],
      "text/plain": [
       "   count\n",
       "0    819"
      ]
     },
     "execution_count": 6,
     "metadata": {},
     "output_type": "execute_result"
    }
   ],
   "source": [
    "query = '''\n",
    "\n",
    "SELECT COUNT(book_id) FROM books WHERE (publication_date>'2000-01-01')\n",
    "\n",
    "'''\n",
    "con=engine.connect()\n",
    "pd.io.sql.read_sql(sql=text(query), con = con)"
   ]
  },
  {
   "cell_type": "markdown",
   "metadata": {},
   "source": [
    "После 1 января 2000 года вышло 819 книг"
   ]
  },
  {
   "cell_type": "markdown",
   "metadata": {},
   "source": [
    "## задание - для каждой книги посчитать количество обзоров и среднюю оценку"
   ]
  },
  {
   "cell_type": "code",
   "execution_count": 7,
   "metadata": {},
   "outputs": [
    {
     "data": {
      "text/html": [
       "<div>\n",
       "<style scoped>\n",
       "    .dataframe tbody tr th:only-of-type {\n",
       "        vertical-align: middle;\n",
       "    }\n",
       "\n",
       "    .dataframe tbody tr th {\n",
       "        vertical-align: top;\n",
       "    }\n",
       "\n",
       "    .dataframe thead th {\n",
       "        text-align: right;\n",
       "    }\n",
       "</style>\n",
       "<table border=\"1\" class=\"dataframe\">\n",
       "  <thead>\n",
       "    <tr style=\"text-align: right;\">\n",
       "      <th></th>\n",
       "      <th>book_id</th>\n",
       "      <th>title</th>\n",
       "      <th>review_count</th>\n",
       "      <th>average_raiting</th>\n",
       "    </tr>\n",
       "  </thead>\n",
       "  <tbody>\n",
       "    <tr>\n",
       "      <th>0</th>\n",
       "      <td>948</td>\n",
       "      <td>Twilight (Twilight  #1)</td>\n",
       "      <td>7</td>\n",
       "      <td>3.66</td>\n",
       "    </tr>\n",
       "    <tr>\n",
       "      <th>1</th>\n",
       "      <td>302</td>\n",
       "      <td>Harry Potter and the Prisoner of Azkaban (Harr...</td>\n",
       "      <td>6</td>\n",
       "      <td>4.41</td>\n",
       "    </tr>\n",
       "    <tr>\n",
       "      <th>2</th>\n",
       "      <td>299</td>\n",
       "      <td>Harry Potter and the Chamber of Secrets (Harry...</td>\n",
       "      <td>6</td>\n",
       "      <td>4.29</td>\n",
       "    </tr>\n",
       "    <tr>\n",
       "      <th>3</th>\n",
       "      <td>656</td>\n",
       "      <td>The Book Thief</td>\n",
       "      <td>6</td>\n",
       "      <td>4.26</td>\n",
       "    </tr>\n",
       "    <tr>\n",
       "      <th>4</th>\n",
       "      <td>734</td>\n",
       "      <td>The Glass Castle</td>\n",
       "      <td>6</td>\n",
       "      <td>4.21</td>\n",
       "    </tr>\n",
       "    <tr>\n",
       "      <th>...</th>\n",
       "      <td>...</td>\n",
       "      <td>...</td>\n",
       "      <td>...</td>\n",
       "      <td>...</td>\n",
       "    </tr>\n",
       "    <tr>\n",
       "      <th>995</th>\n",
       "      <td>191</td>\n",
       "      <td>Disney's Beauty and the Beast (A Little Golden...</td>\n",
       "      <td>0</td>\n",
       "      <td>4.00</td>\n",
       "    </tr>\n",
       "    <tr>\n",
       "      <th>996</th>\n",
       "      <td>387</td>\n",
       "      <td>Leonardo's Notebooks</td>\n",
       "      <td>0</td>\n",
       "      <td>4.00</td>\n",
       "    </tr>\n",
       "    <tr>\n",
       "      <th>997</th>\n",
       "      <td>221</td>\n",
       "      <td>Essential Tales and Poems</td>\n",
       "      <td>0</td>\n",
       "      <td>4.00</td>\n",
       "    </tr>\n",
       "    <tr>\n",
       "      <th>998</th>\n",
       "      <td>83</td>\n",
       "      <td>Anne Rice's The Vampire Lestat: A Graphic Novel</td>\n",
       "      <td>0</td>\n",
       "      <td>3.67</td>\n",
       "    </tr>\n",
       "    <tr>\n",
       "      <th>999</th>\n",
       "      <td>808</td>\n",
       "      <td>The Natural Way to Draw</td>\n",
       "      <td>0</td>\n",
       "      <td>3.00</td>\n",
       "    </tr>\n",
       "  </tbody>\n",
       "</table>\n",
       "<p>1000 rows × 4 columns</p>\n",
       "</div>"
      ],
      "text/plain": [
       "     book_id                                              title  review_count  \\\n",
       "0        948                            Twilight (Twilight  #1)             7   \n",
       "1        302  Harry Potter and the Prisoner of Azkaban (Harr...             6   \n",
       "2        299  Harry Potter and the Chamber of Secrets (Harry...             6   \n",
       "3        656                                     The Book Thief             6   \n",
       "4        734                                   The Glass Castle             6   \n",
       "..       ...                                                ...           ...   \n",
       "995      191  Disney's Beauty and the Beast (A Little Golden...             0   \n",
       "996      387                               Leonardo's Notebooks             0   \n",
       "997      221                          Essential Tales and Poems             0   \n",
       "998       83    Anne Rice's The Vampire Lestat: A Graphic Novel             0   \n",
       "999      808                            The Natural Way to Draw             0   \n",
       "\n",
       "     average_raiting  \n",
       "0               3.66  \n",
       "1               4.41  \n",
       "2               4.29  \n",
       "3               4.26  \n",
       "4               4.21  \n",
       "..               ...  \n",
       "995             4.00  \n",
       "996             4.00  \n",
       "997             4.00  \n",
       "998             3.67  \n",
       "999             3.00  \n",
       "\n",
       "[1000 rows x 4 columns]"
      ]
     },
     "execution_count": 7,
     "metadata": {},
     "output_type": "execute_result"
    }
   ],
   "source": [
    "query = '''\n",
    "\n",
    "SELECT b.book_id, b.title,\n",
    "       COUNT(DISTINCT(r.review_id)) AS review_count,\n",
    "       ROUND(AVG(rt.rating),2) AS average_raiting\n",
    "FROM books as b        \n",
    "\n",
    "LEFT JOIN reviews as r\n",
    "ON b.book_id = r.book_id\n",
    "\n",
    "LEFT JOIN ratings as rt\n",
    "ON b.book_id = rt.book_id\n",
    "\n",
    "GROUP BY b.book_id\n",
    "ORDER BY review_count DESC, average_raiting DESC\n",
    "\n",
    "'''\n",
    "con=engine.connect()\n",
    "pd.io.sql.read_sql(sql=text(query), con = con)"
   ]
  },
  {
   "cell_type": "markdown",
   "metadata": {},
   "source": [
    "Вывели количество обзоров и среднюю оценку по каждой книге, отсортировав список сначала по количеству обзоров, затем по средней оценке. Всего в базе 1000 книг. Максимальное количество отззывов 7, минимальное - 0. Средние оценки у всех книг разные."
   ]
  },
  {
   "cell_type": "markdown",
   "metadata": {},
   "source": [
    "## задание - определить издательство, которое выпустило наибольшее число книг толще 50 страниц, исключив из анализа брошюры"
   ]
  },
  {
   "cell_type": "code",
   "execution_count": 8,
   "metadata": {
    "scrolled": false
   },
   "outputs": [
    {
     "data": {
      "text/html": [
       "<div>\n",
       "<style scoped>\n",
       "    .dataframe tbody tr th:only-of-type {\n",
       "        vertical-align: middle;\n",
       "    }\n",
       "\n",
       "    .dataframe tbody tr th {\n",
       "        vertical-align: top;\n",
       "    }\n",
       "\n",
       "    .dataframe thead th {\n",
       "        text-align: right;\n",
       "    }\n",
       "</style>\n",
       "<table border=\"1\" class=\"dataframe\">\n",
       "  <thead>\n",
       "    <tr style=\"text-align: right;\">\n",
       "      <th></th>\n",
       "      <th>publisher</th>\n",
       "    </tr>\n",
       "  </thead>\n",
       "  <tbody>\n",
       "    <tr>\n",
       "      <th>0</th>\n",
       "      <td>Penguin Books</td>\n",
       "    </tr>\n",
       "  </tbody>\n",
       "</table>\n",
       "</div>"
      ],
      "text/plain": [
       "       publisher\n",
       "0  Penguin Books"
      ]
     },
     "execution_count": 8,
     "metadata": {},
     "output_type": "execute_result"
    }
   ],
   "source": [
    "query = '''\n",
    "\n",
    "SELECT p.publisher\n",
    "\n",
    "FROM books as b LEFT JOIN publishers as p\n",
    "ON b.publisher_id = p.publisher_id\n",
    "\n",
    "WHERE b.publisher_id in (       -- найдём id такого издательства\n",
    "        SELECT publisher_id\n",
    "        FROM books \n",
    "        WHERE num_pages>50\n",
    "        GROUP BY publisher_id \n",
    "        ORDER BY COUNT(book_id) DESC\n",
    "        LIMIT 1 )\n",
    "\n",
    "LIMIT 1\n",
    "\n",
    "'''\n",
    "con=engine.connect()\n",
    "pd.io.sql.read_sql(sql=text(query), con = con)"
   ]
  },
  {
   "cell_type": "markdown",
   "metadata": {},
   "source": [
    "Наибольшее число книг (толще 50 страниц) выпустило издательство Penguin Books."
   ]
  },
  {
   "cell_type": "markdown",
   "metadata": {},
   "source": [
    "## задание - определить автора с самой высокой средней оценкой книг, учитывая только книги с 50 и более оценками"
   ]
  },
  {
   "cell_type": "code",
   "execution_count": 10,
   "metadata": {},
   "outputs": [
    {
     "data": {
      "text/html": [
       "<div>\n",
       "<style scoped>\n",
       "    .dataframe tbody tr th:only-of-type {\n",
       "        vertical-align: middle;\n",
       "    }\n",
       "\n",
       "    .dataframe tbody tr th {\n",
       "        vertical-align: top;\n",
       "    }\n",
       "\n",
       "    .dataframe thead th {\n",
       "        text-align: right;\n",
       "    }\n",
       "</style>\n",
       "<table border=\"1\" class=\"dataframe\">\n",
       "  <thead>\n",
       "    <tr style=\"text-align: right;\">\n",
       "      <th></th>\n",
       "      <th>author</th>\n",
       "    </tr>\n",
       "  </thead>\n",
       "  <tbody>\n",
       "    <tr>\n",
       "      <th>0</th>\n",
       "      <td>J.K. Rowling/Mary GrandPré</td>\n",
       "    </tr>\n",
       "  </tbody>\n",
       "</table>\n",
       "</div>"
      ],
      "text/plain": [
       "                       author\n",
       "0  J.K. Rowling/Mary GrandPré"
      ]
     },
     "execution_count": 10,
     "metadata": {},
     "output_type": "execute_result"
    }
   ],
   "source": [
    "query = '''\n",
    "\n",
    "WITH book50 AS (\n",
    "        -- отбираем книги с 50 и более оценками\n",
    "                SELECT book_id\n",
    "                FROM ratings\n",
    "                GROUP BY book_id\n",
    "                HAVING COUNT(*) > 50 )\n",
    "\n",
    "SELECT a.author\n",
    "\n",
    "FROM books as b JOIN book50 as b50\n",
    "ON b.book_id = b50.book_id\n",
    "\n",
    "JOIN authors as a\n",
    "ON b.author_id = a.author_id\n",
    "\n",
    "JOIN ratings as rt\n",
    "ON b50.book_id = rt.book_id\n",
    "\n",
    "GROUP BY a.author\n",
    "ORDER BY AVG(rt.rating) DESC\n",
    "\n",
    "LIMIT 1\n",
    "\n",
    "'''\n",
    "con=engine.connect()\n",
    "pd.io.sql.read_sql(sql=text(query), con = con)"
   ]
  },
  {
   "cell_type": "markdown",
   "metadata": {},
   "source": [
    "Самая высокой средняя оценка книг, учитывая только книги с 50 и более оценками, у пары авторов J.K. Rowling и Mary GrandPré."
   ]
  },
  {
   "cell_type": "markdown",
   "metadata": {},
   "source": [
    "## задание - посчитать среднее количество обзоров от пользователей, которые поставили больше 48 оценок"
   ]
  },
  {
   "cell_type": "code",
   "execution_count": 11,
   "metadata": {},
   "outputs": [
    {
     "data": {
      "text/html": [
       "<div>\n",
       "<style scoped>\n",
       "    .dataframe tbody tr th:only-of-type {\n",
       "        vertical-align: middle;\n",
       "    }\n",
       "\n",
       "    .dataframe tbody tr th {\n",
       "        vertical-align: top;\n",
       "    }\n",
       "\n",
       "    .dataframe thead th {\n",
       "        text-align: right;\n",
       "    }\n",
       "</style>\n",
       "<table border=\"1\" class=\"dataframe\">\n",
       "  <thead>\n",
       "    <tr style=\"text-align: right;\">\n",
       "      <th></th>\n",
       "      <th>avg</th>\n",
       "    </tr>\n",
       "  </thead>\n",
       "  <tbody>\n",
       "    <tr>\n",
       "      <th>0</th>\n",
       "      <td>24.0</td>\n",
       "    </tr>\n",
       "  </tbody>\n",
       "</table>\n",
       "</div>"
      ],
      "text/plain": [
       "    avg\n",
       "0  24.0"
      ]
     },
     "execution_count": 11,
     "metadata": {},
     "output_type": "execute_result"
    }
   ],
   "source": [
    "query = '''\n",
    "\n",
    "SELECT AVG(review_count) FROM (\n",
    "\n",
    "    SELECT username, COUNT(DISTINCT(review_id)) AS review_count     -- посчитаем количество обзоров \n",
    "    FROM reviews                                                    -- активных пользователей\n",
    "\n",
    "    WHERE username in (         -- отберём пользователей, которые поставили больше 48 оценок\n",
    "            SELECT username \n",
    "            FROM ratings        \n",
    "            GROUP BY username\n",
    "            HAVING (COUNT(*)>48) )\n",
    "\n",
    "    GROUP BY username\n",
    "    ORDER BY review_count DESC ) AS users\n",
    "\n",
    "'''\n",
    "con=engine.connect()\n",
    "pd.io.sql.read_sql(sql=text(query), con = con)"
   ]
  },
  {
   "cell_type": "markdown",
   "metadata": {},
   "source": [
    "В среднем пользователи, которые поставили больше 48 оценок, оставили по 24 обзора"
   ]
  },
  {
   "cell_type": "markdown",
   "metadata": {},
   "source": [
    "# Итоговый вывод\n",
    "\n",
    "В данной работе мы проанализировали базу данных с информацией о книгах, издательствах, авторах, а также пользовательские обзоры книг, выполнив следующие задания:  \n",
    "Посчитали, сколько книг вышло после 1 января 2000 года - 819;  \n",
    "Для каждой книги посчитали количество обзоров и среднюю оценку;  \n",
    "Определили издательство, которое выпустило наибольшее число книг толще 50 страниц, исключив из анализа брошюры - Penguin Books;  \n",
    "Определили автора с самой высокой средней оценкой книг, учитывая только книги с 50 и более оценками, - J.K. Rowling/Mary GrandPré;  \n",
    "Посчитали среднее количество обзоров от пользователей, которые поставили больше 48 оценок, - 24.  \n"
   ]
  }
 ],
 "metadata": {
  "ExecuteTimeLog": [
   {
    "duration": 5283,
    "start_time": "2024-09-14T12:10:53.957Z"
   },
   {
    "duration": 52,
    "start_time": "2024-09-14T12:17:43.442Z"
   },
   {
    "duration": 3,
    "start_time": "2024-09-14T12:18:16.646Z"
   },
   {
    "duration": 10,
    "start_time": "2024-09-14T12:18:27.000Z"
   },
   {
    "duration": 13,
    "start_time": "2024-09-14T12:18:49.556Z"
   },
   {
    "duration": 12,
    "start_time": "2024-09-14T12:19:14.578Z"
   },
   {
    "duration": 83,
    "start_time": "2024-09-14T12:30:36.616Z"
   },
   {
    "duration": 69,
    "start_time": "2024-09-14T12:30:48.502Z"
   },
   {
    "duration": 61,
    "start_time": "2024-09-14T12:30:56.587Z"
   },
   {
    "duration": 62,
    "start_time": "2024-09-14T12:31:02.102Z"
   },
   {
    "duration": 10,
    "start_time": "2024-09-14T12:31:13.273Z"
   },
   {
    "duration": 35,
    "start_time": "2024-09-14T12:31:52.934Z"
   },
   {
    "duration": 33,
    "start_time": "2024-09-14T12:43:51.487Z"
   },
   {
    "duration": 20,
    "start_time": "2024-09-14T12:45:28.778Z"
   },
   {
    "duration": 49,
    "start_time": "2024-09-14T12:46:20.562Z"
   },
   {
    "duration": 28,
    "start_time": "2024-09-14T12:46:46.968Z"
   },
   {
    "duration": 28,
    "start_time": "2024-09-14T12:48:14.089Z"
   },
   {
    "duration": 28,
    "start_time": "2024-09-14T12:48:18.799Z"
   },
   {
    "duration": 28,
    "start_time": "2024-09-14T12:49:07.636Z"
   },
   {
    "duration": 29,
    "start_time": "2024-09-14T12:49:12.857Z"
   },
   {
    "duration": 33,
    "start_time": "2024-09-14T12:49:44.474Z"
   },
   {
    "duration": 29,
    "start_time": "2024-09-14T12:50:15.445Z"
   },
   {
    "duration": 36,
    "start_time": "2024-09-14T13:07:05.981Z"
   },
   {
    "duration": 31,
    "start_time": "2024-09-14T13:07:22.373Z"
   },
   {
    "duration": 33,
    "start_time": "2024-09-14T13:08:07.782Z"
   },
   {
    "duration": 56,
    "start_time": "2024-09-14T13:09:51.523Z"
   },
   {
    "duration": 51,
    "start_time": "2024-09-14T13:10:49.998Z"
   },
   {
    "duration": 50,
    "start_time": "2024-09-14T13:11:53.300Z"
   },
   {
    "duration": 19,
    "start_time": "2024-09-14T13:14:37.253Z"
   },
   {
    "duration": 14,
    "start_time": "2024-09-14T13:14:46.927Z"
   },
   {
    "duration": 14,
    "start_time": "2024-09-14T13:16:00.739Z"
   },
   {
    "duration": 18,
    "start_time": "2024-09-14T13:16:18.136Z"
   },
   {
    "duration": 20,
    "start_time": "2024-09-14T13:16:27.281Z"
   },
   {
    "duration": 17,
    "start_time": "2024-09-14T13:16:32.112Z"
   },
   {
    "duration": 13,
    "start_time": "2024-09-14T13:16:44.328Z"
   },
   {
    "duration": 14,
    "start_time": "2024-09-14T13:16:49.559Z"
   },
   {
    "duration": 23,
    "start_time": "2024-09-14T13:17:00.500Z"
   },
   {
    "duration": 21,
    "start_time": "2024-09-14T13:17:07.696Z"
   },
   {
    "duration": 36,
    "start_time": "2024-09-14T13:17:41.985Z"
   },
   {
    "duration": 21,
    "start_time": "2024-09-14T13:18:19.751Z"
   },
   {
    "duration": 31,
    "start_time": "2024-09-14T13:19:07.491Z"
   },
   {
    "duration": 20,
    "start_time": "2024-09-14T13:19:32.957Z"
   },
   {
    "duration": 19,
    "start_time": "2024-09-14T13:19:36.952Z"
   },
   {
    "duration": 11,
    "start_time": "2024-09-14T13:19:56.515Z"
   },
   {
    "duration": 27,
    "start_time": "2024-09-14T13:23:00.237Z"
   },
   {
    "duration": 11,
    "start_time": "2024-09-14T13:24:40.177Z"
   },
   {
    "duration": 12,
    "start_time": "2024-09-14T13:24:56.114Z"
   },
   {
    "duration": 16,
    "start_time": "2024-09-14T13:25:49.802Z"
   },
   {
    "duration": 14,
    "start_time": "2024-09-14T13:40:58.005Z"
   },
   {
    "duration": 14,
    "start_time": "2024-09-14T13:43:38.559Z"
   },
   {
    "duration": 15,
    "start_time": "2024-09-14T13:44:05.682Z"
   },
   {
    "duration": 28,
    "start_time": "2024-09-14T13:45:17.942Z"
   },
   {
    "duration": 14,
    "start_time": "2024-09-14T13:45:26.627Z"
   },
   {
    "duration": 32,
    "start_time": "2024-09-14T13:49:00.226Z"
   },
   {
    "duration": 19,
    "start_time": "2024-09-14T13:49:08.994Z"
   },
   {
    "duration": 20,
    "start_time": "2024-09-14T13:49:16.999Z"
   },
   {
    "duration": 15,
    "start_time": "2024-09-14T13:49:42.694Z"
   },
   {
    "duration": 51,
    "start_time": "2024-09-14T13:50:20.225Z"
   },
   {
    "duration": 14,
    "start_time": "2024-09-14T13:51:03.654Z"
   },
   {
    "duration": 13,
    "start_time": "2024-09-14T13:53:24.667Z"
   },
   {
    "duration": 14,
    "start_time": "2024-09-14T13:57:32.747Z"
   },
   {
    "duration": 14,
    "start_time": "2024-09-14T13:58:16.703Z"
   },
   {
    "duration": 12,
    "start_time": "2024-09-14T14:04:06.602Z"
   },
   {
    "duration": 11,
    "start_time": "2024-09-14T14:04:23.071Z"
   },
   {
    "duration": 13,
    "start_time": "2024-09-14T14:07:09.117Z"
   },
   {
    "duration": 13,
    "start_time": "2024-09-14T14:07:16.306Z"
   },
   {
    "duration": 14,
    "start_time": "2024-09-14T14:07:51.307Z"
   },
   {
    "duration": 20,
    "start_time": "2024-09-14T14:09:41.035Z"
   },
   {
    "duration": 16,
    "start_time": "2024-09-14T14:09:54.184Z"
   },
   {
    "duration": 13,
    "start_time": "2024-09-14T14:10:34.353Z"
   },
   {
    "duration": 14,
    "start_time": "2024-09-14T14:13:03.870Z"
   },
   {
    "duration": 13,
    "start_time": "2024-09-14T14:13:37.915Z"
   },
   {
    "duration": 5320,
    "start_time": "2024-09-14T14:14:53.901Z"
   },
   {
    "duration": 40,
    "start_time": "2024-09-14T14:14:59.223Z"
   },
   {
    "duration": 9,
    "start_time": "2024-09-14T14:14:59.265Z"
   },
   {
    "duration": 10,
    "start_time": "2024-09-14T14:14:59.276Z"
   },
   {
    "duration": 18,
    "start_time": "2024-09-14T14:14:59.288Z"
   },
   {
    "duration": 10,
    "start_time": "2024-09-14T14:14:59.308Z"
   },
   {
    "duration": 28,
    "start_time": "2024-09-14T14:14:59.320Z"
   },
   {
    "duration": 11,
    "start_time": "2024-09-14T14:14:59.350Z"
   },
   {
    "duration": 37,
    "start_time": "2024-09-14T14:14:59.363Z"
   },
   {
    "duration": 12,
    "start_time": "2024-09-14T14:14:59.402Z"
   },
   {
    "duration": 5510,
    "start_time": "2024-09-14T14:22:39.640Z"
   },
   {
    "duration": 58,
    "start_time": "2024-09-14T14:22:45.153Z"
   },
   {
    "duration": 23,
    "start_time": "2024-09-14T14:22:45.212Z"
   },
   {
    "duration": 23,
    "start_time": "2024-09-14T14:22:45.237Z"
   },
   {
    "duration": 20,
    "start_time": "2024-09-14T14:22:45.262Z"
   },
   {
    "duration": 28,
    "start_time": "2024-09-14T14:22:45.284Z"
   },
   {
    "duration": 74,
    "start_time": "2024-09-14T14:22:45.314Z"
   },
   {
    "duration": 28,
    "start_time": "2024-09-14T14:22:45.398Z"
   },
   {
    "duration": 41,
    "start_time": "2024-09-14T14:22:45.427Z"
   },
   {
    "duration": 11,
    "start_time": "2024-09-14T14:22:45.470Z"
   },
   {
    "duration": 6633,
    "start_time": "2024-09-14T16:14:46.021Z"
   },
   {
    "duration": 36,
    "start_time": "2024-09-14T16:14:52.657Z"
   },
   {
    "duration": 10,
    "start_time": "2024-09-14T16:14:52.695Z"
   },
   {
    "duration": 11,
    "start_time": "2024-09-14T16:14:52.708Z"
   },
   {
    "duration": 11,
    "start_time": "2024-09-14T16:14:52.720Z"
   },
   {
    "duration": 9,
    "start_time": "2024-09-14T16:14:52.733Z"
   },
   {
    "duration": 30,
    "start_time": "2024-09-14T16:14:52.745Z"
   },
   {
    "duration": 28,
    "start_time": "2024-09-14T16:14:52.777Z"
   },
   {
    "duration": 17,
    "start_time": "2024-09-14T16:14:52.807Z"
   },
   {
    "duration": 13,
    "start_time": "2024-09-14T16:14:52.827Z"
   },
   {
    "duration": 14,
    "start_time": "2024-09-14T16:15:43.524Z"
   },
   {
    "duration": 14,
    "start_time": "2024-09-14T16:15:45.698Z"
   },
   {
    "duration": 52,
    "start_time": "2024-09-14T16:38:50.020Z"
   },
   {
    "duration": 8278,
    "start_time": "2024-09-14T16:38:58.361Z"
   },
   {
    "duration": 144,
    "start_time": "2024-09-14T16:39:06.642Z"
   },
   {
    "duration": 56,
    "start_time": "2024-09-14T16:39:06.790Z"
   },
   {
    "duration": 59,
    "start_time": "2024-09-14T16:39:06.848Z"
   },
   {
    "duration": 57,
    "start_time": "2024-09-14T16:39:06.909Z"
   },
   {
    "duration": 54,
    "start_time": "2024-09-14T16:39:06.973Z"
   },
   {
    "duration": 100,
    "start_time": "2024-09-14T16:39:07.029Z"
   },
   {
    "duration": 58,
    "start_time": "2024-09-14T16:39:07.131Z"
   },
   {
    "duration": 58,
    "start_time": "2024-09-14T16:39:07.191Z"
   },
   {
    "duration": 60,
    "start_time": "2024-09-14T16:39:07.251Z"
   },
   {
    "duration": 56,
    "start_time": "2024-09-14T16:40:02.992Z"
   },
   {
    "duration": 61,
    "start_time": "2024-09-14T16:41:13.115Z"
   },
   {
    "duration": 101,
    "start_time": "2024-09-14T16:46:48.745Z"
   },
   {
    "duration": 43,
    "start_time": "2024-09-14T16:46:53.394Z"
   },
   {
    "duration": 144,
    "start_time": "2024-09-14T16:47:16.933Z"
   },
   {
    "duration": 59,
    "start_time": "2024-09-14T16:48:24.042Z"
   },
   {
    "duration": 57,
    "start_time": "2024-09-14T16:53:17.285Z"
   },
   {
    "duration": 74,
    "start_time": "2024-09-14T16:53:31.578Z"
   },
   {
    "duration": 65,
    "start_time": "2024-09-14T16:59:47.605Z"
   },
   {
    "duration": 121,
    "start_time": "2024-09-14T16:59:55.917Z"
   },
   {
    "duration": 144,
    "start_time": "2024-09-14T17:00:58.476Z"
   },
   {
    "duration": 59,
    "start_time": "2024-09-14T17:01:16.231Z"
   },
   {
    "duration": 8198,
    "start_time": "2024-09-15T06:26:59.320Z"
   },
   {
    "duration": 125,
    "start_time": "2024-09-15T06:27:07.520Z"
   },
   {
    "duration": 121,
    "start_time": "2024-09-15T06:27:07.647Z"
   },
   {
    "duration": 51,
    "start_time": "2024-09-15T06:27:07.770Z"
   },
   {
    "duration": 83,
    "start_time": "2024-09-15T06:27:07.823Z"
   },
   {
    "duration": 53,
    "start_time": "2024-09-15T06:27:07.907Z"
   },
   {
    "duration": 87,
    "start_time": "2024-09-15T06:27:07.961Z"
   },
   {
    "duration": 50,
    "start_time": "2024-09-15T06:27:08.049Z"
   },
   {
    "duration": 53,
    "start_time": "2024-09-15T06:27:08.100Z"
   },
   {
    "duration": 53,
    "start_time": "2024-09-15T06:27:08.154Z"
   },
   {
    "duration": 51,
    "start_time": "2024-09-15T06:27:08.208Z"
   }
  ],
  "kernelspec": {
   "display_name": "Python 3 (ipykernel)",
   "language": "python",
   "name": "python3"
  },
  "language_info": {
   "codemirror_mode": {
    "name": "ipython",
    "version": 3
   },
   "file_extension": ".py",
   "mimetype": "text/x-python",
   "name": "python",
   "nbconvert_exporter": "python",
   "pygments_lexer": "ipython3",
   "version": "3.11.8"
  },
  "toc": {
   "base_numbering": 1,
   "nav_menu": {},
   "number_sections": true,
   "sideBar": true,
   "skip_h1_title": true,
   "title_cell": "Table of Contents",
   "title_sidebar": "Contents",
   "toc_cell": false,
   "toc_position": {
    "height": "calc(100% - 180px)",
    "left": "10px",
    "top": "150px",
    "width": "209.4px"
   },
   "toc_section_display": true,
   "toc_window_display": true
  }
 },
 "nbformat": 4,
 "nbformat_minor": 2
}
