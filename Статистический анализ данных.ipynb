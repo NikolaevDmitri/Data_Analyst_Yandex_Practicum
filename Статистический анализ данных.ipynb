{
 "cells": [
  {
   "cell_type": "markdown",
   "id": "0fdd9def",
   "metadata": {},
   "source": [
    "# Проект: Статистический анализ данных  \n",
    "\n",
    "Мы аналитики популярного сервиса аренды самокатов GoFast. Нам передали данные о некоторых пользователях из нескольких городов, а также об их поездках. Проанализируем данные и проверим некоторые гипотезы, которые могут помочь бизнесу вырасти. \n",
    "  \n",
    "Сначала мы проведём предобработку данных, изменив типы столбцов, где это необходимо, а также проверив и обработав пропущенные значения и дубликаты. Затем проведём исследовательский анализ данных, изучив частоту встречаемости городов, соотношения пользователей с подпиской и без, их возраст, расстояние и время их поездок. Зачем объединим все данные в один датафрейм, чтобы собрать всю информацию по пользователям для дальнейшего анализа, в частности подсчёта ежемесячной выручки. И в конце проверим гипотезы, которые помогут менеждерам увеличить число пользователей с подпиской."
   ]
  },
  {
   "cell_type": "markdown",
   "id": "e36c4cac",
   "metadata": {},
   "source": [
    "Импортируем необходимые для проекта библиотеки"
   ]
  },
  {
   "cell_type": "code",
   "execution_count": 1,
   "id": "4e46ea88",
   "metadata": {},
   "outputs": [],
   "source": [
    "import pandas as pd\n",
    "import matplotlib.pyplot as plt\n",
    "from scipy import stats as st\n",
    "import numpy as np\n",
    "\n",
    "from scipy.stats import binom\n",
    "from math import sqrt"
   ]
  },
  {
   "cell_type": "markdown",
   "id": "b098dae8",
   "metadata": {},
   "source": [
    "## Загрузка данных"
   ]
  },
  {
   "cell_type": "markdown",
   "id": "fb8104f6",
   "metadata": {},
   "source": [
    "Считываем CSV-файлы с исходными данными и сохраняем их в датафреймы.  \n",
    "  \n",
    "У нас есть информация о пользователях, их поездках и подписках.  \n",
    "Выведем первые строки каждого набора данных и изучим общую информацию о каждом датафрейме.\n",
    "\n",
    "**Информация о пользователях:**"
   ]
  },
  {
   "cell_type": "code",
   "execution_count": 2,
   "id": "b5399daf",
   "metadata": {
    "scrolled": false
   },
   "outputs": [
    {
     "name": "stdout",
     "output_type": "stream",
     "text": [
      "<class 'pandas.core.frame.DataFrame'>\n",
      "RangeIndex: 1565 entries, 0 to 1564\n",
      "Data columns (total 5 columns):\n",
      " #   Column             Non-Null Count  Dtype \n",
      "---  ------             --------------  ----- \n",
      " 0   user_id            1565 non-null   int64 \n",
      " 1   name               1565 non-null   object\n",
      " 2   age                1565 non-null   int64 \n",
      " 3   city               1565 non-null   object\n",
      " 4   subscription_type  1565 non-null   object\n",
      "dtypes: int64(2), object(3)\n",
      "memory usage: 61.3+ KB\n"
     ]
    }
   ],
   "source": [
    "users = pd.read_csv('/Users/dmitrynikolaev/Documents/datasets/users_go.csv')\n",
    "users.info()"
   ]
  },
  {
   "cell_type": "markdown",
   "id": "95ad2c6d",
   "metadata": {},
   "source": [
    "Столбцы: user_id - уникальный идентификатор пользователя, name - имя пользователя, age - возраст, city - город, subscription_type - тип подписки (free, ultra).  \n",
    "1565 строк, пропущенных значений нет"
   ]
  },
  {
   "cell_type": "code",
   "execution_count": 3,
   "id": "fcf60c33",
   "metadata": {},
   "outputs": [
    {
     "data": {
      "text/html": [
       "<div>\n",
       "<style scoped>\n",
       "    .dataframe tbody tr th:only-of-type {\n",
       "        vertical-align: middle;\n",
       "    }\n",
       "\n",
       "    .dataframe tbody tr th {\n",
       "        vertical-align: top;\n",
       "    }\n",
       "\n",
       "    .dataframe thead th {\n",
       "        text-align: right;\n",
       "    }\n",
       "</style>\n",
       "<table border=\"1\" class=\"dataframe\">\n",
       "  <thead>\n",
       "    <tr style=\"text-align: right;\">\n",
       "      <th></th>\n",
       "      <th>user_id</th>\n",
       "      <th>name</th>\n",
       "      <th>age</th>\n",
       "      <th>city</th>\n",
       "      <th>subscription_type</th>\n",
       "    </tr>\n",
       "  </thead>\n",
       "  <tbody>\n",
       "    <tr>\n",
       "      <th>0</th>\n",
       "      <td>1</td>\n",
       "      <td>Кира</td>\n",
       "      <td>22</td>\n",
       "      <td>Тюмень</td>\n",
       "      <td>ultra</td>\n",
       "    </tr>\n",
       "    <tr>\n",
       "      <th>1</th>\n",
       "      <td>2</td>\n",
       "      <td>Станислав</td>\n",
       "      <td>31</td>\n",
       "      <td>Омск</td>\n",
       "      <td>ultra</td>\n",
       "    </tr>\n",
       "    <tr>\n",
       "      <th>2</th>\n",
       "      <td>3</td>\n",
       "      <td>Алексей</td>\n",
       "      <td>20</td>\n",
       "      <td>Москва</td>\n",
       "      <td>ultra</td>\n",
       "    </tr>\n",
       "    <tr>\n",
       "      <th>3</th>\n",
       "      <td>4</td>\n",
       "      <td>Константин</td>\n",
       "      <td>26</td>\n",
       "      <td>Ростов-на-Дону</td>\n",
       "      <td>ultra</td>\n",
       "    </tr>\n",
       "    <tr>\n",
       "      <th>4</th>\n",
       "      <td>5</td>\n",
       "      <td>Адель</td>\n",
       "      <td>28</td>\n",
       "      <td>Омск</td>\n",
       "      <td>ultra</td>\n",
       "    </tr>\n",
       "    <tr>\n",
       "      <th>5</th>\n",
       "      <td>6</td>\n",
       "      <td>Регина</td>\n",
       "      <td>25</td>\n",
       "      <td>Краснодар</td>\n",
       "      <td>ultra</td>\n",
       "    </tr>\n",
       "    <tr>\n",
       "      <th>6</th>\n",
       "      <td>7</td>\n",
       "      <td>Игорь</td>\n",
       "      <td>23</td>\n",
       "      <td>Омск</td>\n",
       "      <td>ultra</td>\n",
       "    </tr>\n",
       "    <tr>\n",
       "      <th>7</th>\n",
       "      <td>8</td>\n",
       "      <td>Юрий</td>\n",
       "      <td>23</td>\n",
       "      <td>Краснодар</td>\n",
       "      <td>ultra</td>\n",
       "    </tr>\n",
       "    <tr>\n",
       "      <th>8</th>\n",
       "      <td>9</td>\n",
       "      <td>Ян</td>\n",
       "      <td>21</td>\n",
       "      <td>Пятигорск</td>\n",
       "      <td>ultra</td>\n",
       "    </tr>\n",
       "    <tr>\n",
       "      <th>9</th>\n",
       "      <td>10</td>\n",
       "      <td>Валерий</td>\n",
       "      <td>18</td>\n",
       "      <td>Екатеринбург</td>\n",
       "      <td>ultra</td>\n",
       "    </tr>\n",
       "  </tbody>\n",
       "</table>\n",
       "</div>"
      ],
      "text/plain": [
       "   user_id        name  age            city subscription_type\n",
       "0        1        Кира   22          Тюмень             ultra\n",
       "1        2   Станислав   31            Омск             ultra\n",
       "2        3     Алексей   20          Москва             ultra\n",
       "3        4  Константин   26  Ростов-на-Дону             ultra\n",
       "4        5       Адель   28            Омск             ultra\n",
       "5        6      Регина   25       Краснодар             ultra\n",
       "6        7       Игорь   23            Омск             ultra\n",
       "7        8        Юрий   23       Краснодар             ultra\n",
       "8        9          Ян   21       Пятигорск             ultra\n",
       "9       10     Валерий   18    Екатеринбург             ultra"
      ]
     },
     "execution_count": 3,
     "metadata": {},
     "output_type": "execute_result"
    }
   ],
   "source": [
    "users.head(10)"
   ]
  },
  {
   "cell_type": "markdown",
   "id": "a7d2f0f1",
   "metadata": {},
   "source": [
    "---\n",
    "**Информация о поездках:**"
   ]
  },
  {
   "cell_type": "code",
   "execution_count": 4,
   "id": "2b29e14a",
   "metadata": {},
   "outputs": [
    {
     "name": "stdout",
     "output_type": "stream",
     "text": [
      "<class 'pandas.core.frame.DataFrame'>\n",
      "RangeIndex: 18068 entries, 0 to 18067\n",
      "Data columns (total 4 columns):\n",
      " #   Column    Non-Null Count  Dtype  \n",
      "---  ------    --------------  -----  \n",
      " 0   user_id   18068 non-null  int64  \n",
      " 1   distance  18068 non-null  float64\n",
      " 2   duration  18068 non-null  float64\n",
      " 3   date      18068 non-null  object \n",
      "dtypes: float64(2), int64(1), object(1)\n",
      "memory usage: 564.8+ KB\n"
     ]
    }
   ],
   "source": [
    "rides = pd.read_csv('/Users/dmitrynikolaev/Documents/datasets/rides_go.csv')\n",
    "rides.info()"
   ]
  },
  {
   "cell_type": "markdown",
   "id": "da68f4fa",
   "metadata": {},
   "source": [
    "Столбцы: user_id - уникальный идентификатор пользователя, distance - расстояние, которое пользователь проехал в текущей сессии (в метрах), duration - продолжительность сессии в минутах, date - дата совершения поездки (этот столбец позже приведём к datetime).  \n",
    "18068 строк, пропущенных значений нет"
   ]
  },
  {
   "cell_type": "code",
   "execution_count": 5,
   "id": "c319c242",
   "metadata": {},
   "outputs": [
    {
     "data": {
      "text/html": [
       "<div>\n",
       "<style scoped>\n",
       "    .dataframe tbody tr th:only-of-type {\n",
       "        vertical-align: middle;\n",
       "    }\n",
       "\n",
       "    .dataframe tbody tr th {\n",
       "        vertical-align: top;\n",
       "    }\n",
       "\n",
       "    .dataframe thead th {\n",
       "        text-align: right;\n",
       "    }\n",
       "</style>\n",
       "<table border=\"1\" class=\"dataframe\">\n",
       "  <thead>\n",
       "    <tr style=\"text-align: right;\">\n",
       "      <th></th>\n",
       "      <th>user_id</th>\n",
       "      <th>distance</th>\n",
       "      <th>duration</th>\n",
       "      <th>date</th>\n",
       "    </tr>\n",
       "  </thead>\n",
       "  <tbody>\n",
       "    <tr>\n",
       "      <th>0</th>\n",
       "      <td>1</td>\n",
       "      <td>4409.919140</td>\n",
       "      <td>25.599769</td>\n",
       "      <td>2021-01-01</td>\n",
       "    </tr>\n",
       "    <tr>\n",
       "      <th>1</th>\n",
       "      <td>1</td>\n",
       "      <td>2617.592153</td>\n",
       "      <td>15.816871</td>\n",
       "      <td>2021-01-18</td>\n",
       "    </tr>\n",
       "    <tr>\n",
       "      <th>2</th>\n",
       "      <td>1</td>\n",
       "      <td>754.159807</td>\n",
       "      <td>6.232113</td>\n",
       "      <td>2021-04-20</td>\n",
       "    </tr>\n",
       "    <tr>\n",
       "      <th>3</th>\n",
       "      <td>1</td>\n",
       "      <td>2694.783254</td>\n",
       "      <td>18.511000</td>\n",
       "      <td>2021-08-11</td>\n",
       "    </tr>\n",
       "    <tr>\n",
       "      <th>4</th>\n",
       "      <td>1</td>\n",
       "      <td>4028.687306</td>\n",
       "      <td>26.265803</td>\n",
       "      <td>2021-08-28</td>\n",
       "    </tr>\n",
       "    <tr>\n",
       "      <th>5</th>\n",
       "      <td>1</td>\n",
       "      <td>2770.890808</td>\n",
       "      <td>16.650138</td>\n",
       "      <td>2021-10-09</td>\n",
       "    </tr>\n",
       "    <tr>\n",
       "      <th>6</th>\n",
       "      <td>1</td>\n",
       "      <td>3039.020292</td>\n",
       "      <td>14.927879</td>\n",
       "      <td>2021-10-19</td>\n",
       "    </tr>\n",
       "    <tr>\n",
       "      <th>7</th>\n",
       "      <td>1</td>\n",
       "      <td>2842.118050</td>\n",
       "      <td>23.117468</td>\n",
       "      <td>2021-11-06</td>\n",
       "    </tr>\n",
       "    <tr>\n",
       "      <th>8</th>\n",
       "      <td>1</td>\n",
       "      <td>3412.690668</td>\n",
       "      <td>15.238072</td>\n",
       "      <td>2021-11-14</td>\n",
       "    </tr>\n",
       "    <tr>\n",
       "      <th>9</th>\n",
       "      <td>1</td>\n",
       "      <td>748.690645</td>\n",
       "      <td>15.041884</td>\n",
       "      <td>2021-11-22</td>\n",
       "    </tr>\n",
       "  </tbody>\n",
       "</table>\n",
       "</div>"
      ],
      "text/plain": [
       "   user_id     distance   duration        date\n",
       "0        1  4409.919140  25.599769  2021-01-01\n",
       "1        1  2617.592153  15.816871  2021-01-18\n",
       "2        1   754.159807   6.232113  2021-04-20\n",
       "3        1  2694.783254  18.511000  2021-08-11\n",
       "4        1  4028.687306  26.265803  2021-08-28\n",
       "5        1  2770.890808  16.650138  2021-10-09\n",
       "6        1  3039.020292  14.927879  2021-10-19\n",
       "7        1  2842.118050  23.117468  2021-11-06\n",
       "8        1  3412.690668  15.238072  2021-11-14\n",
       "9        1   748.690645  15.041884  2021-11-22"
      ]
     },
     "execution_count": 5,
     "metadata": {},
     "output_type": "execute_result"
    }
   ],
   "source": [
    "rides.head(10)"
   ]
  },
  {
   "cell_type": "markdown",
   "id": "a43dbed0",
   "metadata": {},
   "source": [
    "---\n",
    "**Информация о подписках:**"
   ]
  },
  {
   "cell_type": "code",
   "execution_count": 6,
   "id": "6b1ff454",
   "metadata": {},
   "outputs": [
    {
     "name": "stdout",
     "output_type": "stream",
     "text": [
      "<class 'pandas.core.frame.DataFrame'>\n",
      "RangeIndex: 2 entries, 0 to 1\n",
      "Data columns (total 4 columns):\n",
      " #   Column             Non-Null Count  Dtype \n",
      "---  ------             --------------  ----- \n",
      " 0   subscription_type  2 non-null      object\n",
      " 1   minute_price       2 non-null      int64 \n",
      " 2   start_ride_price   2 non-null      int64 \n",
      " 3   subscription_fee   2 non-null      int64 \n",
      "dtypes: int64(3), object(1)\n",
      "memory usage: 196.0+ bytes\n"
     ]
    }
   ],
   "source": [
    "subscriptions = pd.read_csv('/Users/dmitrynikolaev/Documents/datasets/subscriptions_go.csv')\n",
    "subscriptions.info()"
   ]
  },
  {
   "cell_type": "markdown",
   "id": "ca084f31",
   "metadata": {},
   "source": [
    "Столбцы: subscription_type - тип подписки, minute_price - стоимость одной минуты поездки по данной подписке, start_ride_price - стоимость начала поездки, subscription_fee - стоимость ежемесячного платежа.  \n",
    "2 строки, пропущенных значений нет"
   ]
  },
  {
   "cell_type": "code",
   "execution_count": 7,
   "id": "236d273a",
   "metadata": {},
   "outputs": [
    {
     "data": {
      "text/html": [
       "<div>\n",
       "<style scoped>\n",
       "    .dataframe tbody tr th:only-of-type {\n",
       "        vertical-align: middle;\n",
       "    }\n",
       "\n",
       "    .dataframe tbody tr th {\n",
       "        vertical-align: top;\n",
       "    }\n",
       "\n",
       "    .dataframe thead th {\n",
       "        text-align: right;\n",
       "    }\n",
       "</style>\n",
       "<table border=\"1\" class=\"dataframe\">\n",
       "  <thead>\n",
       "    <tr style=\"text-align: right;\">\n",
       "      <th></th>\n",
       "      <th>subscription_type</th>\n",
       "      <th>minute_price</th>\n",
       "      <th>start_ride_price</th>\n",
       "      <th>subscription_fee</th>\n",
       "    </tr>\n",
       "  </thead>\n",
       "  <tbody>\n",
       "    <tr>\n",
       "      <th>0</th>\n",
       "      <td>free</td>\n",
       "      <td>8</td>\n",
       "      <td>50</td>\n",
       "      <td>0</td>\n",
       "    </tr>\n",
       "    <tr>\n",
       "      <th>1</th>\n",
       "      <td>ultra</td>\n",
       "      <td>6</td>\n",
       "      <td>0</td>\n",
       "      <td>199</td>\n",
       "    </tr>\n",
       "  </tbody>\n",
       "</table>\n",
       "</div>"
      ],
      "text/plain": [
       "  subscription_type  minute_price  start_ride_price  subscription_fee\n",
       "0              free             8                50                 0\n",
       "1             ultra             6                 0               199"
      ]
     },
     "execution_count": 7,
     "metadata": {},
     "output_type": "execute_result"
    }
   ],
   "source": [
    "subscriptions"
   ]
  },
  {
   "cell_type": "markdown",
   "id": "8ef7631f",
   "metadata": {},
   "source": [
    "С данными познакомились, приступим к предобработке."
   ]
  },
  {
   "cell_type": "markdown",
   "id": "1deca0a3",
   "metadata": {},
   "source": [
    "## Предобработка данных"
   ]
  },
  {
   "cell_type": "markdown",
   "id": "060703ff",
   "metadata": {},
   "source": [
    "### Приведём столбец date к типу даты pandas"
   ]
  },
  {
   "cell_type": "code",
   "execution_count": 8,
   "id": "0824e18d",
   "metadata": {},
   "outputs": [
    {
     "name": "stdout",
     "output_type": "stream",
     "text": [
      "<class 'pandas.core.frame.DataFrame'>\n",
      "RangeIndex: 18068 entries, 0 to 18067\n",
      "Data columns (total 4 columns):\n",
      " #   Column    Non-Null Count  Dtype         \n",
      "---  ------    --------------  -----         \n",
      " 0   user_id   18068 non-null  int64         \n",
      " 1   distance  18068 non-null  float64       \n",
      " 2   duration  18068 non-null  float64       \n",
      " 3   date      18068 non-null  datetime64[ns]\n",
      "dtypes: datetime64[ns](1), float64(2), int64(1)\n",
      "memory usage: 564.8 KB\n"
     ]
    },
    {
     "data": {
      "text/html": [
       "<div>\n",
       "<style scoped>\n",
       "    .dataframe tbody tr th:only-of-type {\n",
       "        vertical-align: middle;\n",
       "    }\n",
       "\n",
       "    .dataframe tbody tr th {\n",
       "        vertical-align: top;\n",
       "    }\n",
       "\n",
       "    .dataframe thead th {\n",
       "        text-align: right;\n",
       "    }\n",
       "</style>\n",
       "<table border=\"1\" class=\"dataframe\">\n",
       "  <thead>\n",
       "    <tr style=\"text-align: right;\">\n",
       "      <th></th>\n",
       "      <th>user_id</th>\n",
       "      <th>distance</th>\n",
       "      <th>duration</th>\n",
       "      <th>date</th>\n",
       "    </tr>\n",
       "  </thead>\n",
       "  <tbody>\n",
       "    <tr>\n",
       "      <th>0</th>\n",
       "      <td>1</td>\n",
       "      <td>4409.919140</td>\n",
       "      <td>25.599769</td>\n",
       "      <td>2021-01-01</td>\n",
       "    </tr>\n",
       "    <tr>\n",
       "      <th>1</th>\n",
       "      <td>1</td>\n",
       "      <td>2617.592153</td>\n",
       "      <td>15.816871</td>\n",
       "      <td>2021-01-18</td>\n",
       "    </tr>\n",
       "    <tr>\n",
       "      <th>2</th>\n",
       "      <td>1</td>\n",
       "      <td>754.159807</td>\n",
       "      <td>6.232113</td>\n",
       "      <td>2021-04-20</td>\n",
       "    </tr>\n",
       "    <tr>\n",
       "      <th>3</th>\n",
       "      <td>1</td>\n",
       "      <td>2694.783254</td>\n",
       "      <td>18.511000</td>\n",
       "      <td>2021-08-11</td>\n",
       "    </tr>\n",
       "    <tr>\n",
       "      <th>4</th>\n",
       "      <td>1</td>\n",
       "      <td>4028.687306</td>\n",
       "      <td>26.265803</td>\n",
       "      <td>2021-08-28</td>\n",
       "    </tr>\n",
       "  </tbody>\n",
       "</table>\n",
       "</div>"
      ],
      "text/plain": [
       "   user_id     distance   duration       date\n",
       "0        1  4409.919140  25.599769 2021-01-01\n",
       "1        1  2617.592153  15.816871 2021-01-18\n",
       "2        1   754.159807   6.232113 2021-04-20\n",
       "3        1  2694.783254  18.511000 2021-08-11\n",
       "4        1  4028.687306  26.265803 2021-08-28"
      ]
     },
     "execution_count": 8,
     "metadata": {},
     "output_type": "execute_result"
    }
   ],
   "source": [
    "rides['date'] = pd.to_datetime(rides['date'], format='%Y-%m-%d')\n",
    "rides.info()\n",
    "rides.head()"
   ]
  },
  {
   "cell_type": "markdown",
   "id": "d1a4d727",
   "metadata": {},
   "source": [
    "### Создадим новый столбец с номером месяца на основе столбца date и проверим результат"
   ]
  },
  {
   "cell_type": "code",
   "execution_count": 9,
   "id": "59044aaf",
   "metadata": {},
   "outputs": [
    {
     "data": {
      "text/html": [
       "<div>\n",
       "<style scoped>\n",
       "    .dataframe tbody tr th:only-of-type {\n",
       "        vertical-align: middle;\n",
       "    }\n",
       "\n",
       "    .dataframe tbody tr th {\n",
       "        vertical-align: top;\n",
       "    }\n",
       "\n",
       "    .dataframe thead th {\n",
       "        text-align: right;\n",
       "    }\n",
       "</style>\n",
       "<table border=\"1\" class=\"dataframe\">\n",
       "  <thead>\n",
       "    <tr style=\"text-align: right;\">\n",
       "      <th></th>\n",
       "      <th>user_id</th>\n",
       "      <th>distance</th>\n",
       "      <th>duration</th>\n",
       "      <th>date</th>\n",
       "      <th>month</th>\n",
       "    </tr>\n",
       "  </thead>\n",
       "  <tbody>\n",
       "    <tr>\n",
       "      <th>0</th>\n",
       "      <td>1</td>\n",
       "      <td>4409.919140</td>\n",
       "      <td>25.599769</td>\n",
       "      <td>2021-01-01</td>\n",
       "      <td>1</td>\n",
       "    </tr>\n",
       "    <tr>\n",
       "      <th>1</th>\n",
       "      <td>1</td>\n",
       "      <td>2617.592153</td>\n",
       "      <td>15.816871</td>\n",
       "      <td>2021-01-18</td>\n",
       "      <td>1</td>\n",
       "    </tr>\n",
       "    <tr>\n",
       "      <th>2</th>\n",
       "      <td>1</td>\n",
       "      <td>754.159807</td>\n",
       "      <td>6.232113</td>\n",
       "      <td>2021-04-20</td>\n",
       "      <td>4</td>\n",
       "    </tr>\n",
       "    <tr>\n",
       "      <th>3</th>\n",
       "      <td>1</td>\n",
       "      <td>2694.783254</td>\n",
       "      <td>18.511000</td>\n",
       "      <td>2021-08-11</td>\n",
       "      <td>8</td>\n",
       "    </tr>\n",
       "    <tr>\n",
       "      <th>4</th>\n",
       "      <td>1</td>\n",
       "      <td>4028.687306</td>\n",
       "      <td>26.265803</td>\n",
       "      <td>2021-08-28</td>\n",
       "      <td>8</td>\n",
       "    </tr>\n",
       "  </tbody>\n",
       "</table>\n",
       "</div>"
      ],
      "text/plain": [
       "   user_id     distance   duration       date  month\n",
       "0        1  4409.919140  25.599769 2021-01-01      1\n",
       "1        1  2617.592153  15.816871 2021-01-18      1\n",
       "2        1   754.159807   6.232113 2021-04-20      4\n",
       "3        1  2694.783254  18.511000 2021-08-11      8\n",
       "4        1  4028.687306  26.265803 2021-08-28      8"
      ]
     },
     "execution_count": 9,
     "metadata": {},
     "output_type": "execute_result"
    }
   ],
   "source": [
    "rides['month'] = pd.DatetimeIndex(rides['date']).month\n",
    "rides.head()"
   ]
  },
  {
   "cell_type": "code",
   "execution_count": 10,
   "id": "70c7fd0d",
   "metadata": {},
   "outputs": [
    {
     "name": "stdout",
     "output_type": "stream",
     "text": [
      "Имеем данные по поездкам  за период с 2021-01-01 00:00:00 по 2021-12-30 00:00:00\n"
     ]
    }
   ],
   "source": [
    "print('Имеем данные по поездкам  за период с', rides['date'].min(), 'по', rides['date'].max())"
   ]
  },
  {
   "cell_type": "markdown",
   "id": "17777928",
   "metadata": {},
   "source": [
    "То есть за 12 месяцев 2021ого года."
   ]
  },
  {
   "cell_type": "markdown",
   "id": "1b8da24e",
   "metadata": {},
   "source": [
    "### Проверим наличие пропущенных значений и дубликатов в датафреймах. Обработаем их, если такие значения присутствуют  \n",
    "  \n",
    "Отсутствие пропусков проверили раньше, проверим дубликаты в данных по пользователям и по поездкам:"
   ]
  },
  {
   "cell_type": "code",
   "execution_count": 11,
   "id": "797f5aa1",
   "metadata": {
    "scrolled": true
   },
   "outputs": [
    {
     "data": {
      "text/plain": [
       "31"
      ]
     },
     "execution_count": 11,
     "metadata": {},
     "output_type": "execute_result"
    }
   ],
   "source": [
    "users.duplicated().sum()"
   ]
  },
  {
   "cell_type": "markdown",
   "id": "a41ffa96",
   "metadata": {},
   "source": [
    "В таблице с пользователями есть дубликаты, удалим их и проверим размер обновлённой таблицы"
   ]
  },
  {
   "cell_type": "code",
   "execution_count": 12,
   "id": "a2920f08",
   "metadata": {},
   "outputs": [
    {
     "data": {
      "text/plain": [
       "(1534, 5)"
      ]
     },
     "execution_count": 12,
     "metadata": {},
     "output_type": "execute_result"
    }
   ],
   "source": [
    "users = users.drop_duplicates()\n",
    "users.shape"
   ]
  },
  {
   "cell_type": "code",
   "execution_count": 13,
   "id": "c6d18c24",
   "metadata": {
    "scrolled": true
   },
   "outputs": [
    {
     "data": {
      "text/plain": [
       "0"
      ]
     },
     "execution_count": 13,
     "metadata": {},
     "output_type": "execute_result"
    }
   ],
   "source": [
    "rides.duplicated().sum()"
   ]
  },
  {
   "cell_type": "markdown",
   "id": "512b5476",
   "metadata": {},
   "source": [
    "В итоге в таблице с данными по пользователям удалили 31 дубликат, в информации по поездкам дубликатов нет."
   ]
  },
  {
   "cell_type": "markdown",
   "id": "ad92ac67",
   "metadata": {},
   "source": [
    "## Исследовательский анализ данных"
   ]
  },
  {
   "cell_type": "markdown",
   "id": "2750294b",
   "metadata": {},
   "source": [
    "**Опишем и визуализируем общую информацию о пользователях и поездках:** "
   ]
  },
  {
   "cell_type": "markdown",
   "id": "fc0bb2db",
   "metadata": {},
   "source": [
    "### Частота встречаемости городов"
   ]
  },
  {
   "cell_type": "code",
   "execution_count": 14,
   "id": "657682c8",
   "metadata": {
    "scrolled": true
   },
   "outputs": [
    {
     "data": {
      "text/plain": [
       "city\n",
       "Пятигорск         219\n",
       "Екатеринбург      204\n",
       "Ростов-на-Дону    198\n",
       "Краснодар         193\n",
       "Сочи              189\n",
       "Омск              183\n",
       "Тюмень            180\n",
       "Москва            168\n",
       "Name: count, dtype: int64"
      ]
     },
     "execution_count": 14,
     "metadata": {},
     "output_type": "execute_result"
    }
   ],
   "source": [
    "users['city'].value_counts()"
   ]
  },
  {
   "cell_type": "code",
   "execution_count": 15,
   "id": "92528c07",
   "metadata": {
    "scrolled": true
   },
   "outputs": [
    {
     "data": {
      "image/png": "[encoded data removed]",
      "text/plain": [
       "<Figure size 1000x600 with 1 Axes>"
      ]
     },
     "metadata": {},
     "output_type": "display_data"
    }
   ],
   "source": [
    "users['city'].value_counts().sort_values(ascending=True).plot.barh(figsize=(10,6), grid=True)\n",
    "plt.title(\"Частота встречаемости городов\")\n",
    "plt.xlabel(\"Количество городов\")\n",
    "plt.ylabel(\"Города\")\n",
    "plt.show()"
   ]
  },
  {
   "cell_type": "markdown",
   "id": "f90ef1fb",
   "metadata": {},
   "source": [
    "По сводной таблице и диаграмме видим, что в данных представлено 8 городов, чаще встречается Пятигорск и Екатеринбург, реже Тюмень и Москва. Но в целом разброс между всеми городами небольшой, около 50 пользователей."
   ]
  },
  {
   "cell_type": "markdown",
   "id": "ec1ccffb",
   "metadata": {},
   "source": [
    "### Cоотношение пользователей с подпиской и без подписки"
   ]
  },
  {
   "cell_type": "code",
   "execution_count": 16,
   "id": "f735cdc5",
   "metadata": {},
   "outputs": [
    {
     "data": {
      "text/plain": [
       "subscription_type\n",
       "free     835\n",
       "ultra    699\n",
       "Name: count, dtype: int64"
      ]
     },
     "execution_count": 16,
     "metadata": {},
     "output_type": "execute_result"
    }
   ],
   "source": [
    "users['subscription_type'].value_counts() "
   ]
  },
  {
   "cell_type": "code",
   "execution_count": 17,
   "id": "39dce494",
   "metadata": {},
   "outputs": [
    {
     "data": {
      "image/png": "[encoded data removed]",
      "text/plain": [
       "<Figure size 800x800 with 1 Axes>"
      ]
     },
     "metadata": {},
     "output_type": "display_data"
    }
   ],
   "source": [
    "users['subscription_type'].value_counts().plot(kind='pie', figsize=(8,8), autopct='%1.0f%%')\n",
    "plt.legend(['без подписки','с подпиской'])\n",
    "plt.title(\"Соотношение пользователей\")\n",
    "plt.show()"
   ]
  },
  {
   "cell_type": "markdown",
   "id": "9c44dd25",
   "metadata": {},
   "source": [
    "Пользователей без подписки немного больше, чем с ней - 54% против 46%."
   ]
  },
  {
   "cell_type": "markdown",
   "id": "009d0e53",
   "metadata": {},
   "source": [
    "### Возраст пользователей"
   ]
  },
  {
   "cell_type": "code",
   "execution_count": 18,
   "id": "9d3992bc",
   "metadata": {},
   "outputs": [
    {
     "data": {
      "text/plain": [
       "age\n",
       "25    145\n",
       "24    132\n",
       "26    131\n",
       "23    129\n",
       "22    119\n",
       "27    119\n",
       "28    112\n",
       "21     93\n",
       "20     71\n",
       "30     68\n",
       "29     68\n",
       "31     48\n",
       "19     47\n",
       "18     46\n",
       "32     41\n",
       "33     39\n",
       "17     26\n",
       "16     19\n",
       "34     19\n",
       "35     15\n",
       "15     13\n",
       "14      9\n",
       "13      8\n",
       "36      6\n",
       "12      4\n",
       "38      3\n",
       "37      2\n",
       "39      1\n",
       "43      1\n",
       "Name: count, dtype: int64"
      ]
     },
     "execution_count": 18,
     "metadata": {},
     "output_type": "execute_result"
    }
   ],
   "source": [
    "users['age'].value_counts()"
   ]
  },
  {
   "cell_type": "code",
   "execution_count": 19,
   "id": "e0212bec",
   "metadata": {},
   "outputs": [
    {
     "data": {
      "image/png": "[encoded data removed]",
      "text/plain": [
       "<Figure size 1500x800 with 1 Axes>"
      ]
     },
     "metadata": {},
     "output_type": "display_data"
    }
   ],
   "source": [
    "users['age'].hist(bins=31, figsize=(15,8))\n",
    "plt.title(\"Возраст пользователей\")\n",
    "plt.xlabel(\"Возраст\")\n",
    "plt.ylabel(\"Частота встречаемости\")\n",
    "plt.show()"
   ]
  },
  {
   "cell_type": "code",
   "execution_count": 20,
   "id": "10d3da90",
   "metadata": {},
   "outputs": [
    {
     "data": {
      "text/plain": [
       "count    1534.000000\n",
       "mean       24.903520\n",
       "std         4.572367\n",
       "min        12.000000\n",
       "25%        22.000000\n",
       "50%        25.000000\n",
       "75%        28.000000\n",
       "max        43.000000\n",
       "Name: age, dtype: float64"
      ]
     },
     "execution_count": 20,
     "metadata": {},
     "output_type": "execute_result"
    }
   ],
   "source": [
    "users['age'].describe()"
   ]
  },
  {
   "cell_type": "markdown",
   "id": "49fee916",
   "metadata": {},
   "source": [
    "Больше всего пользователей около 25 лет и в целом молодёжи от 20 до 30 лет, минимальный возраст 12 лет, максимальный 43."
   ]
  },
  {
   "cell_type": "markdown",
   "id": "3a4278f3",
   "metadata": {},
   "source": [
    "### Расстояние, которое пользователь преодолел за одну поездку"
   ]
  },
  {
   "cell_type": "code",
   "execution_count": 21,
   "id": "b1f3a440",
   "metadata": {},
   "outputs": [
    {
     "data": {
      "image/png": "[encoded data removed]",
      "text/plain": [
       "<Figure size 1500x800 with 1 Axes>"
      ]
     },
     "metadata": {},
     "output_type": "display_data"
    }
   ],
   "source": [
    "rides['distance'].hist(bins=70, figsize=(15,8))\n",
    "plt.title(\"Дистанция поездок\")\n",
    "plt.xlabel(\"Расстояние\")\n",
    "plt.ylabel(\"Частота встречаемости\")\n",
    "plt.show()"
   ]
  },
  {
   "cell_type": "markdown",
   "id": "70ab8b18",
   "metadata": {},
   "source": [
    "Видим, что немного популярны короткие поездки на 600-700 метров, а самые распространённые - около 3х километров. Можно предположить, что короткие поездки совершают для пересадки на другой транспорт, например на метро, или для поездок по району, а длинные поездки это уже, скажем так, от и до, без пересадок."
   ]
  },
  {
   "cell_type": "markdown",
   "id": "c51417eb",
   "metadata": {},
   "source": [
    "### Продолжительность поездок"
   ]
  },
  {
   "cell_type": "code",
   "execution_count": 22,
   "id": "af3fd593",
   "metadata": {},
   "outputs": [
    {
     "data": {
      "image/png": "[encoded data removed]",
      "text/plain": [
       "<Figure size 1500x800 with 1 Axes>"
      ]
     },
     "metadata": {},
     "output_type": "display_data"
    }
   ],
   "source": [
    "rides['duration'].hist(bins=43, figsize=(15,8))\n",
    "plt.title(\"Продолжительность поездок\")\n",
    "plt.xlabel(\"Минуты\")\n",
    "plt.ylabel(\"Частота встречаемости\")\n",
    "plt.show()"
   ]
  },
  {
   "cell_type": "markdown",
   "id": "acc57d8b",
   "metadata": {},
   "source": [
    "Чаще всего самокаты арендуют для поездок на 15-20 минут. Пик около нулевого значения опишем позже, когда разделим пользователей по типу подписки."
   ]
  },
  {
   "cell_type": "markdown",
   "id": "da5678b6",
   "metadata": {},
   "source": [
    "## Объединение данных"
   ]
  },
  {
   "cell_type": "markdown",
   "id": "20248228",
   "metadata": {},
   "source": [
    "### Объединим данные о пользователях, поездках и подписках в один датафрейм. "
   ]
  },
  {
   "cell_type": "code",
   "execution_count": 23,
   "id": "f54e7b2f",
   "metadata": {},
   "outputs": [
    {
     "name": "stdout",
     "output_type": "stream",
     "text": [
      "<class 'pandas.core.frame.DataFrame'>\n",
      "RangeIndex: 18068 entries, 0 to 18067\n",
      "Data columns (total 12 columns):\n",
      " #   Column             Non-Null Count  Dtype         \n",
      "---  ------             --------------  -----         \n",
      " 0   user_id            18068 non-null  int64         \n",
      " 1   name               18068 non-null  object        \n",
      " 2   age                18068 non-null  int64         \n",
      " 3   city               18068 non-null  object        \n",
      " 4   subscription_type  18068 non-null  object        \n",
      " 5   distance           18068 non-null  float64       \n",
      " 6   duration           18068 non-null  float64       \n",
      " 7   date               18068 non-null  datetime64[ns]\n",
      " 8   month              18068 non-null  int32         \n",
      " 9   minute_price       18068 non-null  int64         \n",
      " 10  start_ride_price   18068 non-null  int64         \n",
      " 11  subscription_fee   18068 non-null  int64         \n",
      "dtypes: datetime64[ns](1), float64(2), int32(1), int64(5), object(3)\n",
      "memory usage: 1.6+ MB\n"
     ]
    },
    {
     "data": {
      "text/html": [
       "<div>\n",
       "<style scoped>\n",
       "    .dataframe tbody tr th:only-of-type {\n",
       "        vertical-align: middle;\n",
       "    }\n",
       "\n",
       "    .dataframe tbody tr th {\n",
       "        vertical-align: top;\n",
       "    }\n",
       "\n",
       "    .dataframe thead th {\n",
       "        text-align: right;\n",
       "    }\n",
       "</style>\n",
       "<table border=\"1\" class=\"dataframe\">\n",
       "  <thead>\n",
       "    <tr style=\"text-align: right;\">\n",
       "      <th></th>\n",
       "      <th>user_id</th>\n",
       "      <th>name</th>\n",
       "      <th>age</th>\n",
       "      <th>city</th>\n",
       "      <th>subscription_type</th>\n",
       "      <th>distance</th>\n",
       "      <th>duration</th>\n",
       "      <th>date</th>\n",
       "      <th>month</th>\n",
       "      <th>minute_price</th>\n",
       "      <th>start_ride_price</th>\n",
       "      <th>subscription_fee</th>\n",
       "    </tr>\n",
       "  </thead>\n",
       "  <tbody>\n",
       "    <tr>\n",
       "      <th>0</th>\n",
       "      <td>1</td>\n",
       "      <td>Кира</td>\n",
       "      <td>22</td>\n",
       "      <td>Тюмень</td>\n",
       "      <td>ultra</td>\n",
       "      <td>4409.919140</td>\n",
       "      <td>25.599769</td>\n",
       "      <td>2021-01-01</td>\n",
       "      <td>1</td>\n",
       "      <td>6</td>\n",
       "      <td>0</td>\n",
       "      <td>199</td>\n",
       "    </tr>\n",
       "    <tr>\n",
       "      <th>1</th>\n",
       "      <td>1</td>\n",
       "      <td>Кира</td>\n",
       "      <td>22</td>\n",
       "      <td>Тюмень</td>\n",
       "      <td>ultra</td>\n",
       "      <td>2617.592153</td>\n",
       "      <td>15.816871</td>\n",
       "      <td>2021-01-18</td>\n",
       "      <td>1</td>\n",
       "      <td>6</td>\n",
       "      <td>0</td>\n",
       "      <td>199</td>\n",
       "    </tr>\n",
       "    <tr>\n",
       "      <th>2</th>\n",
       "      <td>1</td>\n",
       "      <td>Кира</td>\n",
       "      <td>22</td>\n",
       "      <td>Тюмень</td>\n",
       "      <td>ultra</td>\n",
       "      <td>754.159807</td>\n",
       "      <td>6.232113</td>\n",
       "      <td>2021-04-20</td>\n",
       "      <td>4</td>\n",
       "      <td>6</td>\n",
       "      <td>0</td>\n",
       "      <td>199</td>\n",
       "    </tr>\n",
       "    <tr>\n",
       "      <th>3</th>\n",
       "      <td>1</td>\n",
       "      <td>Кира</td>\n",
       "      <td>22</td>\n",
       "      <td>Тюмень</td>\n",
       "      <td>ultra</td>\n",
       "      <td>2694.783254</td>\n",
       "      <td>18.511000</td>\n",
       "      <td>2021-08-11</td>\n",
       "      <td>8</td>\n",
       "      <td>6</td>\n",
       "      <td>0</td>\n",
       "      <td>199</td>\n",
       "    </tr>\n",
       "    <tr>\n",
       "      <th>4</th>\n",
       "      <td>1</td>\n",
       "      <td>Кира</td>\n",
       "      <td>22</td>\n",
       "      <td>Тюмень</td>\n",
       "      <td>ultra</td>\n",
       "      <td>4028.687306</td>\n",
       "      <td>26.265803</td>\n",
       "      <td>2021-08-28</td>\n",
       "      <td>8</td>\n",
       "      <td>6</td>\n",
       "      <td>0</td>\n",
       "      <td>199</td>\n",
       "    </tr>\n",
       "  </tbody>\n",
       "</table>\n",
       "</div>"
      ],
      "text/plain": [
       "   user_id  name  age    city subscription_type     distance   duration  \\\n",
       "0        1  Кира   22  Тюмень             ultra  4409.919140  25.599769   \n",
       "1        1  Кира   22  Тюмень             ultra  2617.592153  15.816871   \n",
       "2        1  Кира   22  Тюмень             ultra   754.159807   6.232113   \n",
       "3        1  Кира   22  Тюмень             ultra  2694.783254  18.511000   \n",
       "4        1  Кира   22  Тюмень             ultra  4028.687306  26.265803   \n",
       "\n",
       "        date  month  minute_price  start_ride_price  subscription_fee  \n",
       "0 2021-01-01      1             6                 0               199  \n",
       "1 2021-01-18      1             6                 0               199  \n",
       "2 2021-04-20      4             6                 0               199  \n",
       "3 2021-08-11      8             6                 0               199  \n",
       "4 2021-08-28      8             6                 0               199  "
      ]
     },
     "execution_count": 23,
     "metadata": {},
     "output_type": "execute_result"
    }
   ],
   "source": [
    "data = users.merge(rides, on='user_id', how='left')\n",
    "data = data.merge(subscriptions, on='subscription_type', how='left')\n",
    "data.info()\n",
    "data.head()"
   ]
  },
  {
   "cell_type": "markdown",
   "id": "daa723a4",
   "metadata": {},
   "source": [
    "Получили одну большую таблицу с информацией о пользователях, их поездках и подписке.  \n",
    "Количество строк в новой таблице такое же, как в исходной, ничего не потеряли и лишнего не добавили, пропусков нет."
   ]
  },
  {
   "cell_type": "markdown",
   "id": "3919bea5",
   "metadata": {},
   "source": [
    "### Создадим ещё два датафрейма из датафрейма, созданного на предыдущем этапе:\n",
    "c данными о пользователях без подписки и с данными о пользователях с подпиской"
   ]
  },
  {
   "cell_type": "code",
   "execution_count": 24,
   "id": "b9e91fb0",
   "metadata": {},
   "outputs": [
    {
     "name": "stdout",
     "output_type": "stream",
     "text": [
      "<class 'pandas.core.frame.DataFrame'>\n",
      "RangeIndex: 11568 entries, 0 to 11567\n",
      "Data columns (total 12 columns):\n",
      " #   Column             Non-Null Count  Dtype         \n",
      "---  ------             --------------  -----         \n",
      " 0   user_id            11568 non-null  int64         \n",
      " 1   name               11568 non-null  object        \n",
      " 2   age                11568 non-null  int64         \n",
      " 3   city               11568 non-null  object        \n",
      " 4   subscription_type  11568 non-null  object        \n",
      " 5   distance           11568 non-null  float64       \n",
      " 6   duration           11568 non-null  float64       \n",
      " 7   date               11568 non-null  datetime64[ns]\n",
      " 8   month              11568 non-null  int32         \n",
      " 9   minute_price       11568 non-null  int64         \n",
      " 10  start_ride_price   11568 non-null  int64         \n",
      " 11  subscription_fee   11568 non-null  int64         \n",
      "dtypes: datetime64[ns](1), float64(2), int32(1), int64(5), object(3)\n",
      "memory usage: 1.0+ MB\n"
     ]
    },
    {
     "data": {
      "text/html": [
       "<div>\n",
       "<style scoped>\n",
       "    .dataframe tbody tr th:only-of-type {\n",
       "        vertical-align: middle;\n",
       "    }\n",
       "\n",
       "    .dataframe tbody tr th {\n",
       "        vertical-align: top;\n",
       "    }\n",
       "\n",
       "    .dataframe thead th {\n",
       "        text-align: right;\n",
       "    }\n",
       "</style>\n",
       "<table border=\"1\" class=\"dataframe\">\n",
       "  <thead>\n",
       "    <tr style=\"text-align: right;\">\n",
       "      <th></th>\n",
       "      <th>user_id</th>\n",
       "      <th>name</th>\n",
       "      <th>age</th>\n",
       "      <th>city</th>\n",
       "      <th>subscription_type</th>\n",
       "      <th>distance</th>\n",
       "      <th>duration</th>\n",
       "      <th>date</th>\n",
       "      <th>month</th>\n",
       "      <th>minute_price</th>\n",
       "      <th>start_ride_price</th>\n",
       "      <th>subscription_fee</th>\n",
       "    </tr>\n",
       "  </thead>\n",
       "  <tbody>\n",
       "    <tr>\n",
       "      <th>0</th>\n",
       "      <td>700</td>\n",
       "      <td>Айдар</td>\n",
       "      <td>22</td>\n",
       "      <td>Омск</td>\n",
       "      <td>free</td>\n",
       "      <td>2515.690719</td>\n",
       "      <td>14.944286</td>\n",
       "      <td>2021-01-02</td>\n",
       "      <td>1</td>\n",
       "      <td>8</td>\n",
       "      <td>50</td>\n",
       "      <td>0</td>\n",
       "    </tr>\n",
       "    <tr>\n",
       "      <th>1</th>\n",
       "      <td>700</td>\n",
       "      <td>Айдар</td>\n",
       "      <td>22</td>\n",
       "      <td>Омск</td>\n",
       "      <td>free</td>\n",
       "      <td>846.932642</td>\n",
       "      <td>16.234663</td>\n",
       "      <td>2021-02-01</td>\n",
       "      <td>2</td>\n",
       "      <td>8</td>\n",
       "      <td>50</td>\n",
       "      <td>0</td>\n",
       "    </tr>\n",
       "    <tr>\n",
       "      <th>2</th>\n",
       "      <td>700</td>\n",
       "      <td>Айдар</td>\n",
       "      <td>22</td>\n",
       "      <td>Омск</td>\n",
       "      <td>free</td>\n",
       "      <td>4004.434142</td>\n",
       "      <td>20.016628</td>\n",
       "      <td>2021-02-04</td>\n",
       "      <td>2</td>\n",
       "      <td>8</td>\n",
       "      <td>50</td>\n",
       "      <td>0</td>\n",
       "    </tr>\n",
       "    <tr>\n",
       "      <th>3</th>\n",
       "      <td>700</td>\n",
       "      <td>Айдар</td>\n",
       "      <td>22</td>\n",
       "      <td>Омск</td>\n",
       "      <td>free</td>\n",
       "      <td>1205.911290</td>\n",
       "      <td>9.782872</td>\n",
       "      <td>2021-02-10</td>\n",
       "      <td>2</td>\n",
       "      <td>8</td>\n",
       "      <td>50</td>\n",
       "      <td>0</td>\n",
       "    </tr>\n",
       "    <tr>\n",
       "      <th>4</th>\n",
       "      <td>700</td>\n",
       "      <td>Айдар</td>\n",
       "      <td>22</td>\n",
       "      <td>Омск</td>\n",
       "      <td>free</td>\n",
       "      <td>3047.379435</td>\n",
       "      <td>17.427673</td>\n",
       "      <td>2021-02-14</td>\n",
       "      <td>2</td>\n",
       "      <td>8</td>\n",
       "      <td>50</td>\n",
       "      <td>0</td>\n",
       "    </tr>\n",
       "  </tbody>\n",
       "</table>\n",
       "</div>"
      ],
      "text/plain": [
       "   user_id   name  age  city subscription_type     distance   duration  \\\n",
       "0      700  Айдар   22  Омск              free  2515.690719  14.944286   \n",
       "1      700  Айдар   22  Омск              free   846.932642  16.234663   \n",
       "2      700  Айдар   22  Омск              free  4004.434142  20.016628   \n",
       "3      700  Айдар   22  Омск              free  1205.911290   9.782872   \n",
       "4      700  Айдар   22  Омск              free  3047.379435  17.427673   \n",
       "\n",
       "        date  month  minute_price  start_ride_price  subscription_fee  \n",
       "0 2021-01-02      1             8                50                 0  \n",
       "1 2021-02-01      2             8                50                 0  \n",
       "2 2021-02-04      2             8                50                 0  \n",
       "3 2021-02-10      2             8                50                 0  \n",
       "4 2021-02-14      2             8                50                 0  "
      ]
     },
     "execution_count": 24,
     "metadata": {},
     "output_type": "execute_result"
    }
   ],
   "source": [
    "users_free = data[data['subscription_type']=='free'] # без подписки\n",
    "users_free.reset_index(drop=True, inplace=True) # сбросим индексы в новой таблице\n",
    "users_free.info()\n",
    "users_free.head()"
   ]
  },
  {
   "cell_type": "code",
   "execution_count": 25,
   "id": "1e7bbeca",
   "metadata": {},
   "outputs": [
    {
     "name": "stdout",
     "output_type": "stream",
     "text": [
      "<class 'pandas.core.frame.DataFrame'>\n",
      "RangeIndex: 6500 entries, 0 to 6499\n",
      "Data columns (total 12 columns):\n",
      " #   Column             Non-Null Count  Dtype         \n",
      "---  ------             --------------  -----         \n",
      " 0   user_id            6500 non-null   int64         \n",
      " 1   name               6500 non-null   object        \n",
      " 2   age                6500 non-null   int64         \n",
      " 3   city               6500 non-null   object        \n",
      " 4   subscription_type  6500 non-null   object        \n",
      " 5   distance           6500 non-null   float64       \n",
      " 6   duration           6500 non-null   float64       \n",
      " 7   date               6500 non-null   datetime64[ns]\n",
      " 8   month              6500 non-null   int32         \n",
      " 9   minute_price       6500 non-null   int64         \n",
      " 10  start_ride_price   6500 non-null   int64         \n",
      " 11  subscription_fee   6500 non-null   int64         \n",
      "dtypes: datetime64[ns](1), float64(2), int32(1), int64(5), object(3)\n",
      "memory usage: 584.1+ KB\n"
     ]
    },
    {
     "data": {
      "text/html": [
       "<div>\n",
       "<style scoped>\n",
       "    .dataframe tbody tr th:only-of-type {\n",
       "        vertical-align: middle;\n",
       "    }\n",
       "\n",
       "    .dataframe tbody tr th {\n",
       "        vertical-align: top;\n",
       "    }\n",
       "\n",
       "    .dataframe thead th {\n",
       "        text-align: right;\n",
       "    }\n",
       "</style>\n",
       "<table border=\"1\" class=\"dataframe\">\n",
       "  <thead>\n",
       "    <tr style=\"text-align: right;\">\n",
       "      <th></th>\n",
       "      <th>user_id</th>\n",
       "      <th>name</th>\n",
       "      <th>age</th>\n",
       "      <th>city</th>\n",
       "      <th>subscription_type</th>\n",
       "      <th>distance</th>\n",
       "      <th>duration</th>\n",
       "      <th>date</th>\n",
       "      <th>month</th>\n",
       "      <th>minute_price</th>\n",
       "      <th>start_ride_price</th>\n",
       "      <th>subscription_fee</th>\n",
       "    </tr>\n",
       "  </thead>\n",
       "  <tbody>\n",
       "    <tr>\n",
       "      <th>0</th>\n",
       "      <td>1</td>\n",
       "      <td>Кира</td>\n",
       "      <td>22</td>\n",
       "      <td>Тюмень</td>\n",
       "      <td>ultra</td>\n",
       "      <td>4409.919140</td>\n",
       "      <td>25.599769</td>\n",
       "      <td>2021-01-01</td>\n",
       "      <td>1</td>\n",
       "      <td>6</td>\n",
       "      <td>0</td>\n",
       "      <td>199</td>\n",
       "    </tr>\n",
       "    <tr>\n",
       "      <th>1</th>\n",
       "      <td>1</td>\n",
       "      <td>Кира</td>\n",
       "      <td>22</td>\n",
       "      <td>Тюмень</td>\n",
       "      <td>ultra</td>\n",
       "      <td>2617.592153</td>\n",
       "      <td>15.816871</td>\n",
       "      <td>2021-01-18</td>\n",
       "      <td>1</td>\n",
       "      <td>6</td>\n",
       "      <td>0</td>\n",
       "      <td>199</td>\n",
       "    </tr>\n",
       "    <tr>\n",
       "      <th>2</th>\n",
       "      <td>1</td>\n",
       "      <td>Кира</td>\n",
       "      <td>22</td>\n",
       "      <td>Тюмень</td>\n",
       "      <td>ultra</td>\n",
       "      <td>754.159807</td>\n",
       "      <td>6.232113</td>\n",
       "      <td>2021-04-20</td>\n",
       "      <td>4</td>\n",
       "      <td>6</td>\n",
       "      <td>0</td>\n",
       "      <td>199</td>\n",
       "    </tr>\n",
       "    <tr>\n",
       "      <th>3</th>\n",
       "      <td>1</td>\n",
       "      <td>Кира</td>\n",
       "      <td>22</td>\n",
       "      <td>Тюмень</td>\n",
       "      <td>ultra</td>\n",
       "      <td>2694.783254</td>\n",
       "      <td>18.511000</td>\n",
       "      <td>2021-08-11</td>\n",
       "      <td>8</td>\n",
       "      <td>6</td>\n",
       "      <td>0</td>\n",
       "      <td>199</td>\n",
       "    </tr>\n",
       "    <tr>\n",
       "      <th>4</th>\n",
       "      <td>1</td>\n",
       "      <td>Кира</td>\n",
       "      <td>22</td>\n",
       "      <td>Тюмень</td>\n",
       "      <td>ultra</td>\n",
       "      <td>4028.687306</td>\n",
       "      <td>26.265803</td>\n",
       "      <td>2021-08-28</td>\n",
       "      <td>8</td>\n",
       "      <td>6</td>\n",
       "      <td>0</td>\n",
       "      <td>199</td>\n",
       "    </tr>\n",
       "  </tbody>\n",
       "</table>\n",
       "</div>"
      ],
      "text/plain": [
       "   user_id  name  age    city subscription_type     distance   duration  \\\n",
       "0        1  Кира   22  Тюмень             ultra  4409.919140  25.599769   \n",
       "1        1  Кира   22  Тюмень             ultra  2617.592153  15.816871   \n",
       "2        1  Кира   22  Тюмень             ultra   754.159807   6.232113   \n",
       "3        1  Кира   22  Тюмень             ultra  2694.783254  18.511000   \n",
       "4        1  Кира   22  Тюмень             ultra  4028.687306  26.265803   \n",
       "\n",
       "        date  month  minute_price  start_ride_price  subscription_fee  \n",
       "0 2021-01-01      1             6                 0               199  \n",
       "1 2021-01-18      1             6                 0               199  \n",
       "2 2021-04-20      4             6                 0               199  \n",
       "3 2021-08-11      8             6                 0               199  \n",
       "4 2021-08-28      8             6                 0               199  "
      ]
     },
     "execution_count": 25,
     "metadata": {},
     "output_type": "execute_result"
    }
   ],
   "source": [
    "users_ultra = data[data['subscription_type']=='ultra'] # с подпиской\n",
    "users_ultra.reset_index(drop=True, inplace=True) # сбросим индексы в новой таблице\n",
    "users_ultra.info()\n",
    "users_ultra.head()"
   ]
  },
  {
   "cell_type": "markdown",
   "id": "1daa261d",
   "metadata": {},
   "source": [
    "Разделили пользователей по типу подписки."
   ]
  },
  {
   "cell_type": "markdown",
   "id": "9a44d63a",
   "metadata": {},
   "source": [
    "### Визуализируем информацию о расстоянии и времени поездок для пользователей обеих категорий."
   ]
  },
  {
   "cell_type": "markdown",
   "id": "0aa2af0b",
   "metadata": {},
   "source": [
    "Информация о расстоянии поездок"
   ]
  },
  {
   "cell_type": "code",
   "execution_count": 26,
   "id": "148201b8",
   "metadata": {
    "scrolled": true
   },
   "outputs": [
    {
     "data": {
      "image/png": "[encoded data removed]",
      "text/plain": [
       "<Figure size 1300x700 with 1 Axes>"
      ]
     },
     "metadata": {},
     "output_type": "display_data"
    }
   ],
   "source": [
    "ax = users_ultra['distance'].plot(kind='hist', bins=40, histtype='step', alpha=0.7, figsize=(13,7))\n",
    "users_free['distance'].plot(kind='hist', bins=40, histtype='step', ax=ax, alpha=0.7, figsize=(13,7))\n",
    "plt.legend(['с подпиской','без подписки'])\n",
    "plt.title(\"Информация о расстоянии поездок\")\n",
    "plt.xlabel(\"Метры\")\n",
    "plt.ylabel(\"Частота встречаемости\")\n",
    "plt.show()"
   ]
  },
  {
   "cell_type": "markdown",
   "id": "c4b339b2",
   "metadata": {},
   "source": [
    "Информация о длительность поездок"
   ]
  },
  {
   "cell_type": "code",
   "execution_count": 27,
   "id": "7a2e7c8f",
   "metadata": {
    "scrolled": true
   },
   "outputs": [
    {
     "data": {
      "image/png": "[encoded data removed]",
      "text/plain": [
       "<Figure size 1300x700 with 1 Axes>"
      ]
     },
     "metadata": {},
     "output_type": "display_data"
    }
   ],
   "source": [
    "ax = users_ultra['duration'].plot(kind='hist', bins=40, histtype='step', alpha=0.7, figsize=(13,7))\n",
    "users_free['duration'].plot(kind='hist', bins=40, histtype='step', ax=ax, alpha=0.7, figsize=(13,7))\n",
    "plt.legend(['с подпиской','без подписки'])\n",
    "plt.title(\"Информация о времени поездок\")\n",
    "plt.xlabel(\"Минуты\")\n",
    "plt.ylabel(\"Частота встречаемости\")\n",
    "plt.show()"
   ]
  },
  {
   "cell_type": "markdown",
   "id": "36210ff9",
   "metadata": {},
   "source": [
    "Видим, что графики расстоянии и времени поездок похожи, разве что первая мода расстояния у пользователей с подпиской сдвинута ближе к километру, против 600-700 метров - без подписки."
   ]
  },
  {
   "cell_type": "code",
   "execution_count": 28,
   "id": "6b87db10",
   "metadata": {},
   "outputs": [
    {
     "data": {
      "text/html": [
       "<div>\n",
       "<style scoped>\n",
       "    .dataframe tbody tr th:only-of-type {\n",
       "        vertical-align: middle;\n",
       "    }\n",
       "\n",
       "    .dataframe tbody tr th {\n",
       "        vertical-align: top;\n",
       "    }\n",
       "\n",
       "    .dataframe thead th {\n",
       "        text-align: right;\n",
       "    }\n",
       "</style>\n",
       "<table border=\"1\" class=\"dataframe\">\n",
       "  <thead>\n",
       "    <tr style=\"text-align: right;\">\n",
       "      <th></th>\n",
       "      <th>user_id</th>\n",
       "      <th>name</th>\n",
       "      <th>age</th>\n",
       "      <th>city</th>\n",
       "      <th>subscription_type</th>\n",
       "      <th>distance</th>\n",
       "      <th>duration</th>\n",
       "      <th>date</th>\n",
       "      <th>month</th>\n",
       "      <th>minute_price</th>\n",
       "      <th>start_ride_price</th>\n",
       "      <th>subscription_fee</th>\n",
       "    </tr>\n",
       "  </thead>\n",
       "  <tbody>\n",
       "    <tr>\n",
       "      <th>31</th>\n",
       "      <td>701</td>\n",
       "      <td>Иван</td>\n",
       "      <td>31</td>\n",
       "      <td>Екатеринбург</td>\n",
       "      <td>free</td>\n",
       "      <td>4196.445201</td>\n",
       "      <td>0.500000</td>\n",
       "      <td>2021-08-31</td>\n",
       "      <td>8</td>\n",
       "      <td>8</td>\n",
       "      <td>50</td>\n",
       "      <td>0</td>\n",
       "    </tr>\n",
       "    <tr>\n",
       "      <th>70</th>\n",
       "      <td>704</td>\n",
       "      <td>Мирон</td>\n",
       "      <td>29</td>\n",
       "      <td>Ростов-на-Дону</td>\n",
       "      <td>free</td>\n",
       "      <td>4830.824371</td>\n",
       "      <td>0.500000</td>\n",
       "      <td>2021-10-14</td>\n",
       "      <td>10</td>\n",
       "      <td>8</td>\n",
       "      <td>50</td>\n",
       "      <td>0</td>\n",
       "    </tr>\n",
       "    <tr>\n",
       "      <th>180</th>\n",
       "      <td>712</td>\n",
       "      <td>Дарья</td>\n",
       "      <td>28</td>\n",
       "      <td>Москва</td>\n",
       "      <td>free</td>\n",
       "      <td>4684.004397</td>\n",
       "      <td>0.500000</td>\n",
       "      <td>2021-03-04</td>\n",
       "      <td>3</td>\n",
       "      <td>8</td>\n",
       "      <td>50</td>\n",
       "      <td>0</td>\n",
       "    </tr>\n",
       "    <tr>\n",
       "      <th>191</th>\n",
       "      <td>712</td>\n",
       "      <td>Дарья</td>\n",
       "      <td>28</td>\n",
       "      <td>Москва</td>\n",
       "      <td>free</td>\n",
       "      <td>23.963062</td>\n",
       "      <td>2.053251</td>\n",
       "      <td>2021-11-22</td>\n",
       "      <td>11</td>\n",
       "      <td>8</td>\n",
       "      <td>50</td>\n",
       "      <td>0</td>\n",
       "    </tr>\n",
       "    <tr>\n",
       "      <th>195</th>\n",
       "      <td>713</td>\n",
       "      <td>Святослав</td>\n",
       "      <td>30</td>\n",
       "      <td>Краснодар</td>\n",
       "      <td>free</td>\n",
       "      <td>5215.642710</td>\n",
       "      <td>0.500000</td>\n",
       "      <td>2021-02-25</td>\n",
       "      <td>2</td>\n",
       "      <td>8</td>\n",
       "      <td>50</td>\n",
       "      <td>0</td>\n",
       "    </tr>\n",
       "    <tr>\n",
       "      <th>268</th>\n",
       "      <td>718</td>\n",
       "      <td>Владислава</td>\n",
       "      <td>31</td>\n",
       "      <td>Москва</td>\n",
       "      <td>free</td>\n",
       "      <td>5197.436649</td>\n",
       "      <td>0.500000</td>\n",
       "      <td>2021-02-11</td>\n",
       "      <td>2</td>\n",
       "      <td>8</td>\n",
       "      <td>50</td>\n",
       "      <td>0</td>\n",
       "    </tr>\n",
       "    <tr>\n",
       "      <th>301</th>\n",
       "      <td>720</td>\n",
       "      <td>Сергей</td>\n",
       "      <td>25</td>\n",
       "      <td>Тюмень</td>\n",
       "      <td>free</td>\n",
       "      <td>102.323624</td>\n",
       "      <td>2.292353</td>\n",
       "      <td>2021-09-20</td>\n",
       "      <td>9</td>\n",
       "      <td>8</td>\n",
       "      <td>50</td>\n",
       "      <td>0</td>\n",
       "    </tr>\n",
       "    <tr>\n",
       "      <th>360</th>\n",
       "      <td>724</td>\n",
       "      <td>Елизавета</td>\n",
       "      <td>23</td>\n",
       "      <td>Краснодар</td>\n",
       "      <td>free</td>\n",
       "      <td>6225.520342</td>\n",
       "      <td>0.500000</td>\n",
       "      <td>2021-12-16</td>\n",
       "      <td>12</td>\n",
       "      <td>8</td>\n",
       "      <td>50</td>\n",
       "      <td>0</td>\n",
       "    </tr>\n",
       "    <tr>\n",
       "      <th>383</th>\n",
       "      <td>726</td>\n",
       "      <td>Ольга</td>\n",
       "      <td>22</td>\n",
       "      <td>Пятигорск</td>\n",
       "      <td>free</td>\n",
       "      <td>4452.491518</td>\n",
       "      <td>0.500000</td>\n",
       "      <td>2021-03-01</td>\n",
       "      <td>3</td>\n",
       "      <td>8</td>\n",
       "      <td>50</td>\n",
       "      <td>0</td>\n",
       "    </tr>\n",
       "    <tr>\n",
       "      <th>518</th>\n",
       "      <td>735</td>\n",
       "      <td>Кирилл</td>\n",
       "      <td>18</td>\n",
       "      <td>Пятигорск</td>\n",
       "      <td>free</td>\n",
       "      <td>4406.954812</td>\n",
       "      <td>0.500000</td>\n",
       "      <td>2021-04-13</td>\n",
       "      <td>4</td>\n",
       "      <td>8</td>\n",
       "      <td>50</td>\n",
       "      <td>0</td>\n",
       "    </tr>\n",
       "  </tbody>\n",
       "</table>\n",
       "</div>"
      ],
      "text/plain": [
       "     user_id        name  age            city subscription_type     distance  \\\n",
       "31       701        Иван   31    Екатеринбург              free  4196.445201   \n",
       "70       704       Мирон   29  Ростов-на-Дону              free  4830.824371   \n",
       "180      712       Дарья   28          Москва              free  4684.004397   \n",
       "191      712       Дарья   28          Москва              free    23.963062   \n",
       "195      713   Святослав   30       Краснодар              free  5215.642710   \n",
       "268      718  Владислава   31          Москва              free  5197.436649   \n",
       "301      720      Сергей   25          Тюмень              free   102.323624   \n",
       "360      724   Елизавета   23       Краснодар              free  6225.520342   \n",
       "383      726       Ольга   22       Пятигорск              free  4452.491518   \n",
       "518      735      Кирилл   18       Пятигорск              free  4406.954812   \n",
       "\n",
       "     duration       date  month  minute_price  start_ride_price  \\\n",
       "31   0.500000 2021-08-31      8             8                50   \n",
       "70   0.500000 2021-10-14     10             8                50   \n",
       "180  0.500000 2021-03-04      3             8                50   \n",
       "191  2.053251 2021-11-22     11             8                50   \n",
       "195  0.500000 2021-02-25      2             8                50   \n",
       "268  0.500000 2021-02-11      2             8                50   \n",
       "301  2.292353 2021-09-20      9             8                50   \n",
       "360  0.500000 2021-12-16     12             8                50   \n",
       "383  0.500000 2021-03-01      3             8                50   \n",
       "518  0.500000 2021-04-13      4             8                50   \n",
       "\n",
       "     subscription_fee  \n",
       "31                  0  \n",
       "70                  0  \n",
       "180                 0  \n",
       "191                 0  \n",
       "195                 0  \n",
       "268                 0  \n",
       "301                 0  \n",
       "360                 0  \n",
       "383                 0  \n",
       "518                 0  "
      ]
     },
     "execution_count": 28,
     "metadata": {},
     "output_type": "execute_result"
    }
   ],
   "source": [
    "users_free[users_free['duration']<3].head(10) # выведем 10 поездок длительностью менее 3х минут"
   ]
  },
  {
   "cell_type": "markdown",
   "id": "afbc47ee",
   "metadata": {},
   "source": [
    " Также у пользователей без подписки видим много поездок с длительностью в полминуты, но с достаточно большими дистанциями, что можно объяснить либо сбоями, либо, возможно, таким образом была реализована какая-нибудь акция с бесплатными минутами и эти поездки всё равно нужно учитывать при расчете выручки."
   ]
  },
  {
   "cell_type": "markdown",
   "id": "b3380c09",
   "metadata": {},
   "source": [
    "## Подсчёт выручки"
   ]
  },
  {
   "cell_type": "markdown",
   "id": "895ab20b",
   "metadata": {},
   "source": [
    "### Создадим датафрейм с агрегированными данными о поездках на основе датафрейма с объединёнными данными из шага 4: найдём суммарное расстояние, количество поездок и суммарное время для каждого пользователя за каждый месяц."
   ]
  },
  {
   "cell_type": "markdown",
   "id": "60d7587e",
   "metadata": {},
   "source": [
    "Сначала округлим минуты поездки в большую сторону"
   ]
  },
  {
   "cell_type": "code",
   "execution_count": 29,
   "id": "ebcd750d",
   "metadata": {},
   "outputs": [],
   "source": [
    "data['duration'] = np.ceil(data['duration'])"
   ]
  },
  {
   "cell_type": "code",
   "execution_count": 30,
   "id": "57f390b6",
   "metadata": {
    "scrolled": true
   },
   "outputs": [
    {
     "data": {
      "text/html": [
       "<div>\n",
       "<style scoped>\n",
       "    .dataframe tbody tr th:only-of-type {\n",
       "        vertical-align: middle;\n",
       "    }\n",
       "\n",
       "    .dataframe tbody tr th {\n",
       "        vertical-align: top;\n",
       "    }\n",
       "\n",
       "    .dataframe thead tr th {\n",
       "        text-align: left;\n",
       "    }\n",
       "</style>\n",
       "<table border=\"1\" class=\"dataframe\">\n",
       "  <thead>\n",
       "    <tr>\n",
       "      <th></th>\n",
       "      <th>user_id</th>\n",
       "      <th>month</th>\n",
       "      <th colspan=\"2\" halign=\"left\">distance</th>\n",
       "      <th>duration</th>\n",
       "    </tr>\n",
       "    <tr>\n",
       "      <th></th>\n",
       "      <th></th>\n",
       "      <th></th>\n",
       "      <th>sum</th>\n",
       "      <th>count</th>\n",
       "      <th>sum</th>\n",
       "    </tr>\n",
       "  </thead>\n",
       "  <tbody>\n",
       "    <tr>\n",
       "      <th>0</th>\n",
       "      <td>1</td>\n",
       "      <td>1</td>\n",
       "      <td>7027.511294</td>\n",
       "      <td>2</td>\n",
       "      <td>42.0</td>\n",
       "    </tr>\n",
       "    <tr>\n",
       "      <th>1</th>\n",
       "      <td>1</td>\n",
       "      <td>4</td>\n",
       "      <td>754.159807</td>\n",
       "      <td>1</td>\n",
       "      <td>7.0</td>\n",
       "    </tr>\n",
       "    <tr>\n",
       "      <th>2</th>\n",
       "      <td>1</td>\n",
       "      <td>8</td>\n",
       "      <td>6723.470560</td>\n",
       "      <td>2</td>\n",
       "      <td>46.0</td>\n",
       "    </tr>\n",
       "    <tr>\n",
       "      <th>3</th>\n",
       "      <td>1</td>\n",
       "      <td>10</td>\n",
       "      <td>5809.911100</td>\n",
       "      <td>2</td>\n",
       "      <td>32.0</td>\n",
       "    </tr>\n",
       "    <tr>\n",
       "      <th>4</th>\n",
       "      <td>1</td>\n",
       "      <td>11</td>\n",
       "      <td>7003.499363</td>\n",
       "      <td>3</td>\n",
       "      <td>56.0</td>\n",
       "    </tr>\n",
       "    <tr>\n",
       "      <th>5</th>\n",
       "      <td>1</td>\n",
       "      <td>12</td>\n",
       "      <td>6751.629942</td>\n",
       "      <td>2</td>\n",
       "      <td>28.0</td>\n",
       "    </tr>\n",
       "    <tr>\n",
       "      <th>6</th>\n",
       "      <td>2</td>\n",
       "      <td>3</td>\n",
       "      <td>10187.723006</td>\n",
       "      <td>3</td>\n",
       "      <td>63.0</td>\n",
       "    </tr>\n",
       "    <tr>\n",
       "      <th>7</th>\n",
       "      <td>2</td>\n",
       "      <td>4</td>\n",
       "      <td>6164.381824</td>\n",
       "      <td>2</td>\n",
       "      <td>40.0</td>\n",
       "    </tr>\n",
       "    <tr>\n",
       "      <th>8</th>\n",
       "      <td>2</td>\n",
       "      <td>6</td>\n",
       "      <td>3255.338202</td>\n",
       "      <td>1</td>\n",
       "      <td>14.0</td>\n",
       "    </tr>\n",
       "    <tr>\n",
       "      <th>9</th>\n",
       "      <td>2</td>\n",
       "      <td>7</td>\n",
       "      <td>6780.722964</td>\n",
       "      <td>2</td>\n",
       "      <td>48.0</td>\n",
       "    </tr>\n",
       "  </tbody>\n",
       "</table>\n",
       "</div>"
      ],
      "text/plain": [
       "  user_id month      distance       duration\n",
       "                          sum count      sum\n",
       "0       1     1   7027.511294     2     42.0\n",
       "1       1     4    754.159807     1      7.0\n",
       "2       1     8   6723.470560     2     46.0\n",
       "3       1    10   5809.911100     2     32.0\n",
       "4       1    11   7003.499363     3     56.0\n",
       "5       1    12   6751.629942     2     28.0\n",
       "6       2     3  10187.723006     3     63.0\n",
       "7       2     4   6164.381824     2     40.0\n",
       "8       2     6   3255.338202     1     14.0\n",
       "9       2     7   6780.722964     2     48.0"
      ]
     },
     "execution_count": 30,
     "metadata": {},
     "output_type": "execute_result"
    }
   ],
   "source": [
    "data_month = data.groupby(['user_id','month'], as_index=False)\\\n",
    "            .agg({'distance': ['sum', 'count'], 'duration': 'sum'})\n",
    "data_month.head(10)"
   ]
  },
  {
   "cell_type": "markdown",
   "id": "5c4ed6c8",
   "metadata": {},
   "source": [
    "Мультиназвания столбцов переименуем в более привычные"
   ]
  },
  {
   "cell_type": "code",
   "execution_count": 31,
   "id": "a46c8631",
   "metadata": {},
   "outputs": [
    {
     "data": {
      "text/plain": [
       "MultiIndex([( 'user_id',      ''),\n",
       "            (   'month',      ''),\n",
       "            ('distance',   'sum'),\n",
       "            ('distance', 'count'),\n",
       "            ('duration',   'sum')],\n",
       "           )"
      ]
     },
     "execution_count": 31,
     "metadata": {},
     "output_type": "execute_result"
    }
   ],
   "source": [
    "data_month.columns"
   ]
  },
  {
   "cell_type": "code",
   "execution_count": 32,
   "id": "183d5759",
   "metadata": {},
   "outputs": [
    {
     "data": {
      "text/html": [
       "<div>\n",
       "<style scoped>\n",
       "    .dataframe tbody tr th:only-of-type {\n",
       "        vertical-align: middle;\n",
       "    }\n",
       "\n",
       "    .dataframe tbody tr th {\n",
       "        vertical-align: top;\n",
       "    }\n",
       "\n",
       "    .dataframe thead th {\n",
       "        text-align: right;\n",
       "    }\n",
       "</style>\n",
       "<table border=\"1\" class=\"dataframe\">\n",
       "  <thead>\n",
       "    <tr style=\"text-align: right;\">\n",
       "      <th></th>\n",
       "      <th>user_id</th>\n",
       "      <th>month</th>\n",
       "      <th>sum_distance</th>\n",
       "      <th>count_rides</th>\n",
       "      <th>sum_duration</th>\n",
       "    </tr>\n",
       "  </thead>\n",
       "  <tbody>\n",
       "    <tr>\n",
       "      <th>0</th>\n",
       "      <td>1</td>\n",
       "      <td>1</td>\n",
       "      <td>7027.511294</td>\n",
       "      <td>2</td>\n",
       "      <td>42.0</td>\n",
       "    </tr>\n",
       "    <tr>\n",
       "      <th>1</th>\n",
       "      <td>1</td>\n",
       "      <td>4</td>\n",
       "      <td>754.159807</td>\n",
       "      <td>1</td>\n",
       "      <td>7.0</td>\n",
       "    </tr>\n",
       "    <tr>\n",
       "      <th>2</th>\n",
       "      <td>1</td>\n",
       "      <td>8</td>\n",
       "      <td>6723.470560</td>\n",
       "      <td>2</td>\n",
       "      <td>46.0</td>\n",
       "    </tr>\n",
       "    <tr>\n",
       "      <th>3</th>\n",
       "      <td>1</td>\n",
       "      <td>10</td>\n",
       "      <td>5809.911100</td>\n",
       "      <td>2</td>\n",
       "      <td>32.0</td>\n",
       "    </tr>\n",
       "    <tr>\n",
       "      <th>4</th>\n",
       "      <td>1</td>\n",
       "      <td>11</td>\n",
       "      <td>7003.499363</td>\n",
       "      <td>3</td>\n",
       "      <td>56.0</td>\n",
       "    </tr>\n",
       "  </tbody>\n",
       "</table>\n",
       "</div>"
      ],
      "text/plain": [
       "   user_id  month  sum_distance  count_rides  sum_duration\n",
       "0        1      1   7027.511294            2          42.0\n",
       "1        1      4    754.159807            1           7.0\n",
       "2        1      8   6723.470560            2          46.0\n",
       "3        1     10   5809.911100            2          32.0\n",
       "4        1     11   7003.499363            3          56.0"
      ]
     },
     "execution_count": 32,
     "metadata": {},
     "output_type": "execute_result"
    }
   ],
   "source": [
    "data_month.columns=['user_id','month','sum_distance','count_rides','sum_duration']\n",
    "data_month.head()"
   ]
  },
  {
   "cell_type": "markdown",
   "id": "ba9e5f15",
   "metadata": {},
   "source": [
    "### В этот же датафрейм добавим столбец с помесячной выручкой, которую принёс каждый пользователь. Для этого обратимся к информации об условиях оплаты для подписчиков и тех, у кого нет подписки."
   ]
  },
  {
   "cell_type": "markdown",
   "id": "24a7bfe1",
   "metadata": {},
   "source": [
    "Сначала добавим в новую таблицу столбцы с типом подписки для каждого пользователя и информацию по ней."
   ]
  },
  {
   "cell_type": "code",
   "execution_count": 33,
   "id": "54091af1",
   "metadata": {},
   "outputs": [],
   "source": [
    "data_month = data_month.merge(users[['user_id','subscription_type']], on='user_id', how='left')"
   ]
  },
  {
   "cell_type": "code",
   "execution_count": 34,
   "id": "bbe1147c",
   "metadata": {},
   "outputs": [],
   "source": [
    "data_month = data_month.merge(subscriptions, on='subscription_type', how='left')"
   ]
  },
  {
   "cell_type": "code",
   "execution_count": 35,
   "id": "16952f02",
   "metadata": {},
   "outputs": [
    {
     "data": {
      "text/html": [
       "<div>\n",
       "<style scoped>\n",
       "    .dataframe tbody tr th:only-of-type {\n",
       "        vertical-align: middle;\n",
       "    }\n",
       "\n",
       "    .dataframe tbody tr th {\n",
       "        vertical-align: top;\n",
       "    }\n",
       "\n",
       "    .dataframe thead th {\n",
       "        text-align: right;\n",
       "    }\n",
       "</style>\n",
       "<table border=\"1\" class=\"dataframe\">\n",
       "  <thead>\n",
       "    <tr style=\"text-align: right;\">\n",
       "      <th></th>\n",
       "      <th>user_id</th>\n",
       "      <th>month</th>\n",
       "      <th>sum_distance</th>\n",
       "      <th>count_rides</th>\n",
       "      <th>sum_duration</th>\n",
       "      <th>subscription_type</th>\n",
       "      <th>minute_price</th>\n",
       "      <th>start_ride_price</th>\n",
       "      <th>subscription_fee</th>\n",
       "    </tr>\n",
       "  </thead>\n",
       "  <tbody>\n",
       "    <tr>\n",
       "      <th>0</th>\n",
       "      <td>1</td>\n",
       "      <td>1</td>\n",
       "      <td>7027.511294</td>\n",
       "      <td>2</td>\n",
       "      <td>42.0</td>\n",
       "      <td>ultra</td>\n",
       "      <td>6</td>\n",
       "      <td>0</td>\n",
       "      <td>199</td>\n",
       "    </tr>\n",
       "    <tr>\n",
       "      <th>1</th>\n",
       "      <td>1</td>\n",
       "      <td>4</td>\n",
       "      <td>754.159807</td>\n",
       "      <td>1</td>\n",
       "      <td>7.0</td>\n",
       "      <td>ultra</td>\n",
       "      <td>6</td>\n",
       "      <td>0</td>\n",
       "      <td>199</td>\n",
       "    </tr>\n",
       "    <tr>\n",
       "      <th>2</th>\n",
       "      <td>1</td>\n",
       "      <td>8</td>\n",
       "      <td>6723.470560</td>\n",
       "      <td>2</td>\n",
       "      <td>46.0</td>\n",
       "      <td>ultra</td>\n",
       "      <td>6</td>\n",
       "      <td>0</td>\n",
       "      <td>199</td>\n",
       "    </tr>\n",
       "    <tr>\n",
       "      <th>3</th>\n",
       "      <td>1</td>\n",
       "      <td>10</td>\n",
       "      <td>5809.911100</td>\n",
       "      <td>2</td>\n",
       "      <td>32.0</td>\n",
       "      <td>ultra</td>\n",
       "      <td>6</td>\n",
       "      <td>0</td>\n",
       "      <td>199</td>\n",
       "    </tr>\n",
       "    <tr>\n",
       "      <th>4</th>\n",
       "      <td>1</td>\n",
       "      <td>11</td>\n",
       "      <td>7003.499363</td>\n",
       "      <td>3</td>\n",
       "      <td>56.0</td>\n",
       "      <td>ultra</td>\n",
       "      <td>6</td>\n",
       "      <td>0</td>\n",
       "      <td>199</td>\n",
       "    </tr>\n",
       "  </tbody>\n",
       "</table>\n",
       "</div>"
      ],
      "text/plain": [
       "   user_id  month  sum_distance  count_rides  sum_duration subscription_type  \\\n",
       "0        1      1   7027.511294            2          42.0             ultra   \n",
       "1        1      4    754.159807            1           7.0             ultra   \n",
       "2        1      8   6723.470560            2          46.0             ultra   \n",
       "3        1     10   5809.911100            2          32.0             ultra   \n",
       "4        1     11   7003.499363            3          56.0             ultra   \n",
       "\n",
       "   minute_price  start_ride_price  subscription_fee  \n",
       "0             6                 0               199  \n",
       "1             6                 0               199  \n",
       "2             6                 0               199  \n",
       "3             6                 0               199  \n",
       "4             6                 0               199  "
      ]
     },
     "execution_count": 35,
     "metadata": {},
     "output_type": "execute_result"
    }
   ],
   "source": [
    "data_month.head()"
   ]
  },
  {
   "cell_type": "code",
   "execution_count": 36,
   "id": "4011a6cb",
   "metadata": {},
   "outputs": [],
   "source": [
    "data_month['income'] = data_month['count_rides']*data_month['start_ride_price']+ \\\n",
    "                        data_month['sum_duration']*data_month['minute_price']+ \\\n",
    "                            data_month['subscription_fee']"
   ]
  },
  {
   "cell_type": "code",
   "execution_count": 37,
   "id": "0b3ed2f2",
   "metadata": {
    "scrolled": true
   },
   "outputs": [
    {
     "data": {
      "text/html": [
       "<div>\n",
       "<style scoped>\n",
       "    .dataframe tbody tr th:only-of-type {\n",
       "        vertical-align: middle;\n",
       "    }\n",
       "\n",
       "    .dataframe tbody tr th {\n",
       "        vertical-align: top;\n",
       "    }\n",
       "\n",
       "    .dataframe thead th {\n",
       "        text-align: right;\n",
       "    }\n",
       "</style>\n",
       "<table border=\"1\" class=\"dataframe\">\n",
       "  <thead>\n",
       "    <tr style=\"text-align: right;\">\n",
       "      <th></th>\n",
       "      <th>user_id</th>\n",
       "      <th>month</th>\n",
       "      <th>sum_distance</th>\n",
       "      <th>count_rides</th>\n",
       "      <th>sum_duration</th>\n",
       "      <th>subscription_type</th>\n",
       "      <th>minute_price</th>\n",
       "      <th>start_ride_price</th>\n",
       "      <th>subscription_fee</th>\n",
       "      <th>income</th>\n",
       "    </tr>\n",
       "  </thead>\n",
       "  <tbody>\n",
       "    <tr>\n",
       "      <th>0</th>\n",
       "      <td>1</td>\n",
       "      <td>1</td>\n",
       "      <td>7027.511294</td>\n",
       "      <td>2</td>\n",
       "      <td>42.0</td>\n",
       "      <td>ultra</td>\n",
       "      <td>6</td>\n",
       "      <td>0</td>\n",
       "      <td>199</td>\n",
       "      <td>451.0</td>\n",
       "    </tr>\n",
       "    <tr>\n",
       "      <th>1</th>\n",
       "      <td>1</td>\n",
       "      <td>4</td>\n",
       "      <td>754.159807</td>\n",
       "      <td>1</td>\n",
       "      <td>7.0</td>\n",
       "      <td>ultra</td>\n",
       "      <td>6</td>\n",
       "      <td>0</td>\n",
       "      <td>199</td>\n",
       "      <td>241.0</td>\n",
       "    </tr>\n",
       "    <tr>\n",
       "      <th>2</th>\n",
       "      <td>1</td>\n",
       "      <td>8</td>\n",
       "      <td>6723.470560</td>\n",
       "      <td>2</td>\n",
       "      <td>46.0</td>\n",
       "      <td>ultra</td>\n",
       "      <td>6</td>\n",
       "      <td>0</td>\n",
       "      <td>199</td>\n",
       "      <td>475.0</td>\n",
       "    </tr>\n",
       "    <tr>\n",
       "      <th>3</th>\n",
       "      <td>1</td>\n",
       "      <td>10</td>\n",
       "      <td>5809.911100</td>\n",
       "      <td>2</td>\n",
       "      <td>32.0</td>\n",
       "      <td>ultra</td>\n",
       "      <td>6</td>\n",
       "      <td>0</td>\n",
       "      <td>199</td>\n",
       "      <td>391.0</td>\n",
       "    </tr>\n",
       "    <tr>\n",
       "      <th>4</th>\n",
       "      <td>1</td>\n",
       "      <td>11</td>\n",
       "      <td>7003.499363</td>\n",
       "      <td>3</td>\n",
       "      <td>56.0</td>\n",
       "      <td>ultra</td>\n",
       "      <td>6</td>\n",
       "      <td>0</td>\n",
       "      <td>199</td>\n",
       "      <td>535.0</td>\n",
       "    </tr>\n",
       "    <tr>\n",
       "      <th>5</th>\n",
       "      <td>1</td>\n",
       "      <td>12</td>\n",
       "      <td>6751.629942</td>\n",
       "      <td>2</td>\n",
       "      <td>28.0</td>\n",
       "      <td>ultra</td>\n",
       "      <td>6</td>\n",
       "      <td>0</td>\n",
       "      <td>199</td>\n",
       "      <td>367.0</td>\n",
       "    </tr>\n",
       "    <tr>\n",
       "      <th>6</th>\n",
       "      <td>2</td>\n",
       "      <td>3</td>\n",
       "      <td>10187.723006</td>\n",
       "      <td>3</td>\n",
       "      <td>63.0</td>\n",
       "      <td>ultra</td>\n",
       "      <td>6</td>\n",
       "      <td>0</td>\n",
       "      <td>199</td>\n",
       "      <td>577.0</td>\n",
       "    </tr>\n",
       "    <tr>\n",
       "      <th>7</th>\n",
       "      <td>2</td>\n",
       "      <td>4</td>\n",
       "      <td>6164.381824</td>\n",
       "      <td>2</td>\n",
       "      <td>40.0</td>\n",
       "      <td>ultra</td>\n",
       "      <td>6</td>\n",
       "      <td>0</td>\n",
       "      <td>199</td>\n",
       "      <td>439.0</td>\n",
       "    </tr>\n",
       "    <tr>\n",
       "      <th>8</th>\n",
       "      <td>2</td>\n",
       "      <td>6</td>\n",
       "      <td>3255.338202</td>\n",
       "      <td>1</td>\n",
       "      <td>14.0</td>\n",
       "      <td>ultra</td>\n",
       "      <td>6</td>\n",
       "      <td>0</td>\n",
       "      <td>199</td>\n",
       "      <td>283.0</td>\n",
       "    </tr>\n",
       "    <tr>\n",
       "      <th>9</th>\n",
       "      <td>2</td>\n",
       "      <td>7</td>\n",
       "      <td>6780.722964</td>\n",
       "      <td>2</td>\n",
       "      <td>48.0</td>\n",
       "      <td>ultra</td>\n",
       "      <td>6</td>\n",
       "      <td>0</td>\n",
       "      <td>199</td>\n",
       "      <td>487.0</td>\n",
       "    </tr>\n",
       "  </tbody>\n",
       "</table>\n",
       "</div>"
      ],
      "text/plain": [
       "   user_id  month  sum_distance  count_rides  sum_duration subscription_type  \\\n",
       "0        1      1   7027.511294            2          42.0             ultra   \n",
       "1        1      4    754.159807            1           7.0             ultra   \n",
       "2        1      8   6723.470560            2          46.0             ultra   \n",
       "3        1     10   5809.911100            2          32.0             ultra   \n",
       "4        1     11   7003.499363            3          56.0             ultra   \n",
       "5        1     12   6751.629942            2          28.0             ultra   \n",
       "6        2      3  10187.723006            3          63.0             ultra   \n",
       "7        2      4   6164.381824            2          40.0             ultra   \n",
       "8        2      6   3255.338202            1          14.0             ultra   \n",
       "9        2      7   6780.722964            2          48.0             ultra   \n",
       "\n",
       "   minute_price  start_ride_price  subscription_fee  income  \n",
       "0             6                 0               199   451.0  \n",
       "1             6                 0               199   241.0  \n",
       "2             6                 0               199   475.0  \n",
       "3             6                 0               199   391.0  \n",
       "4             6                 0               199   535.0  \n",
       "5             6                 0               199   367.0  \n",
       "6             6                 0               199   577.0  \n",
       "7             6                 0               199   439.0  \n",
       "8             6                 0               199   283.0  \n",
       "9             6                 0               199   487.0  "
      ]
     },
     "execution_count": 37,
     "metadata": {},
     "output_type": "execute_result"
    }
   ],
   "source": [
    "data_month.head(10)"
   ]
  },
  {
   "cell_type": "markdown",
   "id": "5dcc79e0",
   "metadata": {},
   "source": [
    "Добавили и проверили, что столбец есть и посчитался"
   ]
  },
  {
   "cell_type": "markdown",
   "id": "790bb877",
   "metadata": {},
   "source": [
    "## Проверка гипотез"
   ]
  },
  {
   "cell_type": "markdown",
   "id": "cc2172a6",
   "metadata": {},
   "source": [
    "**Продакт-менеджеры сервиса хотят увеличить количество пользователей с подпиской. Для этого они будут проводить различные акции, но сначала нужно выяснить несколько важных моментов.**\n",
    "\n",
    "### Важно понять, тратят ли пользователи с подпиской больше времени на поездки? Если да, то пользователи с подпиской могут быть «выгоднее» для компании. Проверим гипотезу. Используем исходные данные о продолжительности каждой сессии — отдельно для подписчиков и тех, у кого нет подписки."
   ]
  },
  {
   "cell_type": "markdown",
   "id": "0054ed5d",
   "metadata": {},
   "source": [
    "Проведём двухвыборочный t-тест для проверки гипотезы"
   ]
  },
  {
   "cell_type": "markdown",
   "id": "9e605291",
   "metadata": {},
   "source": [
    "Проверяем гипотезу:  \n",
    "H0 : средняя продолжительность поездки с подпиской равна средней продолжительности поездки без подписки  \n",
    "H1 : средняя продолжительность поездки с подпиской больше средней продолжительности поездки без подписки  "
   ]
  },
  {
   "cell_type": "code",
   "execution_count": 38,
   "id": "f9d607c2",
   "metadata": {},
   "outputs": [
    {
     "name": "stdout",
     "output_type": "stream",
     "text": [
      "Средняя продолжительность поездки с подпиской: 18.5\n",
      "Средняя продолжительность поездки без подписки: 17.4\n",
      "p-значение: 5.6757813771289775e-37\n",
      "Отвергаем нулевую гипотезу\n"
     ]
    }
   ],
   "source": [
    "print(f'Средняя продолжительность поездки с подпиской: {np.mean(users_ultra[\"duration\"]).round(1)}')\n",
    "print(f'Средняя продолжительность поездки без подписки: {np.mean(users_free[\"duration\"]).round(1)}')\n",
    "\n",
    "alpha = 0.05\n",
    "results1 = st.ttest_ind(users_ultra['duration'], users_free['duration'], equal_var=False, alternative='greater')\n",
    "print('p-значение:', results1.pvalue)\n",
    "      \n",
    "if results1.pvalue < alpha:\n",
    "      print('Отвергаем нулевую гипотезу')\n",
    "else:\n",
    "      print('Не получилось отвергнуть нулевую гипотезу')"
   ]
  },
  {
   "cell_type": "markdown",
   "id": "46d5be65",
   "metadata": {},
   "source": [
    "Отвергли нулевую гипотезу о равенстве средних продолжительностей поездок с подпиской и без в пользу правосторонней альтернативной, то есть получили, что пользователи с подпиской действительно тратят больше времени на поездки."
   ]
  },
  {
   "cell_type": "markdown",
   "id": "574ec4a0",
   "metadata": {},
   "source": [
    "### Расстояние одной поездки в 3130 метров — оптимальное с точки зрения износа самоката. Можно ли сказать, что среднее расстояние, которое проезжают пользователи с подпиской за одну поездку, не превышает 3130 метров? Проверим гипотезу и сделаем выводы."
   ]
  },
  {
   "cell_type": "markdown",
   "id": "4385a951",
   "metadata": {},
   "source": [
    "Проведём двухвыборочный t-тест для проверки гипотезы с правосторонней альтернативной гипотезой"
   ]
  },
  {
   "cell_type": "markdown",
   "id": "ec2891a4",
   "metadata": {},
   "source": [
    "Проверяем гипотезу:  \n",
    "H0 : среднее расстояние поездки с подпиской равно 3130 метров;  \n",
    "H1 : среднее расстояние поездки с подпиской больше 3130 метров "
   ]
  },
  {
   "cell_type": "code",
   "execution_count": 39,
   "id": "597aab11",
   "metadata": {},
   "outputs": [
    {
     "name": "stdout",
     "output_type": "stream",
     "text": [
      "Среднее расстояние поездки с подпиской: 3115.4\n",
      "p-значение: 0.9195368847849785\n",
      "Не получилось отвергнуть нулевую гипотезу\n"
     ]
    }
   ],
   "source": [
    "print(f'Среднее расстояние поездки с подпиской: {np.mean(users_ultra[\"distance\"]).round(1)}')\n",
    "\n",
    "value=3130\n",
    "alpha = 0.05\n",
    "results2 = st.ttest_1samp(users_ultra['distance'], value, alternative='greater')\n",
    "print('p-значение:', results2.pvalue)\n",
    "      \n",
    "if results2.pvalue < alpha:\n",
    "      print('Отвергаем нулевую гипотезу') \n",
    "else:\n",
    "      print('Не получилось отвергнуть нулевую гипотезу')"
   ]
  },
  {
   "cell_type": "markdown",
   "id": "abb85741",
   "metadata": {},
   "source": [
    "Проверим также другие альтернативные гипотезы"
   ]
  },
  {
   "cell_type": "code",
   "execution_count": 40,
   "id": "c01ca02a",
   "metadata": {},
   "outputs": [
    {
     "name": "stdout",
     "output_type": "stream",
     "text": [
      "p-значение для правосторонней: 0.08046311521502147\n",
      "p-значение для двухсторонней: 0.16092623043004295\n"
     ]
    }
   ],
   "source": [
    "results21 = st.ttest_1samp(users_ultra['distance'], value, alternative='less')\n",
    "print('p-значение для правосторонней:', results21.pvalue)\n",
    "results22 = st.ttest_1samp(users_ultra['distance'], value, alternative='two-sided')\n",
    "print('p-значение для двухсторонней:', results22.pvalue)"
   ]
  },
  {
   "cell_type": "markdown",
   "id": "46086219",
   "metadata": {},
   "source": [
    "Получили, что с разной вероятностью возможны все три случая, при этом и нулевую гипотезу не отвергаем, и получается, что вероятность того, что среднее расстояние, которое проезжают пользователи с подпиской за одну поездку не превышает 3130 метров гораздо выше, 92%, чем превышает - 8."
   ]
  },
  {
   "cell_type": "markdown",
   "id": "9d9a6542",
   "metadata": {},
   "source": [
    "### Проверим гипотезу о том, будет ли помесячная выручка от пользователей с подпиской по месяцам выше, чем выручка от пользователей без подписки. Сделаем вывод."
   ]
  },
  {
   "cell_type": "markdown",
   "id": "b2f0ec92",
   "metadata": {},
   "source": [
    "Выделим выручку по месяцам для пользователей с подпиской и без"
   ]
  },
  {
   "cell_type": "code",
   "execution_count": 41,
   "id": "f5c46222",
   "metadata": {},
   "outputs": [
    {
     "data": {
      "text/html": [
       "<div>\n",
       "<style scoped>\n",
       "    .dataframe tbody tr th:only-of-type {\n",
       "        vertical-align: middle;\n",
       "    }\n",
       "\n",
       "    .dataframe tbody tr th {\n",
       "        vertical-align: top;\n",
       "    }\n",
       "\n",
       "    .dataframe thead th {\n",
       "        text-align: right;\n",
       "    }\n",
       "</style>\n",
       "<table border=\"1\" class=\"dataframe\">\n",
       "  <thead>\n",
       "    <tr style=\"text-align: right;\">\n",
       "      <th></th>\n",
       "      <th>user_id</th>\n",
       "      <th>month</th>\n",
       "      <th>sum_distance</th>\n",
       "      <th>count_rides</th>\n",
       "      <th>sum_duration</th>\n",
       "      <th>subscription_type</th>\n",
       "      <th>minute_price</th>\n",
       "      <th>start_ride_price</th>\n",
       "      <th>subscription_fee</th>\n",
       "      <th>income</th>\n",
       "    </tr>\n",
       "  </thead>\n",
       "  <tbody>\n",
       "    <tr>\n",
       "      <th>0</th>\n",
       "      <td>1</td>\n",
       "      <td>1</td>\n",
       "      <td>7027.511294</td>\n",
       "      <td>2</td>\n",
       "      <td>42.0</td>\n",
       "      <td>ultra</td>\n",
       "      <td>6</td>\n",
       "      <td>0</td>\n",
       "      <td>199</td>\n",
       "      <td>451.0</td>\n",
       "    </tr>\n",
       "    <tr>\n",
       "      <th>1</th>\n",
       "      <td>1</td>\n",
       "      <td>4</td>\n",
       "      <td>754.159807</td>\n",
       "      <td>1</td>\n",
       "      <td>7.0</td>\n",
       "      <td>ultra</td>\n",
       "      <td>6</td>\n",
       "      <td>0</td>\n",
       "      <td>199</td>\n",
       "      <td>241.0</td>\n",
       "    </tr>\n",
       "    <tr>\n",
       "      <th>2</th>\n",
       "      <td>1</td>\n",
       "      <td>8</td>\n",
       "      <td>6723.470560</td>\n",
       "      <td>2</td>\n",
       "      <td>46.0</td>\n",
       "      <td>ultra</td>\n",
       "      <td>6</td>\n",
       "      <td>0</td>\n",
       "      <td>199</td>\n",
       "      <td>475.0</td>\n",
       "    </tr>\n",
       "    <tr>\n",
       "      <th>3</th>\n",
       "      <td>1</td>\n",
       "      <td>10</td>\n",
       "      <td>5809.911100</td>\n",
       "      <td>2</td>\n",
       "      <td>32.0</td>\n",
       "      <td>ultra</td>\n",
       "      <td>6</td>\n",
       "      <td>0</td>\n",
       "      <td>199</td>\n",
       "      <td>391.0</td>\n",
       "    </tr>\n",
       "    <tr>\n",
       "      <th>4</th>\n",
       "      <td>1</td>\n",
       "      <td>11</td>\n",
       "      <td>7003.499363</td>\n",
       "      <td>3</td>\n",
       "      <td>56.0</td>\n",
       "      <td>ultra</td>\n",
       "      <td>6</td>\n",
       "      <td>0</td>\n",
       "      <td>199</td>\n",
       "      <td>535.0</td>\n",
       "    </tr>\n",
       "  </tbody>\n",
       "</table>\n",
       "</div>"
      ],
      "text/plain": [
       "   user_id  month  sum_distance  count_rides  sum_duration subscription_type  \\\n",
       "0        1      1   7027.511294            2          42.0             ultra   \n",
       "1        1      4    754.159807            1           7.0             ultra   \n",
       "2        1      8   6723.470560            2          46.0             ultra   \n",
       "3        1     10   5809.911100            2          32.0             ultra   \n",
       "4        1     11   7003.499363            3          56.0             ultra   \n",
       "\n",
       "   minute_price  start_ride_price  subscription_fee  income  \n",
       "0             6                 0               199   451.0  \n",
       "1             6                 0               199   241.0  \n",
       "2             6                 0               199   475.0  \n",
       "3             6                 0               199   391.0  \n",
       "4             6                 0               199   535.0  "
      ]
     },
     "execution_count": 41,
     "metadata": {},
     "output_type": "execute_result"
    }
   ],
   "source": [
    "data_month.head()"
   ]
  },
  {
   "cell_type": "code",
   "execution_count": 42,
   "id": "782b17e5",
   "metadata": {
    "scrolled": true
   },
   "outputs": [
    {
     "data": {
      "text/plain": [
       "0       451.0\n",
       "1       241.0\n",
       "2       475.0\n",
       "3       391.0\n",
       "4       535.0\n",
       "        ...  \n",
       "4528    301.0\n",
       "4529    469.0\n",
       "4530    385.0\n",
       "4531    295.0\n",
       "4532    355.0\n",
       "Name: income, Length: 4533, dtype: float64"
      ]
     },
     "execution_count": 42,
     "metadata": {},
     "output_type": "execute_result"
    }
   ],
   "source": [
    "income_ultra = data_month.loc[data_month['subscription_type']=='ultra', 'income']\n",
    "income_ultra"
   ]
  },
  {
   "cell_type": "code",
   "execution_count": 43,
   "id": "43f4fa18",
   "metadata": {
    "scrolled": true
   },
   "outputs": [
    {
     "data": {
      "text/plain": [
       "4533     170.0\n",
       "4534     962.0\n",
       "4535     202.0\n",
       "4536     178.0\n",
       "4537     332.0\n",
       "         ...  \n",
       "11326    308.0\n",
       "11327    484.0\n",
       "11328    234.0\n",
       "11329    824.0\n",
       "11330    178.0\n",
       "Name: income, Length: 6798, dtype: float64"
      ]
     },
     "execution_count": 43,
     "metadata": {},
     "output_type": "execute_result"
    }
   ],
   "source": [
    "income_free = data_month.loc[data_month['subscription_type']=='free', 'income']\n",
    "income_free"
   ]
  },
  {
   "cell_type": "markdown",
   "id": "0ea3038f",
   "metadata": {},
   "source": [
    "Проведём двухвыборочный t-тест для проверки гипотезы"
   ]
  },
  {
   "cell_type": "markdown",
   "id": "e9e1093c",
   "metadata": {},
   "source": [
    "Проверяем гипотезу:  \n",
    "H0 : средняя месячная выручка с подпиской равна средней месячной выручке без подписки  \n",
    "H1 : средняя месячная выручка с подпиской больше средней месячной выручки без подписки  "
   ]
  },
  {
   "cell_type": "code",
   "execution_count": 44,
   "id": "de214f4b",
   "metadata": {},
   "outputs": [
    {
     "name": "stdout",
     "output_type": "stream",
     "text": [
      "Средняя месячная выручка с подпиской: 362.8\n",
      "Средняя месячная выручка без подписки: 328.6\n",
      "p-значение: 8.874140893976874e-40\n",
      "Отвергаем нулевую гипотезу\n"
     ]
    }
   ],
   "source": [
    "print(f'Средняя месячная выручка с подпиской: {np.mean(income_ultra).round(1)}')\n",
    "print(f'Средняя месячная выручка без подписки: {np.mean(income_free).round(1)}')\n",
    "\n",
    "alpha = 0.05\n",
    "results3 = st.ttest_ind(income_ultra, income_free, equal_var=False, alternative='greater')\n",
    "print('p-значение:', results3.pvalue)\n",
    "      \n",
    "if results3.pvalue < alpha:\n",
    "      print('Отвергаем нулевую гипотезу')\n",
    "else:\n",
    "      print('Не получилось отвергнуть нулевую гипотезу')"
   ]
  },
  {
   "cell_type": "markdown",
   "id": "316180dc",
   "metadata": {},
   "source": [
    "Отвергли нулевую гипотезу о равенстве средних месячных выручек с подпиской и без в пользу правосторонней альтернативной, то есть получили, что от пользователей с подпиской действительно выручка выше."
   ]
  },
  {
   "cell_type": "markdown",
   "id": "20dfa770",
   "metadata": {},
   "source": [
    "### Представим такую ситуацию: техническая команда сервиса обновила сервера, с которыми взаимодействует мобильное приложение. Она надеется, что из-за этого количество обращений в техподдержку значимо снизилось. Некоторый файл содержит для каждого пользователя данные о количестве обращений до обновления и после него. Какой тест нам понадобился бы для проверки этой гипотезы?"
   ]
  },
  {
   "cell_type": "markdown",
   "id": "7b8ff4c4",
   "metadata": {},
   "source": [
    "Выборки в этом случае будут зависимыми, парными.\n",
    "Чтобы проверить гипотезу о равенстве среднего генеральной совокупности для выборок \"до\" и \"после\" используется метод st.ttest_rel(). А чтобы проверить, что обновление снизило количество обращений, нужно использовать правостороннюю альтернативную гипотезу."
   ]
  },
  {
   "cell_type": "markdown",
   "id": "8ce714f8",
   "metadata": {},
   "source": [
    "## Распределения"
   ]
  },
  {
   "cell_type": "markdown",
   "id": "bc885f22",
   "metadata": {},
   "source": [
    "###   \n",
    "**Отделу маркетинга GoFast поставили задачу: нужно провести акцию с раздачей промокодов на один бесплатный месяц подписки, в рамках которой как минимум 100 существующих клиентов должны продлить эту подписку. То есть по завершении периода действия подписки пользователь может либо отказаться от неё, либо продлить, совершив соответствующий платёж. \n",
    "Эта акция уже проводилась ранее и по итогу выяснилось, что после бесплатного пробного периода подписку продлевают \n",
    "10% пользователей. Выясните, какое минимальное количество промокодов нужно разослать, чтобы вероятность не выполнить план была примерно 5%. Подберите параметры распределения, описывающего эту ситуацию, постройте график распределения и сформулируйте ответ на вопрос о количестве промокодов.**"
   ]
  },
  {
   "cell_type": "markdown",
   "id": "7fff2968",
   "metadata": {},
   "source": [
    "Используем биномиальное распределение, поскольку можем получить только два исхода - пользователь либо продлит подписку, либо нет. Подберём подходящее значение параметра N для заданного параметра p=0.1 с помощью метода cdf().  \n",
    "  \n",
    "Можем предположить, что 100 клиентов (параметр k), продливших подписку, это и есть 10% от всех (параметр p), кто получил промокод. При этом по условию план может быть выполнен примерно на 5%.\n",
    "\n",
    "Подбор сделаем через цикл while и метод cdf(), который возвращает вероятность получить значение, равное или меньше."
   ]
  },
  {
   "cell_type": "code",
   "execution_count": 45,
   "id": "950ebd45",
   "metadata": {},
   "outputs": [
    {
     "name": "stdout",
     "output_type": "stream",
     "text": [
      "Минимальное количество промокодов: 1172\n",
      "Вероятность не выполнить план при таком количестве промокодов: 4.955%\n"
     ]
    }
   ],
   "source": [
    "k = 100      # целевое количество клиентов для продления подписки\n",
    "p = 0.1      # вероятность продления подписки\n",
    "\n",
    "n = 1\n",
    "while binom.cdf(k, n, p) > 0.05:\n",
    "    n += 1\n",
    "\n",
    "print(f\"Минимальное количество промокодов: {n}\")\n",
    "print(f\"Вероятность не выполнить план при таком количестве промокодов: {binom.cdf(k, n, p):.3%}\")"
   ]
  },
  {
   "cell_type": "markdown",
   "id": "1db35d8b",
   "metadata": {},
   "source": [
    "Получили, что 95% успеха получить 100 продлений подписки будет при 1172х разосланных промокодов"
   ]
  },
  {
   "cell_type": "markdown",
   "id": "3dc23d27",
   "metadata": {},
   "source": [
    "### \n",
    "**Отдел маркетинга рассылает клиентам push-уведомления в мобильном приложении. Клиенты могут открыть его или не открывать. Известно, что уведомления открывают около 40 % получивших клиентов. Отдел планирует разослать 1 млн уведомлений. С помощью аппроксимации постройте примерный график распределения и оцените вероятность того, что уведомление откроют не более 399,5 тыс. пользователей.**"
   ]
  },
  {
   "cell_type": "markdown",
   "id": "26f7727f",
   "metadata": {},
   "source": [
    "Эта ситуация тоже описывается биномиальным распределением - откроет клиент уведомление или нет. Но считать каждое отдельное значение достаточно долго. Можем воспользоваться нормальной аппроксимацией биномиального распределения и cdf() для быстрой оценки."
   ]
  },
  {
   "cell_type": "code",
   "execution_count": 46,
   "id": "45671563",
   "metadata": {},
   "outputs": [
    {
     "data": {
      "text/plain": [
       "0.15371708296369768"
      ]
     },
     "execution_count": 46,
     "metadata": {},
     "output_type": "execute_result"
    }
   ],
   "source": [
    "# задаём параметры биномиального распределения\n",
    "n = 1000000  \n",
    "p = 0.4 \n",
    "\n",
    "# рассчитываем параметры нормального распределения\n",
    "mu = n*p \n",
    "sigma = sqrt(n*p*(1-p))\n",
    "\n",
    "# задаём нормальное распределение\n",
    "distr = st.norm(mu, sigma)\n",
    "\n",
    "# находим вероятность\n",
    "result = distr.cdf(399500)\n",
    "result"
   ]
  },
  {
   "cell_type": "markdown",
   "id": "6b671c08",
   "metadata": {},
   "source": [
    "Получили, что вероятность того, что уведомление откроют до 399500 пользователей - 15.4%."
   ]
  },
  {
   "cell_type": "markdown",
   "id": "f57715a3",
   "metadata": {},
   "source": [
    "## Итоговый вывод \n",
    "\n",
    "   В данном проекте для популярного сервиса аренды самокатов GoFast нам передали данные о некоторых пользователях из нескольких городов, а также об их поездках. Мы проанализировали данные и проверили некоторые гипотезы, которые могут помочь бизнесу вырасти.  \n",
    "    \n",
    "   Сначала мы провели предобработку данных, изменив тип столбца с датой поездки для последующей выгрузки данных по каждому месяцу, а также проверили наличие и удалили дубликаты в данных по пользователям.  \n",
    "    \n",
    "   Затем провели исследовательский анализ данных, изучив:  \n",
    "  - частоту встречаемости городов - всего их 8, чаще встречается Пятигорск и Екатеринбург, реже Тюмень и Москва, но в целом разброс между всеми городами небольшой, около 50 пользователей,  \n",
    "  - соотношения пользователей с подпиской и без - без подписки немного больше, чем с ней, 54% против 46,  \n",
    "  - их возраст - больше всего пользователей около 25 лет и в целом молодёжи от 20 до 30 лет, минимальный возраст 12 лет, максимальный 43,  \n",
    "  - расстояние - немного популярны короткие поездки на 600-700 метров, а самые распространённые - около 3х километров,  \n",
    "  - и время их поездок - чаще всего самокаты арендуют для поездок на 15-20 минут.\n",
    "    \n",
    "    \n",
    "   Объединили все данные в один датафрейм, чтобы собрать всю информацию отдельно по пользователям с подпиской и без для дальнейшего анализа, в частности подсчёта ежемесячной выручки, и визуализировали информацию о расстоянии и времени поездок для пользователей обеих категорий: получили, что графики расстояния и времени поездок похожи, разве что первая мода расстояния у пользователей с подпиской сдвинута ближе к километру, против 600-700 метров - без подписки. Также у пользователей без подписки видим много поездок с длительностью в полминуты, но с достаточно большими дистанциями, что можно объяснить либо сбоями либо какой-нибудь акцией с бесплатными минутами.  \n",
    "     \n",
    "   Подсчитали выручку для каждого пользователя за каждый месяц и добавили её в отдельный столбец таблицы.  \n",
    "   \n",
    "   И в конце проверили гипотезы, которые помогут менеждерам увеличить число пользователей с подпиской:  \n",
    "   - отвергли нулевую гипотезу о равенстве средних продолжительностей поездок с подпиской и без в пользу правосторонней альтернативной, то есть получили, что пользователи с подпиской действительно тратят больше времени на поездки,  \n",
    "   - проверили гипотезу, и получили, что среднее расстояние, которое проезжают пользователи с подпиской за одну поездку, с большой долей вероятности не превышает 3130 метров, что оптимально с точки зрения износа самоката,  \n",
    "   - отвергли нулевую гипотезу о равенстве средних месячных выручек с подпиской и без в пользу правосторонней альтернативной, то есть получили, что от пользователей с подпиской действительно выручка выше.  \n",
    "   \n",
    "   \n",
    "Можем дать рекомендации добавить проверку наличия пользователя в базе и предложение ему восстановить свою учётную запись во избежание появления дубликатов пользователей. А для увеличения прибыли порекомендуем пересмотреть условия подписок для стимулирования пользователей с подпиской больше и дольше кататья на самокатах, а пользователей без подписки - оформлять её."
   ]
  }
 ],
 "metadata": {
  "ExecuteTimeLog": [
   {
    "duration": 381,
    "start_time": "2024-04-22T17:45:25.921Z"
   },
   {
    "duration": 74,
    "start_time": "2024-04-22T17:45:27.456Z"
   },
   {
    "duration": 37,
    "start_time": "2024-04-22T17:45:42.231Z"
   },
   {
    "duration": 16,
    "start_time": "2024-04-22T17:51:07.021Z"
   },
   {
    "duration": 100,
    "start_time": "2024-04-22T17:52:27.597Z"
   },
   {
    "duration": 432,
    "start_time": "2024-04-22T17:54:32.349Z"
   },
   {
    "duration": 38,
    "start_time": "2024-04-22T17:54:32.783Z"
   },
   {
    "duration": 16,
    "start_time": "2024-04-22T17:54:32.822Z"
   },
   {
    "duration": 36,
    "start_time": "2024-04-22T17:54:32.840Z"
   },
   {
    "duration": 64,
    "start_time": "2024-04-22T17:54:32.878Z"
   },
   {
    "duration": 9,
    "start_time": "2024-04-22T17:55:25.238Z"
   },
   {
    "duration": 80,
    "start_time": "2024-04-22T17:57:24.960Z"
   },
   {
    "duration": 8,
    "start_time": "2024-04-22T17:59:37.108Z"
   },
   {
    "duration": 91,
    "start_time": "2024-04-22T18:03:39.814Z"
   },
   {
    "duration": 483,
    "start_time": "2024-04-22T18:04:51.669Z"
   },
   {
    "duration": 36,
    "start_time": "2024-04-22T18:11:29.281Z"
   },
   {
    "duration": 880,
    "start_time": "2024-04-22T18:12:00.254Z"
   },
   {
    "duration": 37,
    "start_time": "2024-04-22T18:12:01.136Z"
   },
   {
    "duration": 20,
    "start_time": "2024-04-22T18:12:01.175Z"
   },
   {
    "duration": 78,
    "start_time": "2024-04-22T18:12:01.197Z"
   },
   {
    "duration": 9,
    "start_time": "2024-04-22T18:12:01.277Z"
   },
   {
    "duration": 104,
    "start_time": "2024-04-22T18:12:01.288Z"
   },
   {
    "duration": 13,
    "start_time": "2024-04-22T18:12:01.393Z"
   },
   {
    "duration": 130,
    "start_time": "2024-04-22T18:12:01.407Z"
   },
   {
    "duration": 14,
    "start_time": "2024-04-22T18:12:15.785Z"
   },
   {
    "duration": 28,
    "start_time": "2024-04-22T18:12:21.832Z"
   },
   {
    "duration": 5,
    "start_time": "2024-04-22T18:13:47.826Z"
   },
   {
    "duration": 11,
    "start_time": "2024-04-22T18:14:01.279Z"
   },
   {
    "duration": 17,
    "start_time": "2024-04-22T18:14:47.642Z"
   },
   {
    "duration": 20,
    "start_time": "2024-04-22T18:15:06.152Z"
   },
   {
    "duration": 20,
    "start_time": "2024-04-22T18:15:58.896Z"
   },
   {
    "duration": 18,
    "start_time": "2024-04-22T18:16:09.043Z"
   },
   {
    "duration": 79,
    "start_time": "2024-04-22T18:16:25.840Z"
   },
   {
    "duration": 873,
    "start_time": "2024-04-22T18:16:44.035Z"
   },
   {
    "duration": 38,
    "start_time": "2024-04-22T18:16:44.910Z"
   },
   {
    "duration": 22,
    "start_time": "2024-04-22T18:16:44.951Z"
   },
   {
    "duration": 42,
    "start_time": "2024-04-22T18:16:44.975Z"
   },
   {
    "duration": 9,
    "start_time": "2024-04-22T18:16:45.018Z"
   },
   {
    "duration": 55,
    "start_time": "2024-04-22T18:16:45.029Z"
   },
   {
    "duration": 7,
    "start_time": "2024-04-22T18:16:45.086Z"
   },
   {
    "duration": 66,
    "start_time": "2024-04-22T18:16:45.095Z"
   },
   {
    "duration": 19,
    "start_time": "2024-04-22T18:16:45.162Z"
   },
   {
    "duration": 8,
    "start_time": "2024-04-22T18:48:42.727Z"
   },
   {
    "duration": 4,
    "start_time": "2024-04-22T18:49:45.573Z"
   },
   {
    "duration": 7,
    "start_time": "2024-04-22T18:50:02.373Z"
   },
   {
    "duration": 9,
    "start_time": "2024-04-22T18:50:45.199Z"
   },
   {
    "duration": 838,
    "start_time": "2024-04-22T18:52:00.606Z"
   },
   {
    "duration": 38,
    "start_time": "2024-04-22T18:52:01.446Z"
   },
   {
    "duration": 14,
    "start_time": "2024-04-22T18:52:01.486Z"
   },
   {
    "duration": 64,
    "start_time": "2024-04-22T18:52:01.502Z"
   },
   {
    "duration": 50,
    "start_time": "2024-04-22T18:52:01.569Z"
   },
   {
    "duration": 65,
    "start_time": "2024-04-22T18:52:01.621Z"
   },
   {
    "duration": 41,
    "start_time": "2024-04-22T18:52:01.688Z"
   },
   {
    "duration": 118,
    "start_time": "2024-04-22T18:52:01.730Z"
   },
   {
    "duration": 58,
    "start_time": "2024-04-22T18:52:01.850Z"
   },
   {
    "duration": 28,
    "start_time": "2024-04-22T18:52:01.910Z"
   },
   {
    "duration": 65,
    "start_time": "2024-04-22T18:52:01.940Z"
   },
   {
    "duration": 66,
    "start_time": "2024-04-22T18:52:02.006Z"
   },
   {
    "duration": 844,
    "start_time": "2024-04-22T18:56:35.380Z"
   },
   {
    "duration": 37,
    "start_time": "2024-04-22T18:56:36.226Z"
   },
   {
    "duration": 16,
    "start_time": "2024-04-22T18:56:36.265Z"
   },
   {
    "duration": 41,
    "start_time": "2024-04-22T18:56:36.283Z"
   },
   {
    "duration": 9,
    "start_time": "2024-04-22T18:56:36.326Z"
   },
   {
    "duration": 33,
    "start_time": "2024-04-22T18:56:36.337Z"
   },
   {
    "duration": 6,
    "start_time": "2024-04-22T18:56:36.372Z"
   },
   {
    "duration": 41,
    "start_time": "2024-04-22T18:56:36.380Z"
   },
   {
    "duration": 11,
    "start_time": "2024-04-22T18:56:36.423Z"
   },
   {
    "duration": 16,
    "start_time": "2024-04-22T18:56:36.435Z"
   },
   {
    "duration": 19,
    "start_time": "2024-04-22T18:56:36.453Z"
   },
   {
    "duration": 20,
    "start_time": "2024-04-22T18:56:36.474Z"
   },
   {
    "duration": 50,
    "start_time": "2024-04-23T17:02:50.331Z"
   },
   {
    "duration": 924,
    "start_time": "2024-04-23T17:03:00.192Z"
   },
   {
    "duration": 86,
    "start_time": "2024-04-23T17:03:01.118Z"
   },
   {
    "duration": 17,
    "start_time": "2024-04-23T17:03:01.206Z"
   },
   {
    "duration": 127,
    "start_time": "2024-04-23T17:03:01.224Z"
   },
   {
    "duration": 9,
    "start_time": "2024-04-23T17:03:01.353Z"
   },
   {
    "duration": 115,
    "start_time": "2024-04-23T17:03:01.364Z"
   },
   {
    "duration": 8,
    "start_time": "2024-04-23T17:03:01.481Z"
   },
   {
    "duration": 39,
    "start_time": "2024-04-23T17:03:01.491Z"
   },
   {
    "duration": 22,
    "start_time": "2024-04-23T17:03:01.532Z"
   },
   {
    "duration": 8,
    "start_time": "2024-04-23T17:03:01.555Z"
   },
   {
    "duration": 45,
    "start_time": "2024-04-23T17:03:01.565Z"
   },
   {
    "duration": 23,
    "start_time": "2024-04-23T17:03:01.612Z"
   },
   {
    "duration": 30,
    "start_time": "2024-04-23T17:03:01.636Z"
   },
   {
    "duration": 7,
    "start_time": "2024-04-23T17:03:59.636Z"
   },
   {
    "duration": 7,
    "start_time": "2024-04-23T17:04:56.109Z"
   },
   {
    "duration": 96,
    "start_time": "2024-04-23T17:18:21.836Z"
   },
   {
    "duration": 600,
    "start_time": "2024-04-23T17:18:42.242Z"
   },
   {
    "duration": 141,
    "start_time": "2024-04-23T17:19:18.764Z"
   },
   {
    "duration": 47,
    "start_time": "2024-04-23T17:19:23.114Z"
   },
   {
    "duration": 141,
    "start_time": "2024-04-23T17:19:30.505Z"
   },
   {
    "duration": 174,
    "start_time": "2024-04-23T17:20:00.056Z"
   },
   {
    "duration": 17,
    "start_time": "2024-04-23T17:23:26.163Z"
   },
   {
    "duration": 23104,
    "start_time": "2024-04-23T17:23:36.825Z"
   },
   {
    "duration": 8,
    "start_time": "2024-04-23T17:29:26.195Z"
   },
   {
    "duration": 5,
    "start_time": "2024-04-23T17:29:36.204Z"
   },
   {
    "duration": 131,
    "start_time": "2024-04-23T17:30:01.211Z"
   },
   {
    "duration": 142,
    "start_time": "2024-04-23T17:30:20.235Z"
   },
   {
    "duration": 1201,
    "start_time": "2024-04-23T17:30:26.651Z"
   },
   {
    "duration": 41,
    "start_time": "2024-04-23T17:30:27.854Z"
   },
   {
    "duration": 12,
    "start_time": "2024-04-23T17:30:27.899Z"
   },
   {
    "duration": 53,
    "start_time": "2024-04-23T17:30:27.913Z"
   },
   {
    "duration": 16,
    "start_time": "2024-04-23T17:30:27.968Z"
   },
   {
    "duration": 26,
    "start_time": "2024-04-23T17:30:27.985Z"
   },
   {
    "duration": 7,
    "start_time": "2024-04-23T17:30:28.013Z"
   },
   {
    "duration": 35,
    "start_time": "2024-04-23T17:30:28.021Z"
   },
   {
    "duration": 10,
    "start_time": "2024-04-23T17:30:28.058Z"
   },
   {
    "duration": 13,
    "start_time": "2024-04-23T17:30:28.069Z"
   },
   {
    "duration": 7,
    "start_time": "2024-04-23T17:30:28.084Z"
   },
   {
    "duration": 28,
    "start_time": "2024-04-23T17:30:28.092Z"
   },
   {
    "duration": 32,
    "start_time": "2024-04-23T17:30:28.123Z"
   },
   {
    "duration": 147,
    "start_time": "2024-04-23T17:30:28.157Z"
   },
   {
    "duration": 137,
    "start_time": "2024-04-23T17:31:04.014Z"
   },
   {
    "duration": 6,
    "start_time": "2024-04-23T17:38:59.919Z"
   },
   {
    "duration": 116,
    "start_time": "2024-04-23T17:39:25.766Z"
   },
   {
    "duration": 102,
    "start_time": "2024-04-23T17:40:39.030Z"
   },
   {
    "duration": 70,
    "start_time": "2024-04-23T17:40:54.442Z"
   },
   {
    "duration": 78,
    "start_time": "2024-04-23T17:43:05.651Z"
   },
   {
    "duration": 130,
    "start_time": "2024-04-23T17:43:40.675Z"
   },
   {
    "duration": 6,
    "start_time": "2024-04-23T17:45:37.591Z"
   },
   {
    "duration": 109,
    "start_time": "2024-04-23T17:46:41.014Z"
   },
   {
    "duration": 176,
    "start_time": "2024-04-23T17:46:48.764Z"
   },
   {
    "duration": 191,
    "start_time": "2024-04-23T17:47:32.568Z"
   },
   {
    "duration": 168,
    "start_time": "2024-04-23T17:47:55.464Z"
   },
   {
    "duration": 225,
    "start_time": "2024-04-23T17:48:00.683Z"
   },
   {
    "duration": 159,
    "start_time": "2024-04-23T17:48:38.103Z"
   },
   {
    "duration": 157,
    "start_time": "2024-04-23T17:48:42.973Z"
   },
   {
    "duration": 156,
    "start_time": "2024-04-23T17:48:58.431Z"
   },
   {
    "duration": 188,
    "start_time": "2024-04-23T17:56:07.973Z"
   },
   {
    "duration": 220,
    "start_time": "2024-04-23T17:56:22.565Z"
   },
   {
    "duration": 243,
    "start_time": "2024-04-23T17:56:37.756Z"
   },
   {
    "duration": 243,
    "start_time": "2024-04-23T17:56:47.395Z"
   },
   {
    "duration": 279,
    "start_time": "2024-04-23T18:01:02.038Z"
   },
   {
    "duration": 308,
    "start_time": "2024-04-23T18:01:18.723Z"
   },
   {
    "duration": 232,
    "start_time": "2024-04-23T18:01:36.260Z"
   },
   {
    "duration": 243,
    "start_time": "2024-04-23T18:01:39.784Z"
   },
   {
    "duration": 232,
    "start_time": "2024-04-23T18:01:45.745Z"
   },
   {
    "duration": 224,
    "start_time": "2024-04-23T18:01:52.603Z"
   },
   {
    "duration": 227,
    "start_time": "2024-04-23T18:02:00.737Z"
   },
   {
    "duration": 252,
    "start_time": "2024-04-23T18:02:19.043Z"
   },
   {
    "duration": 237,
    "start_time": "2024-04-23T18:02:26.517Z"
   },
   {
    "duration": 243,
    "start_time": "2024-04-23T18:02:49.768Z"
   },
   {
    "duration": 215,
    "start_time": "2024-04-23T18:02:57.080Z"
   },
   {
    "duration": 245,
    "start_time": "2024-04-23T18:03:42.872Z"
   },
   {
    "duration": 340,
    "start_time": "2024-04-23T18:03:49.099Z"
   },
   {
    "duration": 18,
    "start_time": "2024-04-23T18:17:57.469Z"
   },
   {
    "duration": 17,
    "start_time": "2024-04-23T18:18:21.962Z"
   },
   {
    "duration": 17,
    "start_time": "2024-04-23T18:18:25.666Z"
   },
   {
    "duration": 28,
    "start_time": "2024-04-23T18:18:28.187Z"
   },
   {
    "duration": 11,
    "start_time": "2024-04-23T18:19:51.206Z"
   },
   {
    "duration": 40,
    "start_time": "2024-04-23T18:21:18.688Z"
   },
   {
    "duration": 39,
    "start_time": "2024-04-23T18:21:32.307Z"
   },
   {
    "duration": 54,
    "start_time": "2024-04-23T18:21:39.697Z"
   },
   {
    "duration": 53,
    "start_time": "2024-04-23T18:21:46.546Z"
   },
   {
    "duration": 68,
    "start_time": "2024-04-23T18:22:25.286Z"
   },
   {
    "duration": 55,
    "start_time": "2024-04-23T18:22:29.175Z"
   },
   {
    "duration": 50,
    "start_time": "2024-04-23T18:22:43.978Z"
   },
   {
    "duration": 1105,
    "start_time": "2024-04-23T18:23:54.228Z"
   },
   {
    "duration": 40,
    "start_time": "2024-04-23T18:23:55.336Z"
   },
   {
    "duration": 19,
    "start_time": "2024-04-23T18:23:55.378Z"
   },
   {
    "duration": 39,
    "start_time": "2024-04-23T18:23:55.399Z"
   },
   {
    "duration": 9,
    "start_time": "2024-04-23T18:23:55.440Z"
   },
   {
    "duration": 45,
    "start_time": "2024-04-23T18:23:55.451Z"
   },
   {
    "duration": 8,
    "start_time": "2024-04-23T18:23:55.498Z"
   },
   {
    "duration": 20,
    "start_time": "2024-04-23T18:23:55.508Z"
   },
   {
    "duration": 11,
    "start_time": "2024-04-23T18:23:55.529Z"
   },
   {
    "duration": 7,
    "start_time": "2024-04-23T18:23:55.542Z"
   },
   {
    "duration": 37,
    "start_time": "2024-04-23T18:23:55.550Z"
   },
   {
    "duration": 13,
    "start_time": "2024-04-23T18:23:55.588Z"
   },
   {
    "duration": 9,
    "start_time": "2024-04-23T18:23:55.603Z"
   },
   {
    "duration": 230,
    "start_time": "2024-04-23T18:23:55.617Z"
   },
   {
    "duration": 6,
    "start_time": "2024-04-23T18:23:55.849Z"
   },
   {
    "duration": 167,
    "start_time": "2024-04-23T18:23:55.857Z"
   },
   {
    "duration": 6,
    "start_time": "2024-04-23T18:23:56.026Z"
   },
   {
    "duration": 217,
    "start_time": "2024-04-23T18:23:56.033Z"
   },
   {
    "duration": 264,
    "start_time": "2024-04-23T18:23:56.251Z"
   },
   {
    "duration": 229,
    "start_time": "2024-04-23T18:23:56.516Z"
   },
   {
    "duration": 50,
    "start_time": "2024-04-23T18:23:56.747Z"
   },
   {
    "duration": 42,
    "start_time": "2024-04-23T18:28:34.178Z"
   },
   {
    "duration": 16,
    "start_time": "2024-04-23T18:29:06.902Z"
   },
   {
    "duration": 14,
    "start_time": "2024-04-23T18:29:14.645Z"
   },
   {
    "duration": 24,
    "start_time": "2024-04-23T18:29:39.157Z"
   },
   {
    "duration": 23,
    "start_time": "2024-04-23T18:29:57.610Z"
   },
   {
    "duration": 139,
    "start_time": "2024-04-23T18:48:00.062Z"
   },
   {
    "duration": 139,
    "start_time": "2024-04-23T18:49:25.124Z"
   },
   {
    "duration": 136,
    "start_time": "2024-04-23T18:50:44.124Z"
   },
   {
    "duration": 206,
    "start_time": "2024-04-23T18:51:00.022Z"
   },
   {
    "duration": 130,
    "start_time": "2024-04-23T18:52:53.179Z"
   },
   {
    "duration": 144,
    "start_time": "2024-04-23T18:53:10.568Z"
   },
   {
    "duration": 181,
    "start_time": "2024-04-23T18:54:07.186Z"
   },
   {
    "duration": 180,
    "start_time": "2024-04-23T18:55:29.008Z"
   },
   {
    "duration": 174,
    "start_time": "2024-04-23T18:55:45.897Z"
   },
   {
    "duration": 195,
    "start_time": "2024-04-23T18:55:59.587Z"
   },
   {
    "duration": 1263,
    "start_time": "2024-04-23T18:58:50.964Z"
   },
   {
    "duration": 39,
    "start_time": "2024-04-23T18:58:52.229Z"
   },
   {
    "duration": 12,
    "start_time": "2024-04-23T18:58:52.269Z"
   },
   {
    "duration": 42,
    "start_time": "2024-04-23T18:58:52.283Z"
   },
   {
    "duration": 10,
    "start_time": "2024-04-23T18:58:52.327Z"
   },
   {
    "duration": 31,
    "start_time": "2024-04-23T18:58:52.338Z"
   },
   {
    "duration": 6,
    "start_time": "2024-04-23T18:58:52.371Z"
   },
   {
    "duration": 41,
    "start_time": "2024-04-23T18:58:52.378Z"
   },
   {
    "duration": 10,
    "start_time": "2024-04-23T18:58:52.421Z"
   },
   {
    "duration": 5,
    "start_time": "2024-04-23T18:58:52.433Z"
   },
   {
    "duration": 9,
    "start_time": "2024-04-23T18:58:52.439Z"
   },
   {
    "duration": 12,
    "start_time": "2024-04-23T18:58:52.450Z"
   },
   {
    "duration": 20,
    "start_time": "2024-04-23T18:58:52.463Z"
   },
   {
    "duration": 208,
    "start_time": "2024-04-23T18:58:52.487Z"
   },
   {
    "duration": 9,
    "start_time": "2024-04-23T18:58:52.698Z"
   },
   {
    "duration": 161,
    "start_time": "2024-04-23T18:58:52.708Z"
   },
   {
    "duration": 15,
    "start_time": "2024-04-23T18:58:52.871Z"
   },
   {
    "duration": 223,
    "start_time": "2024-04-23T18:58:52.887Z"
   },
   {
    "duration": 294,
    "start_time": "2024-04-23T18:58:53.112Z"
   },
   {
    "duration": 238,
    "start_time": "2024-04-23T18:58:53.407Z"
   },
   {
    "duration": 45,
    "start_time": "2024-04-23T18:58:53.647Z"
   },
   {
    "duration": 38,
    "start_time": "2024-04-23T18:58:53.695Z"
   },
   {
    "duration": 27,
    "start_time": "2024-04-23T18:58:53.735Z"
   },
   {
    "duration": 200,
    "start_time": "2024-04-23T18:58:53.781Z"
   },
   {
    "duration": 231,
    "start_time": "2024-04-23T18:58:53.983Z"
   },
   {
    "duration": 44,
    "start_time": "2024-04-23T19:01:37.317Z"
   },
   {
    "duration": 1189,
    "start_time": "2024-04-23T19:06:45.682Z"
   },
   {
    "duration": 41,
    "start_time": "2024-04-23T19:06:46.873Z"
   },
   {
    "duration": 13,
    "start_time": "2024-04-23T19:06:46.915Z"
   },
   {
    "duration": 38,
    "start_time": "2024-04-23T19:06:46.929Z"
   },
   {
    "duration": 9,
    "start_time": "2024-04-23T19:06:46.969Z"
   },
   {
    "duration": 25,
    "start_time": "2024-04-23T19:06:46.980Z"
   },
   {
    "duration": 7,
    "start_time": "2024-04-23T19:06:47.007Z"
   },
   {
    "duration": 21,
    "start_time": "2024-04-23T19:06:47.016Z"
   },
   {
    "duration": 10,
    "start_time": "2024-04-23T19:06:47.039Z"
   },
   {
    "duration": 5,
    "start_time": "2024-04-23T19:06:47.051Z"
   },
   {
    "duration": 25,
    "start_time": "2024-04-23T19:06:47.058Z"
   },
   {
    "duration": 10,
    "start_time": "2024-04-23T19:06:47.085Z"
   },
   {
    "duration": 11,
    "start_time": "2024-04-23T19:06:47.097Z"
   },
   {
    "duration": 190,
    "start_time": "2024-04-23T19:06:47.111Z"
   },
   {
    "duration": 7,
    "start_time": "2024-04-23T19:06:47.303Z"
   },
   {
    "duration": 166,
    "start_time": "2024-04-23T19:06:47.312Z"
   },
   {
    "duration": 9,
    "start_time": "2024-04-23T19:06:47.481Z"
   },
   {
    "duration": 234,
    "start_time": "2024-04-23T19:06:47.492Z"
   },
   {
    "duration": 271,
    "start_time": "2024-04-23T19:06:47.727Z"
   },
   {
    "duration": 229,
    "start_time": "2024-04-23T19:06:48.000Z"
   },
   {
    "duration": 36,
    "start_time": "2024-04-23T19:06:48.231Z"
   },
   {
    "duration": 37,
    "start_time": "2024-04-23T19:06:48.269Z"
   },
   {
    "duration": 22,
    "start_time": "2024-04-23T19:06:48.308Z"
   },
   {
    "duration": 206,
    "start_time": "2024-04-23T19:06:48.332Z"
   },
   {
    "duration": 214,
    "start_time": "2024-04-23T19:06:48.540Z"
   },
   {
    "duration": 1337,
    "start_time": "2024-04-24T14:43:47.679Z"
   },
   {
    "duration": 84,
    "start_time": "2024-04-24T14:43:49.018Z"
   },
   {
    "duration": 12,
    "start_time": "2024-04-24T14:43:49.103Z"
   },
   {
    "duration": 85,
    "start_time": "2024-04-24T14:43:49.116Z"
   },
   {
    "duration": 9,
    "start_time": "2024-04-24T14:43:49.203Z"
   },
   {
    "duration": 71,
    "start_time": "2024-04-24T14:43:49.213Z"
   },
   {
    "duration": 6,
    "start_time": "2024-04-24T14:43:49.286Z"
   },
   {
    "duration": 20,
    "start_time": "2024-04-24T14:43:49.293Z"
   },
   {
    "duration": 10,
    "start_time": "2024-04-24T14:43:49.315Z"
   },
   {
    "duration": 6,
    "start_time": "2024-04-24T14:43:49.326Z"
   },
   {
    "duration": 6,
    "start_time": "2024-04-24T14:43:49.333Z"
   },
   {
    "duration": 44,
    "start_time": "2024-04-24T14:43:49.340Z"
   },
   {
    "duration": 6,
    "start_time": "2024-04-24T14:43:49.386Z"
   },
   {
    "duration": 179,
    "start_time": "2024-04-24T14:43:49.394Z"
   },
   {
    "duration": 7,
    "start_time": "2024-04-24T14:43:49.575Z"
   },
   {
    "duration": 150,
    "start_time": "2024-04-24T14:43:49.584Z"
   },
   {
    "duration": 5,
    "start_time": "2024-04-24T14:43:49.736Z"
   },
   {
    "duration": 211,
    "start_time": "2024-04-24T14:43:49.742Z"
   },
   {
    "duration": 246,
    "start_time": "2024-04-24T14:43:49.954Z"
   },
   {
    "duration": 230,
    "start_time": "2024-04-24T14:43:50.202Z"
   },
   {
    "duration": 34,
    "start_time": "2024-04-24T14:43:50.434Z"
   },
   {
    "duration": 36,
    "start_time": "2024-04-24T14:43:50.470Z"
   },
   {
    "duration": 22,
    "start_time": "2024-04-24T14:43:50.508Z"
   },
   {
    "duration": 200,
    "start_time": "2024-04-24T14:43:50.531Z"
   },
   {
    "duration": 194,
    "start_time": "2024-04-24T14:43:50.733Z"
   },
   {
    "duration": 25,
    "start_time": "2024-04-24T14:48:08.390Z"
   },
   {
    "duration": 27,
    "start_time": "2024-04-24T14:48:18.588Z"
   },
   {
    "duration": 1193,
    "start_time": "2024-04-24T14:48:36.446Z"
   },
   {
    "duration": 38,
    "start_time": "2024-04-24T14:48:37.640Z"
   },
   {
    "duration": 11,
    "start_time": "2024-04-24T14:48:37.680Z"
   },
   {
    "duration": 36,
    "start_time": "2024-04-24T14:48:37.693Z"
   },
   {
    "duration": 9,
    "start_time": "2024-04-24T14:48:37.731Z"
   },
   {
    "duration": 22,
    "start_time": "2024-04-24T14:48:37.742Z"
   },
   {
    "duration": 17,
    "start_time": "2024-04-24T14:48:37.766Z"
   },
   {
    "duration": 22,
    "start_time": "2024-04-24T14:48:37.784Z"
   },
   {
    "duration": 10,
    "start_time": "2024-04-24T14:48:37.807Z"
   },
   {
    "duration": 5,
    "start_time": "2024-04-24T14:48:37.820Z"
   },
   {
    "duration": 8,
    "start_time": "2024-04-24T14:48:37.826Z"
   },
   {
    "duration": 8,
    "start_time": "2024-04-24T14:48:37.836Z"
   },
   {
    "duration": 42,
    "start_time": "2024-04-24T14:48:37.846Z"
   },
   {
    "duration": 187,
    "start_time": "2024-04-24T14:48:37.889Z"
   },
   {
    "duration": 9,
    "start_time": "2024-04-24T14:48:38.078Z"
   },
   {
    "duration": 154,
    "start_time": "2024-04-24T14:48:38.089Z"
   },
   {
    "duration": 5,
    "start_time": "2024-04-24T14:48:38.245Z"
   },
   {
    "duration": 219,
    "start_time": "2024-04-24T14:48:38.252Z"
   },
   {
    "duration": 252,
    "start_time": "2024-04-24T14:48:38.472Z"
   },
   {
    "duration": 223,
    "start_time": "2024-04-24T14:48:38.725Z"
   },
   {
    "duration": 42,
    "start_time": "2024-04-24T14:48:38.949Z"
   },
   {
    "duration": 25,
    "start_time": "2024-04-24T14:48:38.992Z"
   },
   {
    "duration": 24,
    "start_time": "2024-04-24T14:48:39.019Z"
   },
   {
    "duration": 209,
    "start_time": "2024-04-24T14:48:39.045Z"
   },
   {
    "duration": 198,
    "start_time": "2024-04-24T14:48:39.255Z"
   },
   {
    "duration": 188,
    "start_time": "2024-04-24T14:54:00.670Z"
   },
   {
    "duration": 249,
    "start_time": "2024-04-24T14:54:14.260Z"
   },
   {
    "duration": 20,
    "start_time": "2024-04-24T14:55:34.240Z"
   },
   {
    "duration": 14,
    "start_time": "2024-04-24T14:59:59.366Z"
   },
   {
    "duration": 1135,
    "start_time": "2024-04-24T15:00:40.529Z"
   },
   {
    "duration": 38,
    "start_time": "2024-04-24T15:00:41.666Z"
   },
   {
    "duration": 12,
    "start_time": "2024-04-24T15:00:41.705Z"
   },
   {
    "duration": 37,
    "start_time": "2024-04-24T15:00:41.719Z"
   },
   {
    "duration": 9,
    "start_time": "2024-04-24T15:00:41.758Z"
   },
   {
    "duration": 24,
    "start_time": "2024-04-24T15:00:41.769Z"
   },
   {
    "duration": 7,
    "start_time": "2024-04-24T15:00:41.795Z"
   },
   {
    "duration": 34,
    "start_time": "2024-04-24T15:00:41.804Z"
   },
   {
    "duration": 11,
    "start_time": "2024-04-24T15:00:41.839Z"
   },
   {
    "duration": 6,
    "start_time": "2024-04-24T15:00:41.851Z"
   },
   {
    "duration": 6,
    "start_time": "2024-04-24T15:00:41.858Z"
   },
   {
    "duration": 10,
    "start_time": "2024-04-24T15:00:41.883Z"
   },
   {
    "duration": 5,
    "start_time": "2024-04-24T15:00:41.895Z"
   },
   {
    "duration": 179,
    "start_time": "2024-04-24T15:00:41.903Z"
   },
   {
    "duration": 6,
    "start_time": "2024-04-24T15:00:42.083Z"
   },
   {
    "duration": 160,
    "start_time": "2024-04-24T15:00:42.090Z"
   },
   {
    "duration": 5,
    "start_time": "2024-04-24T15:00:42.252Z"
   },
   {
    "duration": 233,
    "start_time": "2024-04-24T15:00:42.258Z"
   },
   {
    "duration": 277,
    "start_time": "2024-04-24T15:00:42.493Z"
   },
   {
    "duration": 214,
    "start_time": "2024-04-24T15:00:42.771Z"
   },
   {
    "duration": 35,
    "start_time": "2024-04-24T15:00:42.987Z"
   },
   {
    "duration": 26,
    "start_time": "2024-04-24T15:00:43.023Z"
   },
   {
    "duration": 48,
    "start_time": "2024-04-24T15:00:43.050Z"
   },
   {
    "duration": 211,
    "start_time": "2024-04-24T15:00:43.100Z"
   },
   {
    "duration": 193,
    "start_time": "2024-04-24T15:00:43.313Z"
   },
   {
    "duration": 15,
    "start_time": "2024-04-24T15:00:43.508Z"
   },
   {
    "duration": 107,
    "start_time": "2024-04-24T15:19:04.521Z"
   },
   {
    "duration": 9,
    "start_time": "2024-04-24T15:19:14.081Z"
   },
   {
    "duration": 11,
    "start_time": "2024-04-24T15:19:25.137Z"
   },
   {
    "duration": 19,
    "start_time": "2024-04-24T15:25:33.356Z"
   },
   {
    "duration": 28,
    "start_time": "2024-04-24T15:25:45.203Z"
   },
   {
    "duration": 21,
    "start_time": "2024-04-24T15:26:52.304Z"
   },
   {
    "duration": 4,
    "start_time": "2024-04-24T15:27:23.643Z"
   },
   {
    "duration": 22,
    "start_time": "2024-04-24T15:29:24.521Z"
   },
   {
    "duration": 5,
    "start_time": "2024-04-24T15:31:43.148Z"
   },
   {
    "duration": 17,
    "start_time": "2024-04-24T15:33:31.821Z"
   },
   {
    "duration": 1191,
    "start_time": "2024-04-24T15:34:45.159Z"
   },
   {
    "duration": 38,
    "start_time": "2024-04-24T15:34:46.352Z"
   },
   {
    "duration": 11,
    "start_time": "2024-04-24T15:34:46.391Z"
   },
   {
    "duration": 40,
    "start_time": "2024-04-24T15:34:46.404Z"
   },
   {
    "duration": 8,
    "start_time": "2024-04-24T15:34:46.446Z"
   },
   {
    "duration": 28,
    "start_time": "2024-04-24T15:34:46.455Z"
   },
   {
    "duration": 8,
    "start_time": "2024-04-24T15:34:46.485Z"
   },
   {
    "duration": 26,
    "start_time": "2024-04-24T15:34:46.495Z"
   },
   {
    "duration": 10,
    "start_time": "2024-04-24T15:34:46.523Z"
   },
   {
    "duration": 6,
    "start_time": "2024-04-24T15:34:46.536Z"
   },
   {
    "duration": 9,
    "start_time": "2024-04-24T15:34:46.544Z"
   },
   {
    "duration": 36,
    "start_time": "2024-04-24T15:34:46.554Z"
   },
   {
    "duration": 12,
    "start_time": "2024-04-24T15:34:46.591Z"
   },
   {
    "duration": 177,
    "start_time": "2024-04-24T15:34:46.605Z"
   },
   {
    "duration": 6,
    "start_time": "2024-04-24T15:34:46.783Z"
   },
   {
    "duration": 145,
    "start_time": "2024-04-24T15:34:46.790Z"
   },
   {
    "duration": 6,
    "start_time": "2024-04-24T15:34:46.936Z"
   },
   {
    "duration": 203,
    "start_time": "2024-04-24T15:34:46.944Z"
   },
   {
    "duration": 243,
    "start_time": "2024-04-24T15:34:47.149Z"
   },
   {
    "duration": 215,
    "start_time": "2024-04-24T15:34:47.393Z"
   },
   {
    "duration": 36,
    "start_time": "2024-04-24T15:34:47.610Z"
   },
   {
    "duration": 39,
    "start_time": "2024-04-24T15:34:47.648Z"
   },
   {
    "duration": 22,
    "start_time": "2024-04-24T15:34:47.689Z"
   },
   {
    "duration": 219,
    "start_time": "2024-04-24T15:34:47.712Z"
   },
   {
    "duration": 208,
    "start_time": "2024-04-24T15:34:47.932Z"
   },
   {
    "duration": 13,
    "start_time": "2024-04-24T15:34:48.142Z"
   },
   {
    "duration": 35,
    "start_time": "2024-04-24T15:34:48.157Z"
   },
   {
    "duration": 4,
    "start_time": "2024-04-24T15:34:48.195Z"
   },
   {
    "duration": 16,
    "start_time": "2024-04-24T15:34:48.200Z"
   },
   {
    "duration": 16,
    "start_time": "2024-04-24T15:38:29.202Z"
   },
   {
    "duration": 9,
    "start_time": "2024-04-24T15:40:14.564Z"
   },
   {
    "duration": 13,
    "start_time": "2024-04-24T15:43:34.128Z"
   },
   {
    "duration": 3,
    "start_time": "2024-04-24T15:43:56.112Z"
   },
   {
    "duration": 104,
    "start_time": "2024-04-24T16:01:11.695Z"
   },
   {
    "duration": 12,
    "start_time": "2024-04-24T16:08:36.227Z"
   },
   {
    "duration": 3,
    "start_time": "2024-04-24T16:10:31.871Z"
   },
   {
    "duration": 21,
    "start_time": "2024-04-24T16:33:37.657Z"
   },
   {
    "duration": 14,
    "start_time": "2024-04-24T16:36:12.863Z"
   },
   {
    "duration": 13,
    "start_time": "2024-04-24T16:36:45.534Z"
   },
   {
    "duration": 16,
    "start_time": "2024-04-24T16:37:17.737Z"
   },
   {
    "duration": 1181,
    "start_time": "2024-04-24T16:37:42.779Z"
   },
   {
    "duration": 37,
    "start_time": "2024-04-24T16:37:43.962Z"
   },
   {
    "duration": 13,
    "start_time": "2024-04-24T16:37:44.001Z"
   },
   {
    "duration": 39,
    "start_time": "2024-04-24T16:37:44.016Z"
   },
   {
    "duration": 8,
    "start_time": "2024-04-24T16:37:44.057Z"
   },
   {
    "duration": 22,
    "start_time": "2024-04-24T16:37:44.067Z"
   },
   {
    "duration": 7,
    "start_time": "2024-04-24T16:37:44.090Z"
   },
   {
    "duration": 24,
    "start_time": "2024-04-24T16:37:44.099Z"
   },
   {
    "duration": 11,
    "start_time": "2024-04-24T16:37:44.124Z"
   },
   {
    "duration": 14,
    "start_time": "2024-04-24T16:37:44.137Z"
   },
   {
    "duration": 6,
    "start_time": "2024-04-24T16:37:44.152Z"
   },
   {
    "duration": 29,
    "start_time": "2024-04-24T16:37:44.159Z"
   },
   {
    "duration": 6,
    "start_time": "2024-04-24T16:37:44.189Z"
   },
   {
    "duration": 189,
    "start_time": "2024-04-24T16:37:44.197Z"
   },
   {
    "duration": 7,
    "start_time": "2024-04-24T16:37:44.388Z"
   },
   {
    "duration": 150,
    "start_time": "2024-04-24T16:37:44.396Z"
   },
   {
    "duration": 6,
    "start_time": "2024-04-24T16:37:44.548Z"
   },
   {
    "duration": 224,
    "start_time": "2024-04-24T16:37:44.555Z"
   },
   {
    "duration": 245,
    "start_time": "2024-04-24T16:37:44.780Z"
   },
   {
    "duration": 214,
    "start_time": "2024-04-24T16:37:45.027Z"
   },
   {
    "duration": 46,
    "start_time": "2024-04-24T16:37:45.243Z"
   },
   {
    "duration": 26,
    "start_time": "2024-04-24T16:37:45.291Z"
   },
   {
    "duration": 24,
    "start_time": "2024-04-24T16:37:45.319Z"
   },
   {
    "duration": 217,
    "start_time": "2024-04-24T16:37:45.345Z"
   },
   {
    "duration": 192,
    "start_time": "2024-04-24T16:37:45.564Z"
   },
   {
    "duration": 25,
    "start_time": "2024-04-24T16:37:45.758Z"
   },
   {
    "duration": 24,
    "start_time": "2024-04-24T16:37:45.785Z"
   },
   {
    "duration": 4,
    "start_time": "2024-04-24T16:37:45.813Z"
   },
   {
    "duration": 30,
    "start_time": "2024-04-24T16:37:45.819Z"
   },
   {
    "duration": 32,
    "start_time": "2024-04-24T16:37:45.851Z"
   },
   {
    "duration": 12,
    "start_time": "2024-04-24T16:39:06.658Z"
   },
   {
    "duration": 18,
    "start_time": "2024-04-24T16:43:07.848Z"
   },
   {
    "duration": 2434,
    "start_time": "2024-04-24T16:44:08.122Z"
   },
   {
    "duration": 19,
    "start_time": "2024-04-24T16:44:19.904Z"
   },
   {
    "duration": 1138,
    "start_time": "2024-04-24T16:44:39.764Z"
   },
   {
    "duration": 38,
    "start_time": "2024-04-24T16:44:40.904Z"
   },
   {
    "duration": 14,
    "start_time": "2024-04-24T16:44:40.944Z"
   },
   {
    "duration": 40,
    "start_time": "2024-04-24T16:44:40.960Z"
   },
   {
    "duration": 10,
    "start_time": "2024-04-24T16:44:41.001Z"
   },
   {
    "duration": 25,
    "start_time": "2024-04-24T16:44:41.012Z"
   },
   {
    "duration": 7,
    "start_time": "2024-04-24T16:44:41.038Z"
   },
   {
    "duration": 29,
    "start_time": "2024-04-24T16:44:41.046Z"
   },
   {
    "duration": 12,
    "start_time": "2024-04-24T16:44:41.082Z"
   },
   {
    "duration": 10,
    "start_time": "2024-04-24T16:44:41.097Z"
   },
   {
    "duration": 35,
    "start_time": "2024-04-24T16:44:41.109Z"
   },
   {
    "duration": 12,
    "start_time": "2024-04-24T16:44:41.145Z"
   },
   {
    "duration": 27,
    "start_time": "2024-04-24T16:44:41.159Z"
   },
   {
    "duration": 175,
    "start_time": "2024-04-24T16:44:41.188Z"
   },
   {
    "duration": 6,
    "start_time": "2024-04-24T16:44:41.364Z"
   },
   {
    "duration": 166,
    "start_time": "2024-04-24T16:44:41.372Z"
   },
   {
    "duration": 6,
    "start_time": "2024-04-24T16:44:41.540Z"
   },
   {
    "duration": 229,
    "start_time": "2024-04-24T16:44:41.547Z"
   },
   {
    "duration": 276,
    "start_time": "2024-04-24T16:44:41.777Z"
   },
   {
    "duration": 234,
    "start_time": "2024-04-24T16:44:42.055Z"
   },
   {
    "duration": 36,
    "start_time": "2024-04-24T16:44:42.291Z"
   },
   {
    "duration": 26,
    "start_time": "2024-04-24T16:44:42.329Z"
   },
   {
    "duration": 46,
    "start_time": "2024-04-24T16:44:42.357Z"
   },
   {
    "duration": 237,
    "start_time": "2024-04-24T16:44:42.404Z"
   },
   {
    "duration": 194,
    "start_time": "2024-04-24T16:44:42.642Z"
   },
   {
    "duration": 16,
    "start_time": "2024-04-24T16:44:42.838Z"
   },
   {
    "duration": 39,
    "start_time": "2024-04-24T16:44:42.856Z"
   },
   {
    "duration": 4,
    "start_time": "2024-04-24T16:44:42.898Z"
   },
   {
    "duration": 14,
    "start_time": "2024-04-24T16:44:42.903Z"
   },
   {
    "duration": 14,
    "start_time": "2024-04-24T16:44:42.918Z"
   },
   {
    "duration": 14,
    "start_time": "2024-04-24T16:45:27.952Z"
   },
   {
    "duration": 54,
    "start_time": "2024-04-24T17:04:34.709Z"
   },
   {
    "duration": 1086,
    "start_time": "2024-04-24T17:04:42.501Z"
   },
   {
    "duration": 1278,
    "start_time": "2024-04-24T17:05:36.729Z"
   },
   {
    "duration": 137,
    "start_time": "2024-04-24T17:07:50.401Z"
   },
   {
    "duration": 11,
    "start_time": "2024-04-24T17:08:17.008Z"
   },
   {
    "duration": 1131,
    "start_time": "2024-04-24T17:21:11.445Z"
   },
   {
    "duration": 38,
    "start_time": "2024-04-24T17:21:12.579Z"
   },
   {
    "duration": 12,
    "start_time": "2024-04-24T17:21:12.619Z"
   },
   {
    "duration": 38,
    "start_time": "2024-04-24T17:21:12.633Z"
   },
   {
    "duration": 10,
    "start_time": "2024-04-24T17:21:12.673Z"
   },
   {
    "duration": 25,
    "start_time": "2024-04-24T17:21:12.685Z"
   },
   {
    "duration": 6,
    "start_time": "2024-04-24T17:21:12.712Z"
   },
   {
    "duration": 22,
    "start_time": "2024-04-24T17:21:12.719Z"
   },
   {
    "duration": 10,
    "start_time": "2024-04-24T17:21:12.743Z"
   },
   {
    "duration": 5,
    "start_time": "2024-04-24T17:21:12.755Z"
   },
   {
    "duration": 22,
    "start_time": "2024-04-24T17:21:12.761Z"
   },
   {
    "duration": 9,
    "start_time": "2024-04-24T17:21:12.784Z"
   },
   {
    "duration": 5,
    "start_time": "2024-04-24T17:21:12.795Z"
   },
   {
    "duration": 183,
    "start_time": "2024-04-24T17:21:12.801Z"
   },
   {
    "duration": 6,
    "start_time": "2024-04-24T17:21:12.985Z"
   },
   {
    "duration": 169,
    "start_time": "2024-04-24T17:21:12.993Z"
   },
   {
    "duration": 9,
    "start_time": "2024-04-24T17:21:13.164Z"
   },
   {
    "duration": 207,
    "start_time": "2024-04-24T17:21:13.183Z"
   },
   {
    "duration": 252,
    "start_time": "2024-04-24T17:21:13.392Z"
   },
   {
    "duration": 208,
    "start_time": "2024-04-24T17:21:13.646Z"
   },
   {
    "duration": 46,
    "start_time": "2024-04-24T17:21:13.856Z"
   },
   {
    "duration": 23,
    "start_time": "2024-04-24T17:21:13.904Z"
   },
   {
    "duration": 22,
    "start_time": "2024-04-24T17:21:13.929Z"
   },
   {
    "duration": 215,
    "start_time": "2024-04-24T17:21:13.953Z"
   },
   {
    "duration": 195,
    "start_time": "2024-04-24T17:21:14.170Z"
   },
   {
    "duration": 17,
    "start_time": "2024-04-24T17:21:14.367Z"
   },
   {
    "duration": 27,
    "start_time": "2024-04-24T17:21:14.385Z"
   },
   {
    "duration": 4,
    "start_time": "2024-04-24T17:21:14.415Z"
   },
   {
    "duration": 27,
    "start_time": "2024-04-24T17:21:14.420Z"
   },
   {
    "duration": 14,
    "start_time": "2024-04-24T17:21:14.449Z"
   },
   {
    "duration": 22,
    "start_time": "2024-04-24T17:21:14.464Z"
   },
   {
    "duration": 54,
    "start_time": "2024-04-24T17:21:14.487Z"
   },
   {
    "duration": 0,
    "start_time": "2024-04-24T17:21:14.543Z"
   },
   {
    "duration": 106,
    "start_time": "2024-04-24T17:21:40.141Z"
   },
   {
    "duration": 14,
    "start_time": "2024-04-24T17:26:46.605Z"
   },
   {
    "duration": 495,
    "start_time": "2024-04-24T17:27:24.238Z"
   },
   {
    "duration": 7,
    "start_time": "2024-04-24T17:27:54.811Z"
   },
   {
    "duration": 43,
    "start_time": "2024-04-24T17:28:51.966Z"
   },
   {
    "duration": 448,
    "start_time": "2024-04-24T17:31:34.629Z"
   },
   {
    "duration": 13,
    "start_time": "2024-04-24T17:31:48.990Z"
   },
   {
    "duration": 4,
    "start_time": "2024-04-24T17:32:06.663Z"
   },
   {
    "duration": 4,
    "start_time": "2024-04-24T17:32:10.921Z"
   },
   {
    "duration": 4,
    "start_time": "2024-04-24T17:32:18.962Z"
   },
   {
    "duration": 4,
    "start_time": "2024-04-24T17:32:23.314Z"
   },
   {
    "duration": 5,
    "start_time": "2024-04-24T17:32:31.670Z"
   },
   {
    "duration": 1111,
    "start_time": "2024-04-24T17:33:27.752Z"
   },
   {
    "duration": 38,
    "start_time": "2024-04-24T17:33:28.865Z"
   },
   {
    "duration": 12,
    "start_time": "2024-04-24T17:33:28.905Z"
   },
   {
    "duration": 36,
    "start_time": "2024-04-24T17:33:28.919Z"
   },
   {
    "duration": 8,
    "start_time": "2024-04-24T17:33:28.957Z"
   },
   {
    "duration": 25,
    "start_time": "2024-04-24T17:33:28.967Z"
   },
   {
    "duration": 6,
    "start_time": "2024-04-24T17:33:28.993Z"
   },
   {
    "duration": 25,
    "start_time": "2024-04-24T17:33:29.001Z"
   },
   {
    "duration": 11,
    "start_time": "2024-04-24T17:33:29.027Z"
   },
   {
    "duration": 6,
    "start_time": "2024-04-24T17:33:29.040Z"
   },
   {
    "duration": 6,
    "start_time": "2024-04-24T17:33:29.048Z"
   },
   {
    "duration": 34,
    "start_time": "2024-04-24T17:33:29.055Z"
   },
   {
    "duration": 6,
    "start_time": "2024-04-24T17:33:29.091Z"
   },
   {
    "duration": 186,
    "start_time": "2024-04-24T17:33:29.098Z"
   },
   {
    "duration": 6,
    "start_time": "2024-04-24T17:33:29.285Z"
   },
   {
    "duration": 154,
    "start_time": "2024-04-24T17:33:29.292Z"
   },
   {
    "duration": 5,
    "start_time": "2024-04-24T17:33:29.448Z"
   },
   {
    "duration": 228,
    "start_time": "2024-04-24T17:33:29.454Z"
   },
   {
    "duration": 263,
    "start_time": "2024-04-24T17:33:29.683Z"
   },
   {
    "duration": 227,
    "start_time": "2024-04-24T17:33:29.948Z"
   },
   {
    "duration": 38,
    "start_time": "2024-04-24T17:33:30.176Z"
   },
   {
    "duration": 98,
    "start_time": "2024-04-24T17:33:30.216Z"
   },
   {
    "duration": 49,
    "start_time": "2024-04-24T17:33:30.316Z"
   },
   {
    "duration": 209,
    "start_time": "2024-04-24T17:33:30.367Z"
   },
   {
    "duration": 181,
    "start_time": "2024-04-24T17:33:30.578Z"
   },
   {
    "duration": 22,
    "start_time": "2024-04-24T17:33:30.761Z"
   },
   {
    "duration": 52,
    "start_time": "2024-04-24T17:33:30.785Z"
   },
   {
    "duration": 16,
    "start_time": "2024-04-24T17:33:30.840Z"
   },
   {
    "duration": 32,
    "start_time": "2024-04-24T17:33:30.858Z"
   },
   {
    "duration": 50,
    "start_time": "2024-04-24T17:33:30.892Z"
   },
   {
    "duration": 42,
    "start_time": "2024-04-24T17:33:30.944Z"
   },
   {
    "duration": 43,
    "start_time": "2024-04-24T17:33:30.987Z"
   },
   {
    "duration": 9775,
    "start_time": "2024-04-24T17:33:31.031Z"
   },
   {
    "duration": 0,
    "start_time": "2024-04-24T17:33:40.807Z"
   },
   {
    "duration": 9472,
    "start_time": "2024-04-24T17:35:26.854Z"
   },
   {
    "duration": 15,
    "start_time": "2024-04-24T17:36:07.059Z"
   },
   {
    "duration": 14,
    "start_time": "2024-04-24T17:40:34.482Z"
   },
   {
    "duration": 15,
    "start_time": "2024-04-24T17:45:29.936Z"
   },
   {
    "duration": 9998,
    "start_time": "2024-04-24T17:55:58.467Z"
   },
   {
    "duration": 9620,
    "start_time": "2024-04-24T18:11:34.964Z"
   },
   {
    "duration": 9782,
    "start_time": "2024-04-24T18:12:39.349Z"
   },
   {
    "duration": 9654,
    "start_time": "2024-04-24T18:14:15.421Z"
   },
   {
    "duration": 2709,
    "start_time": "2024-04-24T18:14:57.084Z"
   },
   {
    "duration": 2853,
    "start_time": "2024-04-24T18:15:10.379Z"
   },
   {
    "duration": 9651,
    "start_time": "2024-04-24T18:15:25.979Z"
   },
   {
    "duration": 1129,
    "start_time": "2024-04-24T18:32:30.827Z"
   },
   {
    "duration": 39,
    "start_time": "2024-04-24T18:32:31.958Z"
   },
   {
    "duration": 11,
    "start_time": "2024-04-24T18:32:31.999Z"
   },
   {
    "duration": 64,
    "start_time": "2024-04-24T18:32:32.012Z"
   },
   {
    "duration": 10,
    "start_time": "2024-04-24T18:32:32.078Z"
   },
   {
    "duration": 39,
    "start_time": "2024-04-24T18:32:32.089Z"
   },
   {
    "duration": 12,
    "start_time": "2024-04-24T18:32:32.129Z"
   },
   {
    "duration": 24,
    "start_time": "2024-04-24T18:32:32.142Z"
   },
   {
    "duration": 10,
    "start_time": "2024-04-24T18:32:32.168Z"
   },
   {
    "duration": 6,
    "start_time": "2024-04-24T18:32:32.180Z"
   },
   {
    "duration": 14,
    "start_time": "2024-04-24T18:32:32.188Z"
   },
   {
    "duration": 12,
    "start_time": "2024-04-24T18:32:32.203Z"
   },
   {
    "duration": 6,
    "start_time": "2024-04-24T18:32:32.216Z"
   },
   {
    "duration": 178,
    "start_time": "2024-04-24T18:32:32.224Z"
   },
   {
    "duration": 6,
    "start_time": "2024-04-24T18:32:32.404Z"
   },
   {
    "duration": 170,
    "start_time": "2024-04-24T18:32:32.412Z"
   },
   {
    "duration": 6,
    "start_time": "2024-04-24T18:32:32.583Z"
   },
   {
    "duration": 214,
    "start_time": "2024-04-24T18:32:32.590Z"
   },
   {
    "duration": 244,
    "start_time": "2024-04-24T18:32:32.806Z"
   },
   {
    "duration": 227,
    "start_time": "2024-04-24T18:32:33.051Z"
   },
   {
    "duration": 37,
    "start_time": "2024-04-24T18:32:33.279Z"
   },
   {
    "duration": 25,
    "start_time": "2024-04-24T18:32:33.318Z"
   },
   {
    "duration": 51,
    "start_time": "2024-04-24T18:32:33.344Z"
   },
   {
    "duration": 210,
    "start_time": "2024-04-24T18:32:33.397Z"
   },
   {
    "duration": 193,
    "start_time": "2024-04-24T18:32:33.608Z"
   },
   {
    "duration": 15,
    "start_time": "2024-04-24T18:32:33.802Z"
   },
   {
    "duration": 24,
    "start_time": "2024-04-24T18:32:33.818Z"
   },
   {
    "duration": 5,
    "start_time": "2024-04-24T18:32:33.843Z"
   },
   {
    "duration": 33,
    "start_time": "2024-04-24T18:32:33.849Z"
   },
   {
    "duration": 8,
    "start_time": "2024-04-24T18:32:33.884Z"
   },
   {
    "duration": 10,
    "start_time": "2024-04-24T18:32:33.894Z"
   },
   {
    "duration": 169,
    "start_time": "2024-04-24T18:32:33.905Z"
   },
   {
    "duration": 14,
    "start_time": "2024-04-24T18:32:34.075Z"
   },
   {
    "duration": 1222,
    "start_time": "2024-04-25T05:40:25.739Z"
   },
   {
    "duration": 118,
    "start_time": "2024-04-25T05:40:26.963Z"
   },
   {
    "duration": 18,
    "start_time": "2024-04-25T05:40:27.083Z"
   },
   {
    "duration": 171,
    "start_time": "2024-04-25T05:40:27.104Z"
   },
   {
    "duration": 8,
    "start_time": "2024-04-25T05:40:27.277Z"
   },
   {
    "duration": 93,
    "start_time": "2024-04-25T05:40:27.287Z"
   },
   {
    "duration": 10,
    "start_time": "2024-04-25T05:40:27.382Z"
   },
   {
    "duration": 49,
    "start_time": "2024-04-25T05:40:27.394Z"
   },
   {
    "duration": 16,
    "start_time": "2024-04-25T05:40:27.445Z"
   },
   {
    "duration": 24,
    "start_time": "2024-04-25T05:40:27.464Z"
   },
   {
    "duration": 13,
    "start_time": "2024-04-25T05:40:27.490Z"
   },
   {
    "duration": 15,
    "start_time": "2024-04-25T05:40:27.505Z"
   },
   {
    "duration": 7,
    "start_time": "2024-04-25T05:40:27.522Z"
   },
   {
    "duration": 167,
    "start_time": "2024-04-25T05:40:27.531Z"
   },
   {
    "duration": 5,
    "start_time": "2024-04-25T05:40:27.700Z"
   },
   {
    "duration": 167,
    "start_time": "2024-04-25T05:40:27.707Z"
   },
   {
    "duration": 6,
    "start_time": "2024-04-25T05:40:27.876Z"
   },
   {
    "duration": 222,
    "start_time": "2024-04-25T05:40:27.884Z"
   },
   {
    "duration": 236,
    "start_time": "2024-04-25T05:40:28.107Z"
   },
   {
    "duration": 216,
    "start_time": "2024-04-25T05:40:28.344Z"
   },
   {
    "duration": 44,
    "start_time": "2024-04-25T05:40:28.562Z"
   },
   {
    "duration": 35,
    "start_time": "2024-04-25T05:40:28.608Z"
   },
   {
    "duration": 23,
    "start_time": "2024-04-25T05:40:28.645Z"
   },
   {
    "duration": 217,
    "start_time": "2024-04-25T05:40:28.669Z"
   },
   {
    "duration": 219,
    "start_time": "2024-04-25T05:40:28.893Z"
   },
   {
    "duration": 14,
    "start_time": "2024-04-25T05:40:29.114Z"
   },
   {
    "duration": 35,
    "start_time": "2024-04-25T05:40:29.130Z"
   },
   {
    "duration": 60,
    "start_time": "2024-04-25T05:40:29.168Z"
   },
   {
    "duration": 47,
    "start_time": "2024-04-25T05:40:29.230Z"
   },
   {
    "duration": 15,
    "start_time": "2024-04-25T05:40:29.278Z"
   },
   {
    "duration": 34,
    "start_time": "2024-04-25T05:40:29.294Z"
   },
   {
    "duration": 19,
    "start_time": "2024-04-25T05:40:29.329Z"
   },
   {
    "duration": 6,
    "start_time": "2024-04-25T05:45:54.539Z"
   },
   {
    "duration": 11,
    "start_time": "2024-04-25T05:46:00.279Z"
   },
   {
    "duration": 18,
    "start_time": "2024-04-25T05:47:56.981Z"
   },
   {
    "duration": 9,
    "start_time": "2024-04-25T05:52:51.370Z"
   },
   {
    "duration": 8,
    "start_time": "2024-04-25T05:53:01.588Z"
   },
   {
    "duration": 8,
    "start_time": "2024-04-25T05:53:18.120Z"
   },
   {
    "duration": 14,
    "start_time": "2024-04-25T05:55:58.880Z"
   },
   {
    "duration": 671,
    "start_time": "2024-04-25T06:00:16.880Z"
   },
   {
    "duration": 7,
    "start_time": "2024-04-25T06:00:33.900Z"
   },
   {
    "duration": 6,
    "start_time": "2024-04-25T06:01:06.240Z"
   },
   {
    "duration": 17,
    "start_time": "2024-04-25T06:11:18.010Z"
   },
   {
    "duration": 7,
    "start_time": "2024-04-25T06:11:45.078Z"
   },
   {
    "duration": 82,
    "start_time": "2024-04-25T06:28:02.399Z"
   },
   {
    "duration": 65,
    "start_time": "2024-04-25T06:28:14.559Z"
   },
   {
    "duration": 7,
    "start_time": "2024-04-25T06:28:35.290Z"
   },
   {
    "duration": 7,
    "start_time": "2024-04-25T06:36:08.643Z"
   },
   {
    "duration": 6,
    "start_time": "2024-04-25T06:36:16.023Z"
   },
   {
    "duration": 7,
    "start_time": "2024-04-25T06:36:42.743Z"
   },
   {
    "duration": 6,
    "start_time": "2024-04-25T06:36:54.005Z"
   },
   {
    "duration": 8,
    "start_time": "2024-04-25T06:50:26.773Z"
   },
   {
    "duration": 5,
    "start_time": "2024-04-25T06:57:32.095Z"
   },
   {
    "duration": 6,
    "start_time": "2024-04-25T06:59:01.853Z"
   },
   {
    "duration": 5,
    "start_time": "2024-04-25T06:59:15.093Z"
   },
   {
    "duration": 17,
    "start_time": "2024-04-25T06:59:59.453Z"
   },
   {
    "duration": 5,
    "start_time": "2024-04-25T07:00:15.734Z"
   },
   {
    "duration": 6,
    "start_time": "2024-04-25T07:00:23.353Z"
   },
   {
    "duration": 6,
    "start_time": "2024-04-25T07:04:19.874Z"
   },
   {
    "duration": 1256,
    "start_time": "2024-04-25T08:17:17.039Z"
   },
   {
    "duration": 115,
    "start_time": "2024-04-25T08:17:18.296Z"
   },
   {
    "duration": 11,
    "start_time": "2024-04-25T08:17:18.413Z"
   },
   {
    "duration": 154,
    "start_time": "2024-04-25T08:17:18.426Z"
   },
   {
    "duration": 8,
    "start_time": "2024-04-25T08:17:18.582Z"
   },
   {
    "duration": 93,
    "start_time": "2024-04-25T08:17:18.592Z"
   },
   {
    "duration": 7,
    "start_time": "2024-04-25T08:17:18.687Z"
   },
   {
    "duration": 24,
    "start_time": "2024-04-25T08:17:18.695Z"
   },
   {
    "duration": 11,
    "start_time": "2024-04-25T08:17:18.720Z"
   },
   {
    "duration": 5,
    "start_time": "2024-04-25T08:17:18.733Z"
   },
   {
    "duration": 6,
    "start_time": "2024-04-25T08:17:18.739Z"
   },
   {
    "duration": 8,
    "start_time": "2024-04-25T08:17:18.746Z"
   },
   {
    "duration": 5,
    "start_time": "2024-04-25T08:17:18.755Z"
   },
   {
    "duration": 198,
    "start_time": "2024-04-25T08:17:18.763Z"
   },
   {
    "duration": 5,
    "start_time": "2024-04-25T08:17:18.963Z"
   },
   {
    "duration": 149,
    "start_time": "2024-04-25T08:17:18.970Z"
   },
   {
    "duration": 5,
    "start_time": "2024-04-25T08:17:19.121Z"
   },
   {
    "duration": 205,
    "start_time": "2024-04-25T08:17:19.128Z"
   },
   {
    "duration": 261,
    "start_time": "2024-04-25T08:17:19.334Z"
   },
   {
    "duration": 220,
    "start_time": "2024-04-25T08:17:19.597Z"
   },
   {
    "duration": 47,
    "start_time": "2024-04-25T08:17:19.819Z"
   },
   {
    "duration": 25,
    "start_time": "2024-04-25T08:17:19.868Z"
   },
   {
    "duration": 38,
    "start_time": "2024-04-25T08:17:19.895Z"
   },
   {
    "duration": 203,
    "start_time": "2024-04-25T08:17:19.934Z"
   },
   {
    "duration": 187,
    "start_time": "2024-04-25T08:17:20.139Z"
   },
   {
    "duration": 14,
    "start_time": "2024-04-25T08:17:20.328Z"
   },
   {
    "duration": 35,
    "start_time": "2024-04-25T08:17:20.344Z"
   },
   {
    "duration": 5,
    "start_time": "2024-04-25T08:17:20.380Z"
   },
   {
    "duration": 25,
    "start_time": "2024-04-25T08:17:20.386Z"
   },
   {
    "duration": 21,
    "start_time": "2024-04-25T08:17:20.413Z"
   },
   {
    "duration": 9,
    "start_time": "2024-04-25T08:17:20.435Z"
   },
   {
    "duration": 29,
    "start_time": "2024-04-25T08:17:20.445Z"
   },
   {
    "duration": 15,
    "start_time": "2024-04-25T08:17:20.475Z"
   },
   {
    "duration": 19,
    "start_time": "2024-04-25T08:17:20.492Z"
   },
   {
    "duration": 24,
    "start_time": "2024-04-25T08:17:20.513Z"
   },
   {
    "duration": 7,
    "start_time": "2024-04-25T08:17:20.538Z"
   },
   {
    "duration": 13,
    "start_time": "2024-04-25T08:17:20.547Z"
   },
   {
    "duration": 24,
    "start_time": "2024-04-25T08:17:20.562Z"
   },
   {
    "duration": 13,
    "start_time": "2024-04-25T08:17:20.588Z"
   },
   {
    "duration": 21,
    "start_time": "2024-04-25T08:17:20.602Z"
   },
   {
    "duration": 10,
    "start_time": "2024-04-25T08:17:20.626Z"
   },
   {
    "duration": 11,
    "start_time": "2024-04-25T08:22:42.801Z"
   },
   {
    "duration": 7,
    "start_time": "2024-04-25T08:23:30.757Z"
   },
   {
    "duration": 9,
    "start_time": "2024-04-25T08:32:55.464Z"
   },
   {
    "duration": 1139,
    "start_time": "2024-04-25T08:33:34.828Z"
   },
   {
    "duration": 38,
    "start_time": "2024-04-25T08:33:35.969Z"
   },
   {
    "duration": 11,
    "start_time": "2024-04-25T08:33:36.009Z"
   },
   {
    "duration": 35,
    "start_time": "2024-04-25T08:33:36.021Z"
   },
   {
    "duration": 8,
    "start_time": "2024-04-25T08:33:36.059Z"
   },
   {
    "duration": 37,
    "start_time": "2024-04-25T08:33:36.068Z"
   },
   {
    "duration": 8,
    "start_time": "2024-04-25T08:33:36.108Z"
   },
   {
    "duration": 36,
    "start_time": "2024-04-25T08:33:36.118Z"
   },
   {
    "duration": 10,
    "start_time": "2024-04-25T08:33:36.156Z"
   },
   {
    "duration": 23,
    "start_time": "2024-04-25T08:33:36.168Z"
   },
   {
    "duration": 16,
    "start_time": "2024-04-25T08:33:36.192Z"
   },
   {
    "duration": 9,
    "start_time": "2024-04-25T08:33:36.209Z"
   },
   {
    "duration": 6,
    "start_time": "2024-04-25T08:33:36.220Z"
   },
   {
    "duration": 175,
    "start_time": "2024-04-25T08:33:36.229Z"
   },
   {
    "duration": 10,
    "start_time": "2024-04-25T08:33:36.406Z"
   },
   {
    "duration": 137,
    "start_time": "2024-04-25T08:33:36.418Z"
   },
   {
    "duration": 6,
    "start_time": "2024-04-25T08:33:36.556Z"
   },
   {
    "duration": 196,
    "start_time": "2024-04-25T08:33:36.563Z"
   },
   {
    "duration": 228,
    "start_time": "2024-04-25T08:33:36.761Z"
   },
   {
    "duration": 200,
    "start_time": "2024-04-25T08:33:36.991Z"
   },
   {
    "duration": 40,
    "start_time": "2024-04-25T08:33:37.192Z"
   },
   {
    "duration": 23,
    "start_time": "2024-04-25T08:33:37.234Z"
   },
   {
    "duration": 23,
    "start_time": "2024-04-25T08:33:37.259Z"
   },
   {
    "duration": 201,
    "start_time": "2024-04-25T08:33:37.284Z"
   },
   {
    "duration": 172,
    "start_time": "2024-04-25T08:33:37.487Z"
   },
   {
    "duration": 14,
    "start_time": "2024-04-25T08:33:37.661Z"
   },
   {
    "duration": 26,
    "start_time": "2024-04-25T08:33:37.677Z"
   },
   {
    "duration": 4,
    "start_time": "2024-04-25T08:33:37.715Z"
   },
   {
    "duration": 16,
    "start_time": "2024-04-25T08:33:37.720Z"
   },
   {
    "duration": 10,
    "start_time": "2024-04-25T08:33:37.738Z"
   },
   {
    "duration": 7,
    "start_time": "2024-04-25T08:33:37.750Z"
   },
   {
    "duration": 21,
    "start_time": "2024-04-25T08:33:37.758Z"
   },
   {
    "duration": 5,
    "start_time": "2024-04-25T08:33:37.780Z"
   },
   {
    "duration": 18,
    "start_time": "2024-04-25T08:33:37.786Z"
   },
   {
    "duration": 33,
    "start_time": "2024-04-25T08:33:37.814Z"
   },
   {
    "duration": 7,
    "start_time": "2024-04-25T08:33:37.849Z"
   },
   {
    "duration": 8,
    "start_time": "2024-04-25T08:33:37.857Z"
   },
   {
    "duration": 7,
    "start_time": "2024-04-25T08:33:37.867Z"
   },
   {
    "duration": 28,
    "start_time": "2024-04-25T08:33:37.876Z"
   },
   {
    "duration": 12,
    "start_time": "2024-04-25T08:33:37.905Z"
   },
   {
    "duration": 5,
    "start_time": "2024-04-25T08:33:37.921Z"
   },
   {
    "duration": 11,
    "start_time": "2024-04-25T08:33:37.927Z"
   },
   {
    "duration": 9,
    "start_time": "2024-04-25T08:33:37.939Z"
   },
   {
    "duration": 8,
    "start_time": "2024-04-25T08:33:37.950Z"
   },
   {
    "duration": 15,
    "start_time": "2024-04-25T08:33:37.960Z"
   },
   {
    "duration": 94,
    "start_time": "2024-04-25T08:35:04.687Z"
   },
   {
    "duration": 10,
    "start_time": "2024-04-25T08:35:14.427Z"
   },
   {
    "duration": 10,
    "start_time": "2024-04-25T08:35:22.688Z"
   },
   {
    "duration": 16,
    "start_time": "2024-04-25T08:36:01.648Z"
   },
   {
    "duration": 29,
    "start_time": "2024-04-25T08:36:14.799Z"
   },
   {
    "duration": 26,
    "start_time": "2024-04-25T08:36:32.395Z"
   },
   {
    "duration": 32,
    "start_time": "2024-04-25T08:39:21.567Z"
   },
   {
    "duration": 23,
    "start_time": "2024-04-25T08:39:42.176Z"
   },
   {
    "duration": 7,
    "start_time": "2024-04-25T08:41:35.767Z"
   },
   {
    "duration": 7,
    "start_time": "2024-04-25T08:43:29.514Z"
   },
   {
    "duration": 7,
    "start_time": "2024-04-25T08:43:39.026Z"
   },
   {
    "duration": 7,
    "start_time": "2024-04-25T08:47:03.046Z"
   },
   {
    "duration": 7,
    "start_time": "2024-04-25T08:47:09.726Z"
   },
   {
    "duration": 7,
    "start_time": "2024-04-25T08:47:23.147Z"
   },
   {
    "duration": 7,
    "start_time": "2024-04-25T08:47:29.006Z"
   },
   {
    "duration": 1162,
    "start_time": "2024-04-25T08:48:20.507Z"
   },
   {
    "duration": 38,
    "start_time": "2024-04-25T08:48:21.670Z"
   },
   {
    "duration": 14,
    "start_time": "2024-04-25T08:48:21.710Z"
   },
   {
    "duration": 36,
    "start_time": "2024-04-25T08:48:21.725Z"
   },
   {
    "duration": 9,
    "start_time": "2024-04-25T08:48:21.763Z"
   },
   {
    "duration": 29,
    "start_time": "2024-04-25T08:48:21.773Z"
   },
   {
    "duration": 7,
    "start_time": "2024-04-25T08:48:21.804Z"
   },
   {
    "duration": 21,
    "start_time": "2024-04-25T08:48:21.815Z"
   },
   {
    "duration": 10,
    "start_time": "2024-04-25T08:48:21.838Z"
   },
   {
    "duration": 6,
    "start_time": "2024-04-25T08:48:21.850Z"
   },
   {
    "duration": 6,
    "start_time": "2024-04-25T08:48:21.857Z"
   },
   {
    "duration": 9,
    "start_time": "2024-04-25T08:48:21.865Z"
   },
   {
    "duration": 40,
    "start_time": "2024-04-25T08:48:21.875Z"
   },
   {
    "duration": 166,
    "start_time": "2024-04-25T08:48:21.918Z"
   },
   {
    "duration": 6,
    "start_time": "2024-04-25T08:48:22.085Z"
   },
   {
    "duration": 151,
    "start_time": "2024-04-25T08:48:22.092Z"
   },
   {
    "duration": 5,
    "start_time": "2024-04-25T08:48:22.245Z"
   },
   {
    "duration": 196,
    "start_time": "2024-04-25T08:48:22.252Z"
   },
   {
    "duration": 244,
    "start_time": "2024-04-25T08:48:22.449Z"
   },
   {
    "duration": 212,
    "start_time": "2024-04-25T08:48:22.695Z"
   },
   {
    "duration": 38,
    "start_time": "2024-04-25T08:48:22.909Z"
   },
   {
    "duration": 24,
    "start_time": "2024-04-25T08:48:22.948Z"
   },
   {
    "duration": 42,
    "start_time": "2024-04-25T08:48:22.974Z"
   },
   {
    "duration": 189,
    "start_time": "2024-04-25T08:48:23.018Z"
   },
   {
    "duration": 187,
    "start_time": "2024-04-25T08:48:23.209Z"
   },
   {
    "duration": 20,
    "start_time": "2024-04-25T08:48:23.397Z"
   },
   {
    "duration": 26,
    "start_time": "2024-04-25T08:48:23.419Z"
   },
   {
    "duration": 3,
    "start_time": "2024-04-25T08:48:23.447Z"
   },
   {
    "duration": 10,
    "start_time": "2024-04-25T08:48:23.452Z"
   },
   {
    "duration": 14,
    "start_time": "2024-04-25T08:48:23.464Z"
   },
   {
    "duration": 6,
    "start_time": "2024-04-25T08:48:23.480Z"
   },
   {
    "duration": 37,
    "start_time": "2024-04-25T08:48:23.487Z"
   },
   {
    "duration": 6,
    "start_time": "2024-04-25T08:48:23.525Z"
   },
   {
    "duration": 21,
    "start_time": "2024-04-25T08:48:23.532Z"
   },
   {
    "duration": 32,
    "start_time": "2024-04-25T08:48:23.555Z"
   },
   {
    "duration": 10,
    "start_time": "2024-04-25T08:48:23.589Z"
   },
   {
    "duration": 7,
    "start_time": "2024-04-25T08:48:23.615Z"
   },
   {
    "duration": 26,
    "start_time": "2024-04-25T08:48:23.624Z"
   },
   {
    "duration": 11,
    "start_time": "2024-04-25T08:48:23.652Z"
   },
   {
    "duration": 6,
    "start_time": "2024-04-25T08:48:23.665Z"
   },
   {
    "duration": 6,
    "start_time": "2024-04-25T08:48:23.676Z"
   },
   {
    "duration": 36,
    "start_time": "2024-04-25T08:48:23.683Z"
   },
   {
    "duration": 13,
    "start_time": "2024-04-25T08:48:23.721Z"
   },
   {
    "duration": 17,
    "start_time": "2024-04-25T08:48:23.735Z"
   },
   {
    "duration": 8,
    "start_time": "2024-04-25T08:48:23.754Z"
   },
   {
    "duration": 202,
    "start_time": "2024-04-25T10:05:37.131Z"
   },
   {
    "duration": 280,
    "start_time": "2024-04-25T10:05:54.013Z"
   },
   {
    "duration": 214,
    "start_time": "2024-04-25T10:06:04.891Z"
   },
   {
    "duration": 209,
    "start_time": "2024-04-25T10:06:11.511Z"
   },
   {
    "duration": 204,
    "start_time": "2024-04-25T10:06:16.891Z"
   },
   {
    "duration": 217,
    "start_time": "2024-04-25T10:06:20.531Z"
   },
   {
    "duration": 194,
    "start_time": "2024-04-25T10:06:28.447Z"
   },
   {
    "duration": 200,
    "start_time": "2024-04-25T10:06:37.387Z"
   },
   {
    "duration": 197,
    "start_time": "2024-04-25T10:06:43.391Z"
   },
   {
    "duration": 224,
    "start_time": "2024-04-25T10:07:02.620Z"
   },
   {
    "duration": 176,
    "start_time": "2024-04-25T10:11:35.431Z"
   },
   {
    "duration": 1203,
    "start_time": "2024-04-25T10:29:36.676Z"
   },
   {
    "duration": 38,
    "start_time": "2024-04-25T10:29:37.881Z"
   },
   {
    "duration": 12,
    "start_time": "2024-04-25T10:29:37.921Z"
   },
   {
    "duration": 48,
    "start_time": "2024-04-25T10:29:37.935Z"
   },
   {
    "duration": 9,
    "start_time": "2024-04-25T10:29:37.985Z"
   },
   {
    "duration": 61,
    "start_time": "2024-04-25T10:29:37.995Z"
   },
   {
    "duration": 7,
    "start_time": "2024-04-25T10:29:38.058Z"
   },
   {
    "duration": 34,
    "start_time": "2024-04-25T10:29:38.066Z"
   },
   {
    "duration": 10,
    "start_time": "2024-04-25T10:29:38.101Z"
   },
   {
    "duration": 6,
    "start_time": "2024-04-25T10:29:38.113Z"
   },
   {
    "duration": 6,
    "start_time": "2024-04-25T10:29:38.120Z"
   },
   {
    "duration": 44,
    "start_time": "2024-04-25T10:29:38.128Z"
   },
   {
    "duration": 8,
    "start_time": "2024-04-25T10:29:38.173Z"
   },
   {
    "duration": 156,
    "start_time": "2024-04-25T10:29:38.185Z"
   },
   {
    "duration": 5,
    "start_time": "2024-04-25T10:29:38.343Z"
   },
   {
    "duration": 142,
    "start_time": "2024-04-25T10:29:38.350Z"
   },
   {
    "duration": 5,
    "start_time": "2024-04-25T10:29:38.493Z"
   },
   {
    "duration": 197,
    "start_time": "2024-04-25T10:29:38.515Z"
   },
   {
    "duration": 253,
    "start_time": "2024-04-25T10:29:38.715Z"
   },
   {
    "duration": 206,
    "start_time": "2024-04-25T10:29:38.970Z"
   },
   {
    "duration": 42,
    "start_time": "2024-04-25T10:29:39.178Z"
   },
   {
    "duration": 25,
    "start_time": "2024-04-25T10:29:39.221Z"
   },
   {
    "duration": 23,
    "start_time": "2024-04-25T10:29:39.248Z"
   },
   {
    "duration": 205,
    "start_time": "2024-04-25T10:29:39.272Z"
   },
   {
    "duration": 177,
    "start_time": "2024-04-25T10:29:39.479Z"
   },
   {
    "duration": 14,
    "start_time": "2024-04-25T10:29:39.657Z"
   },
   {
    "duration": 22,
    "start_time": "2024-04-25T10:29:39.673Z"
   },
   {
    "duration": 20,
    "start_time": "2024-04-25T10:29:39.696Z"
   },
   {
    "duration": 11,
    "start_time": "2024-04-25T10:29:39.717Z"
   },
   {
    "duration": 8,
    "start_time": "2024-04-25T10:29:39.730Z"
   },
   {
    "duration": 7,
    "start_time": "2024-04-25T10:29:39.740Z"
   },
   {
    "duration": 22,
    "start_time": "2024-04-25T10:29:39.748Z"
   },
   {
    "duration": 17,
    "start_time": "2024-04-25T10:29:39.772Z"
   },
   {
    "duration": 14,
    "start_time": "2024-04-25T10:29:39.790Z"
   },
   {
    "duration": 19,
    "start_time": "2024-04-25T10:29:39.806Z"
   },
   {
    "duration": 8,
    "start_time": "2024-04-25T10:29:39.826Z"
   },
   {
    "duration": 7,
    "start_time": "2024-04-25T10:29:39.836Z"
   },
   {
    "duration": 14,
    "start_time": "2024-04-25T10:29:39.845Z"
   },
   {
    "duration": 7,
    "start_time": "2024-04-25T10:29:39.861Z"
   },
   {
    "duration": 6,
    "start_time": "2024-04-25T10:29:39.870Z"
   },
   {
    "duration": 6,
    "start_time": "2024-04-25T10:29:39.914Z"
   },
   {
    "duration": 34,
    "start_time": "2024-04-25T10:29:39.921Z"
   },
   {
    "duration": 9,
    "start_time": "2024-04-25T10:29:39.956Z"
   },
   {
    "duration": 19,
    "start_time": "2024-04-25T10:29:39.967Z"
   },
   {
    "duration": 7,
    "start_time": "2024-04-25T10:29:39.988Z"
   },
   {
    "duration": 100,
    "start_time": "2024-04-25T11:35:44.283Z"
   },
   {
    "duration": 47,
    "start_time": "2024-04-25T11:36:00.802Z"
   },
   {
    "duration": 72,
    "start_time": "2024-04-25T11:58:12.748Z"
   },
   {
    "duration": 66,
    "start_time": "2024-04-25T11:58:39.353Z"
   },
   {
    "duration": 68,
    "start_time": "2024-04-25T11:58:55.039Z"
   },
   {
    "duration": 20,
    "start_time": "2024-04-25T11:59:09.428Z"
   },
   {
    "duration": 20,
    "start_time": "2024-04-25T11:59:21.598Z"
   },
   {
    "duration": 18,
    "start_time": "2024-04-25T11:59:45.700Z"
   },
   {
    "duration": 21,
    "start_time": "2024-04-25T12:06:35.410Z"
   },
   {
    "duration": 22,
    "start_time": "2024-04-25T12:06:40.736Z"
   },
   {
    "duration": 94,
    "start_time": "2024-04-25T12:12:00.864Z"
   },
   {
    "duration": 99,
    "start_time": "2024-04-25T12:12:26.975Z"
   },
   {
    "duration": 97,
    "start_time": "2024-04-25T12:12:32.160Z"
   },
   {
    "duration": 76,
    "start_time": "2024-04-25T12:12:47.136Z"
   },
   {
    "duration": 73,
    "start_time": "2024-04-25T12:13:57.678Z"
   },
   {
    "duration": 32,
    "start_time": "2024-04-25T12:14:03.314Z"
   },
   {
    "duration": 235,
    "start_time": "2024-04-25T12:14:22.814Z"
   },
   {
    "duration": 437,
    "start_time": "2024-04-25T12:14:39.453Z"
   },
   {
    "duration": 225,
    "start_time": "2024-04-25T12:15:48.600Z"
   },
   {
    "duration": 200,
    "start_time": "2024-04-25T12:16:15.409Z"
   },
   {
    "duration": 21,
    "start_time": "2024-04-25T12:19:59.614Z"
   },
   {
    "duration": 10,
    "start_time": "2024-04-25T12:20:12.044Z"
   },
   {
    "duration": 44,
    "start_time": "2024-04-25T12:20:30.593Z"
   },
   {
    "duration": 65,
    "start_time": "2024-04-25T12:20:54.959Z"
   },
   {
    "duration": 124,
    "start_time": "2024-04-25T12:21:24.690Z"
   },
   {
    "duration": 236,
    "start_time": "2024-04-25T12:21:31.059Z"
   },
   {
    "duration": 244,
    "start_time": "2024-04-25T12:21:39.539Z"
   },
   {
    "duration": 1462,
    "start_time": "2024-04-25T12:21:45.799Z"
   },
   {
    "duration": 6,
    "start_time": "2024-04-25T12:56:26.934Z"
   },
   {
    "duration": 7,
    "start_time": "2024-04-25T12:58:19.135Z"
   },
   {
    "duration": 7,
    "start_time": "2024-04-25T12:59:00.435Z"
   },
   {
    "duration": 5,
    "start_time": "2024-04-25T12:59:30.473Z"
   },
   {
    "duration": 54,
    "start_time": "2024-04-25T16:13:09.105Z"
   },
   {
    "duration": 1088,
    "start_time": "2024-04-25T16:13:21.345Z"
   },
   {
    "duration": 114,
    "start_time": "2024-04-25T16:13:22.436Z"
   },
   {
    "duration": 11,
    "start_time": "2024-04-25T16:13:22.552Z"
   },
   {
    "duration": 160,
    "start_time": "2024-04-25T16:13:22.565Z"
   },
   {
    "duration": 7,
    "start_time": "2024-04-25T16:13:22.727Z"
   },
   {
    "duration": 81,
    "start_time": "2024-04-25T16:13:22.736Z"
   },
   {
    "duration": 6,
    "start_time": "2024-04-25T16:13:22.818Z"
   },
   {
    "duration": 42,
    "start_time": "2024-04-25T16:13:22.825Z"
   },
   {
    "duration": 9,
    "start_time": "2024-04-25T16:13:22.868Z"
   },
   {
    "duration": 16,
    "start_time": "2024-04-25T16:13:22.879Z"
   },
   {
    "duration": 15,
    "start_time": "2024-04-25T16:13:22.897Z"
   },
   {
    "duration": 7,
    "start_time": "2024-04-25T16:13:22.913Z"
   },
   {
    "duration": 27,
    "start_time": "2024-04-25T16:13:22.922Z"
   },
   {
    "duration": 154,
    "start_time": "2024-04-25T16:13:22.951Z"
   },
   {
    "duration": 5,
    "start_time": "2024-04-25T16:13:23.107Z"
   },
   {
    "duration": 138,
    "start_time": "2024-04-25T16:13:23.113Z"
   },
   {
    "duration": 5,
    "start_time": "2024-04-25T16:13:23.253Z"
   },
   {
    "duration": 209,
    "start_time": "2024-04-25T16:13:23.259Z"
   },
   {
    "duration": 228,
    "start_time": "2024-04-25T16:13:23.469Z"
   },
   {
    "duration": 207,
    "start_time": "2024-04-25T16:13:23.698Z"
   },
   {
    "duration": 39,
    "start_time": "2024-04-25T16:13:23.907Z"
   },
   {
    "duration": 42,
    "start_time": "2024-04-25T16:13:23.948Z"
   },
   {
    "duration": 22,
    "start_time": "2024-04-25T16:13:23.991Z"
   },
   {
    "duration": 192,
    "start_time": "2024-04-25T16:13:24.015Z"
   },
   {
    "duration": 176,
    "start_time": "2024-04-25T16:13:24.208Z"
   },
   {
    "duration": 13,
    "start_time": "2024-04-25T16:13:24.386Z"
   },
   {
    "duration": 28,
    "start_time": "2024-04-25T16:13:24.400Z"
   },
   {
    "duration": 4,
    "start_time": "2024-04-25T16:13:24.431Z"
   },
   {
    "duration": 20,
    "start_time": "2024-04-25T16:13:24.436Z"
   },
   {
    "duration": 20,
    "start_time": "2024-04-25T16:13:24.458Z"
   },
   {
    "duration": 6,
    "start_time": "2024-04-25T16:13:24.480Z"
   },
   {
    "duration": 27,
    "start_time": "2024-04-25T16:13:24.488Z"
   },
   {
    "duration": 7,
    "start_time": "2024-04-25T16:13:24.516Z"
   },
   {
    "duration": 20,
    "start_time": "2024-04-25T16:13:24.525Z"
   },
   {
    "duration": 15,
    "start_time": "2024-04-25T16:13:24.547Z"
   },
   {
    "duration": 18,
    "start_time": "2024-04-25T16:13:24.564Z"
   },
   {
    "duration": 7,
    "start_time": "2024-04-25T16:13:24.583Z"
   },
   {
    "duration": 10,
    "start_time": "2024-04-25T16:13:24.591Z"
   },
   {
    "duration": 32,
    "start_time": "2024-04-25T16:13:24.603Z"
   },
   {
    "duration": 17,
    "start_time": "2024-04-25T16:13:24.637Z"
   },
   {
    "duration": 6,
    "start_time": "2024-04-25T16:13:24.655Z"
   },
   {
    "duration": 9,
    "start_time": "2024-04-25T16:13:24.662Z"
   },
   {
    "duration": 18,
    "start_time": "2024-04-25T16:13:24.672Z"
   },
   {
    "duration": 7,
    "start_time": "2024-04-25T16:13:24.691Z"
   },
   {
    "duration": 16,
    "start_time": "2024-04-25T16:13:24.700Z"
   },
   {
    "duration": 25,
    "start_time": "2024-04-25T16:13:24.718Z"
   },
   {
    "duration": 53,
    "start_time": "2024-04-25T16:13:24.745Z"
   },
   {
    "duration": 7,
    "start_time": "2024-04-25T16:13:24.800Z"
   },
   {
    "duration": 127,
    "start_time": "2024-04-25T16:17:51.349Z"
   },
   {
    "duration": 121,
    "start_time": "2024-04-25T16:17:59.620Z"
   },
   {
    "duration": 4,
    "start_time": "2024-04-25T16:19:18.199Z"
   },
   {
    "duration": 1131,
    "start_time": "2024-04-25T16:20:02.586Z"
   },
   {
    "duration": 37,
    "start_time": "2024-04-25T16:20:03.719Z"
   },
   {
    "duration": 12,
    "start_time": "2024-04-25T16:20:03.757Z"
   },
   {
    "duration": 42,
    "start_time": "2024-04-25T16:20:03.771Z"
   },
   {
    "duration": 9,
    "start_time": "2024-04-25T16:20:03.815Z"
   },
   {
    "duration": 29,
    "start_time": "2024-04-25T16:20:03.826Z"
   },
   {
    "duration": 8,
    "start_time": "2024-04-25T16:20:03.856Z"
   },
   {
    "duration": 37,
    "start_time": "2024-04-25T16:20:03.865Z"
   },
   {
    "duration": 12,
    "start_time": "2024-04-25T16:20:03.904Z"
   },
   {
    "duration": 28,
    "start_time": "2024-04-25T16:20:03.918Z"
   },
   {
    "duration": 11,
    "start_time": "2024-04-25T16:20:03.947Z"
   },
   {
    "duration": 19,
    "start_time": "2024-04-25T16:20:03.960Z"
   },
   {
    "duration": 20,
    "start_time": "2024-04-25T16:20:03.980Z"
   },
   {
    "duration": 201,
    "start_time": "2024-04-25T16:20:04.002Z"
   },
   {
    "duration": 5,
    "start_time": "2024-04-25T16:20:04.205Z"
   },
   {
    "duration": 138,
    "start_time": "2024-04-25T16:20:04.212Z"
   },
   {
    "duration": 5,
    "start_time": "2024-04-25T16:20:04.352Z"
   },
   {
    "duration": 189,
    "start_time": "2024-04-25T16:20:04.358Z"
   },
   {
    "duration": 228,
    "start_time": "2024-04-25T16:20:04.549Z"
   },
   {
    "duration": 206,
    "start_time": "2024-04-25T16:20:04.778Z"
   },
   {
    "duration": 34,
    "start_time": "2024-04-25T16:20:04.985Z"
   },
   {
    "duration": 43,
    "start_time": "2024-04-25T16:20:05.021Z"
   },
   {
    "duration": 23,
    "start_time": "2024-04-25T16:20:05.075Z"
   },
   {
    "duration": 196,
    "start_time": "2024-04-25T16:20:05.099Z"
   },
   {
    "duration": 182,
    "start_time": "2024-04-25T16:20:05.297Z"
   },
   {
    "duration": 14,
    "start_time": "2024-04-25T16:20:05.480Z"
   },
   {
    "duration": 81,
    "start_time": "2024-04-25T16:20:05.496Z"
   },
   {
    "duration": 142,
    "start_time": "2024-04-25T16:20:05.580Z"
   },
   {
    "duration": 67,
    "start_time": "2024-04-25T16:20:05.723Z"
   },
   {
    "duration": 47,
    "start_time": "2024-04-25T16:20:05.791Z"
   },
   {
    "duration": 22,
    "start_time": "2024-04-25T16:20:05.840Z"
   },
   {
    "duration": 26,
    "start_time": "2024-04-25T16:20:05.863Z"
   },
   {
    "duration": 8,
    "start_time": "2024-04-25T16:20:05.891Z"
   },
   {
    "duration": 39,
    "start_time": "2024-04-25T16:20:05.901Z"
   },
   {
    "duration": 47,
    "start_time": "2024-04-25T16:20:05.942Z"
   },
   {
    "duration": 13,
    "start_time": "2024-04-25T16:20:05.991Z"
   },
   {
    "duration": 55,
    "start_time": "2024-04-25T16:20:06.005Z"
   },
   {
    "duration": 37,
    "start_time": "2024-04-25T16:20:06.061Z"
   },
   {
    "duration": 53,
    "start_time": "2024-04-25T16:20:06.099Z"
   },
   {
    "duration": 28,
    "start_time": "2024-04-25T16:20:06.154Z"
   },
   {
    "duration": 40,
    "start_time": "2024-04-25T16:20:06.183Z"
   },
   {
    "duration": 73,
    "start_time": "2024-04-25T16:20:06.225Z"
   },
   {
    "duration": 32,
    "start_time": "2024-04-25T16:20:06.299Z"
   },
   {
    "duration": 67,
    "start_time": "2024-04-25T16:20:06.332Z"
   },
   {
    "duration": 11,
    "start_time": "2024-04-25T16:20:06.400Z"
   },
   {
    "duration": 48,
    "start_time": "2024-04-25T16:20:06.412Z"
   },
   {
    "duration": 130,
    "start_time": "2024-04-25T16:20:06.462Z"
   },
   {
    "duration": 6,
    "start_time": "2024-04-25T16:20:06.593Z"
   },
   {
    "duration": 49,
    "start_time": "2024-04-25T16:47:27.722Z"
   },
   {
    "duration": 1470,
    "start_time": "2024-04-25T16:47:38.521Z"
   },
   {
    "duration": 110,
    "start_time": "2024-04-25T16:47:39.994Z"
   },
   {
    "duration": 15,
    "start_time": "2024-04-25T16:47:40.106Z"
   },
   {
    "duration": 154,
    "start_time": "2024-04-25T16:47:40.124Z"
   },
   {
    "duration": 10,
    "start_time": "2024-04-25T16:47:40.280Z"
   },
   {
    "duration": 87,
    "start_time": "2024-04-25T16:47:40.292Z"
   },
   {
    "duration": 8,
    "start_time": "2024-04-25T16:47:40.380Z"
   },
   {
    "duration": 36,
    "start_time": "2024-04-25T16:47:40.390Z"
   },
   {
    "duration": 13,
    "start_time": "2024-04-25T16:47:40.428Z"
   },
   {
    "duration": 32,
    "start_time": "2024-04-25T16:47:40.445Z"
   },
   {
    "duration": 8,
    "start_time": "2024-04-25T16:47:40.479Z"
   },
   {
    "duration": 8,
    "start_time": "2024-04-25T16:47:40.488Z"
   },
   {
    "duration": 11,
    "start_time": "2024-04-25T16:47:40.497Z"
   },
   {
    "duration": 6,
    "start_time": "2024-04-25T16:47:40.510Z"
   },
   {
    "duration": 205,
    "start_time": "2024-04-25T16:47:40.517Z"
   },
   {
    "duration": 6,
    "start_time": "2024-04-25T16:47:40.723Z"
   },
   {
    "duration": 184,
    "start_time": "2024-04-25T16:47:40.730Z"
   },
   {
    "duration": 6,
    "start_time": "2024-04-25T16:47:40.916Z"
   },
   {
    "duration": 256,
    "start_time": "2024-04-25T16:47:40.924Z"
   },
   {
    "duration": 267,
    "start_time": "2024-04-25T16:47:41.182Z"
   },
   {
    "duration": 229,
    "start_time": "2024-04-25T16:47:41.451Z"
   },
   {
    "duration": 44,
    "start_time": "2024-04-25T16:47:41.683Z"
   },
   {
    "duration": 28,
    "start_time": "2024-04-25T16:47:41.729Z"
   },
   {
    "duration": 47,
    "start_time": "2024-04-25T16:47:41.759Z"
   },
   {
    "duration": 207,
    "start_time": "2024-04-25T16:47:41.808Z"
   },
   {
    "duration": 192,
    "start_time": "2024-04-25T16:47:42.017Z"
   },
   {
    "duration": 15,
    "start_time": "2024-04-25T16:47:42.210Z"
   },
   {
    "duration": 42,
    "start_time": "2024-04-25T16:47:42.229Z"
   },
   {
    "duration": 4,
    "start_time": "2024-04-25T16:47:42.273Z"
   },
   {
    "duration": 15,
    "start_time": "2024-04-25T16:47:42.279Z"
   },
   {
    "duration": 11,
    "start_time": "2024-04-25T16:47:42.296Z"
   },
   {
    "duration": 7,
    "start_time": "2024-04-25T16:47:42.309Z"
   },
   {
    "duration": 12,
    "start_time": "2024-04-25T16:47:42.317Z"
   },
   {
    "duration": 5,
    "start_time": "2024-04-25T16:47:42.331Z"
   },
   {
    "duration": 46,
    "start_time": "2024-04-25T16:47:42.337Z"
   },
   {
    "duration": 20,
    "start_time": "2024-04-25T16:47:42.384Z"
   },
   {
    "duration": 7,
    "start_time": "2024-04-25T16:47:42.406Z"
   },
   {
    "duration": 13,
    "start_time": "2024-04-25T16:47:42.415Z"
   },
   {
    "duration": 44,
    "start_time": "2024-04-25T16:47:42.430Z"
   },
   {
    "duration": 15,
    "start_time": "2024-04-25T16:47:42.477Z"
   },
   {
    "duration": 13,
    "start_time": "2024-04-25T16:47:42.494Z"
   },
   {
    "duration": 41,
    "start_time": "2024-04-25T16:47:42.509Z"
   },
   {
    "duration": 18,
    "start_time": "2024-04-25T16:47:42.552Z"
   },
   {
    "duration": 25,
    "start_time": "2024-04-25T16:47:42.571Z"
   },
   {
    "duration": 12,
    "start_time": "2024-04-25T16:47:42.597Z"
   },
   {
    "duration": 25,
    "start_time": "2024-04-25T16:47:42.610Z"
   },
   {
    "duration": 66,
    "start_time": "2024-04-25T16:47:42.636Z"
   },
   {
    "duration": 162,
    "start_time": "2024-04-25T16:47:42.704Z"
   },
   {
    "duration": 5,
    "start_time": "2024-04-25T16:47:42.868Z"
   },
   {
    "duration": 5,
    "start_time": "2024-04-25T16:48:10.946Z"
   },
   {
    "duration": 5,
    "start_time": "2024-04-25T16:48:26.129Z"
   },
   {
    "duration": 5,
    "start_time": "2024-04-25T16:48:37.054Z"
   },
   {
    "duration": 64,
    "start_time": "2024-04-25T16:50:46.559Z"
   },
   {
    "duration": 6,
    "start_time": "2024-04-25T16:51:29.718Z"
   },
   {
    "duration": 94,
    "start_time": "2024-04-25T16:53:50.388Z"
   },
   {
    "duration": 4,
    "start_time": "2024-04-25T16:54:39.163Z"
   },
   {
    "duration": 10,
    "start_time": "2024-04-25T16:56:13.172Z"
   },
   {
    "duration": 137,
    "start_time": "2024-04-25T17:01:53.876Z"
   },
   {
    "duration": 239,
    "start_time": "2024-04-25T17:02:05.345Z"
   },
   {
    "duration": 155,
    "start_time": "2024-04-25T17:04:48.138Z"
   },
   {
    "duration": 69,
    "start_time": "2024-04-25T17:10:00.607Z"
   },
   {
    "duration": 161,
    "start_time": "2024-04-25T17:10:10.203Z"
   },
   {
    "duration": 157,
    "start_time": "2024-04-25T17:11:31.345Z"
   },
   {
    "duration": 174,
    "start_time": "2024-04-25T17:11:39.555Z"
   },
   {
    "duration": 161,
    "start_time": "2024-04-25T17:12:00.867Z"
   },
   {
    "duration": 154,
    "start_time": "2024-04-25T17:12:12.416Z"
   },
   {
    "duration": 144,
    "start_time": "2024-04-25T17:14:18.199Z"
   },
   {
    "duration": 8,
    "start_time": "2024-04-25T17:15:09.199Z"
   },
   {
    "duration": 226,
    "start_time": "2024-04-25T17:20:53.979Z"
   },
   {
    "duration": 203,
    "start_time": "2024-04-25T17:21:24.422Z"
   },
   {
    "duration": 345,
    "start_time": "2024-04-25T17:21:55.321Z"
   },
   {
    "duration": 228,
    "start_time": "2024-04-25T17:22:20.019Z"
   },
   {
    "duration": 4,
    "start_time": "2024-04-25T17:23:29.939Z"
   },
   {
    "duration": 65,
    "start_time": "2024-04-25T17:24:25.986Z"
   },
   {
    "duration": 3,
    "start_time": "2024-04-25T17:24:29.519Z"
   },
   {
    "duration": 4,
    "start_time": "2024-04-25T17:25:03.101Z"
   },
   {
    "duration": 12,
    "start_time": "2024-04-25T17:25:35.373Z"
   },
   {
    "duration": 15,
    "start_time": "2024-04-25T17:25:38.693Z"
   },
   {
    "duration": 15,
    "start_time": "2024-04-25T17:25:45.578Z"
   },
   {
    "duration": 154,
    "start_time": "2024-04-25T17:31:41.851Z"
   },
   {
    "duration": 197,
    "start_time": "2024-04-25T17:33:42.127Z"
   },
   {
    "duration": 218,
    "start_time": "2024-04-25T17:34:00.460Z"
   },
   {
    "duration": 202,
    "start_time": "2024-04-25T17:34:16.268Z"
   },
   {
    "duration": 209,
    "start_time": "2024-04-25T17:34:31.053Z"
   },
   {
    "duration": 1140,
    "start_time": "2024-04-25T17:42:16.684Z"
   },
   {
    "duration": 37,
    "start_time": "2024-04-25T17:42:17.826Z"
   },
   {
    "duration": 13,
    "start_time": "2024-04-25T17:42:17.864Z"
   },
   {
    "duration": 38,
    "start_time": "2024-04-25T17:42:17.879Z"
   },
   {
    "duration": 10,
    "start_time": "2024-04-25T17:42:17.919Z"
   },
   {
    "duration": 65,
    "start_time": "2024-04-25T17:42:17.931Z"
   },
   {
    "duration": 8,
    "start_time": "2024-04-25T17:42:17.998Z"
   },
   {
    "duration": 46,
    "start_time": "2024-04-25T17:42:18.007Z"
   },
   {
    "duration": 26,
    "start_time": "2024-04-25T17:42:18.054Z"
   },
   {
    "duration": 13,
    "start_time": "2024-04-25T17:42:18.083Z"
   },
   {
    "duration": 40,
    "start_time": "2024-04-25T17:42:18.098Z"
   },
   {
    "duration": 6,
    "start_time": "2024-04-25T17:42:18.140Z"
   },
   {
    "duration": 4,
    "start_time": "2024-04-25T17:42:18.147Z"
   },
   {
    "duration": 10,
    "start_time": "2024-04-25T17:42:18.152Z"
   },
   {
    "duration": 10,
    "start_time": "2024-04-25T17:42:18.164Z"
   },
   {
    "duration": 167,
    "start_time": "2024-04-25T17:42:18.175Z"
   },
   {
    "duration": 170,
    "start_time": "2024-04-25T17:42:18.343Z"
   },
   {
    "duration": 5,
    "start_time": "2024-04-25T17:42:18.515Z"
   },
   {
    "duration": 169,
    "start_time": "2024-04-25T17:42:18.522Z"
   },
   {
    "duration": 6,
    "start_time": "2024-04-25T17:42:18.693Z"
   },
   {
    "duration": 223,
    "start_time": "2024-04-25T17:42:18.701Z"
   },
   {
    "duration": 9,
    "start_time": "2024-04-25T17:42:18.926Z"
   },
   {
    "duration": 275,
    "start_time": "2024-04-25T17:42:18.937Z"
   },
   {
    "duration": 230,
    "start_time": "2024-04-25T17:42:19.214Z"
   },
   {
    "duration": 36,
    "start_time": "2024-04-25T17:42:19.445Z"
   },
   {
    "duration": 25,
    "start_time": "2024-04-25T17:42:19.492Z"
   },
   {
    "duration": 22,
    "start_time": "2024-04-25T17:42:19.518Z"
   },
   {
    "duration": 220,
    "start_time": "2024-04-25T17:42:19.543Z"
   },
   {
    "duration": 203,
    "start_time": "2024-04-25T17:42:19.765Z"
   },
   {
    "duration": 22,
    "start_time": "2024-04-25T17:42:19.970Z"
   },
   {
    "duration": 1162,
    "start_time": "2024-04-25T17:42:19.993Z"
   },
   {
    "duration": 0,
    "start_time": "2024-04-25T17:42:21.156Z"
   },
   {
    "duration": 0,
    "start_time": "2024-04-25T17:42:21.158Z"
   },
   {
    "duration": 0,
    "start_time": "2024-04-25T17:42:21.159Z"
   },
   {
    "duration": 0,
    "start_time": "2024-04-25T17:42:21.160Z"
   },
   {
    "duration": 0,
    "start_time": "2024-04-25T17:42:21.161Z"
   },
   {
    "duration": 0,
    "start_time": "2024-04-25T17:42:21.162Z"
   },
   {
    "duration": 0,
    "start_time": "2024-04-25T17:42:21.164Z"
   },
   {
    "duration": 0,
    "start_time": "2024-04-25T17:42:21.165Z"
   },
   {
    "duration": 0,
    "start_time": "2024-04-25T17:42:21.166Z"
   },
   {
    "duration": 0,
    "start_time": "2024-04-25T17:42:21.167Z"
   },
   {
    "duration": 0,
    "start_time": "2024-04-25T17:42:21.168Z"
   },
   {
    "duration": 0,
    "start_time": "2024-04-25T17:42:21.169Z"
   },
   {
    "duration": 0,
    "start_time": "2024-04-25T17:42:21.170Z"
   },
   {
    "duration": 0,
    "start_time": "2024-04-25T17:42:21.171Z"
   },
   {
    "duration": 0,
    "start_time": "2024-04-25T17:42:21.172Z"
   },
   {
    "duration": 0,
    "start_time": "2024-04-25T17:42:21.174Z"
   },
   {
    "duration": 0,
    "start_time": "2024-04-25T17:42:21.174Z"
   },
   {
    "duration": 0,
    "start_time": "2024-04-25T17:42:21.176Z"
   },
   {
    "duration": 0,
    "start_time": "2024-04-25T17:42:21.177Z"
   },
   {
    "duration": 0,
    "start_time": "2024-04-25T17:42:21.179Z"
   },
   {
    "duration": 0,
    "start_time": "2024-04-25T17:42:21.180Z"
   },
   {
    "duration": 0,
    "start_time": "2024-04-25T17:42:21.181Z"
   },
   {
    "duration": 4,
    "start_time": "2024-04-25T17:42:37.041Z"
   },
   {
    "duration": 1174,
    "start_time": "2024-04-25T17:42:42.687Z"
   },
   {
    "duration": 37,
    "start_time": "2024-04-25T17:42:43.863Z"
   },
   {
    "duration": 12,
    "start_time": "2024-04-25T17:42:43.901Z"
   },
   {
    "duration": 36,
    "start_time": "2024-04-25T17:42:43.914Z"
   },
   {
    "duration": 8,
    "start_time": "2024-04-25T17:42:43.952Z"
   },
   {
    "duration": 29,
    "start_time": "2024-04-25T17:42:43.962Z"
   },
   {
    "duration": 6,
    "start_time": "2024-04-25T17:42:43.993Z"
   },
   {
    "duration": 35,
    "start_time": "2024-04-25T17:42:44.001Z"
   },
   {
    "duration": 12,
    "start_time": "2024-04-25T17:42:44.038Z"
   },
   {
    "duration": 13,
    "start_time": "2024-04-25T17:42:44.054Z"
   },
   {
    "duration": 22,
    "start_time": "2024-04-25T17:42:44.069Z"
   },
   {
    "duration": 6,
    "start_time": "2024-04-25T17:42:44.093Z"
   },
   {
    "duration": 16,
    "start_time": "2024-04-25T17:42:44.101Z"
   },
   {
    "duration": 13,
    "start_time": "2024-04-25T17:42:44.118Z"
   },
   {
    "duration": 6,
    "start_time": "2024-04-25T17:42:44.133Z"
   },
   {
    "duration": 169,
    "start_time": "2024-04-25T17:42:44.141Z"
   },
   {
    "duration": 166,
    "start_time": "2024-04-25T17:42:44.312Z"
   },
   {
    "duration": 11,
    "start_time": "2024-04-25T17:42:44.480Z"
   },
   {
    "duration": 166,
    "start_time": "2024-04-25T17:42:44.493Z"
   },
   {
    "duration": 6,
    "start_time": "2024-04-25T17:42:44.661Z"
   },
   {
    "duration": 221,
    "start_time": "2024-04-25T17:42:44.669Z"
   },
   {
    "duration": 9,
    "start_time": "2024-04-25T17:42:44.892Z"
   },
   {
    "duration": 262,
    "start_time": "2024-04-25T17:42:44.902Z"
   },
   {
    "duration": 230,
    "start_time": "2024-04-25T17:42:45.166Z"
   },
   {
    "duration": 37,
    "start_time": "2024-04-25T17:42:45.398Z"
   },
   {
    "duration": 27,
    "start_time": "2024-04-25T17:42:45.436Z"
   },
   {
    "duration": 48,
    "start_time": "2024-04-25T17:42:45.464Z"
   },
   {
    "duration": 217,
    "start_time": "2024-04-25T17:42:45.515Z"
   },
   {
    "duration": 209,
    "start_time": "2024-04-25T17:42:45.733Z"
   },
   {
    "duration": 18,
    "start_time": "2024-04-25T17:42:45.944Z"
   },
   {
    "duration": 5,
    "start_time": "2024-04-25T17:42:45.964Z"
   },
   {
    "duration": 41,
    "start_time": "2024-04-25T17:42:45.971Z"
   },
   {
    "duration": 4,
    "start_time": "2024-04-25T17:42:46.013Z"
   },
   {
    "duration": 11,
    "start_time": "2024-04-25T17:42:46.019Z"
   },
   {
    "duration": 110,
    "start_time": "2024-04-25T17:42:46.031Z"
   },
   {
    "duration": 7,
    "start_time": "2024-04-25T17:42:46.143Z"
   },
   {
    "duration": 10,
    "start_time": "2024-04-25T17:42:46.151Z"
   },
   {
    "duration": 8,
    "start_time": "2024-04-25T17:42:46.162Z"
   },
   {
    "duration": 30,
    "start_time": "2024-04-25T17:42:46.171Z"
   },
   {
    "duration": 16,
    "start_time": "2024-04-25T17:42:46.202Z"
   },
   {
    "duration": 7,
    "start_time": "2024-04-25T17:42:46.220Z"
   },
   {
    "duration": 8,
    "start_time": "2024-04-25T17:42:46.228Z"
   },
   {
    "duration": 9,
    "start_time": "2024-04-25T17:42:46.237Z"
   },
   {
    "duration": 12,
    "start_time": "2024-04-25T17:42:46.247Z"
   },
   {
    "duration": 32,
    "start_time": "2024-04-25T17:42:46.261Z"
   },
   {
    "duration": 5,
    "start_time": "2024-04-25T17:42:46.295Z"
   },
   {
    "duration": 14,
    "start_time": "2024-04-25T17:42:46.302Z"
   },
   {
    "duration": 11,
    "start_time": "2024-04-25T17:42:46.318Z"
   },
   {
    "duration": 11,
    "start_time": "2024-04-25T17:42:46.330Z"
   },
   {
    "duration": 6,
    "start_time": "2024-04-25T17:42:46.342Z"
   },
   {
    "duration": 51,
    "start_time": "2024-04-25T17:42:46.350Z"
   },
   {
    "duration": 151,
    "start_time": "2024-04-25T17:42:46.403Z"
   },
   {
    "duration": 6,
    "start_time": "2024-04-25T17:42:46.556Z"
   },
   {
    "duration": 14,
    "start_time": "2024-04-25T17:52:53.258Z"
   },
   {
    "duration": 6,
    "start_time": "2024-04-25T17:54:27.562Z"
   },
   {
    "duration": 19,
    "start_time": "2024-04-25T17:54:40.321Z"
   },
   {
    "duration": 18,
    "start_time": "2024-04-25T17:54:45.943Z"
   },
   {
    "duration": 5,
    "start_time": "2024-04-25T17:55:04.921Z"
   },
   {
    "duration": 7,
    "start_time": "2024-04-25T17:55:14.682Z"
   },
   {
    "duration": 8,
    "start_time": "2024-04-25T17:56:09.152Z"
   },
   {
    "duration": 6,
    "start_time": "2024-04-25T18:00:36.942Z"
   },
   {
    "duration": 6,
    "start_time": "2024-04-25T18:01:01.420Z"
   },
   {
    "duration": 7,
    "start_time": "2024-04-25T18:20:46.704Z"
   },
   {
    "duration": 1200,
    "start_time": "2024-04-25T18:28:58.573Z"
   },
   {
    "duration": 37,
    "start_time": "2024-04-25T18:28:59.775Z"
   },
   {
    "duration": 14,
    "start_time": "2024-04-25T18:28:59.814Z"
   },
   {
    "duration": 37,
    "start_time": "2024-04-25T18:28:59.830Z"
   },
   {
    "duration": 14,
    "start_time": "2024-04-25T18:28:59.869Z"
   },
   {
    "duration": 29,
    "start_time": "2024-04-25T18:28:59.885Z"
   },
   {
    "duration": 9,
    "start_time": "2024-04-25T18:28:59.916Z"
   },
   {
    "duration": 21,
    "start_time": "2024-04-25T18:28:59.926Z"
   },
   {
    "duration": 10,
    "start_time": "2024-04-25T18:28:59.949Z"
   },
   {
    "duration": 5,
    "start_time": "2024-04-25T18:28:59.961Z"
   },
   {
    "duration": 24,
    "start_time": "2024-04-25T18:28:59.967Z"
   },
   {
    "duration": 7,
    "start_time": "2024-04-25T18:28:59.993Z"
   },
   {
    "duration": 33,
    "start_time": "2024-04-25T18:29:00.002Z"
   },
   {
    "duration": 77,
    "start_time": "2024-04-25T18:29:00.036Z"
   },
   {
    "duration": 181,
    "start_time": "2024-04-25T18:29:00.114Z"
   },
   {
    "duration": 519,
    "start_time": "2024-04-25T18:29:00.297Z"
   },
   {
    "duration": 157,
    "start_time": "2024-04-25T18:29:00.818Z"
   },
   {
    "duration": 87,
    "start_time": "2024-04-25T18:29:00.977Z"
   },
   {
    "duration": 248,
    "start_time": "2024-04-25T18:29:01.065Z"
   },
   {
    "duration": 6,
    "start_time": "2024-04-25T18:29:01.315Z"
   },
   {
    "duration": 546,
    "start_time": "2024-04-25T18:29:01.322Z"
   },
   {
    "duration": 78,
    "start_time": "2024-04-25T18:29:01.870Z"
   },
   {
    "duration": 351,
    "start_time": "2024-04-25T18:29:01.950Z"
   },
   {
    "duration": 848,
    "start_time": "2024-04-25T18:29:02.302Z"
   },
   {
    "duration": 45,
    "start_time": "2024-04-25T18:29:03.152Z"
   },
   {
    "duration": 29,
    "start_time": "2024-04-25T18:29:03.199Z"
   },
   {
    "duration": 26,
    "start_time": "2024-04-25T18:29:03.230Z"
   },
   {
    "duration": 234,
    "start_time": "2024-04-25T18:29:03.260Z"
   },
   {
    "duration": 206,
    "start_time": "2024-04-25T18:29:03.495Z"
   },
   {
    "duration": 14,
    "start_time": "2024-04-25T18:29:03.703Z"
   },
   {
    "duration": 8,
    "start_time": "2024-04-25T18:29:03.719Z"
   },
   {
    "duration": 32,
    "start_time": "2024-04-25T18:29:03.728Z"
   },
   {
    "duration": 4,
    "start_time": "2024-04-25T18:29:03.762Z"
   },
   {
    "duration": 25,
    "start_time": "2024-04-25T18:29:03.768Z"
   },
   {
    "duration": 100,
    "start_time": "2024-04-25T18:29:03.794Z"
   },
   {
    "duration": 7,
    "start_time": "2024-04-25T18:29:03.895Z"
   },
   {
    "duration": 20,
    "start_time": "2024-04-25T18:29:03.904Z"
   },
   {
    "duration": 23,
    "start_time": "2024-04-25T18:29:03.925Z"
   },
   {
    "duration": 16,
    "start_time": "2024-04-25T18:29:03.950Z"
   },
   {
    "duration": 68,
    "start_time": "2024-04-25T18:29:03.967Z"
   },
   {
    "duration": 0,
    "start_time": "2024-04-25T18:29:04.037Z"
   },
   {
    "duration": 0,
    "start_time": "2024-04-25T18:29:04.038Z"
   },
   {
    "duration": 0,
    "start_time": "2024-04-25T18:29:04.040Z"
   },
   {
    "duration": 0,
    "start_time": "2024-04-25T18:29:04.041Z"
   },
   {
    "duration": 1,
    "start_time": "2024-04-25T18:29:04.042Z"
   },
   {
    "duration": 0,
    "start_time": "2024-04-25T18:29:04.044Z"
   },
   {
    "duration": 0,
    "start_time": "2024-04-25T18:29:04.045Z"
   },
   {
    "duration": 0,
    "start_time": "2024-04-25T18:29:04.047Z"
   },
   {
    "duration": 0,
    "start_time": "2024-04-25T18:29:04.048Z"
   },
   {
    "duration": 98,
    "start_time": "2024-04-25T18:36:20.120Z"
   },
   {
    "duration": 65,
    "start_time": "2024-04-25T18:36:53.452Z"
   },
   {
    "duration": 7,
    "start_time": "2024-04-25T18:37:35.920Z"
   },
   {
    "duration": 8,
    "start_time": "2024-04-25T18:38:12.823Z"
   },
   {
    "duration": 11,
    "start_time": "2024-04-25T18:38:29.503Z"
   },
   {
    "duration": 8,
    "start_time": "2024-04-25T18:38:31.800Z"
   },
   {
    "duration": 7,
    "start_time": "2024-04-25T18:38:38.192Z"
   },
   {
    "duration": 6,
    "start_time": "2024-04-25T18:38:54.494Z"
   },
   {
    "duration": 21,
    "start_time": "2024-04-25T18:39:01.953Z"
   },
   {
    "duration": 127,
    "start_time": "2024-04-25T18:39:04.853Z"
   },
   {
    "duration": 7,
    "start_time": "2024-04-25T18:39:07.084Z"
   },
   {
    "duration": 1104,
    "start_time": "2024-04-25T19:16:21.168Z"
   },
   {
    "duration": 36,
    "start_time": "2024-04-25T19:16:22.274Z"
   },
   {
    "duration": 12,
    "start_time": "2024-04-25T19:16:22.312Z"
   },
   {
    "duration": 35,
    "start_time": "2024-04-25T19:16:22.326Z"
   },
   {
    "duration": 9,
    "start_time": "2024-04-25T19:16:22.363Z"
   },
   {
    "duration": 23,
    "start_time": "2024-04-25T19:16:22.373Z"
   },
   {
    "duration": 6,
    "start_time": "2024-04-25T19:16:22.397Z"
   },
   {
    "duration": 22,
    "start_time": "2024-04-25T19:16:22.405Z"
   },
   {
    "duration": 11,
    "start_time": "2024-04-25T19:16:22.429Z"
   },
   {
    "duration": 4,
    "start_time": "2024-04-25T19:16:22.443Z"
   },
   {
    "duration": 7,
    "start_time": "2024-04-25T19:16:22.448Z"
   },
   {
    "duration": 36,
    "start_time": "2024-04-25T19:16:22.456Z"
   },
   {
    "duration": 6,
    "start_time": "2024-04-25T19:16:22.494Z"
   },
   {
    "duration": 15,
    "start_time": "2024-04-25T19:16:22.502Z"
   },
   {
    "duration": 7,
    "start_time": "2024-04-25T19:16:22.518Z"
   },
   {
    "duration": 197,
    "start_time": "2024-04-25T19:16:22.527Z"
   },
   {
    "duration": 7,
    "start_time": "2024-04-25T19:16:22.725Z"
   },
   {
    "duration": 162,
    "start_time": "2024-04-25T19:16:22.733Z"
   },
   {
    "duration": 6,
    "start_time": "2024-04-25T19:16:22.896Z"
   },
   {
    "duration": 219,
    "start_time": "2024-04-25T19:16:22.904Z"
   },
   {
    "duration": 8,
    "start_time": "2024-04-25T19:16:23.125Z"
   },
   {
    "duration": 259,
    "start_time": "2024-04-25T19:16:23.134Z"
   },
   {
    "duration": 234,
    "start_time": "2024-04-25T19:16:23.395Z"
   },
   {
    "duration": 37,
    "start_time": "2024-04-25T19:16:23.630Z"
   },
   {
    "duration": 45,
    "start_time": "2024-04-25T19:16:23.669Z"
   },
   {
    "duration": 25,
    "start_time": "2024-04-25T19:16:23.716Z"
   },
   {
    "duration": 235,
    "start_time": "2024-04-25T19:16:23.743Z"
   },
   {
    "duration": 221,
    "start_time": "2024-04-25T19:16:23.983Z"
   },
   {
    "duration": 15,
    "start_time": "2024-04-25T19:16:24.205Z"
   },
   {
    "duration": 9,
    "start_time": "2024-04-25T19:16:24.222Z"
   },
   {
    "duration": 24,
    "start_time": "2024-04-25T19:16:24.232Z"
   },
   {
    "duration": 4,
    "start_time": "2024-04-25T19:16:24.258Z"
   },
   {
    "duration": 30,
    "start_time": "2024-04-25T19:16:24.263Z"
   },
   {
    "duration": 9,
    "start_time": "2024-04-25T19:16:24.295Z"
   },
   {
    "duration": 8,
    "start_time": "2024-04-25T19:16:24.305Z"
   },
   {
    "duration": 10,
    "start_time": "2024-04-25T19:16:24.314Z"
   },
   {
    "duration": 4,
    "start_time": "2024-04-25T19:16:24.326Z"
   },
   {
    "duration": 12,
    "start_time": "2024-04-25T19:16:24.332Z"
   },
   {
    "duration": 10,
    "start_time": "2024-04-25T19:16:24.346Z"
   },
   {
    "duration": 35,
    "start_time": "2024-04-25T19:16:24.357Z"
   },
   {
    "duration": 6,
    "start_time": "2024-04-25T19:16:24.393Z"
   },
   {
    "duration": 21,
    "start_time": "2024-04-25T19:16:24.401Z"
   },
   {
    "duration": 11,
    "start_time": "2024-04-25T19:16:24.424Z"
   },
   {
    "duration": 9,
    "start_time": "2024-04-25T19:16:24.437Z"
   },
   {
    "duration": 13,
    "start_time": "2024-04-25T19:16:24.447Z"
   },
   {
    "duration": 47,
    "start_time": "2024-04-25T19:16:24.461Z"
   },
   {
    "duration": 156,
    "start_time": "2024-04-25T19:16:24.509Z"
   },
   {
    "duration": 6,
    "start_time": "2024-04-25T19:16:24.666Z"
   },
   {
    "duration": 1109,
    "start_time": "2024-04-26T03:41:50.121Z"
   },
   {
    "duration": 37,
    "start_time": "2024-04-26T03:41:51.232Z"
   },
   {
    "duration": 12,
    "start_time": "2024-04-26T03:41:51.271Z"
   },
   {
    "duration": 46,
    "start_time": "2024-04-26T03:41:51.285Z"
   },
   {
    "duration": 10,
    "start_time": "2024-04-26T03:41:51.332Z"
   },
   {
    "duration": 39,
    "start_time": "2024-04-26T03:41:51.344Z"
   },
   {
    "duration": 6,
    "start_time": "2024-04-26T03:41:51.385Z"
   },
   {
    "duration": 34,
    "start_time": "2024-04-26T03:41:51.393Z"
   },
   {
    "duration": 11,
    "start_time": "2024-04-26T03:41:51.429Z"
   },
   {
    "duration": 4,
    "start_time": "2024-04-26T03:41:51.443Z"
   },
   {
    "duration": 6,
    "start_time": "2024-04-26T03:41:51.448Z"
   },
   {
    "duration": 27,
    "start_time": "2024-04-26T03:41:51.455Z"
   },
   {
    "duration": 4,
    "start_time": "2024-04-26T03:41:51.483Z"
   },
   {
    "duration": 12,
    "start_time": "2024-04-26T03:41:51.489Z"
   },
   {
    "duration": 7,
    "start_time": "2024-04-26T03:41:51.503Z"
   },
   {
    "duration": 197,
    "start_time": "2024-04-26T03:41:51.512Z"
   },
   {
    "duration": 5,
    "start_time": "2024-04-26T03:41:51.711Z"
   },
   {
    "duration": 168,
    "start_time": "2024-04-26T03:41:51.718Z"
   },
   {
    "duration": 6,
    "start_time": "2024-04-26T03:41:51.888Z"
   },
   {
    "duration": 250,
    "start_time": "2024-04-26T03:41:51.895Z"
   },
   {
    "duration": 7,
    "start_time": "2024-04-26T03:41:52.147Z"
   },
   {
    "duration": 290,
    "start_time": "2024-04-26T03:41:52.156Z"
   },
   {
    "duration": 246,
    "start_time": "2024-04-26T03:41:52.448Z"
   },
   {
    "duration": 34,
    "start_time": "2024-04-26T03:41:52.695Z"
   },
   {
    "duration": 24,
    "start_time": "2024-04-26T03:41:52.730Z"
   },
   {
    "duration": 46,
    "start_time": "2024-04-26T03:41:52.755Z"
   },
   {
    "duration": 216,
    "start_time": "2024-04-26T03:41:52.802Z"
   },
   {
    "duration": 208,
    "start_time": "2024-04-26T03:41:53.021Z"
   },
   {
    "duration": 14,
    "start_time": "2024-04-26T03:41:53.230Z"
   },
   {
    "duration": 7,
    "start_time": "2024-04-26T03:41:53.245Z"
   },
   {
    "duration": 38,
    "start_time": "2024-04-26T03:41:53.254Z"
   },
   {
    "duration": 4,
    "start_time": "2024-04-26T03:41:53.294Z"
   },
   {
    "duration": 12,
    "start_time": "2024-04-26T03:41:53.299Z"
   },
   {
    "duration": 9,
    "start_time": "2024-04-26T03:41:53.312Z"
   },
   {
    "duration": 7,
    "start_time": "2024-04-26T03:41:53.323Z"
   },
   {
    "duration": 10,
    "start_time": "2024-04-26T03:41:53.331Z"
   },
   {
    "duration": 26,
    "start_time": "2024-04-26T03:41:53.342Z"
   },
   {
    "duration": 21,
    "start_time": "2024-04-26T03:41:53.370Z"
   },
   {
    "duration": 6,
    "start_time": "2024-04-26T03:41:53.392Z"
   },
   {
    "duration": 6,
    "start_time": "2024-04-26T03:41:53.400Z"
   },
   {
    "duration": 6,
    "start_time": "2024-04-26T03:41:53.407Z"
   },
   {
    "duration": 15,
    "start_time": "2024-04-26T03:41:53.414Z"
   },
   {
    "duration": 23,
    "start_time": "2024-04-26T03:41:53.431Z"
   },
   {
    "duration": 27,
    "start_time": "2024-04-26T03:41:53.456Z"
   },
   {
    "duration": 7,
    "start_time": "2024-04-26T03:41:53.484Z"
   },
   {
    "duration": 23,
    "start_time": "2024-04-26T03:41:53.493Z"
   },
   {
    "duration": 173,
    "start_time": "2024-04-26T03:41:53.518Z"
   },
   {
    "duration": 6,
    "start_time": "2024-04-26T03:41:53.693Z"
   }
  ],
  "kernelspec": {
   "display_name": "Python 3 (ipykernel)",
   "language": "python",
   "name": "python3"
  },
  "language_info": {
   "codemirror_mode": {
    "name": "ipython",
    "version": 3
   },
   "file_extension": ".py",
   "mimetype": "text/x-python",
   "name": "python",
   "nbconvert_exporter": "python",
   "pygments_lexer": "ipython3",
   "version": "3.11.8"
  },
  "toc": {
   "base_numbering": 1,
   "nav_menu": {},
   "number_sections": true,
   "sideBar": true,
   "skip_h1_title": true,
   "title_cell": "Table of Contents",
   "title_sidebar": "Contents",
   "toc_cell": false,
   "toc_position": {},
   "toc_section_display": true,
   "toc_window_display": false
  }
 },
 "nbformat": 4,
 "nbformat_minor": 5
}
